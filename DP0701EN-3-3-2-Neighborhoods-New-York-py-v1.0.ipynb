{
 "cells": [
  {
   "cell_type": "markdown",
   "metadata": {},
   "source": [
    "<a href=\"https://cognitiveclass.ai\"><img src = \"https://ibm.box.com/shared/static/9gegpsmnsoo25ikkbl4qzlvlyjbgxs5x.png\" width = 400> </a>\n",
    "\n",
    "<h1 align=center><font size = 5>Segmenting and Clustering Neighborhoods in New York City</font></h1>"
   ]
  },
  {
   "cell_type": "markdown",
   "metadata": {},
   "source": [
    "## Introduction\n",
    "\n",
    "In this lab, you will learn how to convert addresses into their equivalent latitude and longitude values. Also, you will use the Foursquare API to explore neighborhoods in New York City. You will use the **explore** function to get the most common venue categories in each neighborhood, and then use this feature to group the neighborhoods into clusters. You will use the *k*-means clustering algorithm to complete this task. Finally, you will use the Folium library to visualize the neighborhoods in New York City and their emerging clusters."
   ]
  },
  {
   "cell_type": "markdown",
   "metadata": {},
   "source": [
    "## Table of Contents\n",
    "\n",
    "<div class=\"alert alert-block alert-info\" style=\"margin-top: 20px\">\n",
    "\n",
    "<font size = 3>\n",
    "\n",
    "1. <a href=\"#item1\">Download and Explore Dataset</a>\n",
    "\n",
    "2. <a href=\"#item2\">Explore Neighborhoods in New York City</a>\n",
    "\n",
    "3. <a href=\"#item3\">Analyze Each Neighborhood</a>\n",
    "\n",
    "4. <a href=\"#item4\">Cluster Neighborhoods</a>\n",
    "\n",
    "5. <a href=\"#item5\">Examine Clusters</a>    \n",
    "</font>\n",
    "</div>"
   ]
  },
  {
   "cell_type": "markdown",
   "metadata": {},
   "source": [
    "Before we get the data and start exploring it, let's download all the dependencies that we will need."
   ]
  },
  {
   "cell_type": "code",
   "execution_count": 1,
   "metadata": {},
   "outputs": [
    {
     "name": "stdout",
     "output_type": "stream",
     "text": [
      "Libraries imported.\n"
     ]
    }
   ],
   "source": [
    "import numpy as np # library to handle data in a vectorized manner\n",
    "\n",
    "import pandas as pd # library for data analsysis\n",
    "pd.set_option('display.max_columns', None)\n",
    "pd.set_option('display.max_rows', None)\n",
    "\n",
    "import json # library to handle JSON files\n",
    "\n",
    "#!conda install -c conda-forge geopy --yes # uncomment this line if you haven't completed the Foursquare API lab\n",
    "from geopy.geocoders import Nominatim # convert an address into latitude and longitude values\n",
    "\n",
    "import requests # library to handle requests\n",
    "from pandas.io.json import json_normalize # tranform JSON file into a pandas dataframe\n",
    "\n",
    "# Matplotlib and associated plotting modules\n",
    "import matplotlib.cm as cm\n",
    "import matplotlib.colors as colors\n",
    "\n",
    "# import k-means from clustering stage\n",
    "from sklearn.cluster import KMeans\n",
    "\n",
    "#!conda install -c conda-forge folium=0.5.0 --yes # uncomment this line if you haven't completed the Foursquare API lab\n",
    "import folium # map rendering library\n",
    "\n",
    "print('Libraries imported.')"
   ]
  },
  {
   "cell_type": "markdown",
   "metadata": {},
   "source": [
    "<a id='item1'></a>"
   ]
  },
  {
   "cell_type": "markdown",
   "metadata": {},
   "source": [
    "## 1. Download and Explore Dataset"
   ]
  },
  {
   "cell_type": "markdown",
   "metadata": {},
   "source": [
    "Neighborhood has a total of 5 boroughs and 306 neighborhoods. In order to segement the neighborhoods and explore them, we will essentially need a dataset that contains the 5 boroughs and the neighborhoods that exist in each borough as well as the the latitude and logitude coordinates of each neighborhood. \n",
    "\n",
    "Luckily, this dataset exists for free on the web. Feel free to try to find this dataset on your own, but here is the link to the dataset: https://geo.nyu.edu/catalog/nyu_2451_34572"
   ]
  },
  {
   "cell_type": "markdown",
   "metadata": {},
   "source": [
    "For your convenience, I downloaded the files and placed it on the server, so you can simply run a `wget` command and access the data. So let's go ahead and do that."
   ]
  },
  {
   "cell_type": "code",
   "execution_count": null,
   "metadata": {
    "scrolled": true
   },
   "outputs": [],
   "source": [
    "# !wget -q -O 'newyork_data.json' https://cocl.us/new_york_dataset\n",
    "# print('Data downloaded!')"
   ]
  },
  {
   "cell_type": "markdown",
   "metadata": {},
   "source": [
    "#### Load and explore the data"
   ]
  },
  {
   "cell_type": "markdown",
   "metadata": {},
   "source": [
    "Next, let's load the data."
   ]
  },
  {
   "cell_type": "code",
   "execution_count": 2,
   "metadata": {},
   "outputs": [],
   "source": [
    "with open('nyu_2451_34572-geojson.json') as json_data:\n",
    "    newyork_data = json.load(json_data)"
   ]
  },
  {
   "cell_type": "markdown",
   "metadata": {},
   "source": [
    "Let's take a quick look at the data."
   ]
  },
  {
   "cell_type": "code",
   "execution_count": 3,
   "metadata": {},
   "outputs": [
    {
     "data": {
      "text/plain": [
       "{'type': 'FeatureCollection',\n",
       " 'totalFeatures': 306,\n",
       " 'features': [{'type': 'Feature',\n",
       "   'id': 'nyu_2451_34572.1',\n",
       "   'geometry': {'type': 'Point',\n",
       "    'coordinates': [-73.84720052054902, 40.89470517661]},\n",
       "   'geometry_name': 'geom',\n",
       "   'properties': {'name': 'Wakefield',\n",
       "    'stacked': 1,\n",
       "    'annoline1': 'Wakefield',\n",
       "    'annoline2': None,\n",
       "    'annoline3': None,\n",
       "    'annoangle': 0.0,\n",
       "    'borough': 'Bronx',\n",
       "    'bbox': [-73.84720052054902,\n",
       "     40.89470517661,\n",
       "     -73.84720052054902,\n",
       "     40.89470517661]}},\n",
       "  {'type': 'Feature',\n",
       "   'id': 'nyu_2451_34572.2',\n",
       "   'geometry': {'type': 'Point',\n",
       "    'coordinates': [-73.82993910812398, 40.87429419303012]},\n",
       "   'geometry_name': 'geom',\n",
       "   'properties': {'name': 'Co-op City',\n",
       "    'stacked': 2,\n",
       "    'annoline1': 'Co-op',\n",
       "    'annoline2': 'City',\n",
       "    'annoline3': None,\n",
       "    'annoangle': 0.0,\n",
       "    'borough': 'Bronx',\n",
       "    'bbox': [-73.82993910812398,\n",
       "     40.87429419303012,\n",
       "     -73.82993910812398,\n",
       "     40.87429419303012]}},\n",
       "  {'type': 'Feature',\n",
       "   'id': 'nyu_2451_34572.3',\n",
       "   'geometry': {'type': 'Point',\n",
       "    'coordinates': [-73.82780644716412, 40.887555677350775]},\n",
       "   'geometry_name': 'geom',\n",
       "   'properties': {'name': 'Eastchester',\n",
       "    'stacked': 1,\n",
       "    'annoline1': 'Eastchester',\n",
       "    'annoline2': None,\n",
       "    'annoline3': None,\n",
       "    'annoangle': 0.0,\n",
       "    'borough': 'Bronx',\n",
       "    'bbox': [-73.82780644716412,\n",
       "     40.887555677350775,\n",
       "     -73.82780644716412,\n",
       "     40.887555677350775]}},\n",
       "  {'type': 'Feature',\n",
       "   'id': 'nyu_2451_34572.4',\n",
       "   'geometry': {'type': 'Point',\n",
       "    'coordinates': [-73.90564259591682, 40.89543742690383]},\n",
       "   'geometry_name': 'geom',\n",
       "   'properties': {'name': 'Fieldston',\n",
       "    'stacked': 1,\n",
       "    'annoline1': 'Fieldston',\n",
       "    'annoline2': None,\n",
       "    'annoline3': None,\n",
       "    'annoangle': 0.0,\n",
       "    'borough': 'Bronx',\n",
       "    'bbox': [-73.90564259591682,\n",
       "     40.89543742690383,\n",
       "     -73.90564259591682,\n",
       "     40.89543742690383]}},\n",
       "  {'type': 'Feature',\n",
       "   'id': 'nyu_2451_34572.5',\n",
       "   'geometry': {'type': 'Point',\n",
       "    'coordinates': [-73.9125854610857, 40.890834493891305]},\n",
       "   'geometry_name': 'geom',\n",
       "   'properties': {'name': 'Riverdale',\n",
       "    'stacked': 1,\n",
       "    'annoline1': 'Riverdale',\n",
       "    'annoline2': None,\n",
       "    'annoline3': None,\n",
       "    'annoangle': 0.0,\n",
       "    'borough': 'Bronx',\n",
       "    'bbox': [-73.9125854610857,\n",
       "     40.890834493891305,\n",
       "     -73.9125854610857,\n",
       "     40.890834493891305]}},\n",
       "  {'type': 'Feature',\n",
       "   'id': 'nyu_2451_34572.6',\n",
       "   'geometry': {'type': 'Point',\n",
       "    'coordinates': [-73.90281798724604, 40.88168737120521]},\n",
       "   'geometry_name': 'geom',\n",
       "   'properties': {'name': 'Kingsbridge',\n",
       "    'stacked': 1,\n",
       "    'annoline1': 'Kingsbridge',\n",
       "    'annoline2': None,\n",
       "    'annoline3': None,\n",
       "    'annoangle': 0.0,\n",
       "    'borough': 'Bronx',\n",
       "    'bbox': [-73.90281798724604,\n",
       "     40.88168737120521,\n",
       "     -73.90281798724604,\n",
       "     40.88168737120521]}},\n",
       "  {'type': 'Feature',\n",
       "   'id': 'nyu_2451_34572.7',\n",
       "   'geometry': {'type': 'Point',\n",
       "    'coordinates': [-73.91065965862981, 40.87655077879964]},\n",
       "   'geometry_name': 'geom',\n",
       "   'properties': {'name': 'Marble Hill',\n",
       "    'stacked': 2,\n",
       "    'annoline1': 'Marble',\n",
       "    'annoline2': 'Hill',\n",
       "    'annoline3': None,\n",
       "    'annoangle': 0.0,\n",
       "    'borough': 'Manhattan',\n",
       "    'bbox': [-73.91065965862981,\n",
       "     40.87655077879964,\n",
       "     -73.91065965862981,\n",
       "     40.87655077879964]}},\n",
       "  {'type': 'Feature',\n",
       "   'id': 'nyu_2451_34572.8',\n",
       "   'geometry': {'type': 'Point',\n",
       "    'coordinates': [-73.86731496814176, 40.89827261213805]},\n",
       "   'geometry_name': 'geom',\n",
       "   'properties': {'name': 'Woodlawn',\n",
       "    'stacked': 1,\n",
       "    'annoline1': 'Woodlawn',\n",
       "    'annoline2': None,\n",
       "    'annoline3': None,\n",
       "    'annoangle': 0.0,\n",
       "    'borough': 'Bronx',\n",
       "    'bbox': [-73.86731496814176,\n",
       "     40.89827261213805,\n",
       "     -73.86731496814176,\n",
       "     40.89827261213805]}},\n",
       "  {'type': 'Feature',\n",
       "   'id': 'nyu_2451_34572.9',\n",
       "   'geometry': {'type': 'Point',\n",
       "    'coordinates': [-73.8793907395681, 40.87722415599446]},\n",
       "   'geometry_name': 'geom',\n",
       "   'properties': {'name': 'Norwood',\n",
       "    'stacked': 1,\n",
       "    'annoline1': 'Norwood',\n",
       "    'annoline2': None,\n",
       "    'annoline3': None,\n",
       "    'annoangle': 0.0,\n",
       "    'borough': 'Bronx',\n",
       "    'bbox': [-73.8793907395681,\n",
       "     40.87722415599446,\n",
       "     -73.8793907395681,\n",
       "     40.87722415599446]}},\n",
       "  {'type': 'Feature',\n",
       "   'id': 'nyu_2451_34572.10',\n",
       "   'geometry': {'type': 'Point',\n",
       "    'coordinates': [-73.85744642974207, 40.88103887819211]},\n",
       "   'geometry_name': 'geom',\n",
       "   'properties': {'name': 'Williamsbridge',\n",
       "    'stacked': 1,\n",
       "    'annoline1': 'Williamsbridge',\n",
       "    'annoline2': None,\n",
       "    'annoline3': None,\n",
       "    'annoangle': 0.0,\n",
       "    'borough': 'Bronx',\n",
       "    'bbox': [-73.85744642974207,\n",
       "     40.88103887819211,\n",
       "     -73.85744642974207,\n",
       "     40.88103887819211]}},\n",
       "  {'type': 'Feature',\n",
       "   'id': 'nyu_2451_34572.11',\n",
       "   'geometry': {'type': 'Point',\n",
       "    'coordinates': [-73.83579759808117, 40.866858107252696]},\n",
       "   'geometry_name': 'geom',\n",
       "   'properties': {'name': 'Baychester',\n",
       "    'stacked': 1,\n",
       "    'annoline1': 'Baychester',\n",
       "    'annoline2': None,\n",
       "    'annoline3': None,\n",
       "    'annoangle': 0.0,\n",
       "    'borough': 'Bronx',\n",
       "    'bbox': [-73.83579759808117,\n",
       "     40.866858107252696,\n",
       "     -73.83579759808117,\n",
       "     40.866858107252696]}},\n",
       "  {'type': 'Feature',\n",
       "   'id': 'nyu_2451_34572.12',\n",
       "   'geometry': {'type': 'Point',\n",
       "    'coordinates': [-73.85475564017999, 40.85741349808865]},\n",
       "   'geometry_name': 'geom',\n",
       "   'properties': {'name': 'Pelham Parkway',\n",
       "    'stacked': 1,\n",
       "    'annoline1': 'Pelham Parkway',\n",
       "    'annoline2': None,\n",
       "    'annoline3': None,\n",
       "    'annoangle': 0.0,\n",
       "    'borough': 'Bronx',\n",
       "    'bbox': [-73.85475564017999,\n",
       "     40.85741349808865,\n",
       "     -73.85475564017999,\n",
       "     40.85741349808865]}},\n",
       "  {'type': 'Feature',\n",
       "   'id': 'nyu_2451_34572.13',\n",
       "   'geometry': {'type': 'Point',\n",
       "    'coordinates': [-73.78648845267413, 40.84724670491813]},\n",
       "   'geometry_name': 'geom',\n",
       "   'properties': {'name': 'City Island',\n",
       "    'stacked': 2,\n",
       "    'annoline1': 'City',\n",
       "    'annoline2': 'Island',\n",
       "    'annoline3': None,\n",
       "    'annoangle': 0.0,\n",
       "    'borough': 'Bronx',\n",
       "    'bbox': [-73.78648845267413,\n",
       "     40.84724670491813,\n",
       "     -73.78648845267413,\n",
       "     40.84724670491813]}},\n",
       "  {'type': 'Feature',\n",
       "   'id': 'nyu_2451_34572.14',\n",
       "   'geometry': {'type': 'Point',\n",
       "    'coordinates': [-73.8855121841913, 40.870185164975325]},\n",
       "   'geometry_name': 'geom',\n",
       "   'properties': {'name': 'Bedford Park',\n",
       "    'stacked': 2,\n",
       "    'annoline1': 'Bedford',\n",
       "    'annoline2': 'Park',\n",
       "    'annoline3': None,\n",
       "    'annoangle': 0.0,\n",
       "    'borough': 'Bronx',\n",
       "    'bbox': [-73.8855121841913,\n",
       "     40.870185164975325,\n",
       "     -73.8855121841913,\n",
       "     40.870185164975325]}},\n",
       "  {'type': 'Feature',\n",
       "   'id': 'nyu_2451_34572.15',\n",
       "   'geometry': {'type': 'Point',\n",
       "    'coordinates': [-73.9104159619131, 40.85572707719664]},\n",
       "   'geometry_name': 'geom',\n",
       "   'properties': {'name': 'University Heights',\n",
       "    'stacked': 2,\n",
       "    'annoline1': 'University',\n",
       "    'annoline2': 'Heights',\n",
       "    'annoline3': None,\n",
       "    'annoangle': 0.0,\n",
       "    'borough': 'Bronx',\n",
       "    'bbox': [-73.9104159619131,\n",
       "     40.85572707719664,\n",
       "     -73.9104159619131,\n",
       "     40.85572707719664]}},\n",
       "  {'type': 'Feature',\n",
       "   'id': 'nyu_2451_34572.16',\n",
       "   'geometry': {'type': 'Point',\n",
       "    'coordinates': [-73.91967159119565, 40.84789792606271]},\n",
       "   'geometry_name': 'geom',\n",
       "   'properties': {'name': 'Morris Heights',\n",
       "    'stacked': 2,\n",
       "    'annoline1': 'Morris',\n",
       "    'annoline2': 'Heights',\n",
       "    'annoline3': None,\n",
       "    'annoangle': 0.0,\n",
       "    'borough': 'Bronx',\n",
       "    'bbox': [-73.91967159119565,\n",
       "     40.84789792606271,\n",
       "     -73.91967159119565,\n",
       "     40.84789792606271]}},\n",
       "  {'type': 'Feature',\n",
       "   'id': 'nyu_2451_34572.17',\n",
       "   'geometry': {'type': 'Point',\n",
       "    'coordinates': [-73.89642655981623, 40.86099679638654]},\n",
       "   'geometry_name': 'geom',\n",
       "   'properties': {'name': 'Fordham',\n",
       "    'stacked': 1,\n",
       "    'annoline1': 'Fordham',\n",
       "    'annoline2': None,\n",
       "    'annoline3': None,\n",
       "    'annoangle': 0.0,\n",
       "    'borough': 'Bronx',\n",
       "    'bbox': [-73.89642655981623,\n",
       "     40.86099679638654,\n",
       "     -73.89642655981623,\n",
       "     40.86099679638654]}},\n",
       "  {'type': 'Feature',\n",
       "   'id': 'nyu_2451_34572.18',\n",
       "   'geometry': {'type': 'Point',\n",
       "    'coordinates': [-73.88735617532338, 40.84269615786053]},\n",
       "   'geometry_name': 'geom',\n",
       "   'properties': {'name': 'East Tremont',\n",
       "    'stacked': 2,\n",
       "    'annoline1': 'East',\n",
       "    'annoline2': 'Tremont',\n",
       "    'annoline3': None,\n",
       "    'annoangle': 0.0,\n",
       "    'borough': 'Bronx',\n",
       "    'bbox': [-73.88735617532338,\n",
       "     40.84269615786053,\n",
       "     -73.88735617532338,\n",
       "     40.84269615786053]}},\n",
       "  {'type': 'Feature',\n",
       "   'id': 'nyu_2451_34572.19',\n",
       "   'geometry': {'type': 'Point',\n",
       "    'coordinates': [-73.87774474910545, 40.83947505672653]},\n",
       "   'geometry_name': 'geom',\n",
       "   'properties': {'name': 'West Farms',\n",
       "    'stacked': 2,\n",
       "    'annoline1': 'West',\n",
       "    'annoline2': 'Farms',\n",
       "    'annoline3': None,\n",
       "    'annoangle': 0.0,\n",
       "    'borough': 'Bronx',\n",
       "    'bbox': [-73.87774474910545,\n",
       "     40.83947505672653,\n",
       "     -73.87774474910545,\n",
       "     40.83947505672653]}},\n",
       "  {'type': 'Feature',\n",
       "   'id': 'nyu_2451_34572.20',\n",
       "   'geometry': {'type': 'Point',\n",
       "    'coordinates': [-73.9261020935813, 40.836623010706056]},\n",
       "   'geometry_name': 'geom',\n",
       "   'properties': {'name': 'High  Bridge',\n",
       "    'stacked': 1,\n",
       "    'annoline1': 'Highbridge',\n",
       "    'annoline2': None,\n",
       "    'annoline3': None,\n",
       "    'annoangle': 0.0,\n",
       "    'borough': 'Bronx',\n",
       "    'bbox': [-73.9261020935813,\n",
       "     40.836623010706056,\n",
       "     -73.9261020935813,\n",
       "     40.836623010706056]}},\n",
       "  {'type': 'Feature',\n",
       "   'id': 'nyu_2451_34572.21',\n",
       "   'geometry': {'type': 'Point',\n",
       "    'coordinates': [-73.90942160757436, 40.819754370594936]},\n",
       "   'geometry_name': 'geom',\n",
       "   'properties': {'name': 'Melrose',\n",
       "    'stacked': 1,\n",
       "    'annoline1': 'Melrose',\n",
       "    'annoline2': None,\n",
       "    'annoline3': None,\n",
       "    'annoangle': 0.0,\n",
       "    'borough': 'Bronx',\n",
       "    'bbox': [-73.90942160757436,\n",
       "     40.819754370594936,\n",
       "     -73.90942160757436,\n",
       "     40.819754370594936]}},\n",
       "  {'type': 'Feature',\n",
       "   'id': 'nyu_2451_34572.22',\n",
       "   'geometry': {'type': 'Point',\n",
       "    'coordinates': [-73.91609987487575, 40.80623874935177]},\n",
       "   'geometry_name': 'geom',\n",
       "   'properties': {'name': 'Mott Haven',\n",
       "    'stacked': 1,\n",
       "    'annoline1': 'Mott Haven',\n",
       "    'annoline2': None,\n",
       "    'annoline3': None,\n",
       "    'annoangle': 0.0,\n",
       "    'borough': 'Bronx',\n",
       "    'bbox': [-73.91609987487575,\n",
       "     40.80623874935177,\n",
       "     -73.91609987487575,\n",
       "     40.80623874935177]}},\n",
       "  {'type': 'Feature',\n",
       "   'id': 'nyu_2451_34572.23',\n",
       "   'geometry': {'type': 'Point',\n",
       "    'coordinates': [-73.91322139386135, 40.801663627756206]},\n",
       "   'geometry_name': 'geom',\n",
       "   'properties': {'name': 'Port Morris',\n",
       "    'stacked': 2,\n",
       "    'annoline1': 'Port',\n",
       "    'annoline2': 'Morris',\n",
       "    'annoline3': None,\n",
       "    'annoangle': 0.0,\n",
       "    'borough': 'Bronx',\n",
       "    'bbox': [-73.91322139386135,\n",
       "     40.801663627756206,\n",
       "     -73.91322139386135,\n",
       "     40.801663627756206]}},\n",
       "  {'type': 'Feature',\n",
       "   'id': 'nyu_2451_34572.24',\n",
       "   'geometry': {'type': 'Point',\n",
       "    'coordinates': [-73.8957882009446, 40.81509904545822]},\n",
       "   'geometry_name': 'geom',\n",
       "   'properties': {'name': 'Longwood',\n",
       "    'stacked': 1,\n",
       "    'annoline1': 'Longwood',\n",
       "    'annoline2': None,\n",
       "    'annoline3': None,\n",
       "    'annoangle': 0.0,\n",
       "    'borough': 'Bronx',\n",
       "    'bbox': [-73.8957882009446,\n",
       "     40.81509904545822,\n",
       "     -73.8957882009446,\n",
       "     40.81509904545822]}},\n",
       "  {'type': 'Feature',\n",
       "   'id': 'nyu_2451_34572.25',\n",
       "   'geometry': {'type': 'Point',\n",
       "    'coordinates': [-73.88331505955291, 40.80972987938709]},\n",
       "   'geometry_name': 'geom',\n",
       "   'properties': {'name': 'Hunts Point',\n",
       "    'stacked': 2,\n",
       "    'annoline1': 'Hunts',\n",
       "    'annoline2': 'Point',\n",
       "    'annoline3': None,\n",
       "    'annoangle': 0.0,\n",
       "    'borough': 'Bronx',\n",
       "    'bbox': [-73.88331505955291,\n",
       "     40.80972987938709,\n",
       "     -73.88331505955291,\n",
       "     40.80972987938709]}},\n",
       "  {'type': 'Feature',\n",
       "   'id': 'nyu_2451_34572.26',\n",
       "   'geometry': {'type': 'Point',\n",
       "    'coordinates': [-73.90150648943059, 40.82359198585534]},\n",
       "   'geometry_name': 'geom',\n",
       "   'properties': {'name': 'Morrisania',\n",
       "    'stacked': 1,\n",
       "    'annoline1': 'Morrisania',\n",
       "    'annoline2': None,\n",
       "    'annoline3': None,\n",
       "    'annoangle': 0.0,\n",
       "    'borough': 'Bronx',\n",
       "    'bbox': [-73.90150648943059,\n",
       "     40.82359198585534,\n",
       "     -73.90150648943059,\n",
       "     40.82359198585534]}},\n",
       "  {'type': 'Feature',\n",
       "   'id': 'nyu_2451_34572.27',\n",
       "   'geometry': {'type': 'Point',\n",
       "    'coordinates': [-73.86574609554924, 40.821012197914015]},\n",
       "   'geometry_name': 'geom',\n",
       "   'properties': {'name': 'Soundview',\n",
       "    'stacked': 1,\n",
       "    'annoline1': 'Soundview',\n",
       "    'annoline2': None,\n",
       "    'annoline3': None,\n",
       "    'annoangle': 0.0,\n",
       "    'borough': 'Bronx',\n",
       "    'bbox': [-73.86574609554924,\n",
       "     40.821012197914015,\n",
       "     -73.86574609554924,\n",
       "     40.821012197914015]}},\n",
       "  {'type': 'Feature',\n",
       "   'id': 'nyu_2451_34572.28',\n",
       "   'geometry': {'type': 'Point',\n",
       "    'coordinates': [-73.85414416189266, 40.80655112003589]},\n",
       "   'geometry_name': 'geom',\n",
       "   'properties': {'name': 'Clason Point',\n",
       "    'stacked': 2,\n",
       "    'annoline1': 'Clason',\n",
       "    'annoline2': 'Point',\n",
       "    'annoline3': None,\n",
       "    'annoangle': 0.0,\n",
       "    'borough': 'Bronx',\n",
       "    'bbox': [-73.85414416189266,\n",
       "     40.80655112003589,\n",
       "     -73.85414416189266,\n",
       "     40.80655112003589]}},\n",
       "  {'type': 'Feature',\n",
       "   'id': 'nyu_2451_34572.29',\n",
       "   'geometry': {'type': 'Point',\n",
       "    'coordinates': [-73.81635002158441, 40.81510925804005]},\n",
       "   'geometry_name': 'geom',\n",
       "   'properties': {'name': 'Throgs Neck',\n",
       "    'stacked': 1,\n",
       "    'annoline1': 'Throgs Neck',\n",
       "    'annoline2': None,\n",
       "    'annoline3': None,\n",
       "    'annoangle': 0.0,\n",
       "    'borough': 'Bronx',\n",
       "    'bbox': [-73.81635002158441,\n",
       "     40.81510925804005,\n",
       "     -73.81635002158441,\n",
       "     40.81510925804005]}},\n",
       "  {'type': 'Feature',\n",
       "   'id': 'nyu_2451_34572.30',\n",
       "   'geometry': {'type': 'Point',\n",
       "    'coordinates': [-73.8240992675385, 40.844245936947374]},\n",
       "   'geometry_name': 'geom',\n",
       "   'properties': {'name': 'Country Club',\n",
       "    'stacked': 2,\n",
       "    'annoline1': 'Country',\n",
       "    'annoline2': 'Club',\n",
       "    'annoline3': None,\n",
       "    'annoangle': 0.0,\n",
       "    'borough': 'Bronx',\n",
       "    'bbox': [-73.8240992675385,\n",
       "     40.844245936947374,\n",
       "     -73.8240992675385,\n",
       "     40.844245936947374]}},\n",
       "  {'type': 'Feature',\n",
       "   'id': 'nyu_2451_34572.31',\n",
       "   'geometry': {'type': 'Point',\n",
       "    'coordinates': [-73.85600310535783, 40.837937822267286]},\n",
       "   'geometry_name': 'geom',\n",
       "   'properties': {'name': 'Parkchester',\n",
       "    'stacked': 1,\n",
       "    'annoline1': 'Parkchester',\n",
       "    'annoline2': None,\n",
       "    'annoline3': None,\n",
       "    'annoangle': 0.0,\n",
       "    'borough': 'Bronx',\n",
       "    'bbox': [-73.85600310535783,\n",
       "     40.837937822267286,\n",
       "     -73.85600310535783,\n",
       "     40.837937822267286]}},\n",
       "  {'type': 'Feature',\n",
       "   'id': 'nyu_2451_34572.32',\n",
       "   'geometry': {'type': 'Point',\n",
       "    'coordinates': [-73.84219407604444, 40.8406194964327]},\n",
       "   'geometry_name': 'geom',\n",
       "   'properties': {'name': 'Westchester Square',\n",
       "    'stacked': 2,\n",
       "    'annoline1': 'Westchester',\n",
       "    'annoline2': 'Square',\n",
       "    'annoline3': None,\n",
       "    'annoangle': 0.0,\n",
       "    'borough': 'Bronx',\n",
       "    'bbox': [-73.84219407604444,\n",
       "     40.8406194964327,\n",
       "     -73.84219407604444,\n",
       "     40.8406194964327]}},\n",
       "  {'type': 'Feature',\n",
       "   'id': 'nyu_2451_34572.33',\n",
       "   'geometry': {'type': 'Point',\n",
       "    'coordinates': [-73.8662991807561, 40.84360847124718]},\n",
       "   'geometry_name': 'geom',\n",
       "   'properties': {'name': 'Van Nest',\n",
       "    'stacked': 2,\n",
       "    'annoline1': 'Van',\n",
       "    'annoline2': 'Nest',\n",
       "    'annoline3': None,\n",
       "    'annoangle': 0.0,\n",
       "    'borough': 'Bronx',\n",
       "    'bbox': [-73.8662991807561,\n",
       "     40.84360847124718,\n",
       "     -73.8662991807561,\n",
       "     40.84360847124718]}},\n",
       "  {'type': 'Feature',\n",
       "   'id': 'nyu_2451_34572.34',\n",
       "   'geometry': {'type': 'Point',\n",
       "    'coordinates': [-73.85040178030421, 40.847549063536334]},\n",
       "   'geometry_name': 'geom',\n",
       "   'properties': {'name': 'Morris Park',\n",
       "    'stacked': 1,\n",
       "    'annoline1': 'Morris Park',\n",
       "    'annoline2': None,\n",
       "    'annoline3': None,\n",
       "    'annoangle': 0.0,\n",
       "    'borough': 'Bronx',\n",
       "    'bbox': [-73.85040178030421,\n",
       "     40.847549063536334,\n",
       "     -73.85040178030421,\n",
       "     40.847549063536334]}},\n",
       "  {'type': 'Feature',\n",
       "   'id': 'nyu_2451_34572.35',\n",
       "   'geometry': {'type': 'Point',\n",
       "    'coordinates': [-73.88845196134804, 40.85727710073895]},\n",
       "   'geometry_name': 'geom',\n",
       "   'properties': {'name': 'Belmont',\n",
       "    'stacked': 1,\n",
       "    'annoline1': 'Belmont',\n",
       "    'annoline2': None,\n",
       "    'annoline3': None,\n",
       "    'annoangle': 0.0,\n",
       "    'borough': 'Bronx',\n",
       "    'bbox': [-73.88845196134804,\n",
       "     40.85727710073895,\n",
       "     -73.88845196134804,\n",
       "     40.85727710073895]}},\n",
       "  {'type': 'Feature',\n",
       "   'id': 'nyu_2451_34572.36',\n",
       "   'geometry': {'type': 'Point',\n",
       "    'coordinates': [-73.91719048210393, 40.88139497727086]},\n",
       "   'geometry_name': 'geom',\n",
       "   'properties': {'name': 'Spuyten Duyvil',\n",
       "    'stacked': 2,\n",
       "    'annoline1': 'Spuyten',\n",
       "    'annoline2': 'Duyvil',\n",
       "    'annoline3': None,\n",
       "    'annoangle': 0.0,\n",
       "    'borough': 'Bronx',\n",
       "    'bbox': [-73.91719048210393,\n",
       "     40.88139497727086,\n",
       "     -73.91719048210393,\n",
       "     40.88139497727086]}},\n",
       "  {'type': 'Feature',\n",
       "   'id': 'nyu_2451_34572.37',\n",
       "   'geometry': {'type': 'Point',\n",
       "    'coordinates': [-73.90453054908927, 40.90854282950666]},\n",
       "   'geometry_name': 'geom',\n",
       "   'properties': {'name': 'North Riverdale',\n",
       "    'stacked': 2,\n",
       "    'annoline1': 'North',\n",
       "    'annoline2': 'Riverdale',\n",
       "    'annoline3': None,\n",
       "    'annoangle': 0.0,\n",
       "    'borough': 'Bronx',\n",
       "    'bbox': [-73.90453054908927,\n",
       "     40.90854282950666,\n",
       "     -73.90453054908927,\n",
       "     40.90854282950666]}},\n",
       "  {'type': 'Feature',\n",
       "   'id': 'nyu_2451_34572.38',\n",
       "   'geometry': {'type': 'Point',\n",
       "    'coordinates': [-73.8320737824047, 40.85064140940335]},\n",
       "   'geometry_name': 'geom',\n",
       "   'properties': {'name': 'Pelham Bay',\n",
       "    'stacked': 2,\n",
       "    'annoline1': 'Pelham',\n",
       "    'annoline2': 'Bay',\n",
       "    'annoline3': None,\n",
       "    'annoangle': 0.0,\n",
       "    'borough': 'Bronx',\n",
       "    'bbox': [-73.8320737824047,\n",
       "     40.85064140940335,\n",
       "     -73.8320737824047,\n",
       "     40.85064140940335]}},\n",
       "  {'type': 'Feature',\n",
       "   'id': 'nyu_2451_34572.39',\n",
       "   'geometry': {'type': 'Point',\n",
       "    'coordinates': [-73.82620275994073, 40.82657951686922]},\n",
       "   'geometry_name': 'geom',\n",
       "   'properties': {'name': 'Schuylerville',\n",
       "    'stacked': 1,\n",
       "    'annoline1': 'Schuylerville',\n",
       "    'annoline2': None,\n",
       "    'annoline3': None,\n",
       "    'annoangle': 0.0,\n",
       "    'borough': 'Bronx',\n",
       "    'bbox': [-73.82620275994073,\n",
       "     40.82657951686922,\n",
       "     -73.82620275994073,\n",
       "     40.82657951686922]}},\n",
       "  {'type': 'Feature',\n",
       "   'id': 'nyu_2451_34572.40',\n",
       "   'geometry': {'type': 'Point',\n",
       "    'coordinates': [-73.81388514428619, 40.821986118163494]},\n",
       "   'geometry_name': 'geom',\n",
       "   'properties': {'name': 'Edgewater Park',\n",
       "    'stacked': 2,\n",
       "    'annoline1': 'Edgewater',\n",
       "    'annoline2': 'Park',\n",
       "    'annoline3': None,\n",
       "    'annoangle': 0.0,\n",
       "    'borough': 'Bronx',\n",
       "    'bbox': [-73.81388514428619,\n",
       "     40.821986118163494,\n",
       "     -73.81388514428619,\n",
       "     40.821986118163494]}},\n",
       "  {'type': 'Feature',\n",
       "   'id': 'nyu_2451_34572.41',\n",
       "   'geometry': {'type': 'Point',\n",
       "    'coordinates': [-73.84802729582735, 40.819014376988314]},\n",
       "   'geometry_name': 'geom',\n",
       "   'properties': {'name': 'Castle Hill',\n",
       "    'stacked': 2,\n",
       "    'annoline1': 'Castle',\n",
       "    'annoline2': 'Hill',\n",
       "    'annoline3': None,\n",
       "    'annoangle': 0.0,\n",
       "    'borough': 'Bronx',\n",
       "    'bbox': [-73.84802729582735,\n",
       "     40.819014376988314,\n",
       "     -73.84802729582735,\n",
       "     40.819014376988314]}},\n",
       "  {'type': 'Feature',\n",
       "   'id': 'nyu_2451_34572.42',\n",
       "   'geometry': {'type': 'Point',\n",
       "    'coordinates': [-73.86332361652777, 40.87137078192371]},\n",
       "   'geometry_name': 'geom',\n",
       "   'properties': {'name': 'Olinville',\n",
       "    'stacked': 1,\n",
       "    'annoline1': 'Olinville',\n",
       "    'annoline2': None,\n",
       "    'annoline3': None,\n",
       "    'annoangle': 0.0,\n",
       "    'borough': 'Bronx',\n",
       "    'bbox': [-73.86332361652777,\n",
       "     40.87137078192371,\n",
       "     -73.86332361652777,\n",
       "     40.87137078192371]}},\n",
       "  {'type': 'Feature',\n",
       "   'id': 'nyu_2451_34572.43',\n",
       "   'geometry': {'type': 'Point',\n",
       "    'coordinates': [-73.84161194831223, 40.86296562477998]},\n",
       "   'geometry_name': 'geom',\n",
       "   'properties': {'name': 'Pelham Gardens',\n",
       "    'stacked': 2,\n",
       "    'annoline1': 'Pelham',\n",
       "    'annoline2': 'Gardens',\n",
       "    'annoline3': None,\n",
       "    'annoangle': 0.0,\n",
       "    'borough': 'Bronx',\n",
       "    'bbox': [-73.84161194831223,\n",
       "     40.86296562477998,\n",
       "     -73.84161194831223,\n",
       "     40.86296562477998]}},\n",
       "  {'type': 'Feature',\n",
       "   'id': 'nyu_2451_34572.44',\n",
       "   'geometry': {'type': 'Point',\n",
       "    'coordinates': [-73.91558941773444, 40.83428380733851]},\n",
       "   'geometry_name': 'geom',\n",
       "   'properties': {'name': 'Concourse',\n",
       "    'stacked': 1,\n",
       "    'annoline1': 'Concourse',\n",
       "    'annoline2': None,\n",
       "    'annoline3': None,\n",
       "    'annoangle': 0.0,\n",
       "    'borough': 'Bronx',\n",
       "    'bbox': [-73.91558941773444,\n",
       "     40.83428380733851,\n",
       "     -73.91558941773444,\n",
       "     40.83428380733851]}},\n",
       "  {'type': 'Feature',\n",
       "   'id': 'nyu_2451_34572.45',\n",
       "   'geometry': {'type': 'Point',\n",
       "    'coordinates': [-73.85053524451935, 40.82977429787161]},\n",
       "   'geometry_name': 'geom',\n",
       "   'properties': {'name': 'Unionport',\n",
       "    'stacked': 1,\n",
       "    'annoline1': 'Unionport',\n",
       "    'annoline2': None,\n",
       "    'annoline3': None,\n",
       "    'annoangle': 0.0,\n",
       "    'borough': 'Bronx',\n",
       "    'bbox': [-73.85053524451935,\n",
       "     40.82977429787161,\n",
       "     -73.85053524451935,\n",
       "     40.82977429787161]}},\n",
       "  {'type': 'Feature',\n",
       "   'id': 'nyu_2451_34572.46',\n",
       "   'geometry': {'type': 'Point',\n",
       "    'coordinates': [-73.84808271877168, 40.88456130303732]},\n",
       "   'geometry_name': 'geom',\n",
       "   'properties': {'name': 'Edenwald',\n",
       "    'stacked': 1,\n",
       "    'annoline1': 'Edenwald',\n",
       "    'annoline2': None,\n",
       "    'annoline3': None,\n",
       "    'annoangle': 0.0,\n",
       "    'borough': 'Bronx',\n",
       "    'bbox': [-73.84808271877168,\n",
       "     40.88456130303732,\n",
       "     -73.84808271877168,\n",
       "     40.88456130303732]}},\n",
       "  {'type': 'Feature',\n",
       "   'id': 'nyu_2451_34572.47',\n",
       "   'geometry': {'type': 'Point',\n",
       "    'coordinates': [-74.03062069353813, 40.625801065010656]},\n",
       "   'geometry_name': 'geom',\n",
       "   'properties': {'name': 'Bay Ridge',\n",
       "    'stacked': 1,\n",
       "    'annoline1': 'Bay Ridge',\n",
       "    'annoline2': None,\n",
       "    'annoline3': None,\n",
       "    'annoangle': 0.0,\n",
       "    'borough': 'Brooklyn',\n",
       "    'bbox': [-74.03062069353813,\n",
       "     40.625801065010656,\n",
       "     -74.03062069353813,\n",
       "     40.625801065010656]}},\n",
       "  {'type': 'Feature',\n",
       "   'id': 'nyu_2451_34572.48',\n",
       "   'geometry': {'type': 'Point',\n",
       "    'coordinates': [-73.99517998380729, 40.61100890202044]},\n",
       "   'geometry_name': 'geom',\n",
       "   'properties': {'name': 'Bensonhurst',\n",
       "    'stacked': 1,\n",
       "    'annoline1': 'Bensonhurst',\n",
       "    'annoline2': None,\n",
       "    'annoline3': None,\n",
       "    'annoangle': 0.0,\n",
       "    'borough': 'Brooklyn',\n",
       "    'bbox': [-73.99517998380729,\n",
       "     40.61100890202044,\n",
       "     -73.99517998380729,\n",
       "     40.61100890202044]}},\n",
       "  {'type': 'Feature',\n",
       "   'id': 'nyu_2451_34572.49',\n",
       "   'geometry': {'type': 'Point',\n",
       "    'coordinates': [-74.01031618527784, 40.64510294925429]},\n",
       "   'geometry_name': 'geom',\n",
       "   'properties': {'name': 'Sunset Park',\n",
       "    'stacked': 2,\n",
       "    'annoline1': 'Sunset',\n",
       "    'annoline2': 'Park',\n",
       "    'annoline3': None,\n",
       "    'annoangle': 0.0,\n",
       "    'borough': 'Brooklyn',\n",
       "    'bbox': [-74.01031618527784,\n",
       "     40.64510294925429,\n",
       "     -74.01031618527784,\n",
       "     40.64510294925429]}},\n",
       "  {'type': 'Feature',\n",
       "   'id': 'nyu_2451_34572.50',\n",
       "   'geometry': {'type': 'Point',\n",
       "    'coordinates': [-73.95424093127393, 40.7302009848647]},\n",
       "   'geometry_name': 'geom',\n",
       "   'properties': {'name': 'Greenpoint',\n",
       "    'stacked': 1,\n",
       "    'annoline1': 'Greenpoint',\n",
       "    'annoline2': None,\n",
       "    'annoline3': None,\n",
       "    'annoangle': 0.0,\n",
       "    'borough': 'Brooklyn',\n",
       "    'bbox': [-73.95424093127393,\n",
       "     40.7302009848647,\n",
       "     -73.95424093127393,\n",
       "     40.7302009848647]}},\n",
       "  {'type': 'Feature',\n",
       "   'id': 'nyu_2451_34572.51',\n",
       "   'geometry': {'type': 'Point',\n",
       "    'coordinates': [-73.97347087708445, 40.59526001306593]},\n",
       "   'geometry_name': 'geom',\n",
       "   'properties': {'name': 'Gravesend',\n",
       "    'stacked': 1,\n",
       "    'annoline1': 'Gravesend',\n",
       "    'annoline2': None,\n",
       "    'annoline3': None,\n",
       "    'annoangle': 0.0,\n",
       "    'borough': 'Brooklyn',\n",
       "    'bbox': [-73.97347087708445,\n",
       "     40.59526001306593,\n",
       "     -73.97347087708445,\n",
       "     40.59526001306593]}},\n",
       "  {'type': 'Feature',\n",
       "   'id': 'nyu_2451_34572.52',\n",
       "   'geometry': {'type': 'Point',\n",
       "    'coordinates': [-73.96509448785336, 40.57682506566604]},\n",
       "   'geometry_name': 'geom',\n",
       "   'properties': {'name': 'Brighton Beach',\n",
       "    'stacked': 2,\n",
       "    'annoline1': 'Brighton',\n",
       "    'annoline2': 'Beach',\n",
       "    'annoline3': None,\n",
       "    'annoangle': 0.0,\n",
       "    'borough': 'Brooklyn',\n",
       "    'bbox': [-73.96509448785336,\n",
       "     40.57682506566604,\n",
       "     -73.96509448785336,\n",
       "     40.57682506566604]}},\n",
       "  {'type': 'Feature',\n",
       "   'id': 'nyu_2451_34572.53',\n",
       "   'geometry': {'type': 'Point',\n",
       "    'coordinates': [-73.94318640482979, 40.58689012678384]},\n",
       "   'geometry_name': 'geom',\n",
       "   'properties': {'name': 'Sheepshead Bay',\n",
       "    'stacked': 2,\n",
       "    'annoline1': 'Sheepshead',\n",
       "    'annoline2': 'Bay',\n",
       "    'annoline3': None,\n",
       "    'annoangle': 0.0,\n",
       "    'borough': 'Brooklyn',\n",
       "    'bbox': [-73.94318640482979,\n",
       "     40.58689012678384,\n",
       "     -73.94318640482979,\n",
       "     40.58689012678384]}},\n",
       "  {'type': 'Feature',\n",
       "   'id': 'nyu_2451_34572.54',\n",
       "   'geometry': {'type': 'Point',\n",
       "    'coordinates': [-73.95743840559939, 40.61443251335098]},\n",
       "   'geometry_name': 'geom',\n",
       "   'properties': {'name': 'Manhattan Terrace',\n",
       "    'stacked': 2,\n",
       "    'annoline1': 'Manhattan',\n",
       "    'annoline2': 'Terrace',\n",
       "    'annoline3': None,\n",
       "    'annoangle': 0.0,\n",
       "    'borough': 'Brooklyn',\n",
       "    'bbox': [-73.95743840559939,\n",
       "     40.61443251335098,\n",
       "     -73.95743840559939,\n",
       "     40.61443251335098]}},\n",
       "  {'type': 'Feature',\n",
       "   'id': 'nyu_2451_34572.55',\n",
       "   'geometry': {'type': 'Point',\n",
       "    'coordinates': [-73.95840106533903, 40.63632589026677]},\n",
       "   'geometry_name': 'geom',\n",
       "   'properties': {'name': 'Flatbush',\n",
       "    'stacked': 1,\n",
       "    'annoline1': 'Flatbush',\n",
       "    'annoline2': None,\n",
       "    'annoline3': None,\n",
       "    'annoangle': 0.0,\n",
       "    'borough': 'Brooklyn',\n",
       "    'bbox': [-73.95840106533903,\n",
       "     40.63632589026677,\n",
       "     -73.95840106533903,\n",
       "     40.63632589026677]}},\n",
       "  {'type': 'Feature',\n",
       "   'id': 'nyu_2451_34572.56',\n",
       "   'geometry': {'type': 'Point',\n",
       "    'coordinates': [-73.94329119073582, 40.67082917695294]},\n",
       "   'geometry_name': 'geom',\n",
       "   'properties': {'name': 'Crown Heights',\n",
       "    'stacked': 2,\n",
       "    'annoline1': 'Crown',\n",
       "    'annoline2': 'Heights',\n",
       "    'annoline3': None,\n",
       "    'annoangle': 0.0,\n",
       "    'borough': 'Brooklyn',\n",
       "    'bbox': [-73.94329119073582,\n",
       "     40.67082917695294,\n",
       "     -73.94329119073582,\n",
       "     40.67082917695294]}},\n",
       "  {'type': 'Feature',\n",
       "   'id': 'nyu_2451_34572.57',\n",
       "   'geometry': {'type': 'Point',\n",
       "    'coordinates': [-73.93610256185836, 40.64171776668961]},\n",
       "   'geometry_name': 'geom',\n",
       "   'properties': {'name': 'East Flatbush',\n",
       "    'stacked': 1,\n",
       "    'annoline1': 'East Flatbush',\n",
       "    'annoline2': None,\n",
       "    'annoline3': None,\n",
       "    'annoangle': 0.0,\n",
       "    'borough': 'Brooklyn',\n",
       "    'bbox': [-73.93610256185836,\n",
       "     40.64171776668961,\n",
       "     -73.93610256185836,\n",
       "     40.64171776668961]}},\n",
       "  {'type': 'Feature',\n",
       "   'id': 'nyu_2451_34572.58',\n",
       "   'geometry': {'type': 'Point',\n",
       "    'coordinates': [-73.98042110559474, 40.642381958003526]},\n",
       "   'geometry_name': 'geom',\n",
       "   'properties': {'name': 'Kensington',\n",
       "    'stacked': 1,\n",
       "    'annoline1': 'Kensington',\n",
       "    'annoline2': None,\n",
       "    'annoline3': None,\n",
       "    'annoangle': 0.0,\n",
       "    'borough': 'Brooklyn',\n",
       "    'bbox': [-73.98042110559474,\n",
       "     40.642381958003526,\n",
       "     -73.98042110559474,\n",
       "     40.642381958003526]}},\n",
       "  {'type': 'Feature',\n",
       "   'id': 'nyu_2451_34572.59',\n",
       "   'geometry': {'type': 'Point',\n",
       "    'coordinates': [-73.98007340430172, 40.65694583575104]},\n",
       "   'geometry_name': 'geom',\n",
       "   'properties': {'name': 'Windsor Terrace',\n",
       "    'stacked': 2,\n",
       "    'annoline1': 'Windsor',\n",
       "    'annoline2': 'Terrace',\n",
       "    'annoline3': None,\n",
       "    'annoangle': 0.0,\n",
       "    'borough': 'Brooklyn',\n",
       "    'bbox': [-73.98007340430172,\n",
       "     40.65694583575104,\n",
       "     -73.98007340430172,\n",
       "     40.65694583575104]}},\n",
       "  {'type': 'Feature',\n",
       "   'id': 'nyu_2451_34572.60',\n",
       "   'geometry': {'type': 'Point',\n",
       "    'coordinates': [-73.9648592426269, 40.676822262254724]},\n",
       "   'geometry_name': 'geom',\n",
       "   'properties': {'name': 'Prospect Heights',\n",
       "    'stacked': 2,\n",
       "    'annoline1': 'Prospect',\n",
       "    'annoline2': 'Heights',\n",
       "    'annoline3': None,\n",
       "    'annoangle': 0.0,\n",
       "    'borough': 'Brooklyn',\n",
       "    'bbox': [-73.9648592426269,\n",
       "     40.676822262254724,\n",
       "     -73.9648592426269,\n",
       "     40.676822262254724]}},\n",
       "  {'type': 'Feature',\n",
       "   'id': 'nyu_2451_34572.61',\n",
       "   'geometry': {'type': 'Point',\n",
       "    'coordinates': [-73.91023536176607, 40.66394994339755]},\n",
       "   'geometry_name': 'geom',\n",
       "   'properties': {'name': 'Brownsville',\n",
       "    'stacked': 1,\n",
       "    'annoline1': 'Brownsville',\n",
       "    'annoline2': None,\n",
       "    'annoline3': None,\n",
       "    'annoangle': 0.0,\n",
       "    'borough': 'Brooklyn',\n",
       "    'bbox': [-73.91023536176607,\n",
       "     40.66394994339755,\n",
       "     -73.91023536176607,\n",
       "     40.66394994339755]}},\n",
       "  {'type': 'Feature',\n",
       "   'id': 'nyu_2451_34572.62',\n",
       "   'geometry': {'type': 'Point',\n",
       "    'coordinates': [-73.95811529220927, 40.70714439344251]},\n",
       "   'geometry_name': 'geom',\n",
       "   'properties': {'name': 'Williamsburg',\n",
       "    'stacked': 1,\n",
       "    'annoline1': 'Williamsburg',\n",
       "    'annoline2': None,\n",
       "    'annoline3': None,\n",
       "    'annoangle': 0.0,\n",
       "    'borough': 'Brooklyn',\n",
       "    'bbox': [-73.95811529220927,\n",
       "     40.70714439344251,\n",
       "     -73.95811529220927,\n",
       "     40.70714439344251]}},\n",
       "  {'type': 'Feature',\n",
       "   'id': 'nyu_2451_34572.63',\n",
       "   'geometry': {'type': 'Point',\n",
       "    'coordinates': [-73.92525797487045, 40.69811611017901]},\n",
       "   'geometry_name': 'geom',\n",
       "   'properties': {'name': 'Bushwick',\n",
       "    'stacked': 1,\n",
       "    'annoline1': 'Bushwick',\n",
       "    'annoline2': None,\n",
       "    'annoline3': None,\n",
       "    'annoangle': 0.0,\n",
       "    'borough': 'Brooklyn',\n",
       "    'bbox': [-73.92525797487045,\n",
       "     40.69811611017901,\n",
       "     -73.92525797487045,\n",
       "     40.69811611017901]}},\n",
       "  {'type': 'Feature',\n",
       "   'id': 'nyu_2451_34572.64',\n",
       "   'geometry': {'type': 'Point',\n",
       "    'coordinates': [-73.94178488690297, 40.687231607720456]},\n",
       "   'geometry_name': 'geom',\n",
       "   'properties': {'name': 'Bedford Stuyvesant',\n",
       "    'stacked': 1,\n",
       "    'annoline1': 'Bedford Stuyvesant',\n",
       "    'annoline2': None,\n",
       "    'annoline3': None,\n",
       "    'annoangle': 0.0,\n",
       "    'borough': 'Brooklyn',\n",
       "    'bbox': [-73.94178488690297,\n",
       "     40.687231607720456,\n",
       "     -73.94178488690297,\n",
       "     40.687231607720456]}},\n",
       "  {'type': 'Feature',\n",
       "   'id': 'nyu_2451_34572.65',\n",
       "   'geometry': {'type': 'Point',\n",
       "    'coordinates': [-73.99378225496424, 40.695863722724084]},\n",
       "   'geometry_name': 'geom',\n",
       "   'properties': {'name': 'Brooklyn Heights',\n",
       "    'stacked': 2,\n",
       "    'annoline1': 'Brooklyn',\n",
       "    'annoline2': 'Heights',\n",
       "    'annoline3': None,\n",
       "    'annoangle': 0.0,\n",
       "    'borough': 'Brooklyn',\n",
       "    'bbox': [-73.99378225496424,\n",
       "     40.695863722724084,\n",
       "     -73.99378225496424,\n",
       "     40.695863722724084]}},\n",
       "  {'type': 'Feature',\n",
       "   'id': 'nyu_2451_34572.66',\n",
       "   'geometry': {'type': 'Point',\n",
       "    'coordinates': [-73.99856139218463, 40.687919722485574]},\n",
       "   'geometry_name': 'geom',\n",
       "   'properties': {'name': 'Cobble Hill',\n",
       "    'stacked': 2,\n",
       "    'annoline1': 'Cobble',\n",
       "    'annoline2': 'Hill',\n",
       "    'annoline3': None,\n",
       "    'annoangle': 0.0,\n",
       "    'borough': 'Brooklyn',\n",
       "    'bbox': [-73.99856139218463,\n",
       "     40.687919722485574,\n",
       "     -73.99856139218463,\n",
       "     40.687919722485574]}},\n",
       "  {'type': 'Feature',\n",
       "   'id': 'nyu_2451_34572.67',\n",
       "   'geometry': {'type': 'Point',\n",
       "    'coordinates': [-73.99465372828006, 40.680540231076485]},\n",
       "   'geometry_name': 'geom',\n",
       "   'properties': {'name': 'Carroll Gardens',\n",
       "    'stacked': 2,\n",
       "    'annoline1': 'Carroll',\n",
       "    'annoline2': 'Gardens',\n",
       "    'annoline3': None,\n",
       "    'annoangle': 0.0,\n",
       "    'borough': 'Brooklyn',\n",
       "    'bbox': [-73.99465372828006,\n",
       "     40.680540231076485,\n",
       "     -73.99465372828006,\n",
       "     40.680540231076485]}},\n",
       "  {'type': 'Feature',\n",
       "   'id': 'nyu_2451_34572.68',\n",
       "   'geometry': {'type': 'Point',\n",
       "    'coordinates': [-74.0127589747356, 40.676253230250886]},\n",
       "   'geometry_name': 'geom',\n",
       "   'properties': {'name': 'Red Hook',\n",
       "    'stacked': 2,\n",
       "    'annoline1': 'Red',\n",
       "    'annoline2': 'Hook',\n",
       "    'annoline3': None,\n",
       "    'annoangle': 0.0,\n",
       "    'borough': 'Brooklyn',\n",
       "    'bbox': [-74.0127589747356,\n",
       "     40.676253230250886,\n",
       "     -74.0127589747356,\n",
       "     40.676253230250886]}},\n",
       "  {'type': 'Feature',\n",
       "   'id': 'nyu_2451_34572.69',\n",
       "   'geometry': {'type': 'Point',\n",
       "    'coordinates': [-73.99444087145339, 40.673931143187154]},\n",
       "   'geometry_name': 'geom',\n",
       "   'properties': {'name': 'Gowanus',\n",
       "    'stacked': 1,\n",
       "    'annoline1': 'Gowanus',\n",
       "    'annoline2': None,\n",
       "    'annoline3': None,\n",
       "    'annoangle': 0.0,\n",
       "    'borough': 'Brooklyn',\n",
       "    'bbox': [-73.99444087145339,\n",
       "     40.673931143187154,\n",
       "     -73.99444087145339,\n",
       "     40.673931143187154]}},\n",
       "  {'type': 'Feature',\n",
       "   'id': 'nyu_2451_34572.70',\n",
       "   'geometry': {'type': 'Point',\n",
       "    'coordinates': [-73.97290574369092, 40.68852726018977]},\n",
       "   'geometry_name': 'geom',\n",
       "   'properties': {'name': 'Fort Greene',\n",
       "    'stacked': 2,\n",
       "    'annoline1': 'Fort',\n",
       "    'annoline2': 'Greene',\n",
       "    'annoline3': None,\n",
       "    'annoangle': 0.0,\n",
       "    'borough': 'Brooklyn',\n",
       "    'bbox': [-73.97290574369092,\n",
       "     40.68852726018977,\n",
       "     -73.97290574369092,\n",
       "     40.68852726018977]}},\n",
       "  {'type': 'Feature',\n",
       "   'id': 'nyu_2451_34572.71',\n",
       "   'geometry': {'type': 'Point',\n",
       "    'coordinates': [-73.97705030183924, 40.67232052268197]},\n",
       "   'geometry_name': 'geom',\n",
       "   'properties': {'name': 'Park Slope',\n",
       "    'stacked': 2,\n",
       "    'annoline1': 'Park',\n",
       "    'annoline2': 'Slope',\n",
       "    'annoline3': None,\n",
       "    'annoangle': 0.0,\n",
       "    'borough': 'Brooklyn',\n",
       "    'bbox': [-73.97705030183924,\n",
       "     40.67232052268197,\n",
       "     -73.97705030183924,\n",
       "     40.67232052268197]}},\n",
       "  {'type': 'Feature',\n",
       "   'id': 'nyu_2451_34572.72',\n",
       "   'geometry': {'type': 'Point',\n",
       "    'coordinates': [-73.87661596457296, 40.68239101144211]},\n",
       "   'geometry_name': 'geom',\n",
       "   'properties': {'name': 'Cypress Hills',\n",
       "    'stacked': 2,\n",
       "    'annoline1': 'Cypress',\n",
       "    'annoline2': 'Hills',\n",
       "    'annoline3': None,\n",
       "    'annoangle': 0.0,\n",
       "    'borough': 'Brooklyn',\n",
       "    'bbox': [-73.87661596457296,\n",
       "     40.68239101144211,\n",
       "     -73.87661596457296,\n",
       "     40.68239101144211]}},\n",
       "  {'type': 'Feature',\n",
       "   'id': 'nyu_2451_34572.73',\n",
       "   'geometry': {'type': 'Point',\n",
       "    'coordinates': [-73.88069863917366, 40.669925700847045]},\n",
       "   'geometry_name': 'geom',\n",
       "   'properties': {'name': 'East New York',\n",
       "    'stacked': 1,\n",
       "    'annoline1': 'East New York',\n",
       "    'annoline2': None,\n",
       "    'annoline3': None,\n",
       "    'annoangle': 0.0,\n",
       "    'borough': 'Brooklyn',\n",
       "    'bbox': [-73.88069863917366,\n",
       "     40.669925700847045,\n",
       "     -73.88069863917366,\n",
       "     40.669925700847045]}},\n",
       "  {'type': 'Feature',\n",
       "   'id': 'nyu_2451_34572.74',\n",
       "   'geometry': {'type': 'Point',\n",
       "    'coordinates': [-73.87936970045875, 40.64758905230874]},\n",
       "   'geometry_name': 'geom',\n",
       "   'properties': {'name': 'Starrett City',\n",
       "    'stacked': 2,\n",
       "    'annoline1': 'Starrett',\n",
       "    'annoline2': 'City',\n",
       "    'annoline3': None,\n",
       "    'annoangle': 0.0,\n",
       "    'borough': 'Brooklyn',\n",
       "    'bbox': [-73.87936970045875,\n",
       "     40.64758905230874,\n",
       "     -73.87936970045875,\n",
       "     40.64758905230874]}},\n",
       "  {'type': 'Feature',\n",
       "   'id': 'nyu_2451_34572.75',\n",
       "   'geometry': {'type': 'Point',\n",
       "    'coordinates': [-73.90209269778966, 40.63556432797428]},\n",
       "   'geometry_name': 'geom',\n",
       "   'properties': {'name': 'Canarsie',\n",
       "    'stacked': 1,\n",
       "    'annoline1': 'Canarsie',\n",
       "    'annoline2': None,\n",
       "    'annoline3': None,\n",
       "    'annoangle': 0.0,\n",
       "    'borough': 'Brooklyn',\n",
       "    'bbox': [-73.90209269778966,\n",
       "     40.63556432797428,\n",
       "     -73.90209269778966,\n",
       "     40.63556432797428]}},\n",
       "  {'type': 'Feature',\n",
       "   'id': 'nyu_2451_34572.76',\n",
       "   'geometry': {'type': 'Point',\n",
       "    'coordinates': [-73.92911302644674, 40.630446043757466]},\n",
       "   'geometry_name': 'geom',\n",
       "   'properties': {'name': 'Flatlands',\n",
       "    'stacked': 1,\n",
       "    'annoline1': 'Flatlands',\n",
       "    'annoline2': None,\n",
       "    'annoline3': None,\n",
       "    'annoangle': 0.0,\n",
       "    'borough': 'Brooklyn',\n",
       "    'bbox': [-73.92911302644674,\n",
       "     40.630446043757466,\n",
       "     -73.92911302644674,\n",
       "     40.630446043757466]}},\n",
       "  {'type': 'Feature',\n",
       "   'id': 'nyu_2451_34572.77',\n",
       "   'geometry': {'type': 'Point',\n",
       "    'coordinates': [-73.90818571777423, 40.606336421685626]},\n",
       "   'geometry_name': 'geom',\n",
       "   'properties': {'name': 'Mill Island',\n",
       "    'stacked': 2,\n",
       "    'annoline1': 'Mill',\n",
       "    'annoline2': 'Island',\n",
       "    'annoline3': None,\n",
       "    'annoangle': 0.0,\n",
       "    'borough': 'Brooklyn',\n",
       "    'bbox': [-73.90818571777423,\n",
       "     40.606336421685626,\n",
       "     -73.90818571777423,\n",
       "     40.606336421685626]}},\n",
       "  {'type': 'Feature',\n",
       "   'id': 'nyu_2451_34572.78',\n",
       "   'geometry': {'type': 'Point',\n",
       "    'coordinates': [-73.94353722891886, 40.57791350308657]},\n",
       "   'geometry_name': 'geom',\n",
       "   'properties': {'name': 'Manhattan Beach',\n",
       "    'stacked': 2,\n",
       "    'annoline1': 'Manhattan',\n",
       "    'annoline2': 'Beach',\n",
       "    'annoline3': None,\n",
       "    'annoangle': 0.0,\n",
       "    'borough': 'Brooklyn',\n",
       "    'bbox': [-73.94353722891886,\n",
       "     40.57791350308657,\n",
       "     -73.94353722891886,\n",
       "     40.57791350308657]}},\n",
       "  {'type': 'Feature',\n",
       "   'id': 'nyu_2451_34572.79',\n",
       "   'geometry': {'type': 'Point',\n",
       "    'coordinates': [-73.98868295821637, 40.57429256471601]},\n",
       "   'geometry_name': 'geom',\n",
       "   'properties': {'name': 'Coney Island',\n",
       "    'stacked': 1,\n",
       "    'annoline1': 'Coney Island',\n",
       "    'annoline2': None,\n",
       "    'annoline3': None,\n",
       "    'annoangle': 0.0,\n",
       "    'borough': 'Brooklyn',\n",
       "    'bbox': [-73.98868295821637,\n",
       "     40.57429256471601,\n",
       "     -73.98868295821637,\n",
       "     40.57429256471601]}},\n",
       "  {'type': 'Feature',\n",
       "   'id': 'nyu_2451_34572.80',\n",
       "   'geometry': {'type': 'Point',\n",
       "    'coordinates': [-73.99875221443519, 40.59951870282238]},\n",
       "   'geometry_name': 'geom',\n",
       "   'properties': {'name': 'Bath Beach',\n",
       "    'stacked': 2,\n",
       "    'annoline1': 'Bath',\n",
       "    'annoline2': 'Beach',\n",
       "    'annoline3': None,\n",
       "    'annoangle': 0.0,\n",
       "    'borough': 'Brooklyn',\n",
       "    'bbox': [-73.99875221443519,\n",
       "     40.59951870282238,\n",
       "     -73.99875221443519,\n",
       "     40.59951870282238]}},\n",
       "  {'type': 'Feature',\n",
       "   'id': 'nyu_2451_34572.81',\n",
       "   'geometry': {'type': 'Point',\n",
       "    'coordinates': [-73.99049823044811, 40.633130512758015]},\n",
       "   'geometry_name': 'geom',\n",
       "   'properties': {'name': 'Borough Park',\n",
       "    'stacked': 2,\n",
       "    'annoline1': 'Borough',\n",
       "    'annoline2': 'Park',\n",
       "    'annoline3': None,\n",
       "    'annoangle': 0.0,\n",
       "    'borough': 'Brooklyn',\n",
       "    'bbox': [-73.99049823044811,\n",
       "     40.633130512758015,\n",
       "     -73.99049823044811,\n",
       "     40.633130512758015]}},\n",
       "  {'type': 'Feature',\n",
       "   'id': 'nyu_2451_34572.82',\n",
       "   'geometry': {'type': 'Point',\n",
       "    'coordinates': [-74.01931375636022, 40.619219457722636]},\n",
       "   'geometry_name': 'geom',\n",
       "   'properties': {'name': 'Dyker Heights',\n",
       "    'stacked': 2,\n",
       "    'annoline1': 'Dyker',\n",
       "    'annoline2': 'Heights',\n",
       "    'annoline3': None,\n",
       "    'annoangle': 0.0,\n",
       "    'borough': 'Brooklyn',\n",
       "    'bbox': [-74.01931375636022,\n",
       "     40.619219457722636,\n",
       "     -74.01931375636022,\n",
       "     40.619219457722636]}},\n",
       "  {'type': 'Feature',\n",
       "   'id': 'nyu_2451_34572.83',\n",
       "   'geometry': {'type': 'Point',\n",
       "    'coordinates': [-73.93010170691196, 40.590848433902046]},\n",
       "   'geometry_name': 'geom',\n",
       "   'properties': {'name': 'Gerritsen Beach',\n",
       "    'stacked': 2,\n",
       "    'annoline1': 'Gerritsen',\n",
       "    'annoline2': 'Beach',\n",
       "    'annoline3': None,\n",
       "    'annoangle': 0.0,\n",
       "    'borough': 'Brooklyn',\n",
       "    'bbox': [-73.93010170691196,\n",
       "     40.590848433902046,\n",
       "     -73.93010170691196,\n",
       "     40.590848433902046]}},\n",
       "  {'type': 'Feature',\n",
       "   'id': 'nyu_2451_34572.84',\n",
       "   'geometry': {'type': 'Point',\n",
       "    'coordinates': [-73.93134404108497, 40.609747779894604]},\n",
       "   'geometry_name': 'geom',\n",
       "   'properties': {'name': 'Marine Park',\n",
       "    'stacked': 1,\n",
       "    'annoline1': 'Marine Park',\n",
       "    'annoline2': None,\n",
       "    'annoline3': None,\n",
       "    'annoangle': 0.0,\n",
       "    'borough': 'Brooklyn',\n",
       "    'bbox': [-73.93134404108497,\n",
       "     40.609747779894604,\n",
       "     -73.93134404108497,\n",
       "     40.609747779894604]}},\n",
       "  {'type': 'Feature',\n",
       "   'id': 'nyu_2451_34572.85',\n",
       "   'geometry': {'type': 'Point',\n",
       "    'coordinates': [-73.96784306216367, 40.693229421881504]},\n",
       "   'geometry_name': 'geom',\n",
       "   'properties': {'name': 'Clinton Hill',\n",
       "    'stacked': 2,\n",
       "    'annoline1': 'Clinton',\n",
       "    'annoline2': 'Hill',\n",
       "    'annoline3': None,\n",
       "    'annoangle': 0.0,\n",
       "    'borough': 'Brooklyn',\n",
       "    'bbox': [-73.96784306216367,\n",
       "     40.693229421881504,\n",
       "     -73.96784306216367,\n",
       "     40.693229421881504]}},\n",
       "  {'type': 'Feature',\n",
       "   'id': 'nyu_2451_34572.86',\n",
       "   'geometry': {'type': 'Point',\n",
       "    'coordinates': [-74.0078731120024, 40.57637537890224]},\n",
       "   'geometry_name': 'geom',\n",
       "   'properties': {'name': 'Sea Gate',\n",
       "    'stacked': 2,\n",
       "    'annoline1': 'Sea',\n",
       "    'annoline2': 'Gate',\n",
       "    'annoline3': None,\n",
       "    'annoangle': 0.0,\n",
       "    'borough': 'Brooklyn',\n",
       "    'bbox': [-74.0078731120024,\n",
       "     40.57637537890224,\n",
       "     -74.0078731120024,\n",
       "     40.57637537890224]}},\n",
       "  {'type': 'Feature',\n",
       "   'id': 'nyu_2451_34572.87',\n",
       "   'geometry': {'type': 'Point',\n",
       "    'coordinates': [-73.98346337431099, 40.69084402109802]},\n",
       "   'geometry_name': 'geom',\n",
       "   'properties': {'name': 'Downtown',\n",
       "    'stacked': 1,\n",
       "    'annoline1': 'Downtown',\n",
       "    'annoline2': None,\n",
       "    'annoline3': None,\n",
       "    'annoangle': 0.0,\n",
       "    'borough': 'Brooklyn',\n",
       "    'bbox': [-73.98346337431099,\n",
       "     40.69084402109802,\n",
       "     -73.98346337431099,\n",
       "     40.69084402109802]}},\n",
       "  {'type': 'Feature',\n",
       "   'id': 'nyu_2451_34572.88',\n",
       "   'geometry': {'type': 'Point',\n",
       "    'coordinates': [-73.98374824115798, 40.685682912091444]},\n",
       "   'geometry_name': 'geom',\n",
       "   'properties': {'name': 'Boerum Hill',\n",
       "    'stacked': 2,\n",
       "    'annoline1': 'Boerum',\n",
       "    'annoline2': 'Hill',\n",
       "    'annoline3': None,\n",
       "    'annoangle': 0.0,\n",
       "    'borough': 'Brooklyn',\n",
       "    'bbox': [-73.98374824115798,\n",
       "     40.685682912091444,\n",
       "     -73.98374824115798,\n",
       "     40.685682912091444]}},\n",
       "  {'type': 'Feature',\n",
       "   'id': 'nyu_2451_34572.89',\n",
       "   'geometry': {'type': 'Point',\n",
       "    'coordinates': [-73.95489867077713, 40.658420017469815]},\n",
       "   'geometry_name': 'geom',\n",
       "   'properties': {'name': 'Prospect Lefferts Gardens',\n",
       "    'stacked': 3,\n",
       "    'annoline1': 'Prospect',\n",
       "    'annoline2': 'Lefferts',\n",
       "    'annoline3': 'Gardens',\n",
       "    'annoangle': 0.0,\n",
       "    'borough': 'Brooklyn',\n",
       "    'bbox': [-73.95489867077713,\n",
       "     40.658420017469815,\n",
       "     -73.95489867077713,\n",
       "     40.658420017469815]}},\n",
       "  {'type': 'Feature',\n",
       "   'id': 'nyu_2451_34572.90',\n",
       "   'geometry': {'type': 'Point',\n",
       "    'coordinates': [-73.91306831787395, 40.678402554795355]},\n",
       "   'geometry_name': 'geom',\n",
       "   'properties': {'name': 'Ocean Hill',\n",
       "    'stacked': 2,\n",
       "    'annoline1': 'Ocean',\n",
       "    'annoline2': 'Hill',\n",
       "    'annoline3': None,\n",
       "    'annoangle': 0.0,\n",
       "    'borough': 'Brooklyn',\n",
       "    'bbox': [-73.91306831787395,\n",
       "     40.678402554795355,\n",
       "     -73.91306831787395,\n",
       "     40.678402554795355]}},\n",
       "  {'type': 'Feature',\n",
       "   'id': 'nyu_2451_34572.91',\n",
       "   'geometry': {'type': 'Point',\n",
       "    'coordinates': [-73.86797598081334, 40.67856995727479]},\n",
       "   'geometry_name': 'geom',\n",
       "   'properties': {'name': 'City Line',\n",
       "    'stacked': 2,\n",
       "    'annoline1': 'City',\n",
       "    'annoline2': 'Line',\n",
       "    'annoline3': None,\n",
       "    'annoangle': 0.0,\n",
       "    'borough': 'Brooklyn',\n",
       "    'bbox': [-73.86797598081334,\n",
       "     40.67856995727479,\n",
       "     -73.86797598081334,\n",
       "     40.67856995727479]}},\n",
       "  {'type': 'Feature',\n",
       "   'id': 'nyu_2451_34572.92',\n",
       "   'geometry': {'type': 'Point',\n",
       "    'coordinates': [-73.89855633630317, 40.61514955045308]},\n",
       "   'geometry_name': 'geom',\n",
       "   'properties': {'name': 'Bergen Beach',\n",
       "    'stacked': 2,\n",
       "    'annoline1': 'Bergen',\n",
       "    'annoline2': 'Beach',\n",
       "    'annoline3': None,\n",
       "    'annoangle': 0.0,\n",
       "    'borough': 'Brooklyn',\n",
       "    'bbox': [-73.89855633630317,\n",
       "     40.61514955045308,\n",
       "     -73.89855633630317,\n",
       "     40.61514955045308]}},\n",
       "  {'type': 'Feature',\n",
       "   'id': 'nyu_2451_34572.93',\n",
       "   'geometry': {'type': 'Point',\n",
       "    'coordinates': [-73.95759523489838, 40.62559589869843]},\n",
       "   'geometry_name': 'geom',\n",
       "   'properties': {'name': 'Midwood',\n",
       "    'stacked': 1,\n",
       "    'annoline1': 'Midwood',\n",
       "    'annoline2': None,\n",
       "    'annoline3': None,\n",
       "    'annoangle': 0.0,\n",
       "    'borough': 'Brooklyn',\n",
       "    'bbox': [-73.95759523489838,\n",
       "     40.62559589869843,\n",
       "     -73.95759523489838,\n",
       "     40.62559589869843]}},\n",
       "  {'type': 'Feature',\n",
       "   'id': 'nyu_2451_34572.94',\n",
       "   'geometry': {'type': 'Point',\n",
       "    'coordinates': [-73.96261316716048, 40.647008603185185]},\n",
       "   'geometry_name': 'geom',\n",
       "   'properties': {'name': 'Prospect Park South',\n",
       "    'stacked': 2,\n",
       "    'annoline1': 'Prospect',\n",
       "    'annoline2': 'Park South',\n",
       "    'annoline3': None,\n",
       "    'annoangle': 0.0,\n",
       "    'borough': 'Brooklyn',\n",
       "    'bbox': [-73.96261316716048,\n",
       "     40.647008603185185,\n",
       "     -73.96261316716048,\n",
       "     40.647008603185185]}},\n",
       "  {'type': 'Feature',\n",
       "   'id': 'nyu_2451_34572.95',\n",
       "   'geometry': {'type': 'Point',\n",
       "    'coordinates': [-73.91607483951324, 40.62384524478419]},\n",
       "   'geometry_name': 'geom',\n",
       "   'properties': {'name': 'Georgetown',\n",
       "    'stacked': 1,\n",
       "    'annoline1': 'Georgetown',\n",
       "    'annoline2': None,\n",
       "    'annoline3': None,\n",
       "    'annoangle': 0.0,\n",
       "    'borough': 'Brooklyn',\n",
       "    'bbox': [-73.91607483951324,\n",
       "     40.62384524478419,\n",
       "     -73.91607483951324,\n",
       "     40.62384524478419]}},\n",
       "  {'type': 'Feature',\n",
       "   'id': 'nyu_2451_34572.96',\n",
       "   'geometry': {'type': 'Point',\n",
       "    'coordinates': [-73.93885815269195, 40.70849241041548]},\n",
       "   'geometry_name': 'geom',\n",
       "   'properties': {'name': 'East Williamsburg',\n",
       "    'stacked': 2,\n",
       "    'annoline1': 'East',\n",
       "    'annoline2': 'Williamsburg',\n",
       "    'annoline3': None,\n",
       "    'annoangle': 0.0,\n",
       "    'borough': 'Brooklyn',\n",
       "    'bbox': [-73.93885815269195,\n",
       "     40.70849241041548,\n",
       "     -73.93885815269195,\n",
       "     40.70849241041548]}},\n",
       "  {'type': 'Feature',\n",
       "   'id': 'nyu_2451_34572.97',\n",
       "   'geometry': {'type': 'Point',\n",
       "    'coordinates': [-73.95880857587582, 40.714822906532014]},\n",
       "   'geometry_name': 'geom',\n",
       "   'properties': {'name': 'North Side',\n",
       "    'stacked': 1,\n",
       "    'annoline1': 'North Side',\n",
       "    'annoline2': None,\n",
       "    'annoline3': None,\n",
       "    'annoangle': 0.0,\n",
       "    'borough': 'Brooklyn',\n",
       "    'bbox': [-73.95880857587582,\n",
       "     40.714822906532014,\n",
       "     -73.95880857587582,\n",
       "     40.714822906532014]}},\n",
       "  {'type': 'Feature',\n",
       "   'id': 'nyu_2451_34572.98',\n",
       "   'geometry': {'type': 'Point',\n",
       "    'coordinates': [-73.95800095153331, 40.71086147265064]},\n",
       "   'geometry_name': 'geom',\n",
       "   'properties': {'name': 'South Side',\n",
       "    'stacked': 1,\n",
       "    'annoline1': 'South Side',\n",
       "    'annoline2': None,\n",
       "    'annoline3': None,\n",
       "    'annoangle': 0.0,\n",
       "    'borough': 'Brooklyn',\n",
       "    'bbox': [-73.95800095153331,\n",
       "     40.71086147265064,\n",
       "     -73.95800095153331,\n",
       "     40.71086147265064]}},\n",
       "  {'type': 'Feature',\n",
       "   'id': 'nyu_2451_34572.99',\n",
       "   'geometry': {'type': 'Point',\n",
       "    'coordinates': [-73.96836678035541, 40.61305976667942]},\n",
       "   'geometry_name': 'geom',\n",
       "   'properties': {'name': 'Ocean Parkway',\n",
       "    'stacked': 2,\n",
       "    'annoline1': 'Ocean',\n",
       "    'annoline2': 'Parkway',\n",
       "    'annoline3': None,\n",
       "    'annoangle': 0.0,\n",
       "    'borough': 'Brooklyn',\n",
       "    'bbox': [-73.96836678035541,\n",
       "     40.61305976667942,\n",
       "     -73.96836678035541,\n",
       "     40.61305976667942]}},\n",
       "  {'type': 'Feature',\n",
       "   'id': 'nyu_2451_34572.100',\n",
       "   'geometry': {'type': 'Point',\n",
       "    'coordinates': [-74.03197914537984, 40.61476812694226]},\n",
       "   'geometry_name': 'geom',\n",
       "   'properties': {'name': 'Fort Hamilton',\n",
       "    'stacked': 2,\n",
       "    'annoline1': 'Fort',\n",
       "    'annoline2': 'Hamilton',\n",
       "    'annoline3': None,\n",
       "    'annoangle': 0.0,\n",
       "    'borough': 'Brooklyn',\n",
       "    'bbox': [-74.03197914537984,\n",
       "     40.61476812694226,\n",
       "     -74.03197914537984,\n",
       "     40.61476812694226]}},\n",
       "  {'type': 'Feature',\n",
       "   'id': 'nyu_2451_34572.101',\n",
       "   'geometry': {'type': 'Point',\n",
       "    'coordinates': [-73.99427936255978, 40.71561842231432]},\n",
       "   'geometry_name': 'geom',\n",
       "   'properties': {'name': 'Chinatown',\n",
       "    'stacked': 1,\n",
       "    'annoline1': 'Chinatown',\n",
       "    'annoline2': None,\n",
       "    'annoline3': None,\n",
       "    'annoangle': 0.0,\n",
       "    'borough': 'Manhattan',\n",
       "    'bbox': [-73.99427936255978,\n",
       "     40.71561842231432,\n",
       "     -73.99427936255978,\n",
       "     40.71561842231432]}},\n",
       "  {'type': 'Feature',\n",
       "   'id': 'nyu_2451_34572.102',\n",
       "   'geometry': {'type': 'Point',\n",
       "    'coordinates': [-73.93690027985234, 40.85190252555305]},\n",
       "   'geometry_name': 'geom',\n",
       "   'properties': {'name': 'Washington Heights',\n",
       "    'stacked': 2,\n",
       "    'annoline1': 'Washington',\n",
       "    'annoline2': 'Heights',\n",
       "    'annoline3': None,\n",
       "    'annoangle': 0.0,\n",
       "    'borough': 'Manhattan',\n",
       "    'bbox': [-73.93690027985234,\n",
       "     40.85190252555305,\n",
       "     -73.93690027985234,\n",
       "     40.85190252555305]}},\n",
       "  {'type': 'Feature',\n",
       "   'id': 'nyu_2451_34572.103',\n",
       "   'geometry': {'type': 'Point',\n",
       "    'coordinates': [-73.92121042203897, 40.86768396449915]},\n",
       "   'geometry_name': 'geom',\n",
       "   'properties': {'name': 'Inwood',\n",
       "    'stacked': 1,\n",
       "    'annoline1': 'Inwood',\n",
       "    'annoline2': None,\n",
       "    'annoline3': None,\n",
       "    'annoangle': 0.0,\n",
       "    'borough': 'Manhattan',\n",
       "    'bbox': [-73.92121042203897,\n",
       "     40.86768396449915,\n",
       "     -73.92121042203897,\n",
       "     40.86768396449915]}},\n",
       "  {'type': 'Feature',\n",
       "   'id': 'nyu_2451_34572.104',\n",
       "   'geometry': {'type': 'Point',\n",
       "    'coordinates': [-73.94968791883366, 40.823604284811935]},\n",
       "   'geometry_name': 'geom',\n",
       "   'properties': {'name': 'Hamilton Heights',\n",
       "    'stacked': 2,\n",
       "    'annoline1': 'Hamilton',\n",
       "    'annoline2': 'Heights',\n",
       "    'annoline3': None,\n",
       "    'annoangle': 0.0,\n",
       "    'borough': 'Manhattan',\n",
       "    'bbox': [-73.94968791883366,\n",
       "     40.823604284811935,\n",
       "     -73.94968791883366,\n",
       "     40.823604284811935]}},\n",
       "  {'type': 'Feature',\n",
       "   'id': 'nyu_2451_34572.105',\n",
       "   'geometry': {'type': 'Point',\n",
       "    'coordinates': [-73.9573853935188, 40.8169344294978]},\n",
       "   'geometry_name': 'geom',\n",
       "   'properties': {'name': 'Manhattanville',\n",
       "    'stacked': 2,\n",
       "    'annoline1': 'Manhattanville',\n",
       "    'annoline2': None,\n",
       "    'annoline3': None,\n",
       "    'annoangle': 0.0,\n",
       "    'borough': 'Manhattan',\n",
       "    'bbox': [-73.9573853935188,\n",
       "     40.8169344294978,\n",
       "     -73.9573853935188,\n",
       "     40.8169344294978]}},\n",
       "  {'type': 'Feature',\n",
       "   'id': 'nyu_2451_34572.106',\n",
       "   'geometry': {'type': 'Point',\n",
       "    'coordinates': [-73.94321112603905, 40.81597606742414]},\n",
       "   'geometry_name': 'geom',\n",
       "   'properties': {'name': 'Central Harlem',\n",
       "    'stacked': 2,\n",
       "    'annoline1': 'Central',\n",
       "    'annoline2': 'Harlem',\n",
       "    'annoline3': None,\n",
       "    'annoangle': 0.0,\n",
       "    'borough': 'Manhattan',\n",
       "    'bbox': [-73.94321112603905,\n",
       "     40.81597606742414,\n",
       "     -73.94321112603905,\n",
       "     40.81597606742414]}},\n",
       "  {'type': 'Feature',\n",
       "   'id': 'nyu_2451_34572.107',\n",
       "   'geometry': {'type': 'Point',\n",
       "    'coordinates': [-73.94418223148524, 40.79224946663033]},\n",
       "   'geometry_name': 'geom',\n",
       "   'properties': {'name': 'East Harlem',\n",
       "    'stacked': 2,\n",
       "    'annoline1': 'East',\n",
       "    'annoline2': 'Harlem',\n",
       "    'annoline3': None,\n",
       "    'annoangle': 0.0,\n",
       "    'borough': 'Manhattan',\n",
       "    'bbox': [-73.94418223148524,\n",
       "     40.79224946663033,\n",
       "     -73.94418223148524,\n",
       "     40.79224946663033]}},\n",
       "  {'type': 'Feature',\n",
       "   'id': 'nyu_2451_34572.108',\n",
       "   'geometry': {'type': 'Point',\n",
       "    'coordinates': [-73.96050763135, 40.775638573301805]},\n",
       "   'geometry_name': 'geom',\n",
       "   'properties': {'name': 'Upper East Side',\n",
       "    'stacked': 3,\n",
       "    'annoline1': 'Upper',\n",
       "    'annoline2': 'East',\n",
       "    'annoline3': 'Side',\n",
       "    'annoangle': 0.0,\n",
       "    'borough': 'Manhattan',\n",
       "    'bbox': [-73.96050763135,\n",
       "     40.775638573301805,\n",
       "     -73.96050763135,\n",
       "     40.775638573301805]}},\n",
       "  {'type': 'Feature',\n",
       "   'id': 'nyu_2451_34572.109',\n",
       "   'geometry': {'type': 'Point',\n",
       "    'coordinates': [-73.94711784471826, 40.775929849884875]},\n",
       "   'geometry_name': 'geom',\n",
       "   'properties': {'name': 'Yorkville',\n",
       "    'stacked': 1,\n",
       "    'annoline1': 'Yorkville',\n",
       "    'annoline2': None,\n",
       "    'annoline3': None,\n",
       "    'annoangle': 0.0,\n",
       "    'borough': 'Manhattan',\n",
       "    'bbox': [-73.94711784471826,\n",
       "     40.775929849884875,\n",
       "     -73.94711784471826,\n",
       "     40.775929849884875]}},\n",
       "  {'type': 'Feature',\n",
       "   'id': 'nyu_2451_34572.110',\n",
       "   'geometry': {'type': 'Point',\n",
       "    'coordinates': [-73.9588596881376, 40.76811265828733]},\n",
       "   'geometry_name': 'geom',\n",
       "   'properties': {'name': 'Lenox Hill',\n",
       "    'stacked': 2,\n",
       "    'annoline1': 'Lenox',\n",
       "    'annoline2': 'Hill',\n",
       "    'annoline3': None,\n",
       "    'annoangle': 0.0,\n",
       "    'borough': 'Manhattan',\n",
       "    'bbox': [-73.9588596881376,\n",
       "     40.76811265828733,\n",
       "     -73.9588596881376,\n",
       "     40.76811265828733]}},\n",
       "  {'type': 'Feature',\n",
       "   'id': 'nyu_2451_34572.111',\n",
       "   'geometry': {'type': 'Point',\n",
       "    'coordinates': [-73.94916769227953, 40.76215960576283]},\n",
       "   'geometry_name': 'geom',\n",
       "   'properties': {'name': 'Roosevelt Island',\n",
       "    'stacked': 1,\n",
       "    'annoline1': 'Roosevelt Island',\n",
       "    'annoline2': None,\n",
       "    'annoline3': None,\n",
       "    'annoangle': 56,\n",
       "    'borough': 'Manhattan',\n",
       "    'bbox': [-73.94916769227953,\n",
       "     40.76215960576283,\n",
       "     -73.94916769227953,\n",
       "     40.76215960576283]}},\n",
       "  {'type': 'Feature',\n",
       "   'id': 'nyu_2451_34572.112',\n",
       "   'geometry': {'type': 'Point',\n",
       "    'coordinates': [-73.97705923630603, 40.787657998534854]},\n",
       "   'geometry_name': 'geom',\n",
       "   'properties': {'name': 'Upper West Side',\n",
       "    'stacked': 3,\n",
       "    'annoline1': 'Upper',\n",
       "    'annoline2': 'West',\n",
       "    'annoline3': 'Side',\n",
       "    'annoangle': 0.0,\n",
       "    'borough': 'Manhattan',\n",
       "    'bbox': [-73.97705923630603,\n",
       "     40.787657998534854,\n",
       "     -73.97705923630603,\n",
       "     40.787657998534854]}},\n",
       "  {'type': 'Feature',\n",
       "   'id': 'nyu_2451_34572.113',\n",
       "   'geometry': {'type': 'Point',\n",
       "    'coordinates': [-73.98533777001262, 40.77352888942166]},\n",
       "   'geometry_name': 'geom',\n",
       "   'properties': {'name': 'Lincoln Square',\n",
       "    'stacked': 2,\n",
       "    'annoline1': 'Lincoln',\n",
       "    'annoline2': 'Square',\n",
       "    'annoline3': None,\n",
       "    'annoangle': 0.0,\n",
       "    'borough': 'Manhattan',\n",
       "    'bbox': [-73.98533777001262,\n",
       "     40.77352888942166,\n",
       "     -73.98533777001262,\n",
       "     40.77352888942166]}},\n",
       "  {'type': 'Feature',\n",
       "   'id': 'nyu_2451_34572.114',\n",
       "   'geometry': {'type': 'Point',\n",
       "    'coordinates': [-73.99611936309479, 40.75910089146212]},\n",
       "   'geometry_name': 'geom',\n",
       "   'properties': {'name': 'Clinton',\n",
       "    'stacked': 1,\n",
       "    'annoline1': 'Clinton',\n",
       "    'annoline2': None,\n",
       "    'annoline3': None,\n",
       "    'annoangle': 0.0,\n",
       "    'borough': 'Manhattan',\n",
       "    'bbox': [-73.99611936309479,\n",
       "     40.75910089146212,\n",
       "     -73.99611936309479,\n",
       "     40.75910089146212]}},\n",
       "  {'type': 'Feature',\n",
       "   'id': 'nyu_2451_34572.115',\n",
       "   'geometry': {'type': 'Point',\n",
       "    'coordinates': [-73.98166882730304, 40.75469110270623]},\n",
       "   'geometry_name': 'geom',\n",
       "   'properties': {'name': 'Midtown',\n",
       "    'stacked': 1,\n",
       "    'annoline1': 'Midtown',\n",
       "    'annoline2': None,\n",
       "    'annoline3': None,\n",
       "    'annoangle': 0.0,\n",
       "    'borough': 'Manhattan',\n",
       "    'bbox': [-73.98166882730304,\n",
       "     40.75469110270623,\n",
       "     -73.98166882730304,\n",
       "     40.75469110270623]}},\n",
       "  {'type': 'Feature',\n",
       "   'id': 'nyu_2451_34572.116',\n",
       "   'geometry': {'type': 'Point',\n",
       "    'coordinates': [-73.97833207924127, 40.748303077252174]},\n",
       "   'geometry_name': 'geom',\n",
       "   'properties': {'name': 'Murray Hill',\n",
       "    'stacked': 2,\n",
       "    'annoline1': 'Murray',\n",
       "    'annoline2': 'Hill',\n",
       "    'annoline3': None,\n",
       "    'annoangle': 0.0,\n",
       "    'borough': 'Manhattan',\n",
       "    'bbox': [-73.97833207924127,\n",
       "     40.748303077252174,\n",
       "     -73.97833207924127,\n",
       "     40.748303077252174]}},\n",
       "  {'type': 'Feature',\n",
       "   'id': 'nyu_2451_34572.117',\n",
       "   'geometry': {'type': 'Point',\n",
       "    'coordinates': [-74.00311633472813, 40.744034706747975]},\n",
       "   'geometry_name': 'geom',\n",
       "   'properties': {'name': 'Chelsea',\n",
       "    'stacked': 1,\n",
       "    'annoline1': 'Chelsea',\n",
       "    'annoline2': None,\n",
       "    'annoline3': None,\n",
       "    'annoangle': 0.0,\n",
       "    'borough': 'Manhattan',\n",
       "    'bbox': [-74.00311633472813,\n",
       "     40.744034706747975,\n",
       "     -74.00311633472813,\n",
       "     40.744034706747975]}},\n",
       "  {'type': 'Feature',\n",
       "   'id': 'nyu_2451_34572.118',\n",
       "   'geometry': {'type': 'Point',\n",
       "    'coordinates': [-73.99991402945902, 40.72693288536128]},\n",
       "   'geometry_name': 'geom',\n",
       "   'properties': {'name': 'Greenwich Village',\n",
       "    'stacked': 2,\n",
       "    'annoline1': 'Greenwich',\n",
       "    'annoline2': 'Village',\n",
       "    'annoline3': None,\n",
       "    'annoangle': 0.0,\n",
       "    'borough': 'Manhattan',\n",
       "    'bbox': [-73.99991402945902,\n",
       "     40.72693288536128,\n",
       "     -73.99991402945902,\n",
       "     40.72693288536128]}},\n",
       "  {'type': 'Feature',\n",
       "   'id': 'nyu_2451_34572.119',\n",
       "   'geometry': {'type': 'Point',\n",
       "    'coordinates': [-73.98222616506416, 40.727846777270244]},\n",
       "   'geometry_name': 'geom',\n",
       "   'properties': {'name': 'East Village',\n",
       "    'stacked': 2,\n",
       "    'annoline1': 'East',\n",
       "    'annoline2': 'Village',\n",
       "    'annoline3': None,\n",
       "    'annoangle': 0.0,\n",
       "    'borough': 'Manhattan',\n",
       "    'bbox': [-73.98222616506416,\n",
       "     40.727846777270244,\n",
       "     -73.98222616506416,\n",
       "     40.727846777270244]}},\n",
       "  {'type': 'Feature',\n",
       "   'id': 'nyu_2451_34572.120',\n",
       "   'geometry': {'type': 'Point',\n",
       "    'coordinates': [-73.98089031999291, 40.71780674892765]},\n",
       "   'geometry_name': 'geom',\n",
       "   'properties': {'name': 'Lower East Side',\n",
       "    'stacked': 3,\n",
       "    'annoline1': 'Lower',\n",
       "    'annoline2': 'East',\n",
       "    'annoline3': 'Side',\n",
       "    'annoangle': 0.0,\n",
       "    'borough': 'Manhattan',\n",
       "    'bbox': [-73.98089031999291,\n",
       "     40.71780674892765,\n",
       "     -73.98089031999291,\n",
       "     40.71780674892765]}},\n",
       "  {'type': 'Feature',\n",
       "   'id': 'nyu_2451_34572.121',\n",
       "   'geometry': {'type': 'Point',\n",
       "    'coordinates': [-74.01068328559087, 40.721521967443216]},\n",
       "   'geometry_name': 'geom',\n",
       "   'properties': {'name': 'Tribeca',\n",
       "    'stacked': 1,\n",
       "    'annoline1': 'Tribeca',\n",
       "    'annoline2': None,\n",
       "    'annoline3': None,\n",
       "    'annoangle': 0.0,\n",
       "    'borough': 'Manhattan',\n",
       "    'bbox': [-74.01068328559087,\n",
       "     40.721521967443216,\n",
       "     -74.01068328559087,\n",
       "     40.721521967443216]}},\n",
       "  {'type': 'Feature',\n",
       "   'id': 'nyu_2451_34572.122',\n",
       "   'geometry': {'type': 'Point',\n",
       "    'coordinates': [-73.99730467208073, 40.71932379395907]},\n",
       "   'geometry_name': 'geom',\n",
       "   'properties': {'name': 'Little Italy',\n",
       "    'stacked': 2,\n",
       "    'annoline1': 'Little',\n",
       "    'annoline2': 'Italy',\n",
       "    'annoline3': None,\n",
       "    'annoangle': 0.0,\n",
       "    'borough': 'Manhattan',\n",
       "    'bbox': [-73.99730467208073,\n",
       "     40.71932379395907,\n",
       "     -73.99730467208073,\n",
       "     40.71932379395907]}},\n",
       "  {'type': 'Feature',\n",
       "   'id': 'nyu_2451_34572.123',\n",
       "   'geometry': {'type': 'Point',\n",
       "    'coordinates': [-74.00065666959759, 40.72218384131794]},\n",
       "   'geometry_name': 'geom',\n",
       "   'properties': {'name': 'Soho',\n",
       "    'stacked': 1,\n",
       "    'annoline1': 'Soho',\n",
       "    'annoline2': None,\n",
       "    'annoline3': None,\n",
       "    'annoangle': 0.0,\n",
       "    'borough': 'Manhattan',\n",
       "    'bbox': [-74.00065666959759,\n",
       "     40.72218384131794,\n",
       "     -74.00065666959759,\n",
       "     40.72218384131794]}},\n",
       "  {'type': 'Feature',\n",
       "   'id': 'nyu_2451_34572.124',\n",
       "   'geometry': {'type': 'Point',\n",
       "    'coordinates': [-74.00617998126812, 40.73443393572434]},\n",
       "   'geometry_name': 'geom',\n",
       "   'properties': {'name': 'West Village',\n",
       "    'stacked': 2,\n",
       "    'annoline1': 'West',\n",
       "    'annoline2': 'Village',\n",
       "    'annoline3': None,\n",
       "    'annoangle': 0.0,\n",
       "    'borough': 'Manhattan',\n",
       "    'bbox': [-74.00617998126812,\n",
       "     40.73443393572434,\n",
       "     -74.00617998126812,\n",
       "     40.73443393572434]}},\n",
       "  {'type': 'Feature',\n",
       "   'id': 'nyu_2451_34572.125',\n",
       "   'geometry': {'type': 'Point',\n",
       "    'coordinates': [-73.96428617740655, 40.797307041702865]},\n",
       "   'geometry_name': 'geom',\n",
       "   'properties': {'name': 'Manhattan Valley',\n",
       "    'stacked': 2,\n",
       "    'annoline1': 'Manhattan',\n",
       "    'annoline2': 'Valley',\n",
       "    'annoline3': None,\n",
       "    'annoangle': 0.0,\n",
       "    'borough': 'Manhattan',\n",
       "    'bbox': [-73.96428617740655,\n",
       "     40.797307041702865,\n",
       "     -73.96428617740655,\n",
       "     40.797307041702865]}},\n",
       "  {'type': 'Feature',\n",
       "   'id': 'nyu_2451_34572.126',\n",
       "   'geometry': {'type': 'Point',\n",
       "    'coordinates': [-73.96389627905332, 40.807999738165826]},\n",
       "   'geometry_name': 'geom',\n",
       "   'properties': {'name': 'Morningside Heights',\n",
       "    'stacked': 2,\n",
       "    'annoline1': 'Morningside',\n",
       "    'annoline2': 'Heights',\n",
       "    'annoline3': None,\n",
       "    'annoangle': 0.0,\n",
       "    'borough': 'Manhattan',\n",
       "    'bbox': [-73.96389627905332,\n",
       "     40.807999738165826,\n",
       "     -73.96389627905332,\n",
       "     40.807999738165826]}},\n",
       "  {'type': 'Feature',\n",
       "   'id': 'nyu_2451_34572.127',\n",
       "   'geometry': {'type': 'Point',\n",
       "    'coordinates': [-73.98137594833541, 40.737209832715]},\n",
       "   'geometry_name': 'geom',\n",
       "   'properties': {'name': 'Gramercy',\n",
       "    'stacked': 1,\n",
       "    'annoline1': 'Gramercy',\n",
       "    'annoline2': None,\n",
       "    'annoline3': None,\n",
       "    'annoangle': 0.0,\n",
       "    'borough': 'Manhattan',\n",
       "    'bbox': [-73.98137594833541,\n",
       "     40.737209832715,\n",
       "     -73.98137594833541,\n",
       "     40.737209832715]}},\n",
       "  {'type': 'Feature',\n",
       "   'id': 'nyu_2451_34572.128',\n",
       "   'geometry': {'type': 'Point',\n",
       "    'coordinates': [-74.01686930508617, 40.71193198394565]},\n",
       "   'geometry_name': 'geom',\n",
       "   'properties': {'name': 'Battery Park City',\n",
       "    'stacked': 3,\n",
       "    'annoline1': 'Battery',\n",
       "    'annoline2': 'Park',\n",
       "    'annoline3': 'City',\n",
       "    'annoangle': 0.0,\n",
       "    'borough': 'Manhattan',\n",
       "    'bbox': [-74.01686930508617,\n",
       "     40.71193198394565,\n",
       "     -74.01686930508617,\n",
       "     40.71193198394565]}},\n",
       "  {'type': 'Feature',\n",
       "   'id': 'nyu_2451_34572.129',\n",
       "   'geometry': {'type': 'Point',\n",
       "    'coordinates': [-74.0106654452127, 40.70710710727048]},\n",
       "   'geometry_name': 'geom',\n",
       "   'properties': {'name': 'Financial District',\n",
       "    'stacked': 2,\n",
       "    'annoline1': 'Financial',\n",
       "    'annoline2': 'District',\n",
       "    'annoline3': None,\n",
       "    'annoangle': 0.0,\n",
       "    'borough': 'Manhattan',\n",
       "    'bbox': [-74.0106654452127,\n",
       "     40.70710710727048,\n",
       "     -74.0106654452127,\n",
       "     40.70710710727048]}},\n",
       "  {'type': 'Feature',\n",
       "   'id': 'nyu_2451_34572.130',\n",
       "   'geometry': {'type': 'Point',\n",
       "    'coordinates': [-73.91565374304234, 40.76850859335492]},\n",
       "   'geometry_name': 'geom',\n",
       "   'properties': {'name': 'Astoria',\n",
       "    'stacked': 1,\n",
       "    'annoline1': 'Astoria',\n",
       "    'annoline2': None,\n",
       "    'annoline3': None,\n",
       "    'annoangle': 0.0,\n",
       "    'borough': 'Queens',\n",
       "    'bbox': [-73.91565374304234,\n",
       "     40.76850859335492,\n",
       "     -73.91565374304234,\n",
       "     40.76850859335492]}},\n",
       "  {'type': 'Feature',\n",
       "   'id': 'nyu_2451_34572.131',\n",
       "   'geometry': {'type': 'Point',\n",
       "    'coordinates': [-73.90184166838284, 40.74634908860222]},\n",
       "   'geometry_name': 'geom',\n",
       "   'properties': {'name': 'Woodside',\n",
       "    'stacked': 1,\n",
       "    'annoline1': 'Woodside',\n",
       "    'annoline2': None,\n",
       "    'annoline3': None,\n",
       "    'annoangle': 0.0,\n",
       "    'borough': 'Queens',\n",
       "    'bbox': [-73.90184166838284,\n",
       "     40.74634908860222,\n",
       "     -73.90184166838284,\n",
       "     40.74634908860222]}},\n",
       "  {'type': 'Feature',\n",
       "   'id': 'nyu_2451_34572.132',\n",
       "   'geometry': {'type': 'Point',\n",
       "    'coordinates': [-73.88282109164365, 40.75198138007367]},\n",
       "   'geometry_name': 'geom',\n",
       "   'properties': {'name': 'Jackson Heights',\n",
       "    'stacked': 2,\n",
       "    'annoline1': 'Jackson',\n",
       "    'annoline2': 'Heights',\n",
       "    'annoline3': None,\n",
       "    'annoangle': 0.0,\n",
       "    'borough': 'Queens',\n",
       "    'bbox': [-73.88282109164365,\n",
       "     40.75198138007367,\n",
       "     -73.88282109164365,\n",
       "     40.75198138007367]}},\n",
       "  {'type': 'Feature',\n",
       "   'id': 'nyu_2451_34572.133',\n",
       "   'geometry': {'type': 'Point',\n",
       "    'coordinates': [-73.88165622288388, 40.744048505122024]},\n",
       "   'geometry_name': 'geom',\n",
       "   'properties': {'name': 'Elmhurst',\n",
       "    'stacked': 1,\n",
       "    'annoline1': 'Elmhurst',\n",
       "    'annoline2': None,\n",
       "    'annoline3': None,\n",
       "    'annoangle': 0.0,\n",
       "    'borough': 'Queens',\n",
       "    'bbox': [-73.88165622288388,\n",
       "     40.744048505122024,\n",
       "     -73.88165622288388,\n",
       "     40.744048505122024]}},\n",
       "  {'type': 'Feature',\n",
       "   'id': 'nyu_2451_34572.134',\n",
       "   'geometry': {'type': 'Point',\n",
       "    'coordinates': [-73.8381376460028, 40.65422527738487]},\n",
       "   'geometry_name': 'geom',\n",
       "   'properties': {'name': 'Howard Beach',\n",
       "    'stacked': 2,\n",
       "    'annoline1': 'Howard',\n",
       "    'annoline2': 'Beach',\n",
       "    'annoline3': None,\n",
       "    'annoangle': 0.0,\n",
       "    'borough': 'Queens',\n",
       "    'bbox': [-73.8381376460028,\n",
       "     40.65422527738487,\n",
       "     -73.8381376460028,\n",
       "     40.65422527738487]}},\n",
       "  {'type': 'Feature',\n",
       "   'id': 'nyu_2451_34572.135',\n",
       "   'geometry': {'type': 'Point',\n",
       "    'coordinates': [-73.85682497345258, 40.74238175015667]},\n",
       "   'geometry_name': 'geom',\n",
       "   'properties': {'name': 'Corona',\n",
       "    'stacked': 1,\n",
       "    'annoline1': 'Corona',\n",
       "    'annoline2': None,\n",
       "    'annoline3': None,\n",
       "    'annoangle': 0.0,\n",
       "    'borough': 'Queens',\n",
       "    'bbox': [-73.85682497345258,\n",
       "     40.74238175015667,\n",
       "     -73.85682497345258,\n",
       "     40.74238175015667]}},\n",
       "  {'type': 'Feature',\n",
       "   'id': 'nyu_2451_34572.136',\n",
       "   'geometry': {'type': 'Point',\n",
       "    'coordinates': [-73.84447500788983, 40.72526378216503]},\n",
       "   'geometry_name': 'geom',\n",
       "   'properties': {'name': 'Forest Hills',\n",
       "    'stacked': 2,\n",
       "    'annoline1': 'Forest',\n",
       "    'annoline2': 'Hills',\n",
       "    'annoline3': None,\n",
       "    'annoangle': 0.0,\n",
       "    'borough': 'Queens',\n",
       "    'bbox': [-73.84447500788983,\n",
       "     40.72526378216503,\n",
       "     -73.84447500788983,\n",
       "     40.72526378216503]}},\n",
       "  {'type': 'Feature',\n",
       "   'id': 'nyu_2451_34572.137',\n",
       "   'geometry': {'type': 'Point',\n",
       "    'coordinates': [-73.82981905825703, 40.7051790354148]},\n",
       "   'geometry_name': 'geom',\n",
       "   'properties': {'name': 'Kew Gardens',\n",
       "    'stacked': 2,\n",
       "    'annoline1': 'Kew',\n",
       "    'annoline2': 'Gardens',\n",
       "    'annoline3': None,\n",
       "    'annoangle': 0.0,\n",
       "    'borough': 'Queens',\n",
       "    'bbox': [-73.82981905825703,\n",
       "     40.7051790354148,\n",
       "     -73.82981905825703,\n",
       "     40.7051790354148]}},\n",
       "  {'type': 'Feature',\n",
       "   'id': 'nyu_2451_34572.138',\n",
       "   'geometry': {'type': 'Point',\n",
       "    'coordinates': [-73.83183321446887, 40.69794731471763]},\n",
       "   'geometry_name': 'geom',\n",
       "   'properties': {'name': 'Richmond Hill',\n",
       "    'stacked': 2,\n",
       "    'annoline1': 'Richmond',\n",
       "    'annoline2': 'Hill',\n",
       "    'annoline3': None,\n",
       "    'annoangle': 0.0,\n",
       "    'borough': 'Queens',\n",
       "    'bbox': [-73.83183321446887,\n",
       "     40.69794731471763,\n",
       "     -73.83183321446887,\n",
       "     40.69794731471763]}},\n",
       "  {'type': 'Feature',\n",
       "   'id': 'nyu_2451_34572.139',\n",
       "   'geometry': {'type': 'Point',\n",
       "    'coordinates': [-73.83177300329582, 40.76445419697846]},\n",
       "   'geometry_name': 'geom',\n",
       "   'properties': {'name': 'Flushing',\n",
       "    'stacked': 1,\n",
       "    'annoline1': 'Flushing',\n",
       "    'annoline2': None,\n",
       "    'annoline3': None,\n",
       "    'annoangle': 0.0,\n",
       "    'borough': 'Queens',\n",
       "    'bbox': [-73.83177300329582,\n",
       "     40.76445419697846,\n",
       "     -73.83177300329582,\n",
       "     40.76445419697846]}},\n",
       "  {'type': 'Feature',\n",
       "   'id': 'nyu_2451_34572.140',\n",
       "   'geometry': {'type': 'Point',\n",
       "    'coordinates': [-73.93920223915505, 40.75021734610528]},\n",
       "   'geometry_name': 'geom',\n",
       "   'properties': {'name': 'Long Island City',\n",
       "    'stacked': 3,\n",
       "    'annoline1': 'Long',\n",
       "    'annoline2': 'Island',\n",
       "    'annoline3': 'City',\n",
       "    'annoangle': 0.0,\n",
       "    'borough': 'Queens',\n",
       "    'bbox': [-73.93920223915505,\n",
       "     40.75021734610528,\n",
       "     -73.93920223915505,\n",
       "     40.75021734610528]}},\n",
       "  {'type': 'Feature',\n",
       "   'id': 'nyu_2451_34572.141',\n",
       "   'geometry': {'type': 'Point',\n",
       "    'coordinates': [-73.92691617561577, 40.74017628351924]},\n",
       "   'geometry_name': 'geom',\n",
       "   'properties': {'name': 'Sunnyside',\n",
       "    'stacked': 1,\n",
       "    'annoline1': 'Sunnyside',\n",
       "    'annoline2': None,\n",
       "    'annoline3': None,\n",
       "    'annoangle': 0.0,\n",
       "    'borough': 'Queens',\n",
       "    'bbox': [-73.92691617561577,\n",
       "     40.74017628351924,\n",
       "     -73.92691617561577,\n",
       "     40.74017628351924]}},\n",
       "  {'type': 'Feature',\n",
       "   'id': 'nyu_2451_34572.142',\n",
       "   'geometry': {'type': 'Point',\n",
       "    'coordinates': [-73.86704147658772, 40.76407323883091]},\n",
       "   'geometry_name': 'geom',\n",
       "   'properties': {'name': 'East Elmhurst',\n",
       "    'stacked': 2,\n",
       "    'annoline1': 'East',\n",
       "    'annoline2': 'Elmhurst',\n",
       "    'annoline3': None,\n",
       "    'annoangle': 0.0,\n",
       "    'borough': 'Queens',\n",
       "    'bbox': [-73.86704147658772,\n",
       "     40.76407323883091,\n",
       "     -73.86704147658772,\n",
       "     40.76407323883091]}},\n",
       "  {'type': 'Feature',\n",
       "   'id': 'nyu_2451_34572.143',\n",
       "   'geometry': {'type': 'Point',\n",
       "    'coordinates': [-73.89621713626859, 40.725427374093606]},\n",
       "   'geometry_name': 'geom',\n",
       "   'properties': {'name': 'Maspeth',\n",
       "    'stacked': 1,\n",
       "    'annoline1': 'Maspeth',\n",
       "    'annoline2': None,\n",
       "    'annoline3': None,\n",
       "    'annoangle': 0.0,\n",
       "    'borough': 'Queens',\n",
       "    'bbox': [-73.89621713626859,\n",
       "     40.725427374093606,\n",
       "     -73.89621713626859,\n",
       "     40.725427374093606]}},\n",
       "  {'type': 'Feature',\n",
       "   'id': 'nyu_2451_34572.144',\n",
       "   'geometry': {'type': 'Point',\n",
       "    'coordinates': [-73.90143517559589, 40.70832315613858]},\n",
       "   'geometry_name': 'geom',\n",
       "   'properties': {'name': 'Ridgewood',\n",
       "    'stacked': 1,\n",
       "    'annoline1': 'Ridgewood',\n",
       "    'annoline2': None,\n",
       "    'annoline3': None,\n",
       "    'annoangle': 0.0,\n",
       "    'borough': 'Queens',\n",
       "    'bbox': [-73.90143517559589,\n",
       "     40.70832315613858,\n",
       "     -73.90143517559589,\n",
       "     40.70832315613858]}},\n",
       "  {'type': 'Feature',\n",
       "   'id': 'nyu_2451_34572.145',\n",
       "   'geometry': {'type': 'Point',\n",
       "    'coordinates': [-73.87074167435605, 40.70276242967838]},\n",
       "   'geometry_name': 'geom',\n",
       "   'properties': {'name': 'Glendale',\n",
       "    'stacked': 1,\n",
       "    'annoline1': 'Glendale',\n",
       "    'annoline2': None,\n",
       "    'annoline3': None,\n",
       "    'annoangle': 0.0,\n",
       "    'borough': 'Queens',\n",
       "    'bbox': [-73.87074167435605,\n",
       "     40.70276242967838,\n",
       "     -73.87074167435605,\n",
       "     40.70276242967838]}},\n",
       "  {'type': 'Feature',\n",
       "   'id': 'nyu_2451_34572.146',\n",
       "   'geometry': {'type': 'Point',\n",
       "    'coordinates': [-73.8578268690537, 40.72897409480735]},\n",
       "   'geometry_name': 'geom',\n",
       "   'properties': {'name': 'Rego Park',\n",
       "    'stacked': 1,\n",
       "    'annoline1': 'Rego Park',\n",
       "    'annoline2': None,\n",
       "    'annoline3': None,\n",
       "    'annoangle': 0.0,\n",
       "    'borough': 'Queens',\n",
       "    'bbox': [-73.8578268690537,\n",
       "     40.72897409480735,\n",
       "     -73.8578268690537,\n",
       "     40.72897409480735]}},\n",
       "  {'type': 'Feature',\n",
       "   'id': 'nyu_2451_34572.147',\n",
       "   'geometry': {'type': 'Point',\n",
       "    'coordinates': [-73.8581104655432, 40.68988687915789]},\n",
       "   'geometry_name': 'geom',\n",
       "   'properties': {'name': 'Woodhaven',\n",
       "    'stacked': 1,\n",
       "    'annoline1': 'Woodhaven',\n",
       "    'annoline2': None,\n",
       "    'annoline3': None,\n",
       "    'annoangle': 0.0,\n",
       "    'borough': 'Queens',\n",
       "    'bbox': [-73.8581104655432,\n",
       "     40.68988687915789,\n",
       "     -73.8581104655432,\n",
       "     40.68988687915789]}},\n",
       "  {'type': 'Feature',\n",
       "   'id': 'nyu_2451_34572.148',\n",
       "   'geometry': {'type': 'Point',\n",
       "    'coordinates': [-73.84320266173447, 40.680708468265415]},\n",
       "   'geometry_name': 'geom',\n",
       "   'properties': {'name': 'Ozone Park',\n",
       "    'stacked': 1,\n",
       "    'annoline1': 'Ozone Park',\n",
       "    'annoline2': None,\n",
       "    'annoline3': None,\n",
       "    'annoangle': 0.0,\n",
       "    'borough': 'Queens',\n",
       "    'bbox': [-73.84320266173447,\n",
       "     40.680708468265415,\n",
       "     -73.84320266173447,\n",
       "     40.680708468265415]}},\n",
       "  {'type': 'Feature',\n",
       "   'id': 'nyu_2451_34572.149',\n",
       "   'geometry': {'type': 'Point',\n",
       "    'coordinates': [-73.80986478649041, 40.66854957767195]},\n",
       "   'geometry_name': 'geom',\n",
       "   'properties': {'name': 'South Ozone Park',\n",
       "    'stacked': 2,\n",
       "    'annoline1': 'South',\n",
       "    'annoline2': 'Ozone Park',\n",
       "    'annoline3': None,\n",
       "    'annoangle': 0.0,\n",
       "    'borough': 'Queens',\n",
       "    'bbox': [-73.80986478649041,\n",
       "     40.66854957767195,\n",
       "     -73.80986478649041,\n",
       "     40.66854957767195]}},\n",
       "  {'type': 'Feature',\n",
       "   'id': 'nyu_2451_34572.150',\n",
       "   'geometry': {'type': 'Point',\n",
       "    'coordinates': [-73.84304528896125, 40.784902749260205]},\n",
       "   'geometry_name': 'geom',\n",
       "   'properties': {'name': 'College Point',\n",
       "    'stacked': 2,\n",
       "    'annoline1': 'College',\n",
       "    'annoline2': 'Point',\n",
       "    'annoline3': None,\n",
       "    'annoangle': 0.0,\n",
       "    'borough': 'Queens',\n",
       "    'bbox': [-73.84304528896125,\n",
       "     40.784902749260205,\n",
       "     -73.84304528896125,\n",
       "     40.784902749260205]}},\n",
       "  {'type': 'Feature',\n",
       "   'id': 'nyu_2451_34572.151',\n",
       "   'geometry': {'type': 'Point',\n",
       "    'coordinates': [-73.81420216610863, 40.78129076602694]},\n",
       "   'geometry_name': 'geom',\n",
       "   'properties': {'name': 'Whitestone',\n",
       "    'stacked': 1,\n",
       "    'annoline1': 'Whitestone',\n",
       "    'annoline2': None,\n",
       "    'annoline3': None,\n",
       "    'annoangle': 0.0,\n",
       "    'borough': 'Queens',\n",
       "    'bbox': [-73.81420216610863,\n",
       "     40.78129076602694,\n",
       "     -73.81420216610863,\n",
       "     40.78129076602694]}},\n",
       "  {'type': 'Feature',\n",
       "   'id': 'nyu_2451_34572.152',\n",
       "   'geometry': {'type': 'Point',\n",
       "    'coordinates': [-73.7742736306867, 40.76604063281064]},\n",
       "   'geometry_name': 'geom',\n",
       "   'properties': {'name': 'Bayside',\n",
       "    'stacked': 1,\n",
       "    'annoline1': 'Bayside',\n",
       "    'annoline2': None,\n",
       "    'annoline3': None,\n",
       "    'annoangle': 0.0,\n",
       "    'borough': 'Queens',\n",
       "    'bbox': [-73.7742736306867,\n",
       "     40.76604063281064,\n",
       "     -73.7742736306867,\n",
       "     40.76604063281064]}},\n",
       "  {'type': 'Feature',\n",
       "   'id': 'nyu_2451_34572.153',\n",
       "   'geometry': {'type': 'Point',\n",
       "    'coordinates': [-73.79176243728061, 40.76172954903262]},\n",
       "   'geometry_name': 'geom',\n",
       "   'properties': {'name': 'Auburndale',\n",
       "    'stacked': 1,\n",
       "    'annoline1': 'Auburndale',\n",
       "    'annoline2': None,\n",
       "    'annoline3': None,\n",
       "    'annoangle': 0.0,\n",
       "    'borough': 'Queens',\n",
       "    'bbox': [-73.79176243728061,\n",
       "     40.76172954903262,\n",
       "     -73.79176243728061,\n",
       "     40.76172954903262]}},\n",
       "  {'type': 'Feature',\n",
       "   'id': 'nyu_2451_34572.154',\n",
       "   'geometry': {'type': 'Point',\n",
       "    'coordinates': [-73.7388977558074, 40.7708261928267]},\n",
       "   'geometry_name': 'geom',\n",
       "   'properties': {'name': 'Little Neck',\n",
       "    'stacked': 2,\n",
       "    'annoline1': 'Little',\n",
       "    'annoline2': 'Neck',\n",
       "    'annoline3': None,\n",
       "    'annoangle': 0.0,\n",
       "    'borough': 'Queens',\n",
       "    'bbox': [-73.7388977558074,\n",
       "     40.7708261928267,\n",
       "     -73.7388977558074,\n",
       "     40.7708261928267]}},\n",
       "  {'type': 'Feature',\n",
       "   'id': 'nyu_2451_34572.155',\n",
       "   'geometry': {'type': 'Point',\n",
       "    'coordinates': [-73.7424982072733, 40.76684609790763]},\n",
       "   'geometry_name': 'geom',\n",
       "   'properties': {'name': 'Douglaston',\n",
       "    'stacked': 1,\n",
       "    'annoline1': 'Douglaston',\n",
       "    'annoline2': None,\n",
       "    'annoline3': None,\n",
       "    'annoangle': 0.0,\n",
       "    'borough': 'Queens',\n",
       "    'bbox': [-73.7424982072733,\n",
       "     40.76684609790763,\n",
       "     -73.7424982072733,\n",
       "     40.76684609790763]}},\n",
       "  {'type': 'Feature',\n",
       "   'id': 'nyu_2451_34572.156',\n",
       "   'geometry': {'type': 'Point',\n",
       "    'coordinates': [-73.71548118999145, 40.74944079974332]},\n",
       "   'geometry_name': 'geom',\n",
       "   'properties': {'name': 'Glen Oaks',\n",
       "    'stacked': 2,\n",
       "    'annoline1': 'Glen',\n",
       "    'annoline2': 'Oaks',\n",
       "    'annoline3': None,\n",
       "    'annoangle': 0.0,\n",
       "    'borough': 'Queens',\n",
       "    'bbox': [-73.71548118999145,\n",
       "     40.74944079974332,\n",
       "     -73.71548118999145,\n",
       "     40.74944079974332]}},\n",
       "  {'type': 'Feature',\n",
       "   'id': 'nyu_2451_34572.157',\n",
       "   'geometry': {'type': 'Point',\n",
       "    'coordinates': [-73.72012814826903, 40.72857318176675]},\n",
       "   'geometry_name': 'geom',\n",
       "   'properties': {'name': 'Bellerose',\n",
       "    'stacked': 1,\n",
       "    'annoline1': 'Bellerose',\n",
       "    'annoline2': None,\n",
       "    'annoline3': None,\n",
       "    'annoangle': 0.0,\n",
       "    'borough': 'Queens',\n",
       "    'bbox': [-73.72012814826903,\n",
       "     40.72857318176675,\n",
       "     -73.72012814826903,\n",
       "     40.72857318176675]}},\n",
       "  {'type': 'Feature',\n",
       "   'id': 'nyu_2451_34572.158',\n",
       "   'geometry': {'type': 'Point',\n",
       "    'coordinates': [-73.82087764933566, 40.722578244228046]},\n",
       "   'geometry_name': 'geom',\n",
       "   'properties': {'name': 'Kew Gardens Hills',\n",
       "    'stacked': 3,\n",
       "    'annoline1': 'Kew',\n",
       "    'annoline2': 'Gardens',\n",
       "    'annoline3': 'Hills',\n",
       "    'annoangle': 0.0,\n",
       "    'borough': 'Queens',\n",
       "    'bbox': [-73.82087764933566,\n",
       "     40.722578244228046,\n",
       "     -73.82087764933566,\n",
       "     40.722578244228046]}},\n",
       "  {'type': 'Feature',\n",
       "   'id': 'nyu_2451_34572.159',\n",
       "   'geometry': {'type': 'Point',\n",
       "    'coordinates': [-73.78271337003264, 40.7343944653313]},\n",
       "   'geometry_name': 'geom',\n",
       "   'properties': {'name': 'Fresh Meadows',\n",
       "    'stacked': 2,\n",
       "    'annoline1': 'Fresh',\n",
       "    'annoline2': 'Meadows',\n",
       "    'annoline3': None,\n",
       "    'annoangle': 0.0,\n",
       "    'borough': 'Queens',\n",
       "    'bbox': [-73.78271337003264,\n",
       "     40.7343944653313,\n",
       "     -73.78271337003264,\n",
       "     40.7343944653313]}},\n",
       "  {'type': 'Feature',\n",
       "   'id': 'nyu_2451_34572.160',\n",
       "   'geometry': {'type': 'Point',\n",
       "    'coordinates': [-73.81174822458634, 40.71093547252271]},\n",
       "   'geometry_name': 'geom',\n",
       "   'properties': {'name': 'Briarwood',\n",
       "    'stacked': 1,\n",
       "    'annoline1': 'Briarwood',\n",
       "    'annoline2': None,\n",
       "    'annoline3': None,\n",
       "    'annoangle': 0.0,\n",
       "    'borough': 'Queens',\n",
       "    'bbox': [-73.81174822458634,\n",
       "     40.71093547252271,\n",
       "     -73.81174822458634,\n",
       "     40.71093547252271]}},\n",
       "  {'type': 'Feature',\n",
       "   'id': 'nyu_2451_34572.161',\n",
       "   'geometry': {'type': 'Point',\n",
       "    'coordinates': [-73.79690165888289, 40.70465736068717]},\n",
       "   'geometry_name': 'geom',\n",
       "   'properties': {'name': 'Jamaica Center',\n",
       "    'stacked': 2,\n",
       "    'annoline1': 'Jamaica',\n",
       "    'annoline2': 'Center',\n",
       "    'annoline3': None,\n",
       "    'annoangle': 0.0,\n",
       "    'borough': 'Queens',\n",
       "    'bbox': [-73.79690165888289,\n",
       "     40.70465736068717,\n",
       "     -73.79690165888289,\n",
       "     40.70465736068717]}},\n",
       "  {'type': 'Feature',\n",
       "   'id': 'nyu_2451_34572.162',\n",
       "   'geometry': {'type': 'Point',\n",
       "    'coordinates': [-73.75494976234332, 40.74561857141855]},\n",
       "   'geometry_name': 'geom',\n",
       "   'properties': {'name': 'Oakland Gardens',\n",
       "    'stacked': 2,\n",
       "    'annoline1': 'Oakland',\n",
       "    'annoline2': 'Gardens',\n",
       "    'annoline3': None,\n",
       "    'annoangle': 0.0,\n",
       "    'borough': 'Queens',\n",
       "    'bbox': [-73.75494976234332,\n",
       "     40.74561857141855,\n",
       "     -73.75494976234332,\n",
       "     40.74561857141855]}},\n",
       "  {'type': 'Feature',\n",
       "   'id': 'nyu_2451_34572.163',\n",
       "   'geometry': {'type': 'Point',\n",
       "    'coordinates': [-73.73871484578424, 40.718893092167356]},\n",
       "   'geometry_name': 'geom',\n",
       "   'properties': {'name': 'Queens Village',\n",
       "    'stacked': 2,\n",
       "    'annoline1': 'Queens',\n",
       "    'annoline2': 'Village',\n",
       "    'annoline3': None,\n",
       "    'annoangle': 0.0,\n",
       "    'borough': 'Queens',\n",
       "    'bbox': [-73.73871484578424,\n",
       "     40.718893092167356,\n",
       "     -73.73871484578424,\n",
       "     40.718893092167356]}},\n",
       "  {'type': 'Feature',\n",
       "   'id': 'nyu_2451_34572.164',\n",
       "   'geometry': {'type': 'Point',\n",
       "    'coordinates': [-73.75925009335594, 40.71124344191904]},\n",
       "   'geometry_name': 'geom',\n",
       "   'properties': {'name': 'Hollis',\n",
       "    'stacked': 1,\n",
       "    'annoline1': 'Hollis',\n",
       "    'annoline2': None,\n",
       "    'annoline3': None,\n",
       "    'annoangle': 0.0,\n",
       "    'borough': 'Queens',\n",
       "    'bbox': [-73.75925009335594,\n",
       "     40.71124344191904,\n",
       "     -73.75925009335594,\n",
       "     40.71124344191904]}},\n",
       "  {'type': 'Feature',\n",
       "   'id': 'nyu_2451_34572.165',\n",
       "   'geometry': {'type': 'Point',\n",
       "    'coordinates': [-73.7904261313554, 40.696911253789885]},\n",
       "   'geometry_name': 'geom',\n",
       "   'properties': {'name': 'South Jamaica',\n",
       "    'stacked': 1,\n",
       "    'annoline1': 'South Jamaica',\n",
       "    'annoline2': None,\n",
       "    'annoline3': None,\n",
       "    'annoangle': 0.0,\n",
       "    'borough': 'Queens',\n",
       "    'bbox': [-73.7904261313554,\n",
       "     40.696911253789885,\n",
       "     -73.7904261313554,\n",
       "     40.696911253789885]}},\n",
       "  {'type': 'Feature',\n",
       "   'id': 'nyu_2451_34572.166',\n",
       "   'geometry': {'type': 'Point',\n",
       "    'coordinates': [-73.75867603727717, 40.69444538522359]},\n",
       "   'geometry_name': 'geom',\n",
       "   'properties': {'name': 'St. Albans',\n",
       "    'stacked': 1,\n",
       "    'annoline1': 'St. Albans',\n",
       "    'annoline2': None,\n",
       "    'annoline3': None,\n",
       "    'annoangle': 0.0,\n",
       "    'borough': 'Queens',\n",
       "    'bbox': [-73.75867603727717,\n",
       "     40.69444538522359,\n",
       "     -73.75867603727717,\n",
       "     40.69444538522359]}},\n",
       "  {'type': 'Feature',\n",
       "   'id': 'nyu_2451_34572.167',\n",
       "   'geometry': {'type': 'Point',\n",
       "    'coordinates': [-73.77258787620906, 40.67521139591733]},\n",
       "   'geometry_name': 'geom',\n",
       "   'properties': {'name': 'Rochdale',\n",
       "    'stacked': 1,\n",
       "    'annoline1': 'Rochdale',\n",
       "    'annoline2': None,\n",
       "    'annoline3': None,\n",
       "    'annoangle': 0.0,\n",
       "    'borough': 'Queens',\n",
       "    'bbox': [-73.77258787620906,\n",
       "     40.67521139591733,\n",
       "     -73.77258787620906,\n",
       "     40.67521139591733]}},\n",
       "  {'type': 'Feature',\n",
       "   'id': 'nyu_2451_34572.168',\n",
       "   'geometry': {'type': 'Point',\n",
       "    'coordinates': [-73.76042092682287, 40.666230490368584]},\n",
       "   'geometry_name': 'geom',\n",
       "   'properties': {'name': 'Springfield Gardens',\n",
       "    'stacked': 2,\n",
       "    'annoline1': 'Springfield',\n",
       "    'annoline2': 'Gardens',\n",
       "    'annoline3': None,\n",
       "    'annoangle': 0.0,\n",
       "    'borough': 'Queens',\n",
       "    'bbox': [-73.76042092682287,\n",
       "     40.666230490368584,\n",
       "     -73.76042092682287,\n",
       "     40.666230490368584]}},\n",
       "  {'type': 'Feature',\n",
       "   'id': 'nyu_2451_34572.169',\n",
       "   'geometry': {'type': 'Point',\n",
       "    'coordinates': [-73.73526873708026, 40.692774639160845]},\n",
       "   'geometry_name': 'geom',\n",
       "   'properties': {'name': 'Cambria Heights',\n",
       "    'stacked': 2,\n",
       "    'annoline1': 'Cambria',\n",
       "    'annoline2': 'Heights',\n",
       "    'annoline3': None,\n",
       "    'annoangle': 0.0,\n",
       "    'borough': 'Queens',\n",
       "    'bbox': [-73.73526873708026,\n",
       "     40.692774639160845,\n",
       "     -73.73526873708026,\n",
       "     40.692774639160845]}},\n",
       "  {'type': 'Feature',\n",
       "   'id': 'nyu_2451_34572.170',\n",
       "   'geometry': {'type': 'Point',\n",
       "    'coordinates': [-73.73526079428278, 40.659816433428084]},\n",
       "   'geometry_name': 'geom',\n",
       "   'properties': {'name': 'Rosedale',\n",
       "    'stacked': 1,\n",
       "    'annoline1': 'Rosedale',\n",
       "    'annoline2': None,\n",
       "    'annoline3': None,\n",
       "    'annoangle': 0.0,\n",
       "    'borough': 'Queens',\n",
       "    'bbox': [-73.73526079428278,\n",
       "     40.659816433428084,\n",
       "     -73.73526079428278,\n",
       "     40.659816433428084]}},\n",
       "  {'type': 'Feature',\n",
       "   'id': 'nyu_2451_34572.171',\n",
       "   'geometry': {'type': 'Point',\n",
       "    'coordinates': [-73.75497968043872, 40.603134432500894]},\n",
       "   'geometry_name': 'geom',\n",
       "   'properties': {'name': 'Far Rockaway',\n",
       "    'stacked': 2,\n",
       "    'annoline1': 'Far Rockaway',\n",
       "    'annoline2': None,\n",
       "    'annoline3': None,\n",
       "    'annoangle': 0.0,\n",
       "    'borough': 'Queens',\n",
       "    'bbox': [-73.75497968043872,\n",
       "     40.603134432500894,\n",
       "     -73.75497968043872,\n",
       "     40.603134432500894]}},\n",
       "  {'type': 'Feature',\n",
       "   'id': 'nyu_2451_34572.172',\n",
       "   'geometry': {'type': 'Point',\n",
       "    'coordinates': [-73.8200548911032, 40.60302658351238]},\n",
       "   'geometry_name': 'geom',\n",
       "   'properties': {'name': 'Broad Channel',\n",
       "    'stacked': 2,\n",
       "    'annoline1': 'Broad',\n",
       "    'annoline2': 'Channel',\n",
       "    'annoline3': None,\n",
       "    'annoangle': 0.0,\n",
       "    'borough': 'Queens',\n",
       "    'bbox': [-73.8200548911032,\n",
       "     40.60302658351238,\n",
       "     -73.8200548911032,\n",
       "     40.60302658351238]}},\n",
       "  {'type': 'Feature',\n",
       "   'id': 'nyu_2451_34572.173',\n",
       "   'geometry': {'type': 'Point',\n",
       "    'coordinates': [-73.92551196994168, 40.55740128845452]},\n",
       "   'geometry_name': 'geom',\n",
       "   'properties': {'name': 'Breezy Point',\n",
       "    'stacked': 2,\n",
       "    'annoline1': 'Breezy',\n",
       "    'annoline2': 'Point',\n",
       "    'annoline3': None,\n",
       "    'annoangle': 0.0,\n",
       "    'borough': 'Queens',\n",
       "    'bbox': [-73.92551196994168,\n",
       "     40.55740128845452,\n",
       "     -73.92551196994168,\n",
       "     40.55740128845452]}},\n",
       "  {'type': 'Feature',\n",
       "   'id': 'nyu_2451_34572.174',\n",
       "   'geometry': {'type': 'Point',\n",
       "    'coordinates': [-73.90228960391673, 40.775923015642896]},\n",
       "   'geometry_name': 'geom',\n",
       "   'properties': {'name': 'Steinway',\n",
       "    'stacked': 1,\n",
       "    'annoline1': 'Steinway',\n",
       "    'annoline2': None,\n",
       "    'annoline3': None,\n",
       "    'annoangle': 0.0,\n",
       "    'borough': 'Queens',\n",
       "    'bbox': [-73.90228960391673,\n",
       "     40.775923015642896,\n",
       "     -73.90228960391673,\n",
       "     40.775923015642896]}},\n",
       "  {'type': 'Feature',\n",
       "   'id': 'nyu_2451_34572.175',\n",
       "   'geometry': {'type': 'Point',\n",
       "    'coordinates': [-73.80436451720988, 40.79278140360048]},\n",
       "   'geometry_name': 'geom',\n",
       "   'properties': {'name': 'Beechhurst',\n",
       "    'stacked': 1,\n",
       "    'annoline1': 'Beechhurst',\n",
       "    'annoline2': None,\n",
       "    'annoline3': None,\n",
       "    'annoangle': 0.0,\n",
       "    'borough': 'Queens',\n",
       "    'bbox': [-73.80436451720988,\n",
       "     40.79278140360048,\n",
       "     -73.80436451720988,\n",
       "     40.79278140360048]}},\n",
       "  {'type': 'Feature',\n",
       "   'id': 'nyu_2451_34572.176',\n",
       "   'geometry': {'type': 'Point',\n",
       "    'coordinates': [-73.7768022262158, 40.782842806245554]},\n",
       "   'geometry_name': 'geom',\n",
       "   'properties': {'name': 'Bay Terrace',\n",
       "    'stacked': 2,\n",
       "    'annoline1': 'Bay',\n",
       "    'annoline2': 'Terrace',\n",
       "    'annoline3': None,\n",
       "    'annoangle': 0.0,\n",
       "    'borough': 'Queens',\n",
       "    'bbox': [-73.7768022262158,\n",
       "     40.782842806245554,\n",
       "     -73.7768022262158,\n",
       "     40.782842806245554]}},\n",
       "  {'type': 'Feature',\n",
       "   'id': 'nyu_2451_34572.177',\n",
       "   'geometry': {'type': 'Point',\n",
       "    'coordinates': [-73.77613282391705, 40.595641807368494]},\n",
       "   'geometry_name': 'geom',\n",
       "   'properties': {'name': 'Edgemere',\n",
       "    'stacked': 1,\n",
       "    'annoline1': 'Edgemere',\n",
       "    'annoline2': None,\n",
       "    'annoline3': None,\n",
       "    'annoangle': 0.0,\n",
       "    'borough': 'Queens',\n",
       "    'bbox': [-73.77613282391705,\n",
       "     40.595641807368494,\n",
       "     -73.77613282391705,\n",
       "     40.595641807368494]}},\n",
       "  {'type': 'Feature',\n",
       "   'id': 'nyu_2451_34572.178',\n",
       "   'geometry': {'type': 'Point',\n",
       "    'coordinates': [-73.79199233136943, 40.58914394372971]},\n",
       "   'geometry_name': 'geom',\n",
       "   'properties': {'name': 'Arverne',\n",
       "    'stacked': 1,\n",
       "    'annoline1': 'Arverne',\n",
       "    'annoline2': None,\n",
       "    'annoline3': None,\n",
       "    'annoangle': 0.0,\n",
       "    'borough': 'Queens',\n",
       "    'bbox': [-73.79199233136943,\n",
       "     40.58914394372971,\n",
       "     -73.79199233136943,\n",
       "     40.58914394372971]}},\n",
       "  {'type': 'Feature',\n",
       "   'id': 'nyu_2451_34572.179',\n",
       "   'geometry': {'type': 'Point',\n",
       "    'coordinates': [-73.82236121088751, 40.582801696845586]},\n",
       "   'geometry_name': 'geom',\n",
       "   'properties': {'name': 'Rockaway Beach',\n",
       "    'stacked': 2,\n",
       "    'annoline1': 'Rockaway',\n",
       "    'annoline2': 'Beach',\n",
       "    'annoline3': None,\n",
       "    'annoangle': 0.0,\n",
       "    'borough': 'Queens',\n",
       "    'bbox': [-73.82236121088751,\n",
       "     40.582801696845586,\n",
       "     -73.82236121088751,\n",
       "     40.582801696845586]}},\n",
       "  {'type': 'Feature',\n",
       "   'id': 'nyu_2451_34572.180',\n",
       "   'geometry': {'type': 'Point',\n",
       "    'coordinates': [-73.85754672410827, 40.572036730217015]},\n",
       "   'geometry_name': 'geom',\n",
       "   'properties': {'name': 'Neponsit',\n",
       "    'stacked': 1,\n",
       "    'annoline1': 'Neponsit',\n",
       "    'annoline2': None,\n",
       "    'annoline3': None,\n",
       "    'annoangle': 0.0,\n",
       "    'borough': 'Queens',\n",
       "    'bbox': [-73.85754672410827,\n",
       "     40.572036730217015,\n",
       "     -73.85754672410827,\n",
       "     40.572036730217015]}},\n",
       "  {'type': 'Feature',\n",
       "   'id': 'nyu_2451_34572.181',\n",
       "   'geometry': {'type': 'Point',\n",
       "    'coordinates': [-73.81276269135866, 40.764126122614066]},\n",
       "   'geometry_name': 'geom',\n",
       "   'properties': {'name': 'Murray Hill',\n",
       "    'stacked': 2,\n",
       "    'annoline1': 'Murray',\n",
       "    'annoline2': 'Hill',\n",
       "    'annoline3': None,\n",
       "    'annoangle': 0.0,\n",
       "    'borough': 'Queens',\n",
       "    'bbox': [-73.81276269135866,\n",
       "     40.764126122614066,\n",
       "     -73.81276269135866,\n",
       "     40.764126122614066]}},\n",
       "  {'type': 'Feature',\n",
       "   'id': 'nyu_2451_34572.182',\n",
       "   'geometry': {'type': 'Point',\n",
       "    'coordinates': [-73.70884705889246, 40.741378421945434]},\n",
       "   'geometry_name': 'geom',\n",
       "   'properties': {'name': 'Floral Park',\n",
       "    'stacked': 1,\n",
       "    'annoline1': 'Floral Park',\n",
       "    'annoline2': None,\n",
       "    'annoline3': None,\n",
       "    'annoangle': 0.0,\n",
       "    'borough': 'Queens',\n",
       "    'bbox': [-73.70884705889246,\n",
       "     40.741378421945434,\n",
       "     -73.70884705889246,\n",
       "     40.741378421945434]}},\n",
       "  {'type': 'Feature',\n",
       "   'id': 'nyu_2451_34572.183',\n",
       "   'geometry': {'type': 'Point',\n",
       "    'coordinates': [-73.76714166714729, 40.7209572076444]},\n",
       "   'geometry_name': 'geom',\n",
       "   'properties': {'name': 'Holliswood',\n",
       "    'stacked': 1,\n",
       "    'annoline1': 'Holliswood',\n",
       "    'annoline2': None,\n",
       "    'annoline3': None,\n",
       "    'annoangle': 0.0,\n",
       "    'borough': 'Queens',\n",
       "    'bbox': [-73.76714166714729,\n",
       "     40.7209572076444,\n",
       "     -73.76714166714729,\n",
       "     40.7209572076444]}},\n",
       "  {'type': 'Feature',\n",
       "   'id': 'nyu_2451_34572.184',\n",
       "   'geometry': {'type': 'Point',\n",
       "    'coordinates': [-73.7872269693666, 40.71680483014613]},\n",
       "   'geometry_name': 'geom',\n",
       "   'properties': {'name': 'Jamaica Estates',\n",
       "    'stacked': 2,\n",
       "    'annoline1': 'Jamaica',\n",
       "    'annoline2': 'Estates',\n",
       "    'annoline3': None,\n",
       "    'annoangle': 0.0,\n",
       "    'borough': 'Queens',\n",
       "    'bbox': [-73.7872269693666,\n",
       "     40.71680483014613,\n",
       "     -73.7872269693666,\n",
       "     40.71680483014613]}},\n",
       "  {'type': 'Feature',\n",
       "   'id': 'nyu_2451_34572.185',\n",
       "   'geometry': {'type': 'Point',\n",
       "    'coordinates': [-73.82580915110559, 40.7445723092867]},\n",
       "   'geometry_name': 'geom',\n",
       "   'properties': {'name': 'Queensboro Hill',\n",
       "    'stacked': 2,\n",
       "    'annoline1': 'Queensboro',\n",
       "    'annoline2': 'Hill',\n",
       "    'annoline3': None,\n",
       "    'annoangle': 0.0,\n",
       "    'borough': 'Queens',\n",
       "    'bbox': [-73.82580915110559,\n",
       "     40.7445723092867,\n",
       "     -73.82580915110559,\n",
       "     40.7445723092867]}},\n",
       "  {'type': 'Feature',\n",
       "   'id': 'nyu_2451_34572.186',\n",
       "   'geometry': {'type': 'Point',\n",
       "    'coordinates': [-73.79760300912672, 40.723824901829204]},\n",
       "   'geometry_name': 'geom',\n",
       "   'properties': {'name': 'Hillcrest',\n",
       "    'stacked': 1,\n",
       "    'annoline1': 'Hillcrest',\n",
       "    'annoline2': None,\n",
       "    'annoline3': None,\n",
       "    'annoangle': 0.0,\n",
       "    'borough': 'Queens',\n",
       "    'bbox': [-73.79760300912672,\n",
       "     40.723824901829204,\n",
       "     -73.79760300912672,\n",
       "     40.723824901829204]}},\n",
       "  {'type': 'Feature',\n",
       "   'id': 'nyu_2451_34572.187',\n",
       "   'geometry': {'type': 'Point',\n",
       "    'coordinates': [-73.93157506072878, 40.761704526054146]},\n",
       "   'geometry_name': 'geom',\n",
       "   'properties': {'name': 'Ravenswood',\n",
       "    'stacked': 1,\n",
       "    'annoline1': 'Ravenswood',\n",
       "    'annoline2': None,\n",
       "    'annoline3': None,\n",
       "    'annoangle': 0.0,\n",
       "    'borough': 'Queens',\n",
       "    'bbox': [-73.93157506072878,\n",
       "     40.761704526054146,\n",
       "     -73.93157506072878,\n",
       "     40.761704526054146]}},\n",
       "  {'type': 'Feature',\n",
       "   'id': 'nyu_2451_34572.188',\n",
       "   'geometry': {'type': 'Point',\n",
       "    'coordinates': [-73.84963782402441, 40.66391841925139]},\n",
       "   'geometry_name': 'geom',\n",
       "   'properties': {'name': 'Lindenwood',\n",
       "    'stacked': 1,\n",
       "    'annoline1': 'Lindenwood',\n",
       "    'annoline2': None,\n",
       "    'annoline3': None,\n",
       "    'annoangle': 0.0,\n",
       "    'borough': 'Queens',\n",
       "    'bbox': [-73.84963782402441,\n",
       "     40.66391841925139,\n",
       "     -73.84963782402441,\n",
       "     40.66391841925139]}},\n",
       "  {'type': 'Feature',\n",
       "   'id': 'nyu_2451_34572.189',\n",
       "   'geometry': {'type': 'Point',\n",
       "    'coordinates': [-73.74025607989822, 40.66788389660247]},\n",
       "   'geometry_name': 'geom',\n",
       "   'properties': {'name': 'Laurelton',\n",
       "    'stacked': 1,\n",
       "    'annoline1': 'Laurelton',\n",
       "    'annoline2': None,\n",
       "    'annoline3': None,\n",
       "    'annoangle': 0.0,\n",
       "    'borough': 'Queens',\n",
       "    'bbox': [-73.74025607989822,\n",
       "     40.66788389660247,\n",
       "     -73.74025607989822,\n",
       "     40.66788389660247]}},\n",
       "  {'type': 'Feature',\n",
       "   'id': 'nyu_2451_34572.190',\n",
       "   'geometry': {'type': 'Point',\n",
       "    'coordinates': [-73.8625247141374, 40.736074570830795]},\n",
       "   'geometry_name': 'geom',\n",
       "   'properties': {'name': 'Lefrak City',\n",
       "    'stacked': 2,\n",
       "    'annoline1': 'Lefrak',\n",
       "    'annoline2': 'City',\n",
       "    'annoline3': None,\n",
       "    'annoangle': 0.0,\n",
       "    'borough': 'Queens',\n",
       "    'bbox': [-73.8625247141374,\n",
       "     40.736074570830795,\n",
       "     -73.8625247141374,\n",
       "     40.736074570830795]}},\n",
       "  {'type': 'Feature',\n",
       "   'id': 'nyu_2451_34572.191',\n",
       "   'geometry': {'type': 'Point',\n",
       "    'coordinates': [-73.8540175039252, 40.57615556543109]},\n",
       "   'geometry_name': 'geom',\n",
       "   'properties': {'name': 'Belle Harbor',\n",
       "    'stacked': 1,\n",
       "    'annoline1': 'Belle Harbor',\n",
       "    'annoline2': None,\n",
       "    'annoline3': None,\n",
       "    'annoangle': 0.0,\n",
       "    'borough': 'Queens',\n",
       "    'bbox': [-73.8540175039252,\n",
       "     40.57615556543109,\n",
       "     -73.8540175039252,\n",
       "     40.57615556543109]}},\n",
       "  {'type': 'Feature',\n",
       "   'id': 'nyu_2451_34572.192',\n",
       "   'geometry': {'type': 'Point',\n",
       "    'coordinates': [-73.84153370226186, 40.58034295646131]},\n",
       "   'geometry_name': 'geom',\n",
       "   'properties': {'name': 'Rockaway Park',\n",
       "    'stacked': 1,\n",
       "    'annoline1': 'Rockaway Park',\n",
       "    'annoline2': None,\n",
       "    'annoline3': None,\n",
       "    'annoangle': 0.0,\n",
       "    'borough': 'Queens',\n",
       "    'bbox': [-73.84153370226186,\n",
       "     40.58034295646131,\n",
       "     -73.84153370226186,\n",
       "     40.58034295646131]}},\n",
       "  {'type': 'Feature',\n",
       "   'id': 'nyu_2451_34572.193',\n",
       "   'geometry': {'type': 'Point',\n",
       "    'coordinates': [-73.79664750844047, 40.59771061565768]},\n",
       "   'geometry_name': 'geom',\n",
       "   'properties': {'name': 'Somerville',\n",
       "    'stacked': 1,\n",
       "    'annoline1': 'Somerville',\n",
       "    'annoline2': None,\n",
       "    'annoline3': None,\n",
       "    'annoangle': 0.0,\n",
       "    'borough': 'Queens',\n",
       "    'bbox': [-73.79664750844047,\n",
       "     40.59771061565768,\n",
       "     -73.79664750844047,\n",
       "     40.59771061565768]}},\n",
       "  {'type': 'Feature',\n",
       "   'id': 'nyu_2451_34572.194',\n",
       "   'geometry': {'type': 'Point',\n",
       "    'coordinates': [-73.75175310731153, 40.66000322733613]},\n",
       "   'geometry_name': 'geom',\n",
       "   'properties': {'name': 'Brookville',\n",
       "    'stacked': 1,\n",
       "    'annoline1': 'Brookville',\n",
       "    'annoline2': None,\n",
       "    'annoline3': None,\n",
       "    'annoangle': 0.0,\n",
       "    'borough': 'Queens',\n",
       "    'bbox': [-73.75175310731153,\n",
       "     40.66000322733613,\n",
       "     -73.75175310731153,\n",
       "     40.66000322733613]}},\n",
       "  {'type': 'Feature',\n",
       "   'id': 'nyu_2451_34572.195',\n",
       "   'geometry': {'type': 'Point',\n",
       "    'coordinates': [-73.73889198912481, 40.73301404027834]},\n",
       "   'geometry_name': 'geom',\n",
       "   'properties': {'name': 'Bellaire',\n",
       "    'stacked': 1,\n",
       "    'annoline1': 'Bellaire',\n",
       "    'annoline2': None,\n",
       "    'annoline3': None,\n",
       "    'annoangle': 0.0,\n",
       "    'borough': 'Queens',\n",
       "    'bbox': [-73.73889198912481,\n",
       "     40.73301404027834,\n",
       "     -73.73889198912481,\n",
       "     40.73301404027834]}},\n",
       "  {'type': 'Feature',\n",
       "   'id': 'nyu_2451_34572.196',\n",
       "   'geometry': {'type': 'Point',\n",
       "    'coordinates': [-73.85751790676447, 40.7540709990489]},\n",
       "   'geometry_name': 'geom',\n",
       "   'properties': {'name': 'North Corona',\n",
       "    'stacked': 2,\n",
       "    'annoline1': 'North',\n",
       "    'annoline2': 'Corona',\n",
       "    'annoline3': None,\n",
       "    'annoangle': 0.0,\n",
       "    'borough': 'Queens',\n",
       "    'bbox': [-73.85751790676447,\n",
       "     40.7540709990489,\n",
       "     -73.85751790676447,\n",
       "     40.7540709990489]}},\n",
       "  {'type': 'Feature',\n",
       "   'id': 'nyu_2451_34572.197',\n",
       "   'geometry': {'type': 'Point',\n",
       "    'coordinates': [-73.8410221123401, 40.7146110815117]},\n",
       "   'geometry_name': 'geom',\n",
       "   'properties': {'name': 'Forest Hills Gardens',\n",
       "    'stacked': 3,\n",
       "    'annoline1': 'Forest',\n",
       "    'annoline2': 'Hills',\n",
       "    'annoline3': 'Gardens',\n",
       "    'annoangle': 0.0,\n",
       "    'borough': 'Queens',\n",
       "    'bbox': [-73.8410221123401,\n",
       "     40.7146110815117,\n",
       "     -73.8410221123401,\n",
       "     40.7146110815117]}},\n",
       "  {'type': 'Feature',\n",
       "   'id': 'nyu_2451_34572.198',\n",
       "   'geometry': {'type': 'Point',\n",
       "    'coordinates': [-74.07935312512797, 40.6449815710044]},\n",
       "   'geometry_name': 'geom',\n",
       "   'properties': {'name': 'St. George',\n",
       "    'stacked': 2,\n",
       "    'annoline1': 'St.',\n",
       "    'annoline2': 'George',\n",
       "    'annoline3': None,\n",
       "    'annoangle': 0.0,\n",
       "    'borough': 'Staten Island',\n",
       "    'bbox': [-74.07935312512797,\n",
       "     40.6449815710044,\n",
       "     -74.07935312512797,\n",
       "     40.6449815710044]}},\n",
       "  {'type': 'Feature',\n",
       "   'id': 'nyu_2451_34572.199',\n",
       "   'geometry': {'type': 'Point',\n",
       "    'coordinates': [-74.08701650516625, 40.64061455913511]},\n",
       "   'geometry_name': 'geom',\n",
       "   'properties': {'name': 'New Brighton',\n",
       "    'stacked': 2,\n",
       "    'annoline1': 'New',\n",
       "    'annoline2': 'Brighton',\n",
       "    'annoline3': None,\n",
       "    'annoangle': 0.0,\n",
       "    'borough': 'Staten Island',\n",
       "    'bbox': [-74.08701650516625,\n",
       "     40.64061455913511,\n",
       "     -74.08701650516625,\n",
       "     40.64061455913511]}},\n",
       "  {'type': 'Feature',\n",
       "   'id': 'nyu_2451_34572.200',\n",
       "   'geometry': {'type': 'Point',\n",
       "    'coordinates': [-74.07790192660066, 40.62692762538176]},\n",
       "   'geometry_name': 'geom',\n",
       "   'properties': {'name': 'Stapleton',\n",
       "    'stacked': 1,\n",
       "    'annoline1': 'Stapleton',\n",
       "    'annoline2': None,\n",
       "    'annoline3': None,\n",
       "    'annoangle': 0.0,\n",
       "    'borough': 'Staten Island',\n",
       "    'bbox': [-74.07790192660066,\n",
       "     40.62692762538176,\n",
       "     -74.07790192660066,\n",
       "     40.62692762538176]}},\n",
       "  {'type': 'Feature',\n",
       "   'id': 'nyu_2451_34572.201',\n",
       "   'geometry': {'type': 'Point',\n",
       "    'coordinates': [-74.06980526716141, 40.61530494652761]},\n",
       "   'geometry_name': 'geom',\n",
       "   'properties': {'name': 'Rosebank',\n",
       "    'stacked': 1,\n",
       "    'annoline1': 'Rosebank',\n",
       "    'annoline2': None,\n",
       "    'annoline3': None,\n",
       "    'annoangle': 0.0,\n",
       "    'borough': 'Staten Island',\n",
       "    'bbox': [-74.06980526716141,\n",
       "     40.61530494652761,\n",
       "     -74.06980526716141,\n",
       "     40.61530494652761]}},\n",
       "  {'type': 'Feature',\n",
       "   'id': 'nyu_2451_34572.202',\n",
       "   'geometry': {'type': 'Point',\n",
       "    'coordinates': [-74.1071817826561, 40.63187892654607]},\n",
       "   'geometry_name': 'geom',\n",
       "   'properties': {'name': 'West Brighton',\n",
       "    'stacked': 2,\n",
       "    'annoline1': 'West',\n",
       "    'annoline2': 'Brighton',\n",
       "    'annoline3': None,\n",
       "    'annoangle': 0.0,\n",
       "    'borough': 'Staten Island',\n",
       "    'bbox': [-74.1071817826561,\n",
       "     40.63187892654607,\n",
       "     -74.1071817826561,\n",
       "     40.63187892654607]}},\n",
       "  {'type': 'Feature',\n",
       "   'id': 'nyu_2451_34572.203',\n",
       "   'geometry': {'type': 'Point',\n",
       "    'coordinates': [-74.08724819983729, 40.624184791313006]},\n",
       "   'geometry_name': 'geom',\n",
       "   'properties': {'name': 'Grymes Hill',\n",
       "    'stacked': 2,\n",
       "    'annoline1': 'Grymes',\n",
       "    'annoline2': 'Hill',\n",
       "    'annoline3': None,\n",
       "    'annoangle': 0.0,\n",
       "    'borough': 'Staten Island',\n",
       "    'bbox': [-74.08724819983729,\n",
       "     40.624184791313006,\n",
       "     -74.08724819983729,\n",
       "     40.624184791313006]}},\n",
       "  {'type': 'Feature',\n",
       "   'id': 'nyu_2451_34572.204',\n",
       "   'geometry': {'type': 'Point',\n",
       "    'coordinates': [-74.1113288180088, 40.59706851814673]},\n",
       "   'geometry_name': 'geom',\n",
       "   'properties': {'name': 'Todt Hill',\n",
       "    'stacked': 2,\n",
       "    'annoline1': 'Todt',\n",
       "    'annoline2': 'Hill',\n",
       "    'annoline3': None,\n",
       "    'annoangle': 0.0,\n",
       "    'borough': 'Staten Island',\n",
       "    'bbox': [-74.1113288180088,\n",
       "     40.59706851814673,\n",
       "     -74.1113288180088,\n",
       "     40.59706851814673]}},\n",
       "  {'type': 'Feature',\n",
       "   'id': 'nyu_2451_34572.205',\n",
       "   'geometry': {'type': 'Point',\n",
       "    'coordinates': [-74.0795529253982, 40.58024741350956]},\n",
       "   'geometry_name': 'geom',\n",
       "   'properties': {'name': 'South Beach',\n",
       "    'stacked': 2,\n",
       "    'annoline1': 'South',\n",
       "    'annoline2': 'Beach',\n",
       "    'annoline3': None,\n",
       "    'annoangle': 0.0,\n",
       "    'borough': 'Staten Island',\n",
       "    'bbox': [-74.0795529253982,\n",
       "     40.58024741350956,\n",
       "     -74.0795529253982,\n",
       "     40.58024741350956]}},\n",
       "  {'type': 'Feature',\n",
       "   'id': 'nyu_2451_34572.206',\n",
       "   'geometry': {'type': 'Point',\n",
       "    'coordinates': [-74.12943426797008, 40.63366930554365]},\n",
       "   'geometry_name': 'geom',\n",
       "   'properties': {'name': 'Port Richmond',\n",
       "    'stacked': 2,\n",
       "    'annoline1': 'Port',\n",
       "    'annoline2': 'Richmond',\n",
       "    'annoline3': None,\n",
       "    'annoangle': 0.0,\n",
       "    'borough': 'Staten Island',\n",
       "    'bbox': [-74.12943426797008,\n",
       "     40.63366930554365,\n",
       "     -74.12943426797008,\n",
       "     40.63366930554365]}},\n",
       "  {'type': 'Feature',\n",
       "   'id': 'nyu_2451_34572.207',\n",
       "   'geometry': {'type': 'Point',\n",
       "    'coordinates': [-74.15008537046981, 40.632546390481124]},\n",
       "   'geometry_name': 'geom',\n",
       "   'properties': {'name': \"Mariner's Harbor\",\n",
       "    'stacked': 2,\n",
       "    'annoline1': \"Mariner's\",\n",
       "    'annoline2': 'Harbor',\n",
       "    'annoline3': None,\n",
       "    'annoangle': 0.0,\n",
       "    'borough': 'Staten Island',\n",
       "    'bbox': [-74.15008537046981,\n",
       "     40.632546390481124,\n",
       "     -74.15008537046981,\n",
       "     40.632546390481124]}},\n",
       "  {'type': 'Feature',\n",
       "   'id': 'nyu_2451_34572.208',\n",
       "   'geometry': {'type': 'Point',\n",
       "    'coordinates': [-74.17464532993542, 40.63968297845542]},\n",
       "   'geometry_name': 'geom',\n",
       "   'properties': {'name': 'Port Ivory',\n",
       "    'stacked': 2,\n",
       "    'annoline1': 'Port',\n",
       "    'annoline2': 'Ivory',\n",
       "    'annoline3': None,\n",
       "    'annoangle': 0.0,\n",
       "    'borough': 'Staten Island',\n",
       "    'bbox': [-74.17464532993542,\n",
       "     40.63968297845542,\n",
       "     -74.17464532993542,\n",
       "     40.63968297845542]}},\n",
       "  {'type': 'Feature',\n",
       "   'id': 'nyu_2451_34572.209',\n",
       "   'geometry': {'type': 'Point',\n",
       "    'coordinates': [-74.11918058534842, 40.61333593766742]},\n",
       "   'geometry_name': 'geom',\n",
       "   'properties': {'name': 'Castleton Corners',\n",
       "    'stacked': 2,\n",
       "    'annoline1': 'Castleton',\n",
       "    'annoline2': 'Corners',\n",
       "    'annoline3': None,\n",
       "    'annoangle': 0.0,\n",
       "    'borough': 'Staten Island',\n",
       "    'bbox': [-74.11918058534842,\n",
       "     40.61333593766742,\n",
       "     -74.11918058534842,\n",
       "     40.61333593766742]}},\n",
       "  {'type': 'Feature',\n",
       "   'id': 'nyu_2451_34572.210',\n",
       "   'geometry': {'type': 'Point',\n",
       "    'coordinates': [-74.16496031329827, 40.594252379161695]},\n",
       "   'geometry_name': 'geom',\n",
       "   'properties': {'name': 'New Springville',\n",
       "    'stacked': 2,\n",
       "    'annoline1': 'New',\n",
       "    'annoline2': 'Springville',\n",
       "    'annoline3': None,\n",
       "    'annoangle': 0.0,\n",
       "    'borough': 'Staten Island',\n",
       "    'bbox': [-74.16496031329827,\n",
       "     40.594252379161695,\n",
       "     -74.16496031329827,\n",
       "     40.594252379161695]}},\n",
       "  {'type': 'Feature',\n",
       "   'id': 'nyu_2451_34572.211',\n",
       "   'geometry': {'type': 'Point',\n",
       "    'coordinates': [-74.19073717538116, 40.58631375103281]},\n",
       "   'geometry_name': 'geom',\n",
       "   'properties': {'name': 'Travis',\n",
       "    'stacked': 1,\n",
       "    'annoline1': 'Travis',\n",
       "    'annoline2': None,\n",
       "    'annoline3': None,\n",
       "    'annoangle': 0.0,\n",
       "    'borough': 'Staten Island',\n",
       "    'bbox': [-74.19073717538116,\n",
       "     40.58631375103281,\n",
       "     -74.19073717538116,\n",
       "     40.58631375103281]}},\n",
       "  {'type': 'Feature',\n",
       "   'id': 'nyu_2451_34572.212',\n",
       "   'geometry': {'type': 'Point',\n",
       "    'coordinates': [-74.1164794360638, 40.57257231820632]},\n",
       "   'geometry_name': 'geom',\n",
       "   'properties': {'name': 'New Dorp',\n",
       "    'stacked': 2,\n",
       "    'annoline1': 'New',\n",
       "    'annoline2': 'Dorp',\n",
       "    'annoline3': None,\n",
       "    'annoangle': 0.0,\n",
       "    'borough': 'Staten Island',\n",
       "    'bbox': [-74.1164794360638,\n",
       "     40.57257231820632,\n",
       "     -74.1164794360638,\n",
       "     40.57257231820632]}},\n",
       "  {'type': 'Feature',\n",
       "   'id': 'nyu_2451_34572.213',\n",
       "   'geometry': {'type': 'Point',\n",
       "    'coordinates': [-74.12156593771896, 40.5584622432888]},\n",
       "   'geometry_name': 'geom',\n",
       "   'properties': {'name': 'Oakwood',\n",
       "    'stacked': 1,\n",
       "    'annoline1': 'Oakwood',\n",
       "    'annoline2': None,\n",
       "    'annoline3': None,\n",
       "    'annoangle': 0.0,\n",
       "    'borough': 'Staten Island',\n",
       "    'bbox': [-74.12156593771896,\n",
       "     40.5584622432888,\n",
       "     -74.12156593771896,\n",
       "     40.5584622432888]}},\n",
       "  {'type': 'Feature',\n",
       "   'id': 'nyu_2451_34572.214',\n",
       "   'geometry': {'type': 'Point',\n",
       "    'coordinates': [-74.14932381490992, 40.549480228713605]},\n",
       "   'geometry_name': 'geom',\n",
       "   'properties': {'name': 'Great Kills',\n",
       "    'stacked': 2,\n",
       "    'annoline1': 'Great',\n",
       "    'annoline2': 'Kills',\n",
       "    'annoline3': None,\n",
       "    'annoangle': 0.0,\n",
       "    'borough': 'Staten Island',\n",
       "    'bbox': [-74.14932381490992,\n",
       "     40.549480228713605,\n",
       "     -74.14932381490992,\n",
       "     40.549480228713605]}},\n",
       "  {'type': 'Feature',\n",
       "   'id': 'nyu_2451_34572.215',\n",
       "   'geometry': {'type': 'Point',\n",
       "    'coordinates': [-74.1643308041936, 40.542230747450745]},\n",
       "   'geometry_name': 'geom',\n",
       "   'properties': {'name': 'Eltingville',\n",
       "    'stacked': 1,\n",
       "    'annoline1': 'Eltingville',\n",
       "    'annoline2': None,\n",
       "    'annoline3': None,\n",
       "    'annoangle': 0.0,\n",
       "    'borough': 'Staten Island',\n",
       "    'bbox': [-74.1643308041936,\n",
       "     40.542230747450745,\n",
       "     -74.1643308041936,\n",
       "     40.542230747450745]}},\n",
       "  {'type': 'Feature',\n",
       "   'id': 'nyu_2451_34572.216',\n",
       "   'geometry': {'type': 'Point',\n",
       "    'coordinates': [-74.17854866165878, 40.53811417474507]},\n",
       "   'geometry_name': 'geom',\n",
       "   'properties': {'name': 'Annadale',\n",
       "    'stacked': 1,\n",
       "    'annoline1': 'Annadale',\n",
       "    'annoline2': None,\n",
       "    'annoline3': None,\n",
       "    'annoangle': 0.0,\n",
       "    'borough': 'Staten Island',\n",
       "    'bbox': [-74.17854866165878,\n",
       "     40.53811417474507,\n",
       "     -74.17854866165878,\n",
       "     40.53811417474507]}},\n",
       "  {'type': 'Feature',\n",
       "   'id': 'nyu_2451_34572.217',\n",
       "   'geometry': {'type': 'Point',\n",
       "    'coordinates': [-74.20524582480326, 40.541967622888755]},\n",
       "   'geometry_name': 'geom',\n",
       "   'properties': {'name': 'Woodrow',\n",
       "    'stacked': 1,\n",
       "    'annoline1': 'Woodrow',\n",
       "    'annoline2': None,\n",
       "    'annoline3': None,\n",
       "    'annoangle': 0.0,\n",
       "    'borough': 'Staten Island',\n",
       "    'bbox': [-74.20524582480326,\n",
       "     40.541967622888755,\n",
       "     -74.20524582480326,\n",
       "     40.541967622888755]}},\n",
       "  {'type': 'Feature',\n",
       "   'id': 'nyu_2451_34572.218',\n",
       "   'geometry': {'type': 'Point',\n",
       "    'coordinates': [-74.24656934235283, 40.50533376115642]},\n",
       "   'geometry_name': 'geom',\n",
       "   'properties': {'name': 'Tottenville',\n",
       "    'stacked': 1,\n",
       "    'annoline1': 'Tottenville',\n",
       "    'annoline2': None,\n",
       "    'annoline3': None,\n",
       "    'annoangle': 0.0,\n",
       "    'borough': 'Staten Island',\n",
       "    'bbox': [-74.24656934235283,\n",
       "     40.50533376115642,\n",
       "     -74.24656934235283,\n",
       "     40.50533376115642]}},\n",
       "  {'type': 'Feature',\n",
       "   'id': 'nyu_2451_34572.219',\n",
       "   'geometry': {'type': 'Point',\n",
       "    'coordinates': [-74.08055351790115, 40.637316067110326]},\n",
       "   'geometry_name': 'geom',\n",
       "   'properties': {'name': 'Tompkinsville',\n",
       "    'stacked': 1,\n",
       "    'annoline1': 'Tompkinsville',\n",
       "    'annoline2': None,\n",
       "    'annoline3': None,\n",
       "    'annoangle': 0.0,\n",
       "    'borough': 'Staten Island',\n",
       "    'bbox': [-74.08055351790115,\n",
       "     40.637316067110326,\n",
       "     -74.08055351790115,\n",
       "     40.637316067110326]}},\n",
       "  {'type': 'Feature',\n",
       "   'id': 'nyu_2451_34572.220',\n",
       "   'geometry': {'type': 'Point',\n",
       "    'coordinates': [-74.09629029235458, 40.61919310792676]},\n",
       "   'geometry_name': 'geom',\n",
       "   'properties': {'name': 'Silver Lake',\n",
       "    'stacked': 2,\n",
       "    'annoline1': 'Silver',\n",
       "    'annoline2': 'Lake',\n",
       "    'annoline3': None,\n",
       "    'annoangle': 0.0,\n",
       "    'borough': 'Staten Island',\n",
       "    'bbox': [-74.09629029235458,\n",
       "     40.61919310792676,\n",
       "     -74.09629029235458,\n",
       "     40.61919310792676]}},\n",
       "  {'type': 'Feature',\n",
       "   'id': 'nyu_2451_34572.221',\n",
       "   'geometry': {'type': 'Point',\n",
       "    'coordinates': [-74.0971255217853, 40.61276015756489]},\n",
       "   'geometry_name': 'geom',\n",
       "   'properties': {'name': 'Sunnyside',\n",
       "    'stacked': 1,\n",
       "    'annoline1': 'Sunnyside',\n",
       "    'annoline2': None,\n",
       "    'annoline3': None,\n",
       "    'annoangle': 0.0,\n",
       "    'borough': 'Staten Island',\n",
       "    'bbox': [-74.0971255217853,\n",
       "     40.61276015756489,\n",
       "     -74.0971255217853,\n",
       "     40.61276015756489]}},\n",
       "  {'type': 'Feature',\n",
       "   'id': 'nyu_2451_34572.222',\n",
       "   'geometry': {'type': 'Point',\n",
       "    'coordinates': [-73.96101312466779, 40.643675183340974]},\n",
       "   'geometry_name': 'geom',\n",
       "   'properties': {'name': 'Ditmas Park',\n",
       "    'stacked': 2,\n",
       "    'annoline1': 'Ditmas',\n",
       "    'annoline2': 'Park',\n",
       "    'annoline3': None,\n",
       "    'annoangle': 0.0,\n",
       "    'borough': 'Brooklyn',\n",
       "    'bbox': [-73.96101312466779,\n",
       "     40.643675183340974,\n",
       "     -73.96101312466779,\n",
       "     40.643675183340974]}},\n",
       "  {'type': 'Feature',\n",
       "   'id': 'nyu_2451_34572.223',\n",
       "   'geometry': {'type': 'Point',\n",
       "    'coordinates': [-73.93718680559314, 40.66094656188111]},\n",
       "   'geometry_name': 'geom',\n",
       "   'properties': {'name': 'Wingate',\n",
       "    'stacked': 1,\n",
       "    'annoline1': 'Wingate',\n",
       "    'annoline2': None,\n",
       "    'annoline3': None,\n",
       "    'annoangle': 0.0,\n",
       "    'borough': 'Brooklyn',\n",
       "    'bbox': [-73.93718680559314,\n",
       "     40.66094656188111,\n",
       "     -73.93718680559314,\n",
       "     40.66094656188111]}},\n",
       "  {'type': 'Feature',\n",
       "   'id': 'nyu_2451_34572.224',\n",
       "   'geometry': {'type': 'Point',\n",
       "    'coordinates': [-73.92688212616955, 40.655572313280764]},\n",
       "   'geometry_name': 'geom',\n",
       "   'properties': {'name': 'Rugby',\n",
       "    'stacked': 1,\n",
       "    'annoline1': 'Rugby',\n",
       "    'annoline2': None,\n",
       "    'annoline3': None,\n",
       "    'annoangle': 0.0,\n",
       "    'borough': 'Brooklyn',\n",
       "    'bbox': [-73.92688212616955,\n",
       "     40.655572313280764,\n",
       "     -73.92688212616955,\n",
       "     40.655572313280764]}},\n",
       "  {'type': 'Feature',\n",
       "   'id': 'nyu_2451_34572.225',\n",
       "   'geometry': {'type': 'Point',\n",
       "    'coordinates': [-74.08015734936296, 40.60919044434558]},\n",
       "   'geometry_name': 'geom',\n",
       "   'properties': {'name': 'Park Hill',\n",
       "    'stacked': 2,\n",
       "    'annoline1': 'Park',\n",
       "    'annoline2': 'Hill',\n",
       "    'annoline3': None,\n",
       "    'annoangle': 0.0,\n",
       "    'borough': 'Staten Island',\n",
       "    'bbox': [-74.08015734936296,\n",
       "     40.60919044434558,\n",
       "     -74.08015734936296,\n",
       "     40.60919044434558]}},\n",
       "  {'type': 'Feature',\n",
       "   'id': 'nyu_2451_34572.226',\n",
       "   'geometry': {'type': 'Point',\n",
       "    'coordinates': [-74.13304143951704, 40.62109047275409]},\n",
       "   'geometry_name': 'geom',\n",
       "   'properties': {'name': 'Westerleigh',\n",
       "    'stacked': 1,\n",
       "    'annoline1': 'Westerleigh',\n",
       "    'annoline2': None,\n",
       "    'annoline3': None,\n",
       "    'annoangle': 0.0,\n",
       "    'borough': 'Staten Island',\n",
       "    'bbox': [-74.13304143951704,\n",
       "     40.62109047275409,\n",
       "     -74.13304143951704,\n",
       "     40.62109047275409]}},\n",
       "  {'type': 'Feature',\n",
       "   'id': 'nyu_2451_34572.227',\n",
       "   'geometry': {'type': 'Point',\n",
       "    'coordinates': [-74.15315246387762, 40.620171512231884]},\n",
       "   'geometry_name': 'geom',\n",
       "   'properties': {'name': 'Graniteville',\n",
       "    'stacked': 1,\n",
       "    'annoline1': 'Graniteville',\n",
       "    'annoline2': None,\n",
       "    'annoline3': None,\n",
       "    'annoangle': 0.0,\n",
       "    'borough': 'Staten Island',\n",
       "    'bbox': [-74.15315246387762,\n",
       "     40.620171512231884,\n",
       "     -74.15315246387762,\n",
       "     40.620171512231884]}},\n",
       "  {'type': 'Feature',\n",
       "   'id': 'nyu_2451_34572.228',\n",
       "   'geometry': {'type': 'Point',\n",
       "    'coordinates': [-74.16510420241124, 40.63532509911492]},\n",
       "   'geometry_name': 'geom',\n",
       "   'properties': {'name': 'Arlington',\n",
       "    'stacked': 1,\n",
       "    'annoline1': 'Arlington',\n",
       "    'annoline2': None,\n",
       "    'annoline3': None,\n",
       "    'annoangle': 0.0,\n",
       "    'borough': 'Staten Island',\n",
       "    'bbox': [-74.16510420241124,\n",
       "     40.63532509911492,\n",
       "     -74.16510420241124,\n",
       "     40.63532509911492]}},\n",
       "  {'type': 'Feature',\n",
       "   'id': 'nyu_2451_34572.229',\n",
       "   'geometry': {'type': 'Point',\n",
       "    'coordinates': [-74.06712363225574, 40.596312571276734]},\n",
       "   'geometry_name': 'geom',\n",
       "   'properties': {'name': 'Arrochar',\n",
       "    'stacked': 1,\n",
       "    'annoline1': 'Arrochar',\n",
       "    'annoline2': None,\n",
       "    'annoline3': None,\n",
       "    'annoangle': 0.0,\n",
       "    'borough': 'Staten Island',\n",
       "    'bbox': [-74.06712363225574,\n",
       "     40.596312571276734,\n",
       "     -74.06712363225574,\n",
       "     40.596312571276734]}},\n",
       "  {'type': 'Feature',\n",
       "   'id': 'nyu_2451_34572.230',\n",
       "   'geometry': {'type': 'Point',\n",
       "    'coordinates': [-74.0766743627905, 40.59826835959991]},\n",
       "   'geometry_name': 'geom',\n",
       "   'properties': {'name': 'Grasmere',\n",
       "    'stacked': 1,\n",
       "    'annoline1': 'Grasmere',\n",
       "    'annoline2': None,\n",
       "    'annoline3': None,\n",
       "    'annoangle': 0.0,\n",
       "    'borough': 'Staten Island',\n",
       "    'bbox': [-74.0766743627905,\n",
       "     40.59826835959991,\n",
       "     -74.0766743627905,\n",
       "     40.59826835959991]}},\n",
       "  {'type': 'Feature',\n",
       "   'id': 'nyu_2451_34572.231',\n",
       "   'geometry': {'type': 'Point',\n",
       "    'coordinates': [-74.08751118005578, 40.59632891379513]},\n",
       "   'geometry_name': 'geom',\n",
       "   'properties': {'name': 'Old Town',\n",
       "    'stacked': 2,\n",
       "    'annoline1': 'Old',\n",
       "    'annoline2': 'Town',\n",
       "    'annoline3': None,\n",
       "    'annoangle': 0.0,\n",
       "    'borough': 'Staten Island',\n",
       "    'bbox': [-74.08751118005578,\n",
       "     40.59632891379513,\n",
       "     -74.08751118005578,\n",
       "     40.59632891379513]}},\n",
       "  {'type': 'Feature',\n",
       "   'id': 'nyu_2451_34572.232',\n",
       "   'geometry': {'type': 'Point',\n",
       "    'coordinates': [-74.09639905312521, 40.588672948199275]},\n",
       "   'geometry_name': 'geom',\n",
       "   'properties': {'name': 'Dongan Hills',\n",
       "    'stacked': 2,\n",
       "    'annoline1': 'Dongan',\n",
       "    'annoline2': 'Hills',\n",
       "    'annoline3': None,\n",
       "    'annoangle': 0.0,\n",
       "    'borough': 'Staten Island',\n",
       "    'bbox': [-74.09639905312521,\n",
       "     40.588672948199275,\n",
       "     -74.09639905312521,\n",
       "     40.588672948199275]}},\n",
       "  {'type': 'Feature',\n",
       "   'id': 'nyu_2451_34572.233',\n",
       "   'geometry': {'type': 'Point',\n",
       "    'coordinates': [-74.09348266303591, 40.57352690574283]},\n",
       "   'geometry_name': 'geom',\n",
       "   'properties': {'name': 'Midland Beach',\n",
       "    'stacked': 2,\n",
       "    'annoline1': 'Midland',\n",
       "    'annoline2': 'Beach',\n",
       "    'annoline3': None,\n",
       "    'annoangle': 0.0,\n",
       "    'borough': 'Staten Island',\n",
       "    'bbox': [-74.09348266303591,\n",
       "     40.57352690574283,\n",
       "     -74.09348266303591,\n",
       "     40.57352690574283]}},\n",
       "  {'type': 'Feature',\n",
       "   'id': 'nyu_2451_34572.234',\n",
       "   'geometry': {'type': 'Point',\n",
       "    'coordinates': [-74.10585598545434, 40.57621558711788]},\n",
       "   'geometry_name': 'geom',\n",
       "   'properties': {'name': 'Grant City',\n",
       "    'stacked': 2,\n",
       "    'annoline1': 'Grant',\n",
       "    'annoline2': 'City',\n",
       "    'annoline3': None,\n",
       "    'annoangle': 0.0,\n",
       "    'borough': 'Staten Island',\n",
       "    'bbox': [-74.10585598545434,\n",
       "     40.57621558711788,\n",
       "     -74.10585598545434,\n",
       "     40.57621558711788]}},\n",
       "  {'type': 'Feature',\n",
       "   'id': 'nyu_2451_34572.235',\n",
       "   'geometry': {'type': 'Point',\n",
       "    'coordinates': [-74.10432707469124, 40.56425549307335]},\n",
       "   'geometry_name': 'geom',\n",
       "   'properties': {'name': 'New Dorp Beach',\n",
       "    'stacked': 3,\n",
       "    'annoline1': 'New',\n",
       "    'annoline2': 'Dorp',\n",
       "    'annoline3': 'Beach',\n",
       "    'annoangle': 0.0,\n",
       "    'borough': 'Staten Island',\n",
       "    'bbox': [-74.10432707469124,\n",
       "     40.56425549307335,\n",
       "     -74.10432707469124,\n",
       "     40.56425549307335]}},\n",
       "  {'type': 'Feature',\n",
       "   'id': 'nyu_2451_34572.236',\n",
       "   'geometry': {'type': 'Point',\n",
       "    'coordinates': [-74.13916622175768, 40.55398800858462]},\n",
       "   'geometry_name': 'geom',\n",
       "   'properties': {'name': 'Bay Terrace',\n",
       "    'stacked': 2,\n",
       "    'annoline1': 'Bay',\n",
       "    'annoline2': 'Terrace',\n",
       "    'annoline3': None,\n",
       "    'annoangle': 0.0,\n",
       "    'borough': 'Staten Island',\n",
       "    'bbox': [-74.13916622175768,\n",
       "     40.55398800858462,\n",
       "     -74.13916622175768,\n",
       "     40.55398800858462]}},\n",
       "  {'type': 'Feature',\n",
       "   'id': 'nyu_2451_34572.237',\n",
       "   'geometry': {'type': 'Point',\n",
       "    'coordinates': [-74.19174105747814, 40.531911920489605]},\n",
       "   'geometry_name': 'geom',\n",
       "   'properties': {'name': 'Huguenot',\n",
       "    'stacked': 1,\n",
       "    'annoline1': 'Huguenot',\n",
       "    'annoline2': None,\n",
       "    'annoline3': None,\n",
       "    'annoangle': 0.0,\n",
       "    'borough': 'Staten Island',\n",
       "    'bbox': [-74.19174105747814,\n",
       "     40.531911920489605,\n",
       "     -74.19174105747814,\n",
       "     40.531911920489605]}},\n",
       "  {'type': 'Feature',\n",
       "   'id': 'nyu_2451_34572.238',\n",
       "   'geometry': {'type': 'Point',\n",
       "    'coordinates': [-74.21983106616777, 40.524699376118136]},\n",
       "   'geometry_name': 'geom',\n",
       "   'properties': {'name': 'Pleasant Plains',\n",
       "    'stacked': 2,\n",
       "    'annoline1': 'Pleasant',\n",
       "    'annoline2': 'Plains',\n",
       "    'annoline3': None,\n",
       "    'annoangle': 0.0,\n",
       "    'borough': 'Staten Island',\n",
       "    'bbox': [-74.21983106616777,\n",
       "     40.524699376118136,\n",
       "     -74.21983106616777,\n",
       "     40.524699376118136]}},\n",
       "  {'type': 'Feature',\n",
       "   'id': 'nyu_2451_34572.239',\n",
       "   'geometry': {'type': 'Point',\n",
       "    'coordinates': [-74.22950350260027, 40.50608165346305]},\n",
       "   'geometry_name': 'geom',\n",
       "   'properties': {'name': 'Butler Manor',\n",
       "    'stacked': 2,\n",
       "    'annoline1': 'Butler',\n",
       "    'annoline2': 'Manor',\n",
       "    'annoline3': None,\n",
       "    'annoangle': 0.0,\n",
       "    'borough': 'Staten Island',\n",
       "    'bbox': [-74.22950350260027,\n",
       "     40.50608165346305,\n",
       "     -74.22950350260027,\n",
       "     40.50608165346305]}},\n",
       "  {'type': 'Feature',\n",
       "   'id': 'nyu_2451_34572.240',\n",
       "   'geometry': {'type': 'Point',\n",
       "    'coordinates': [-74.23215775896526, 40.53053148283314]},\n",
       "   'geometry_name': 'geom',\n",
       "   'properties': {'name': 'Charleston',\n",
       "    'stacked': 1,\n",
       "    'annoline1': 'Charleston',\n",
       "    'annoline2': None,\n",
       "    'annoline3': None,\n",
       "    'annoangle': 0.0,\n",
       "    'borough': 'Staten Island',\n",
       "    'bbox': [-74.23215775896526,\n",
       "     40.53053148283314,\n",
       "     -74.23215775896526,\n",
       "     40.53053148283314]}},\n",
       "  {'type': 'Feature',\n",
       "   'id': 'nyu_2451_34572.241',\n",
       "   'geometry': {'type': 'Point',\n",
       "    'coordinates': [-74.21572851113952, 40.54940400650072]},\n",
       "   'geometry_name': 'geom',\n",
       "   'properties': {'name': 'Rossville',\n",
       "    'stacked': 1,\n",
       "    'annoline1': 'Rossville',\n",
       "    'annoline2': None,\n",
       "    'annoline3': None,\n",
       "    'annoangle': 0.0,\n",
       "    'borough': 'Staten Island',\n",
       "    'bbox': [-74.21572851113952,\n",
       "     40.54940400650072,\n",
       "     -74.21572851113952,\n",
       "     40.54940400650072]}},\n",
       "  {'type': 'Feature',\n",
       "   'id': 'nyu_2451_34572.242',\n",
       "   'geometry': {'type': 'Point',\n",
       "    'coordinates': [-74.18588674583893, 40.54928582278321]},\n",
       "   'geometry_name': 'geom',\n",
       "   'properties': {'name': 'Arden Heights',\n",
       "    'stacked': 2,\n",
       "    'annoline1': 'Arden',\n",
       "    'annoline2': 'Heights',\n",
       "    'annoline3': None,\n",
       "    'annoangle': 0.0,\n",
       "    'borough': 'Staten Island',\n",
       "    'bbox': [-74.18588674583893,\n",
       "     40.54928582278321,\n",
       "     -74.18588674583893,\n",
       "     40.54928582278321]}},\n",
       "  {'type': 'Feature',\n",
       "   'id': 'nyu_2451_34572.243',\n",
       "   'geometry': {'type': 'Point',\n",
       "    'coordinates': [-74.17079414786092, 40.555295236173194]},\n",
       "   'geometry_name': 'geom',\n",
       "   'properties': {'name': 'Greenridge',\n",
       "    'stacked': 1,\n",
       "    'annoline1': 'Greenridge',\n",
       "    'annoline2': None,\n",
       "    'annoline3': None,\n",
       "    'annoangle': 0.0,\n",
       "    'borough': 'Staten Island',\n",
       "    'bbox': [-74.17079414786092,\n",
       "     40.555295236173194,\n",
       "     -74.17079414786092,\n",
       "     40.555295236173194]}},\n",
       "  {'type': 'Feature',\n",
       "   'id': 'nyu_2451_34572.244',\n",
       "   'geometry': {'type': 'Point',\n",
       "    'coordinates': [-74.15902208156601, 40.58913894875281]},\n",
       "   'geometry_name': 'geom',\n",
       "   'properties': {'name': 'Heartland Village',\n",
       "    'stacked': 2,\n",
       "    'annoline1': 'Heartland',\n",
       "    'annoline2': 'Village',\n",
       "    'annoline3': None,\n",
       "    'annoangle': 0.0,\n",
       "    'borough': 'Staten Island',\n",
       "    'bbox': [-74.15902208156601,\n",
       "     40.58913894875281,\n",
       "     -74.15902208156601,\n",
       "     40.58913894875281]}},\n",
       "  {'type': 'Feature',\n",
       "   'id': 'nyu_2451_34572.245',\n",
       "   'geometry': {'type': 'Point',\n",
       "    'coordinates': [-74.1895604551969, 40.59472602746295]},\n",
       "   'geometry_name': 'geom',\n",
       "   'properties': {'name': 'Chelsea',\n",
       "    'stacked': 1,\n",
       "    'annoline1': 'Chelsea',\n",
       "    'annoline2': None,\n",
       "    'annoline3': None,\n",
       "    'annoangle': 0.0,\n",
       "    'borough': 'Staten Island',\n",
       "    'bbox': [-74.1895604551969,\n",
       "     40.59472602746295,\n",
       "     -74.1895604551969,\n",
       "     40.59472602746295]}},\n",
       "  {'type': 'Feature',\n",
       "   'id': 'nyu_2451_34572.246',\n",
       "   'geometry': {'type': 'Point',\n",
       "    'coordinates': [-74.18725638381567, 40.60577868452358]},\n",
       "   'geometry_name': 'geom',\n",
       "   'properties': {'name': 'Bloomfield',\n",
       "    'stacked': 1,\n",
       "    'annoline1': 'Bloomfield',\n",
       "    'annoline2': None,\n",
       "    'annoline3': None,\n",
       "    'annoangle': 0.0,\n",
       "    'borough': 'Staten Island',\n",
       "    'bbox': [-74.18725638381567,\n",
       "     40.60577868452358,\n",
       "     -74.18725638381567,\n",
       "     40.60577868452358]}},\n",
       "  {'type': 'Feature',\n",
       "   'id': 'nyu_2451_34572.247',\n",
       "   'geometry': {'type': 'Point',\n",
       "    'coordinates': [-74.15940948657122, 40.6095918004203]},\n",
       "   'geometry_name': 'geom',\n",
       "   'properties': {'name': 'Bulls Head',\n",
       "    'stacked': 2,\n",
       "    'annoline1': 'Bulls',\n",
       "    'annoline2': 'Head',\n",
       "    'annoline3': None,\n",
       "    'annoangle': 0.0,\n",
       "    'borough': 'Staten Island',\n",
       "    'bbox': [-74.15940948657122,\n",
       "     40.6095918004203,\n",
       "     -74.15940948657122,\n",
       "     40.6095918004203]}},\n",
       "  {'type': 'Feature',\n",
       "   'id': 'nyu_2451_34572.248',\n",
       "   'geometry': {'type': 'Point',\n",
       "    'coordinates': [-73.95325646837112, 40.7826825671257]},\n",
       "   'geometry_name': 'geom',\n",
       "   'properties': {'name': 'Carnegie Hill',\n",
       "    'stacked': 2,\n",
       "    'annoline1': 'Carnegie',\n",
       "    'annoline2': 'Hill',\n",
       "    'annoline3': None,\n",
       "    'annoangle': 0.0,\n",
       "    'borough': 'Manhattan',\n",
       "    'bbox': [-73.95325646837112,\n",
       "     40.7826825671257,\n",
       "     -73.95325646837112,\n",
       "     40.7826825671257]}},\n",
       "  {'type': 'Feature',\n",
       "   'id': 'nyu_2451_34572.249',\n",
       "   'geometry': {'type': 'Point',\n",
       "    'coordinates': [-73.98843368023597, 40.72325901885768]},\n",
       "   'geometry_name': 'geom',\n",
       "   'properties': {'name': 'Noho',\n",
       "    'stacked': 1,\n",
       "    'annoline1': 'Noho',\n",
       "    'annoline2': None,\n",
       "    'annoline3': None,\n",
       "    'annoangle': 0.0,\n",
       "    'borough': 'Manhattan',\n",
       "    'bbox': [-73.98843368023597,\n",
       "     40.72325901885768,\n",
       "     -73.98843368023597,\n",
       "     40.72325901885768]}},\n",
       "  {'type': 'Feature',\n",
       "   'id': 'nyu_2451_34572.250',\n",
       "   'geometry': {'type': 'Point',\n",
       "    'coordinates': [-74.00541529873355, 40.71522892046282]},\n",
       "   'geometry_name': 'geom',\n",
       "   'properties': {'name': 'Civic Center',\n",
       "    'stacked': 2,\n",
       "    'annoline1': 'Civic',\n",
       "    'annoline2': 'Center',\n",
       "    'annoline3': None,\n",
       "    'annoangle': 0.0,\n",
       "    'borough': 'Manhattan',\n",
       "    'bbox': [-74.00541529873355,\n",
       "     40.71522892046282,\n",
       "     -74.00541529873355,\n",
       "     40.71522892046282]}},\n",
       "  {'type': 'Feature',\n",
       "   'id': 'nyu_2451_34572.251',\n",
       "   'geometry': {'type': 'Point',\n",
       "    'coordinates': [-73.98871313285247, 40.7485096643122]},\n",
       "   'geometry_name': 'geom',\n",
       "   'properties': {'name': 'Midtown South',\n",
       "    'stacked': 2,\n",
       "    'annoline1': 'Midtown',\n",
       "    'annoline2': 'South',\n",
       "    'annoline3': None,\n",
       "    'annoangle': 0.0,\n",
       "    'borough': 'Manhattan',\n",
       "    'bbox': [-73.98871313285247,\n",
       "     40.7485096643122,\n",
       "     -73.98871313285247,\n",
       "     40.7485096643122]}},\n",
       "  {'type': 'Feature',\n",
       "   'id': 'nyu_2451_34572.252',\n",
       "   'geometry': {'type': 'Point',\n",
       "    'coordinates': [-74.1340572986257, 40.56960594275505]},\n",
       "   'geometry_name': 'geom',\n",
       "   'properties': {'name': 'Richmond Town',\n",
       "    'stacked': 2,\n",
       "    'annoline1': 'Richmond',\n",
       "    'annoline2': 'Town',\n",
       "    'annoline3': None,\n",
       "    'annoangle': 0.0,\n",
       "    'borough': 'Staten Island',\n",
       "    'bbox': [-74.1340572986257,\n",
       "     40.56960594275505,\n",
       "     -74.1340572986257,\n",
       "     40.56960594275505]}},\n",
       "  {'type': 'Feature',\n",
       "   'id': 'nyu_2451_34572.253',\n",
       "   'geometry': {'type': 'Point',\n",
       "    'coordinates': [-74.06667766061771, 40.60971934079284]},\n",
       "   'geometry_name': 'geom',\n",
       "   'properties': {'name': 'Shore Acres',\n",
       "    'stacked': 2,\n",
       "    'annoline1': 'Shore',\n",
       "    'annoline2': 'Acres',\n",
       "    'annoline3': None,\n",
       "    'annoangle': 0.0,\n",
       "    'borough': 'Staten Island',\n",
       "    'bbox': [-74.06667766061771,\n",
       "     40.60971934079284,\n",
       "     -74.06667766061771,\n",
       "     40.60971934079284]}},\n",
       "  {'type': 'Feature',\n",
       "   'id': 'nyu_2451_34572.254',\n",
       "   'geometry': {'type': 'Point',\n",
       "    'coordinates': [-74.072642445484, 40.61917845202843]},\n",
       "   'geometry_name': 'geom',\n",
       "   'properties': {'name': 'Clifton',\n",
       "    'stacked': 1,\n",
       "    'annoline1': 'Clifton',\n",
       "    'annoline2': None,\n",
       "    'annoline3': None,\n",
       "    'annoangle': 0.0,\n",
       "    'borough': 'Staten Island',\n",
       "    'bbox': [-74.072642445484,\n",
       "     40.61917845202843,\n",
       "     -74.072642445484,\n",
       "     40.61917845202843]}},\n",
       "  {'type': 'Feature',\n",
       "   'id': 'nyu_2451_34572.255',\n",
       "   'geometry': {'type': 'Point',\n",
       "    'coordinates': [-74.08402364740358, 40.6044731896879]},\n",
       "   'geometry_name': 'geom',\n",
       "   'properties': {'name': 'Concord',\n",
       "    'stacked': 1,\n",
       "    'annoline1': 'Concord',\n",
       "    'annoline2': None,\n",
       "    'annoline3': None,\n",
       "    'annoangle': 0.0,\n",
       "    'borough': 'Staten Island',\n",
       "    'bbox': [-74.08402364740358,\n",
       "     40.6044731896879,\n",
       "     -74.08402364740358,\n",
       "     40.6044731896879]}},\n",
       "  {'type': 'Feature',\n",
       "   'id': 'nyu_2451_34572.256',\n",
       "   'geometry': {'type': 'Point',\n",
       "    'coordinates': [-74.09776206972522, 40.606794394801]},\n",
       "   'geometry_name': 'geom',\n",
       "   'properties': {'name': 'Emerson Hill',\n",
       "    'stacked': 2,\n",
       "    'annoline1': 'Emerson',\n",
       "    'annoline2': 'Hill',\n",
       "    'annoline3': None,\n",
       "    'annoangle': 0.0,\n",
       "    'borough': 'Staten Island',\n",
       "    'bbox': [-74.09776206972522,\n",
       "     40.606794394801,\n",
       "     -74.09776206972522,\n",
       "     40.606794394801]}},\n",
       "  {'type': 'Feature',\n",
       "   'id': 'nyu_2451_34572.257',\n",
       "   'geometry': {'type': 'Point',\n",
       "    'coordinates': [-74.09805062373887, 40.63563000681151]},\n",
       "   'geometry_name': 'geom',\n",
       "   'properties': {'name': 'Randall Manor',\n",
       "    'stacked': 2,\n",
       "    'annoline1': 'Randall',\n",
       "    'annoline2': 'Manor',\n",
       "    'annoline3': None,\n",
       "    'annoangle': 0.0,\n",
       "    'borough': 'Staten Island',\n",
       "    'bbox': [-74.09805062373887,\n",
       "     40.63563000681151,\n",
       "     -74.09805062373887,\n",
       "     40.63563000681151]}},\n",
       "  {'type': 'Feature',\n",
       "   'id': 'nyu_2451_34572.258',\n",
       "   'geometry': {'type': 'Point',\n",
       "    'coordinates': [-74.18622331749823, 40.63843283794795]},\n",
       "   'geometry_name': 'geom',\n",
       "   'properties': {'name': 'Howland Hook',\n",
       "    'stacked': 2,\n",
       "    'annoline1': 'Howland',\n",
       "    'annoline2': 'Hook',\n",
       "    'annoline3': None,\n",
       "    'annoangle': 0.0,\n",
       "    'borough': 'Staten Island',\n",
       "    'bbox': [-74.18622331749823,\n",
       "     40.63843283794795,\n",
       "     -74.18622331749823,\n",
       "     40.63843283794795]}},\n",
       "  {'type': 'Feature',\n",
       "   'id': 'nyu_2451_34572.259',\n",
       "   'geometry': {'type': 'Point',\n",
       "    'coordinates': [-74.1418167896889, 40.630146741193826]},\n",
       "   'geometry_name': 'geom',\n",
       "   'properties': {'name': 'Elm Park',\n",
       "    'stacked': 2,\n",
       "    'annoline1': 'Elm',\n",
       "    'annoline2': 'Park',\n",
       "    'annoline3': None,\n",
       "    'annoangle': 0.0,\n",
       "    'borough': 'Staten Island',\n",
       "    'bbox': [-74.1418167896889,\n",
       "     40.630146741193826,\n",
       "     -74.1418167896889,\n",
       "     40.630146741193826]}},\n",
       "  {'type': 'Feature',\n",
       "   'id': 'nyu_2451_34572.260',\n",
       "   'geometry': {'type': 'Point',\n",
       "    'coordinates': [-73.91665331978048, 40.652117451793494]},\n",
       "   'geometry_name': 'geom',\n",
       "   'properties': {'name': 'Remsen Village',\n",
       "    'stacked': 2,\n",
       "    'annoline1': 'Remsen',\n",
       "    'annoline2': 'Village',\n",
       "    'annoline3': None,\n",
       "    'annoangle': 0.0,\n",
       "    'borough': 'Brooklyn',\n",
       "    'bbox': [-73.91665331978048,\n",
       "     40.652117451793494,\n",
       "     -73.91665331978048,\n",
       "     40.652117451793494]}},\n",
       "  {'type': 'Feature',\n",
       "   'id': 'nyu_2451_34572.261',\n",
       "   'geometry': {'type': 'Point',\n",
       "    'coordinates': [-73.88511776379292, 40.6627442796966]},\n",
       "   'geometry_name': 'geom',\n",
       "   'properties': {'name': 'New Lots',\n",
       "    'stacked': 2,\n",
       "    'annoline1': 'New',\n",
       "    'annoline2': 'Lots',\n",
       "    'annoline3': None,\n",
       "    'annoangle': 0.0,\n",
       "    'borough': 'Brooklyn',\n",
       "    'bbox': [-73.88511776379292,\n",
       "     40.6627442796966,\n",
       "     -73.88511776379292,\n",
       "     40.6627442796966]}},\n",
       "  {'type': 'Feature',\n",
       "   'id': 'nyu_2451_34572.262',\n",
       "   'geometry': {'type': 'Point',\n",
       "    'coordinates': [-73.90233474295836, 40.63131755039667]},\n",
       "   'geometry_name': 'geom',\n",
       "   'properties': {'name': 'Paerdegat Basin',\n",
       "    'stacked': 2,\n",
       "    'annoline1': 'Paerdegat',\n",
       "    'annoline2': 'Basin',\n",
       "    'annoline3': None,\n",
       "    'annoangle': 0.0,\n",
       "    'borough': 'Brooklyn',\n",
       "    'bbox': [-73.90233474295836,\n",
       "     40.63131755039667,\n",
       "     -73.90233474295836,\n",
       "     40.63131755039667]}},\n",
       "  {'type': 'Feature',\n",
       "   'id': 'nyu_2451_34572.263',\n",
       "   'geometry': {'type': 'Point',\n",
       "    'coordinates': [-73.91515391550404, 40.61597423962336]},\n",
       "   'geometry_name': 'geom',\n",
       "   'properties': {'name': 'Mill Basin',\n",
       "    'stacked': 2,\n",
       "    'annoline1': 'Mill',\n",
       "    'annoline2': 'Basin',\n",
       "    'annoline3': None,\n",
       "    'annoangle': 0.0,\n",
       "    'borough': 'Brooklyn',\n",
       "    'bbox': [-73.91515391550404,\n",
       "     40.61597423962336,\n",
       "     -73.91515391550404,\n",
       "     40.61597423962336]}},\n",
       "  {'type': 'Feature',\n",
       "   'id': 'nyu_2451_34572.264',\n",
       "   'geometry': {'type': 'Point',\n",
       "    'coordinates': [-73.79646462081593, 40.71145964370482]},\n",
       "   'geometry_name': 'geom',\n",
       "   'properties': {'name': 'Jamaica Hills',\n",
       "    'stacked': 2,\n",
       "    'annoline1': 'Jamaica',\n",
       "    'annoline2': 'Hills',\n",
       "    'annoline3': None,\n",
       "    'annoangle': 0.0,\n",
       "    'borough': 'Queens',\n",
       "    'bbox': [-73.79646462081593,\n",
       "     40.71145964370482,\n",
       "     -73.79646462081593,\n",
       "     40.71145964370482]}},\n",
       "  {'type': 'Feature',\n",
       "   'id': 'nyu_2451_34572.265',\n",
       "   'geometry': {'type': 'Point',\n",
       "    'coordinates': [-73.79671678028349, 40.73350025429757]},\n",
       "   'geometry_name': 'geom',\n",
       "   'properties': {'name': 'Utopia',\n",
       "    'stacked': 1,\n",
       "    'annoline1': 'Utopia',\n",
       "    'annoline2': None,\n",
       "    'annoline3': None,\n",
       "    'annoangle': 0.0,\n",
       "    'borough': 'Queens',\n",
       "    'bbox': [-73.79671678028349,\n",
       "     40.73350025429757,\n",
       "     -73.79671678028349,\n",
       "     40.73350025429757]}},\n",
       "  {'type': 'Feature',\n",
       "   'id': 'nyu_2451_34572.266',\n",
       "   'geometry': {'type': 'Point',\n",
       "    'coordinates': [-73.80486120040537, 40.73493618075478]},\n",
       "   'geometry_name': 'geom',\n",
       "   'properties': {'name': 'Pomonok',\n",
       "    'stacked': 1,\n",
       "    'annoline1': 'Pomonok',\n",
       "    'annoline2': None,\n",
       "    'annoline3': None,\n",
       "    'annoangle': 0.0,\n",
       "    'borough': 'Queens',\n",
       "    'bbox': [-73.80486120040537,\n",
       "     40.73493618075478,\n",
       "     -73.80486120040537,\n",
       "     40.73493618075478]}},\n",
       "  {'type': 'Feature',\n",
       "   'id': 'nyu_2451_34572.267',\n",
       "   'geometry': {'type': 'Point',\n",
       "    'coordinates': [-73.89467996270574, 40.7703173929982]},\n",
       "   'geometry_name': 'geom',\n",
       "   'properties': {'name': 'Astoria Heights',\n",
       "    'stacked': 2,\n",
       "    'annoline1': 'Astoria',\n",
       "    'annoline2': 'Heights',\n",
       "    'annoline3': None,\n",
       "    'annoangle': 0.0,\n",
       "    'borough': 'Queens',\n",
       "    'bbox': [-73.89467996270574,\n",
       "     40.7703173929982,\n",
       "     -73.89467996270574,\n",
       "     40.7703173929982]}},\n",
       "  {'type': 'Feature',\n",
       "   'id': 'nyu_2451_34572.268',\n",
       "   'geometry': {'type': 'Point',\n",
       "    'coordinates': [-73.90119903387667, 40.83142834161548]},\n",
       "   'geometry_name': 'geom',\n",
       "   'properties': {'name': 'Claremont Village',\n",
       "    'stacked': 2,\n",
       "    'annoline1': 'Claremont',\n",
       "    'annoline2': 'Village',\n",
       "    'annoline3': None,\n",
       "    'annoangle': 0.0,\n",
       "    'borough': 'Bronx',\n",
       "    'bbox': [-73.90119903387667,\n",
       "     40.83142834161548,\n",
       "     -73.90119903387667,\n",
       "     40.83142834161548]}},\n",
       "  {'type': 'Feature',\n",
       "   'id': 'nyu_2451_34572.269',\n",
       "   'geometry': {'type': 'Point',\n",
       "    'coordinates': [-73.91584652759009, 40.824780490842905]},\n",
       "   'geometry_name': 'geom',\n",
       "   'properties': {'name': 'Concourse Village',\n",
       "    'stacked': 2,\n",
       "    'annoline1': 'Concourse',\n",
       "    'annoline2': 'Village',\n",
       "    'annoline3': None,\n",
       "    'annoangle': 0.0,\n",
       "    'borough': 'Bronx',\n",
       "    'bbox': [-73.91584652759009,\n",
       "     40.824780490842905,\n",
       "     -73.91584652759009,\n",
       "     40.824780490842905]}},\n",
       "  {'type': 'Feature',\n",
       "   'id': 'nyu_2451_34572.270',\n",
       "   'geometry': {'type': 'Point',\n",
       "    'coordinates': [-73.91655551964419, 40.84382617671654]},\n",
       "   'geometry_name': 'geom',\n",
       "   'properties': {'name': 'Mount Eden',\n",
       "    'stacked': 2,\n",
       "    'annoline1': 'Mount',\n",
       "    'annoline2': 'Eden',\n",
       "    'annoline3': None,\n",
       "    'annoangle': 0.0,\n",
       "    'borough': 'Bronx',\n",
       "    'bbox': [-73.91655551964419,\n",
       "     40.84382617671654,\n",
       "     -73.91655551964419,\n",
       "     40.84382617671654]}},\n",
       "  {'type': 'Feature',\n",
       "   'id': 'nyu_2451_34572.271',\n",
       "   'geometry': {'type': 'Point',\n",
       "    'coordinates': [-73.90829930881988, 40.84884160724665]},\n",
       "   'geometry_name': 'geom',\n",
       "   'properties': {'name': 'Mount Hope',\n",
       "    'stacked': 2,\n",
       "    'annoline1': 'Mount',\n",
       "    'annoline2': 'Hope',\n",
       "    'annoline3': None,\n",
       "    'annoangle': 0.0,\n",
       "    'borough': 'Bronx',\n",
       "    'bbox': [-73.90829930881988,\n",
       "     40.84884160724665,\n",
       "     -73.90829930881988,\n",
       "     40.84884160724665]}},\n",
       "  {'type': 'Feature',\n",
       "   'id': 'nyu_2451_34572.272',\n",
       "   'geometry': {'type': 'Point',\n",
       "    'coordinates': [-73.96355614094303, 40.76028033131374]},\n",
       "   'geometry_name': 'geom',\n",
       "   'properties': {'name': 'Sutton Place',\n",
       "    'stacked': 2,\n",
       "    'annoline1': 'Sutton',\n",
       "    'annoline2': 'Place',\n",
       "    'annoline3': None,\n",
       "    'annoangle': 0.0,\n",
       "    'borough': 'Manhattan',\n",
       "    'bbox': [-73.96355614094303,\n",
       "     40.76028033131374,\n",
       "     -73.96355614094303,\n",
       "     40.76028033131374]}},\n",
       "  {'type': 'Feature',\n",
       "   'id': 'nyu_2451_34572.273',\n",
       "   'geometry': {'type': 'Point',\n",
       "    'coordinates': [-73.95386782130745, 40.743414090073536]},\n",
       "   'geometry_name': 'geom',\n",
       "   'properties': {'name': 'Hunters Point',\n",
       "    'stacked': 2,\n",
       "    'annoline1': 'Hunters',\n",
       "    'annoline2': 'Point',\n",
       "    'annoline3': None,\n",
       "    'annoangle': 0.0,\n",
       "    'borough': 'Queens',\n",
       "    'bbox': [-73.95386782130745,\n",
       "     40.743414090073536,\n",
       "     -73.95386782130745,\n",
       "     40.743414090073536]}},\n",
       "  {'type': 'Feature',\n",
       "   'id': 'nyu_2451_34572.274',\n",
       "   'geometry': {'type': 'Point',\n",
       "    'coordinates': [-73.96770824581834, 40.75204236950722]},\n",
       "   'geometry_name': 'geom',\n",
       "   'properties': {'name': 'Turtle Bay',\n",
       "    'stacked': 2,\n",
       "    'annoline1': 'Turtle',\n",
       "    'annoline2': 'Bay',\n",
       "    'annoline3': None,\n",
       "    'annoangle': 0.0,\n",
       "    'borough': 'Manhattan',\n",
       "    'bbox': [-73.96770824581834,\n",
       "     40.75204236950722,\n",
       "     -73.96770824581834,\n",
       "     40.75204236950722]}},\n",
       "  {'type': 'Feature',\n",
       "   'id': 'nyu_2451_34572.275',\n",
       "   'geometry': {'type': 'Point',\n",
       "    'coordinates': [-73.97121928722265, 40.746917410740195]},\n",
       "   'geometry_name': 'geom',\n",
       "   'properties': {'name': 'Tudor City',\n",
       "    'stacked': 2,\n",
       "    'annoline1': 'Tudor',\n",
       "    'annoline2': 'City',\n",
       "    'annoline3': None,\n",
       "    'annoangle': 0.0,\n",
       "    'borough': 'Manhattan',\n",
       "    'bbox': [-73.97121928722265,\n",
       "     40.746917410740195,\n",
       "     -73.97121928722265,\n",
       "     40.746917410740195]}},\n",
       "  {'type': 'Feature',\n",
       "   'id': 'nyu_2451_34572.276',\n",
       "   'geometry': {'type': 'Point',\n",
       "    'coordinates': [-73.97405170469203, 40.73099955477061]},\n",
       "   'geometry_name': 'geom',\n",
       "   'properties': {'name': 'Stuyvesant Town',\n",
       "    'stacked': 2,\n",
       "    'annoline1': 'Stuyvesant',\n",
       "    'annoline2': 'Town',\n",
       "    'annoline3': None,\n",
       "    'annoangle': 0.0,\n",
       "    'borough': 'Manhattan',\n",
       "    'bbox': [-73.97405170469203,\n",
       "     40.73099955477061,\n",
       "     -73.97405170469203,\n",
       "     40.73099955477061]}},\n",
       "  {'type': 'Feature',\n",
       "   'id': 'nyu_2451_34572.277',\n",
       "   'geometry': {'type': 'Point',\n",
       "    'coordinates': [-73.9909471052826, 40.739673047638426]},\n",
       "   'geometry_name': 'geom',\n",
       "   'properties': {'name': 'Flatiron',\n",
       "    'stacked': 1,\n",
       "    'annoline1': 'Flatiron',\n",
       "    'annoline2': None,\n",
       "    'annoline3': None,\n",
       "    'annoangle': 0.0,\n",
       "    'borough': 'Manhattan',\n",
       "    'bbox': [-73.9909471052826,\n",
       "     40.739673047638426,\n",
       "     -73.9909471052826,\n",
       "     40.739673047638426]}},\n",
       "  {'type': 'Feature',\n",
       "   'id': 'nyu_2451_34572.278',\n",
       "   'geometry': {'type': 'Point',\n",
       "    'coordinates': [-73.91819286431682, 40.74565180608076]},\n",
       "   'geometry_name': 'geom',\n",
       "   'properties': {'name': 'Sunnyside Gardens',\n",
       "    'stacked': 2,\n",
       "    'annoline1': 'Sunnyside',\n",
       "    'annoline2': 'Gardens',\n",
       "    'annoline3': None,\n",
       "    'annoangle': 0.0,\n",
       "    'borough': 'Queens',\n",
       "    'bbox': [-73.91819286431682,\n",
       "     40.74565180608076,\n",
       "     -73.91819286431682,\n",
       "     40.74565180608076]}},\n",
       "  {'type': 'Feature',\n",
       "   'id': 'nyu_2451_34572.279',\n",
       "   'geometry': {'type': 'Point',\n",
       "    'coordinates': [-73.93244235260178, 40.73725071694497]},\n",
       "   'geometry_name': 'geom',\n",
       "   'properties': {'name': 'Blissville',\n",
       "    'stacked': 1,\n",
       "    'annoline1': 'Blissville',\n",
       "    'annoline2': None,\n",
       "    'annoline3': None,\n",
       "    'annoangle': 0.0,\n",
       "    'borough': 'Queens',\n",
       "    'bbox': [-73.93244235260178,\n",
       "     40.73725071694497,\n",
       "     -73.93244235260178,\n",
       "     40.73725071694497]}},\n",
       "  {'type': 'Feature',\n",
       "   'id': 'nyu_2451_34572.280',\n",
       "   'geometry': {'type': 'Point',\n",
       "    'coordinates': [-73.99550751888415, 40.70328109093014]},\n",
       "   'geometry_name': 'geom',\n",
       "   'properties': {'name': 'Fulton Ferry',\n",
       "    'stacked': 2,\n",
       "    'annoline1': 'Fulton',\n",
       "    'annoline2': 'Ferry',\n",
       "    'annoline3': None,\n",
       "    'annoangle': 0.0,\n",
       "    'borough': 'Brooklyn',\n",
       "    'bbox': [-73.99550751888415,\n",
       "     40.70328109093014,\n",
       "     -73.99550751888415,\n",
       "     40.70328109093014]}},\n",
       "  {'type': 'Feature',\n",
       "   'id': 'nyu_2451_34572.281',\n",
       "   'geometry': {'type': 'Point',\n",
       "    'coordinates': [-73.98111603592393, 40.70332149882874]},\n",
       "   'geometry_name': 'geom',\n",
       "   'properties': {'name': 'Vinegar Hill',\n",
       "    'stacked': 2,\n",
       "    'annoline1': 'Vinegar',\n",
       "    'annoline2': 'Hill',\n",
       "    'annoline3': None,\n",
       "    'annoangle': 0.0,\n",
       "    'borough': 'Brooklyn',\n",
       "    'bbox': [-73.98111603592393,\n",
       "     40.70332149882874,\n",
       "     -73.98111603592393,\n",
       "     40.70332149882874]}},\n",
       "  {'type': 'Feature',\n",
       "   'id': 'nyu_2451_34572.282',\n",
       "   'geometry': {'type': 'Point',\n",
       "    'coordinates': [-73.93053108817338, 40.67503986503237]},\n",
       "   'geometry_name': 'geom',\n",
       "   'properties': {'name': 'Weeksville',\n",
       "    'stacked': 1,\n",
       "    'annoline1': 'Weeksville',\n",
       "    'annoline2': None,\n",
       "    'annoline3': None,\n",
       "    'annoangle': 0.0,\n",
       "    'borough': 'Brooklyn',\n",
       "    'bbox': [-73.93053108817338,\n",
       "     40.67503986503237,\n",
       "     -73.93053108817338,\n",
       "     40.67503986503237]}},\n",
       "  {'type': 'Feature',\n",
       "   'id': 'nyu_2451_34572.283',\n",
       "   'geometry': {'type': 'Point',\n",
       "    'coordinates': [-73.90331684852599, 40.67786104769531]},\n",
       "   'geometry_name': 'geom',\n",
       "   'properties': {'name': 'Broadway Junction',\n",
       "    'stacked': 2,\n",
       "    'annoline1': 'Broadway',\n",
       "    'annoline2': 'Junction',\n",
       "    'annoline3': None,\n",
       "    'annoangle': 0.0,\n",
       "    'borough': 'Brooklyn',\n",
       "    'bbox': [-73.90331684852599,\n",
       "     40.67786104769531,\n",
       "     -73.90331684852599,\n",
       "     40.67786104769531]}},\n",
       "  {'type': 'Feature',\n",
       "   'id': 'nyu_2451_34572.284',\n",
       "   'geometry': {'type': 'Point',\n",
       "    'coordinates': [-73.9887528074504, 40.70317632822692]},\n",
       "   'geometry_name': 'geom',\n",
       "   'properties': {'name': 'Dumbo',\n",
       "    'stacked': 1,\n",
       "    'annoline1': 'Dumbo',\n",
       "    'annoline2': None,\n",
       "    'annoline3': None,\n",
       "    'annoangle': 0.0,\n",
       "    'borough': 'Brooklyn',\n",
       "    'bbox': [-73.9887528074504,\n",
       "     40.70317632822692,\n",
       "     -73.9887528074504,\n",
       "     40.70317632822692]}},\n",
       "  {'type': 'Feature',\n",
       "   'id': 'nyu_2451_34572.285',\n",
       "   'geometry': {'type': 'Point',\n",
       "    'coordinates': [-74.12059399718001, 40.60180957631444]},\n",
       "   'geometry_name': 'geom',\n",
       "   'properties': {'name': 'Manor Heights',\n",
       "    'stacked': 2,\n",
       "    'annoline1': 'Manor',\n",
       "    'annoline2': 'Heights',\n",
       "    'annoline3': None,\n",
       "    'annoangle': 0.0,\n",
       "    'borough': 'Staten Island',\n",
       "    'bbox': [-74.12059399718001,\n",
       "     40.60180957631444,\n",
       "     -74.12059399718001,\n",
       "     40.60180957631444]}},\n",
       "  {'type': 'Feature',\n",
       "   'id': 'nyu_2451_34572.286',\n",
       "   'geometry': {'type': 'Point',\n",
       "    'coordinates': [-74.13208447484298, 40.60370692627371]},\n",
       "   'geometry_name': 'geom',\n",
       "   'properties': {'name': 'Willowbrook',\n",
       "    'stacked': 1,\n",
       "    'annoline1': 'Willowbrook',\n",
       "    'annoline2': None,\n",
       "    'annoline3': None,\n",
       "    'annoangle': 0.0,\n",
       "    'borough': 'Staten Island',\n",
       "    'bbox': [-74.13208447484298,\n",
       "     40.60370692627371,\n",
       "     -74.13208447484298,\n",
       "     40.60370692627371]}},\n",
       "  {'type': 'Feature',\n",
       "   'id': 'nyu_2451_34572.287',\n",
       "   'geometry': {'type': 'Point',\n",
       "    'coordinates': [-74.21776636068567, 40.541139922091766]},\n",
       "   'geometry_name': 'geom',\n",
       "   'properties': {'name': 'Sandy Ground',\n",
       "    'stacked': 2,\n",
       "    'annoline1': 'Sandy',\n",
       "    'annoline2': 'Ground',\n",
       "    'annoline3': None,\n",
       "    'annoangle': 0.0,\n",
       "    'borough': 'Staten Island',\n",
       "    'bbox': [-74.21776636068567,\n",
       "     40.541139922091766,\n",
       "     -74.21776636068567,\n",
       "     40.541139922091766]}},\n",
       "  {'type': 'Feature',\n",
       "   'id': 'nyu_2451_34572.288',\n",
       "   'geometry': {'type': 'Point',\n",
       "    'coordinates': [-74.12727240604946, 40.579118742961214]},\n",
       "   'geometry_name': 'geom',\n",
       "   'properties': {'name': 'Egbertville',\n",
       "    'stacked': 1,\n",
       "    'annoline1': 'Egbertville',\n",
       "    'annoline2': None,\n",
       "    'annoline3': None,\n",
       "    'annoangle': 0.0,\n",
       "    'borough': 'Staten Island',\n",
       "    'bbox': [-74.12727240604946,\n",
       "     40.579118742961214,\n",
       "     -74.12727240604946,\n",
       "     40.579118742961214]}},\n",
       "  {'type': 'Feature',\n",
       "   'id': 'nyu_2451_34572.289',\n",
       "   'geometry': {'type': 'Point',\n",
       "    'coordinates': [-73.89213760232822, 40.56737588957032]},\n",
       "   'geometry_name': 'geom',\n",
       "   'properties': {'name': 'Roxbury',\n",
       "    'stacked': 1,\n",
       "    'annoline1': 'Roxbury',\n",
       "    'annoline2': None,\n",
       "    'annoline3': None,\n",
       "    'annoangle': 0.0,\n",
       "    'borough': 'Queens',\n",
       "    'bbox': [-73.89213760232822,\n",
       "     40.56737588957032,\n",
       "     -73.89213760232822,\n",
       "     40.56737588957032]}},\n",
       "  {'type': 'Feature',\n",
       "   'id': 'nyu_2451_34572.290',\n",
       "   'geometry': {'type': 'Point',\n",
       "    'coordinates': [-73.95918459428702, 40.598525095137255]},\n",
       "   'geometry_name': 'geom',\n",
       "   'properties': {'name': 'Homecrest',\n",
       "    'stacked': 1,\n",
       "    'annoline1': 'Homecrest',\n",
       "    'annoline2': None,\n",
       "    'annoline3': None,\n",
       "    'annoangle': 0.0,\n",
       "    'borough': 'Brooklyn',\n",
       "    'bbox': [-73.95918459428702,\n",
       "     40.598525095137255,\n",
       "     -73.95918459428702,\n",
       "     40.598525095137255]}},\n",
       "  {'type': 'Feature',\n",
       "   'id': 'nyu_2451_34572.291',\n",
       "   'geometry': {'type': 'Point',\n",
       "    'coordinates': [-73.88114319200604, 40.716414511158185]},\n",
       "   'geometry_name': 'geom',\n",
       "   'properties': {'name': 'Middle Village',\n",
       "    'stacked': 2,\n",
       "    'annoline1': 'Middle',\n",
       "    'annoline2': 'Village',\n",
       "    'annoline3': None,\n",
       "    'annoangle': 0.0,\n",
       "    'borough': 'Queens',\n",
       "    'bbox': [-73.88114319200604,\n",
       "     40.716414511158185,\n",
       "     -73.88114319200604,\n",
       "     40.716414511158185]}},\n",
       "  {'type': 'Feature',\n",
       "   'id': 'nyu_2451_34572.292',\n",
       "   'geometry': {'type': 'Point',\n",
       "    'coordinates': [-74.20152556457658, 40.52626406734812]},\n",
       "   'geometry_name': 'geom',\n",
       "   'properties': {'name': \"Prince's Bay\",\n",
       "    'stacked': 2,\n",
       "    'annoline1': \"Prince's\",\n",
       "    'annoline2': 'Bay',\n",
       "    'annoline3': None,\n",
       "    'annoangle': 0.0,\n",
       "    'borough': 'Staten Island',\n",
       "    'bbox': [-74.20152556457658,\n",
       "     40.52626406734812,\n",
       "     -74.20152556457658,\n",
       "     40.52626406734812]}},\n",
       "  {'type': 'Feature',\n",
       "   'id': 'nyu_2451_34572.293',\n",
       "   'geometry': {'type': 'Point',\n",
       "    'coordinates': [-74.13792663771568, 40.57650629379489]},\n",
       "   'geometry_name': 'geom',\n",
       "   'properties': {'name': 'Lighthouse Hill',\n",
       "    'stacked': 2,\n",
       "    'annoline1': 'Lighthouse',\n",
       "    'annoline2': 'Hill',\n",
       "    'annoline3': None,\n",
       "    'annoangle': 0.0,\n",
       "    'borough': 'Staten Island',\n",
       "    'bbox': [-74.13792663771568,\n",
       "     40.57650629379489,\n",
       "     -74.13792663771568,\n",
       "     40.57650629379489]}},\n",
       "  {'type': 'Feature',\n",
       "   'id': 'nyu_2451_34572.294',\n",
       "   'geometry': {'type': 'Point',\n",
       "    'coordinates': [-74.22957080626941, 40.51954145748909]},\n",
       "   'geometry_name': 'geom',\n",
       "   'properties': {'name': 'Richmond Valley',\n",
       "    'stacked': 2,\n",
       "    'annoline1': 'Richmond',\n",
       "    'annoline2': 'Valley',\n",
       "    'annoline3': None,\n",
       "    'annoangle': 0.0,\n",
       "    'borough': 'Staten Island',\n",
       "    'bbox': [-74.22957080626941,\n",
       "     40.51954145748909,\n",
       "     -74.22957080626941,\n",
       "     40.51954145748909]}},\n",
       "  {'type': 'Feature',\n",
       "   'id': 'nyu_2451_34572.295',\n",
       "   'geometry': {'type': 'Point',\n",
       "    'coordinates': [-73.82667757138641, 40.79060155670148]},\n",
       "   'geometry_name': 'geom',\n",
       "   'properties': {'name': 'Malba',\n",
       "    'stacked': 1,\n",
       "    'annoline1': 'Malba',\n",
       "    'annoline2': None,\n",
       "    'annoline3': None,\n",
       "    'annoangle': 0.0,\n",
       "    'borough': 'Queens',\n",
       "    'bbox': [-73.82667757138641,\n",
       "     40.79060155670148,\n",
       "     -73.82667757138641,\n",
       "     40.79060155670148]}},\n",
       "  {'type': 'Feature',\n",
       "   'id': 'nyu_2451_34572.296',\n",
       "   'geometry': {'type': 'Point',\n",
       "    'coordinates': [-73.890345709872, 40.6819989345173]},\n",
       "   'geometry_name': 'geom',\n",
       "   'properties': {'name': 'Highland Park',\n",
       "    'stacked': 2,\n",
       "    'annoline1': 'Highland',\n",
       "    'annoline2': 'Park',\n",
       "    'annoline3': None,\n",
       "    'annoangle': 0.0,\n",
       "    'borough': 'Brooklyn',\n",
       "    'bbox': [-73.890345709872,\n",
       "     40.6819989345173,\n",
       "     -73.890345709872,\n",
       "     40.6819989345173]}},\n",
       "  {'type': 'Feature',\n",
       "   'id': 'nyu_2451_34572.297',\n",
       "   'geometry': {'type': 'Point',\n",
       "    'coordinates': [-73.94841515328893, 40.60937770113766]},\n",
       "   'geometry_name': 'geom',\n",
       "   'properties': {'name': 'Madison',\n",
       "    'stacked': 1,\n",
       "    'annoline1': 'Madison',\n",
       "    'annoline2': None,\n",
       "    'annoline3': None,\n",
       "    'annoangle': 0.0,\n",
       "    'borough': 'Brooklyn',\n",
       "    'bbox': [-73.94841515328893,\n",
       "     40.60937770113766,\n",
       "     -73.94841515328893,\n",
       "     40.60937770113766]}},\n",
       "  {'type': 'Feature',\n",
       "   'id': 'nyu_2451_34572.298',\n",
       "   'geometry': {'type': 'Point',\n",
       "    'coordinates': [-73.86172577555115, 40.85272297633017]},\n",
       "   'geometry_name': 'geom',\n",
       "   'properties': {'name': 'Bronxdale',\n",
       "    'stacked': 1,\n",
       "    'annoline1': 'Bronxdale',\n",
       "    'annoline2': None,\n",
       "    'annoline3': None,\n",
       "    'annoangle': 0.0,\n",
       "    'borough': 'Bronx',\n",
       "    'bbox': [-73.86172577555115,\n",
       "     40.85272297633017,\n",
       "     -73.86172577555115,\n",
       "     40.85272297633017]}},\n",
       "  {'type': 'Feature',\n",
       "   'id': 'nyu_2451_34572.299',\n",
       "   'geometry': {'type': 'Point',\n",
       "    'coordinates': [-73.85931863221647, 40.86578787802982]},\n",
       "   'geometry_name': 'geom',\n",
       "   'properties': {'name': 'Allerton',\n",
       "    'stacked': 1,\n",
       "    'annoline1': 'Allerton',\n",
       "    'annoline2': None,\n",
       "    'annoline3': None,\n",
       "    'annoangle': 0.0,\n",
       "    'borough': 'Bronx',\n",
       "    'bbox': [-73.85931863221647,\n",
       "     40.86578787802982,\n",
       "     -73.85931863221647,\n",
       "     40.86578787802982]}},\n",
       "  {'type': 'Feature',\n",
       "   'id': 'nyu_2451_34572.300',\n",
       "   'geometry': {'type': 'Point',\n",
       "    'coordinates': [-73.90152264513144, 40.8703923914147]},\n",
       "   'geometry_name': 'geom',\n",
       "   'properties': {'name': 'Kingsbridge Heights',\n",
       "    'stacked': 2,\n",
       "    'annoline1': 'Kingsbridge',\n",
       "    'annoline2': 'Heights',\n",
       "    'annoline3': None,\n",
       "    'annoangle': 0.0,\n",
       "    'borough': 'Bronx',\n",
       "    'bbox': [-73.90152264513144,\n",
       "     40.8703923914147,\n",
       "     -73.90152264513144,\n",
       "     40.8703923914147]}},\n",
       "  {'type': 'Feature',\n",
       "   'id': 'nyu_2451_34572.301',\n",
       "   'geometry': {'type': 'Point',\n",
       "    'coordinates': [-73.94817709920184, 40.64692606658579]},\n",
       "   'geometry_name': 'geom',\n",
       "   'properties': {'name': 'Erasmus',\n",
       "    'stacked': 1,\n",
       "    'annoline1': 'Erasmus',\n",
       "    'annoline2': None,\n",
       "    'annoline3': None,\n",
       "    'annoangle': 0.0,\n",
       "    'borough': 'Brooklyn',\n",
       "    'bbox': [-73.94817709920184,\n",
       "     40.64692606658579,\n",
       "     -73.94817709920184,\n",
       "     40.64692606658579]}},\n",
       "  {'type': 'Feature',\n",
       "   'id': 'nyu_2451_34572.302',\n",
       "   'geometry': {'type': 'Point',\n",
       "    'coordinates': [-74.00011136202637, 40.75665808227519]},\n",
       "   'geometry_name': 'geom',\n",
       "   'properties': {'name': 'Hudson Yards',\n",
       "    'stacked': 2,\n",
       "    'annoline1': 'Hudson',\n",
       "    'annoline2': 'Yards',\n",
       "    'annoline3': None,\n",
       "    'annoangle': 0.0,\n",
       "    'borough': 'Manhattan',\n",
       "    'bbox': [-74.00011136202637,\n",
       "     40.75665808227519,\n",
       "     -74.00011136202637,\n",
       "     40.75665808227519]}},\n",
       "  {'type': 'Feature',\n",
       "   'id': 'nyu_2451_34572.303',\n",
       "   'geometry': {'type': 'Point',\n",
       "    'coordinates': [-73.80553002968718, 40.58733774018741]},\n",
       "   'geometry_name': 'geom',\n",
       "   'properties': {'name': 'Hammels',\n",
       "    'stacked': 1,\n",
       "    'annoline1': 'Hammels',\n",
       "    'annoline2': None,\n",
       "    'annoline3': None,\n",
       "    'annoangle': 0.0,\n",
       "    'borough': 'Queens',\n",
       "    'bbox': [-73.80553002968718,\n",
       "     40.58733774018741,\n",
       "     -73.80553002968718,\n",
       "     40.58733774018741]}},\n",
       "  {'type': 'Feature',\n",
       "   'id': 'nyu_2451_34572.304',\n",
       "   'geometry': {'type': 'Point',\n",
       "    'coordinates': [-73.76596781445627, 40.611321691283834]},\n",
       "   'geometry_name': 'geom',\n",
       "   'properties': {'name': 'Bayswater',\n",
       "    'stacked': 1,\n",
       "    'annoline1': 'Bayswater',\n",
       "    'annoline2': None,\n",
       "    'annoline3': None,\n",
       "    'annoangle': 0.0,\n",
       "    'borough': 'Queens',\n",
       "    'bbox': [-73.76596781445627,\n",
       "     40.611321691283834,\n",
       "     -73.76596781445627,\n",
       "     40.611321691283834]}},\n",
       "  {'type': 'Feature',\n",
       "   'id': 'nyu_2451_34572.305',\n",
       "   'geometry': {'type': 'Point',\n",
       "    'coordinates': [-73.94563070334091, 40.756091297094706]},\n",
       "   'geometry_name': 'geom',\n",
       "   'properties': {'name': 'Queensbridge',\n",
       "    'stacked': 1,\n",
       "    'annoline1': 'Queensbridge',\n",
       "    'annoline2': None,\n",
       "    'annoline3': None,\n",
       "    'annoangle': 0.0,\n",
       "    'borough': 'Queens',\n",
       "    'bbox': [-73.94563070334091,\n",
       "     40.756091297094706,\n",
       "     -73.94563070334091,\n",
       "     40.756091297094706]}},\n",
       "  {'type': 'Feature',\n",
       "   'id': 'nyu_2451_34572.306',\n",
       "   'geometry': {'type': 'Point',\n",
       "    'coordinates': [-74.08173992211962, 40.61731079252983]},\n",
       "   'geometry_name': 'geom',\n",
       "   'properties': {'name': 'Fox Hills',\n",
       "    'stacked': 2,\n",
       "    'annoline1': 'Fox',\n",
       "    'annoline2': 'Hills',\n",
       "    'annoline3': None,\n",
       "    'annoangle': 0.0,\n",
       "    'borough': 'Staten Island',\n",
       "    'bbox': [-74.08173992211962,\n",
       "     40.61731079252983,\n",
       "     -74.08173992211962,\n",
       "     40.61731079252983]}}],\n",
       " 'crs': {'type': 'name', 'properties': {'name': 'urn:ogc:def:crs:EPSG::4326'}},\n",
       " 'bbox': [-74.2492599487305,\n",
       "  40.5033187866211,\n",
       "  -73.7061614990234,\n",
       "  40.9105606079102]}"
      ]
     },
     "execution_count": 3,
     "metadata": {},
     "output_type": "execute_result"
    }
   ],
   "source": [
    "newyork_data"
   ]
  },
  {
   "cell_type": "markdown",
   "metadata": {},
   "source": [
    "Notice how all the relevant data is in the *features* key, which is basically a list of the neighborhoods. So, let's define a new variable that includes this data."
   ]
  },
  {
   "cell_type": "code",
   "execution_count": 4,
   "metadata": {},
   "outputs": [],
   "source": [
    "neighborhoods_data = newyork_data['features']"
   ]
  },
  {
   "cell_type": "markdown",
   "metadata": {},
   "source": [
    "Let's take a look at the first item in this list."
   ]
  },
  {
   "cell_type": "code",
   "execution_count": 5,
   "metadata": {},
   "outputs": [
    {
     "data": {
      "text/plain": [
       "{'type': 'Feature',\n",
       " 'id': 'nyu_2451_34572.1',\n",
       " 'geometry': {'type': 'Point',\n",
       "  'coordinates': [-73.84720052054902, 40.89470517661]},\n",
       " 'geometry_name': 'geom',\n",
       " 'properties': {'name': 'Wakefield',\n",
       "  'stacked': 1,\n",
       "  'annoline1': 'Wakefield',\n",
       "  'annoline2': None,\n",
       "  'annoline3': None,\n",
       "  'annoangle': 0.0,\n",
       "  'borough': 'Bronx',\n",
       "  'bbox': [-73.84720052054902,\n",
       "   40.89470517661,\n",
       "   -73.84720052054902,\n",
       "   40.89470517661]}}"
      ]
     },
     "execution_count": 5,
     "metadata": {},
     "output_type": "execute_result"
    }
   ],
   "source": [
    "neighborhoods_data[0]"
   ]
  },
  {
   "cell_type": "markdown",
   "metadata": {},
   "source": [
    "#### Tranform the data into a *pandas* dataframe"
   ]
  },
  {
   "cell_type": "markdown",
   "metadata": {},
   "source": [
    "The next task is essentially transforming this data of nested Python dictionaries into a *pandas* dataframe. So let's start by creating an empty dataframe."
   ]
  },
  {
   "cell_type": "code",
   "execution_count": 6,
   "metadata": {},
   "outputs": [],
   "source": [
    "# define the dataframe columns\n",
    "column_names = ['Borough', 'Neighborhood', 'Latitude', 'Longitude'] \n",
    "\n",
    "# instantiate the dataframe\n",
    "neighborhoods = pd.DataFrame(columns=column_names)"
   ]
  },
  {
   "cell_type": "markdown",
   "metadata": {},
   "source": [
    "Take a look at the empty dataframe to confirm that the columns are as intended."
   ]
  },
  {
   "cell_type": "code",
   "execution_count": 7,
   "metadata": {},
   "outputs": [
    {
     "data": {
      "text/html": [
       "<div>\n",
       "<style scoped>\n",
       "    .dataframe tbody tr th:only-of-type {\n",
       "        vertical-align: middle;\n",
       "    }\n",
       "\n",
       "    .dataframe tbody tr th {\n",
       "        vertical-align: top;\n",
       "    }\n",
       "\n",
       "    .dataframe thead th {\n",
       "        text-align: right;\n",
       "    }\n",
       "</style>\n",
       "<table border=\"1\" class=\"dataframe\">\n",
       "  <thead>\n",
       "    <tr style=\"text-align: right;\">\n",
       "      <th></th>\n",
       "      <th>Borough</th>\n",
       "      <th>Neighborhood</th>\n",
       "      <th>Latitude</th>\n",
       "      <th>Longitude</th>\n",
       "    </tr>\n",
       "  </thead>\n",
       "  <tbody>\n",
       "  </tbody>\n",
       "</table>\n",
       "</div>"
      ],
      "text/plain": [
       "Empty DataFrame\n",
       "Columns: [Borough, Neighborhood, Latitude, Longitude]\n",
       "Index: []"
      ]
     },
     "execution_count": 7,
     "metadata": {},
     "output_type": "execute_result"
    }
   ],
   "source": [
    "neighborhoods"
   ]
  },
  {
   "cell_type": "markdown",
   "metadata": {},
   "source": [
    "Then let's loop through the data and fill the dataframe one row at a time."
   ]
  },
  {
   "cell_type": "code",
   "execution_count": 8,
   "metadata": {},
   "outputs": [],
   "source": [
    "for data in neighborhoods_data:\n",
    "    borough = neighborhood_name = data['properties']['borough'] \n",
    "    neighborhood_name = data['properties']['name']\n",
    "        \n",
    "    neighborhood_latlon = data['geometry']['coordinates']\n",
    "    neighborhood_lat = neighborhood_latlon[1]\n",
    "    neighborhood_lon = neighborhood_latlon[0]\n",
    "    \n",
    "    neighborhoods = neighborhoods.append({'Borough': borough,\n",
    "                                          'Neighborhood': neighborhood_name,\n",
    "                                          'Latitude': neighborhood_lat,\n",
    "                                          'Longitude': neighborhood_lon}, ignore_index=True)"
   ]
  },
  {
   "cell_type": "markdown",
   "metadata": {},
   "source": [
    "Quickly examine the resulting dataframe."
   ]
  },
  {
   "cell_type": "code",
   "execution_count": 9,
   "metadata": {
    "scrolled": true
   },
   "outputs": [
    {
     "data": {
      "text/html": [
       "<div>\n",
       "<style scoped>\n",
       "    .dataframe tbody tr th:only-of-type {\n",
       "        vertical-align: middle;\n",
       "    }\n",
       "\n",
       "    .dataframe tbody tr th {\n",
       "        vertical-align: top;\n",
       "    }\n",
       "\n",
       "    .dataframe thead th {\n",
       "        text-align: right;\n",
       "    }\n",
       "</style>\n",
       "<table border=\"1\" class=\"dataframe\">\n",
       "  <thead>\n",
       "    <tr style=\"text-align: right;\">\n",
       "      <th></th>\n",
       "      <th>Borough</th>\n",
       "      <th>Neighborhood</th>\n",
       "      <th>Latitude</th>\n",
       "      <th>Longitude</th>\n",
       "    </tr>\n",
       "  </thead>\n",
       "  <tbody>\n",
       "    <tr>\n",
       "      <td>0</td>\n",
       "      <td>Bronx</td>\n",
       "      <td>Wakefield</td>\n",
       "      <td>40.894705</td>\n",
       "      <td>-73.847201</td>\n",
       "    </tr>\n",
       "    <tr>\n",
       "      <td>1</td>\n",
       "      <td>Bronx</td>\n",
       "      <td>Co-op City</td>\n",
       "      <td>40.874294</td>\n",
       "      <td>-73.829939</td>\n",
       "    </tr>\n",
       "    <tr>\n",
       "      <td>2</td>\n",
       "      <td>Bronx</td>\n",
       "      <td>Eastchester</td>\n",
       "      <td>40.887556</td>\n",
       "      <td>-73.827806</td>\n",
       "    </tr>\n",
       "    <tr>\n",
       "      <td>3</td>\n",
       "      <td>Bronx</td>\n",
       "      <td>Fieldston</td>\n",
       "      <td>40.895437</td>\n",
       "      <td>-73.905643</td>\n",
       "    </tr>\n",
       "    <tr>\n",
       "      <td>4</td>\n",
       "      <td>Bronx</td>\n",
       "      <td>Riverdale</td>\n",
       "      <td>40.890834</td>\n",
       "      <td>-73.912585</td>\n",
       "    </tr>\n",
       "  </tbody>\n",
       "</table>\n",
       "</div>"
      ],
      "text/plain": [
       "  Borough Neighborhood   Latitude  Longitude\n",
       "0   Bronx    Wakefield  40.894705 -73.847201\n",
       "1   Bronx   Co-op City  40.874294 -73.829939\n",
       "2   Bronx  Eastchester  40.887556 -73.827806\n",
       "3   Bronx    Fieldston  40.895437 -73.905643\n",
       "4   Bronx    Riverdale  40.890834 -73.912585"
      ]
     },
     "execution_count": 9,
     "metadata": {},
     "output_type": "execute_result"
    }
   ],
   "source": [
    "neighborhoods.head()"
   ]
  },
  {
   "cell_type": "markdown",
   "metadata": {},
   "source": [
    "And make sure that the dataset has all 5 boroughs and 306 neighborhoods."
   ]
  },
  {
   "cell_type": "code",
   "execution_count": 10,
   "metadata": {},
   "outputs": [
    {
     "name": "stdout",
     "output_type": "stream",
     "text": [
      "The dataframe has 5 boroughs and 306 neighborhoods.\n"
     ]
    }
   ],
   "source": [
    "print('The dataframe has {} boroughs and {} neighborhoods.'.format(\n",
    "        len(neighborhoods['Borough'].unique()),\n",
    "        neighborhoods.shape[0]\n",
    "    )\n",
    ")"
   ]
  },
  {
   "cell_type": "markdown",
   "metadata": {},
   "source": [
    "#### Use geopy library to get the latitude and longitude values of New York City."
   ]
  },
  {
   "cell_type": "markdown",
   "metadata": {},
   "source": [
    "In order to define an instance of the geocoder, we need to define a user_agent. We will name our agent <em>ny_explorer</em>, as shown below."
   ]
  },
  {
   "cell_type": "code",
   "execution_count": 12,
   "metadata": {
    "scrolled": true
   },
   "outputs": [],
   "source": [
    "address = 'New York City, NY'\n",
    "\n",
    "# geolocator = Nominatim(user_agent=\"ny_explorer\")\n",
    "# location = geolocator.geocode(address)\n",
    "# latitude = location.latitude\n",
    "# longitude = location.longitude\n",
    "# print('The geograpical coordinate of New York City are {}, {}.'.format(latitude, longitude))\n",
    "\n",
    "latitude = 40.7128\n",
    "longitude = -74.0060"
   ]
  },
  {
   "cell_type": "markdown",
   "metadata": {},
   "source": [
    "#### Create a map of New York with neighborhoods superimposed on top."
   ]
  },
  {
   "cell_type": "code",
   "execution_count": 13,
   "metadata": {},
   "outputs": [
    {
     "data": {
      "text/plain": [
       "<folium.features.CircleMarker at 0x1a25ba19d0>"
      ]
     },
     "execution_count": 13,
     "metadata": {},
     "output_type": "execute_result"
    },
    {
     "data": {
      "text/plain": [
       "<folium.features.CircleMarker at 0x1a25f93790>"
      ]
     },
     "execution_count": 13,
     "metadata": {},
     "output_type": "execute_result"
    },
    {
     "data": {
      "text/plain": [
       "<folium.features.CircleMarker at 0x1a261d0090>"
      ]
     },
     "execution_count": 13,
     "metadata": {},
     "output_type": "execute_result"
    },
    {
     "data": {
      "text/plain": [
       "<folium.features.CircleMarker at 0x1a261ece10>"
      ]
     },
     "execution_count": 13,
     "metadata": {},
     "output_type": "execute_result"
    },
    {
     "data": {
      "text/plain": [
       "<folium.features.CircleMarker at 0x1a261e3150>"
      ]
     },
     "execution_count": 13,
     "metadata": {},
     "output_type": "execute_result"
    },
    {
     "data": {
      "text/plain": [
       "<folium.features.CircleMarker at 0x1a25f936d0>"
      ]
     },
     "execution_count": 13,
     "metadata": {},
     "output_type": "execute_result"
    },
    {
     "data": {
      "text/plain": [
       "<folium.features.CircleMarker at 0x1a261d59d0>"
      ]
     },
     "execution_count": 13,
     "metadata": {},
     "output_type": "execute_result"
    },
    {
     "data": {
      "text/plain": [
       "<folium.features.CircleMarker at 0x1a261d5650>"
      ]
     },
     "execution_count": 13,
     "metadata": {},
     "output_type": "execute_result"
    },
    {
     "data": {
      "text/plain": [
       "<folium.features.CircleMarker at 0x1a261ec6d0>"
      ]
     },
     "execution_count": 13,
     "metadata": {},
     "output_type": "execute_result"
    },
    {
     "data": {
      "text/plain": [
       "<folium.features.CircleMarker at 0x1a261d0c10>"
      ]
     },
     "execution_count": 13,
     "metadata": {},
     "output_type": "execute_result"
    },
    {
     "data": {
      "text/plain": [
       "<folium.features.CircleMarker at 0x1a26230dd0>"
      ]
     },
     "execution_count": 13,
     "metadata": {},
     "output_type": "execute_result"
    },
    {
     "data": {
      "text/plain": [
       "<folium.features.CircleMarker at 0x1a262389d0>"
      ]
     },
     "execution_count": 13,
     "metadata": {},
     "output_type": "execute_result"
    },
    {
     "data": {
      "text/plain": [
       "<folium.features.CircleMarker at 0x1a261ec750>"
      ]
     },
     "execution_count": 13,
     "metadata": {},
     "output_type": "execute_result"
    },
    {
     "data": {
      "text/plain": [
       "<folium.features.CircleMarker at 0x1a26230690>"
      ]
     },
     "execution_count": 13,
     "metadata": {},
     "output_type": "execute_result"
    },
    {
     "data": {
      "text/plain": [
       "<folium.features.CircleMarker at 0x1a261e37d0>"
      ]
     },
     "execution_count": 13,
     "metadata": {},
     "output_type": "execute_result"
    },
    {
     "data": {
      "text/plain": [
       "<folium.features.CircleMarker at 0x1a2626ac90>"
      ]
     },
     "execution_count": 13,
     "metadata": {},
     "output_type": "execute_result"
    },
    {
     "data": {
      "text/plain": [
       "<folium.features.CircleMarker at 0x1a25b87a90>"
      ]
     },
     "execution_count": 13,
     "metadata": {},
     "output_type": "execute_result"
    },
    {
     "data": {
      "text/plain": [
       "<folium.features.CircleMarker at 0x1a261e3b50>"
      ]
     },
     "execution_count": 13,
     "metadata": {},
     "output_type": "execute_result"
    },
    {
     "data": {
      "text/plain": [
       "<folium.features.CircleMarker at 0x1a26238690>"
      ]
     },
     "execution_count": 13,
     "metadata": {},
     "output_type": "execute_result"
    },
    {
     "data": {
      "text/plain": [
       "<folium.features.CircleMarker at 0x1a26230710>"
      ]
     },
     "execution_count": 13,
     "metadata": {},
     "output_type": "execute_result"
    },
    {
     "data": {
      "text/plain": [
       "<folium.features.CircleMarker at 0x1a261d5b50>"
      ]
     },
     "execution_count": 13,
     "metadata": {},
     "output_type": "execute_result"
    },
    {
     "data": {
      "text/plain": [
       "<folium.features.CircleMarker at 0x1a26245e50>"
      ]
     },
     "execution_count": 13,
     "metadata": {},
     "output_type": "execute_result"
    },
    {
     "data": {
      "text/plain": [
       "<folium.features.CircleMarker at 0x1a261d5090>"
      ]
     },
     "execution_count": 13,
     "metadata": {},
     "output_type": "execute_result"
    },
    {
     "data": {
      "text/plain": [
       "<folium.features.CircleMarker at 0x1a261d5b10>"
      ]
     },
     "execution_count": 13,
     "metadata": {},
     "output_type": "execute_result"
    },
    {
     "data": {
      "text/plain": [
       "<folium.features.CircleMarker at 0x1a26230f10>"
      ]
     },
     "execution_count": 13,
     "metadata": {},
     "output_type": "execute_result"
    },
    {
     "data": {
      "text/plain": [
       "<folium.features.CircleMarker at 0x1a26238f10>"
      ]
     },
     "execution_count": 13,
     "metadata": {},
     "output_type": "execute_result"
    },
    {
     "data": {
      "text/plain": [
       "<folium.features.CircleMarker at 0x1a26238910>"
      ]
     },
     "execution_count": 13,
     "metadata": {},
     "output_type": "execute_result"
    },
    {
     "data": {
      "text/plain": [
       "<folium.features.CircleMarker at 0x1a26245d10>"
      ]
     },
     "execution_count": 13,
     "metadata": {},
     "output_type": "execute_result"
    },
    {
     "data": {
      "text/plain": [
       "<folium.features.CircleMarker at 0x1a261d01d0>"
      ]
     },
     "execution_count": 13,
     "metadata": {},
     "output_type": "execute_result"
    },
    {
     "data": {
      "text/plain": [
       "<folium.features.CircleMarker at 0x1a26245210>"
      ]
     },
     "execution_count": 13,
     "metadata": {},
     "output_type": "execute_result"
    },
    {
     "data": {
      "text/plain": [
       "<folium.features.CircleMarker at 0x1a262376d0>"
      ]
     },
     "execution_count": 13,
     "metadata": {},
     "output_type": "execute_result"
    },
    {
     "data": {
      "text/plain": [
       "<folium.features.CircleMarker at 0x1a261f8610>"
      ]
     },
     "execution_count": 13,
     "metadata": {},
     "output_type": "execute_result"
    },
    {
     "data": {
      "text/plain": [
       "<folium.features.CircleMarker at 0x1a2626abd0>"
      ]
     },
     "execution_count": 13,
     "metadata": {},
     "output_type": "execute_result"
    },
    {
     "data": {
      "text/plain": [
       "<folium.features.CircleMarker at 0x1a261f8410>"
      ]
     },
     "execution_count": 13,
     "metadata": {},
     "output_type": "execute_result"
    },
    {
     "data": {
      "text/plain": [
       "<folium.features.CircleMarker at 0x1a261f8bd0>"
      ]
     },
     "execution_count": 13,
     "metadata": {},
     "output_type": "execute_result"
    },
    {
     "data": {
      "text/plain": [
       "<folium.features.CircleMarker at 0x1a261f8710>"
      ]
     },
     "execution_count": 13,
     "metadata": {},
     "output_type": "execute_result"
    },
    {
     "data": {
      "text/plain": [
       "<folium.features.CircleMarker at 0x1a261f8e50>"
      ]
     },
     "execution_count": 13,
     "metadata": {},
     "output_type": "execute_result"
    },
    {
     "data": {
      "text/plain": [
       "<folium.features.CircleMarker at 0x1a261f8fd0>"
      ]
     },
     "execution_count": 13,
     "metadata": {},
     "output_type": "execute_result"
    },
    {
     "data": {
      "text/plain": [
       "<folium.features.CircleMarker at 0x1a2626ad50>"
      ]
     },
     "execution_count": 13,
     "metadata": {},
     "output_type": "execute_result"
    },
    {
     "data": {
      "text/plain": [
       "<folium.features.CircleMarker at 0x1a261f1610>"
      ]
     },
     "execution_count": 13,
     "metadata": {},
     "output_type": "execute_result"
    },
    {
     "data": {
      "text/plain": [
       "<folium.features.CircleMarker at 0x1a261faad0>"
      ]
     },
     "execution_count": 13,
     "metadata": {},
     "output_type": "execute_result"
    },
    {
     "data": {
      "text/plain": [
       "<folium.features.CircleMarker at 0x1a26245fd0>"
      ]
     },
     "execution_count": 13,
     "metadata": {},
     "output_type": "execute_result"
    },
    {
     "data": {
      "text/plain": [
       "<folium.features.CircleMarker at 0x1a26237150>"
      ]
     },
     "execution_count": 13,
     "metadata": {},
     "output_type": "execute_result"
    },
    {
     "data": {
      "text/plain": [
       "<folium.features.CircleMarker at 0x1a26237b50>"
      ]
     },
     "execution_count": 13,
     "metadata": {},
     "output_type": "execute_result"
    },
    {
     "data": {
      "text/plain": [
       "<folium.features.CircleMarker at 0x1a261f80d0>"
      ]
     },
     "execution_count": 13,
     "metadata": {},
     "output_type": "execute_result"
    },
    {
     "data": {
      "text/plain": [
       "<folium.features.CircleMarker at 0x1a2627e690>"
      ]
     },
     "execution_count": 13,
     "metadata": {},
     "output_type": "execute_result"
    },
    {
     "data": {
      "text/plain": [
       "<folium.features.CircleMarker at 0x1a261f8490>"
      ]
     },
     "execution_count": 13,
     "metadata": {},
     "output_type": "execute_result"
    },
    {
     "data": {
      "text/plain": [
       "<folium.features.CircleMarker at 0x1a261d0050>"
      ]
     },
     "execution_count": 13,
     "metadata": {},
     "output_type": "execute_result"
    },
    {
     "data": {
      "text/plain": [
       "<folium.features.CircleMarker at 0x1a2626afd0>"
      ]
     },
     "execution_count": 13,
     "metadata": {},
     "output_type": "execute_result"
    },
    {
     "data": {
      "text/plain": [
       "<folium.features.CircleMarker at 0x1a26212e50>"
      ]
     },
     "execution_count": 13,
     "metadata": {},
     "output_type": "execute_result"
    },
    {
     "data": {
      "text/plain": [
       "<folium.features.CircleMarker at 0x1a2627eb10>"
      ]
     },
     "execution_count": 13,
     "metadata": {},
     "output_type": "execute_result"
    },
    {
     "data": {
      "text/plain": [
       "<folium.features.CircleMarker at 0x1a2626ab10>"
      ]
     },
     "execution_count": 13,
     "metadata": {},
     "output_type": "execute_result"
    },
    {
     "data": {
      "text/plain": [
       "<folium.features.CircleMarker at 0x1a26230410>"
      ]
     },
     "execution_count": 13,
     "metadata": {},
     "output_type": "execute_result"
    },
    {
     "data": {
      "text/plain": [
       "<folium.features.CircleMarker at 0x1a26212b50>"
      ]
     },
     "execution_count": 13,
     "metadata": {},
     "output_type": "execute_result"
    },
    {
     "data": {
      "text/plain": [
       "<folium.features.CircleMarker at 0x1a262805d0>"
      ]
     },
     "execution_count": 13,
     "metadata": {},
     "output_type": "execute_result"
    },
    {
     "data": {
      "text/plain": [
       "<folium.features.CircleMarker at 0x1a2620b690>"
      ]
     },
     "execution_count": 13,
     "metadata": {},
     "output_type": "execute_result"
    },
    {
     "data": {
      "text/plain": [
       "<folium.features.CircleMarker at 0x1a262912d0>"
      ]
     },
     "execution_count": 13,
     "metadata": {},
     "output_type": "execute_result"
    },
    {
     "data": {
      "text/plain": [
       "<folium.features.CircleMarker at 0x1a261e3290>"
      ]
     },
     "execution_count": 13,
     "metadata": {},
     "output_type": "execute_result"
    },
    {
     "data": {
      "text/plain": [
       "<folium.features.CircleMarker at 0x1a2627ec50>"
      ]
     },
     "execution_count": 13,
     "metadata": {},
     "output_type": "execute_result"
    },
    {
     "data": {
      "text/plain": [
       "<folium.features.CircleMarker at 0x1a2626a710>"
      ]
     },
     "execution_count": 13,
     "metadata": {},
     "output_type": "execute_result"
    },
    {
     "data": {
      "text/plain": [
       "<folium.features.CircleMarker at 0x1a261fae90>"
      ]
     },
     "execution_count": 13,
     "metadata": {},
     "output_type": "execute_result"
    },
    {
     "data": {
      "text/plain": [
       "<folium.features.CircleMarker at 0x1a261facd0>"
      ]
     },
     "execution_count": 13,
     "metadata": {},
     "output_type": "execute_result"
    },
    {
     "data": {
      "text/plain": [
       "<folium.features.CircleMarker at 0x1a2620b910>"
      ]
     },
     "execution_count": 13,
     "metadata": {},
     "output_type": "execute_result"
    },
    {
     "data": {
      "text/plain": [
       "<folium.features.CircleMarker at 0x1a2620b850>"
      ]
     },
     "execution_count": 13,
     "metadata": {},
     "output_type": "execute_result"
    },
    {
     "data": {
      "text/plain": [
       "<folium.features.CircleMarker at 0x1a2620b250>"
      ]
     },
     "execution_count": 13,
     "metadata": {},
     "output_type": "execute_result"
    },
    {
     "data": {
      "text/plain": [
       "<folium.features.CircleMarker at 0x1a26238dd0>"
      ]
     },
     "execution_count": 13,
     "metadata": {},
     "output_type": "execute_result"
    },
    {
     "data": {
      "text/plain": [
       "<folium.features.CircleMarker at 0x1a262803d0>"
      ]
     },
     "execution_count": 13,
     "metadata": {},
     "output_type": "execute_result"
    },
    {
     "data": {
      "text/plain": [
       "<folium.features.CircleMarker at 0x1a26212810>"
      ]
     },
     "execution_count": 13,
     "metadata": {},
     "output_type": "execute_result"
    },
    {
     "data": {
      "text/plain": [
       "<folium.features.CircleMarker at 0x1a2628f110>"
      ]
     },
     "execution_count": 13,
     "metadata": {},
     "output_type": "execute_result"
    },
    {
     "data": {
      "text/plain": [
       "<folium.features.CircleMarker at 0x1a262384d0>"
      ]
     },
     "execution_count": 13,
     "metadata": {},
     "output_type": "execute_result"
    },
    {
     "data": {
      "text/plain": [
       "<folium.features.CircleMarker at 0x1a261d5c10>"
      ]
     },
     "execution_count": 13,
     "metadata": {},
     "output_type": "execute_result"
    },
    {
     "data": {
      "text/plain": [
       "<folium.features.CircleMarker at 0x1a261f8850>"
      ]
     },
     "execution_count": 13,
     "metadata": {},
     "output_type": "execute_result"
    },
    {
     "data": {
      "text/plain": [
       "<folium.features.CircleMarker at 0x1a26212610>"
      ]
     },
     "execution_count": 13,
     "metadata": {},
     "output_type": "execute_result"
    },
    {
     "data": {
      "text/plain": [
       "<folium.features.CircleMarker at 0x1a262b2710>"
      ]
     },
     "execution_count": 13,
     "metadata": {},
     "output_type": "execute_result"
    },
    {
     "data": {
      "text/plain": [
       "<folium.features.CircleMarker at 0x1a26212b90>"
      ]
     },
     "execution_count": 13,
     "metadata": {},
     "output_type": "execute_result"
    },
    {
     "data": {
      "text/plain": [
       "<folium.features.CircleMarker at 0x1a261fa750>"
      ]
     },
     "execution_count": 13,
     "metadata": {},
     "output_type": "execute_result"
    },
    {
     "data": {
      "text/plain": [
       "<folium.features.CircleMarker at 0x1a261fabd0>"
      ]
     },
     "execution_count": 13,
     "metadata": {},
     "output_type": "execute_result"
    },
    {
     "data": {
      "text/plain": [
       "<folium.features.CircleMarker at 0x1a261f1e50>"
      ]
     },
     "execution_count": 13,
     "metadata": {},
     "output_type": "execute_result"
    },
    {
     "data": {
      "text/plain": [
       "<folium.features.CircleMarker at 0x1a261f12d0>"
      ]
     },
     "execution_count": 13,
     "metadata": {},
     "output_type": "execute_result"
    },
    {
     "data": {
      "text/plain": [
       "<folium.features.CircleMarker at 0x1a262b22d0>"
      ]
     },
     "execution_count": 13,
     "metadata": {},
     "output_type": "execute_result"
    },
    {
     "data": {
      "text/plain": [
       "<folium.features.CircleMarker at 0x1a2628ff90>"
      ]
     },
     "execution_count": 13,
     "metadata": {},
     "output_type": "execute_result"
    },
    {
     "data": {
      "text/plain": [
       "<folium.features.CircleMarker at 0x1a2628f7d0>"
      ]
     },
     "execution_count": 13,
     "metadata": {},
     "output_type": "execute_result"
    },
    {
     "data": {
      "text/plain": [
       "<folium.features.CircleMarker at 0x1a261f8e10>"
      ]
     },
     "execution_count": 13,
     "metadata": {},
     "output_type": "execute_result"
    },
    {
     "data": {
      "text/plain": [
       "<folium.features.CircleMarker at 0x1a262dc410>"
      ]
     },
     "execution_count": 13,
     "metadata": {},
     "output_type": "execute_result"
    },
    {
     "data": {
      "text/plain": [
       "<folium.features.CircleMarker at 0x1a26280590>"
      ]
     },
     "execution_count": 13,
     "metadata": {},
     "output_type": "execute_result"
    },
    {
     "data": {
      "text/plain": [
       "<folium.features.CircleMarker at 0x1a262eb6d0>"
      ]
     },
     "execution_count": 13,
     "metadata": {},
     "output_type": "execute_result"
    },
    {
     "data": {
      "text/plain": [
       "<folium.features.CircleMarker at 0x1a262b23d0>"
      ]
     },
     "execution_count": 13,
     "metadata": {},
     "output_type": "execute_result"
    },
    {
     "data": {
      "text/plain": [
       "<folium.features.CircleMarker at 0x1a262b2c90>"
      ]
     },
     "execution_count": 13,
     "metadata": {},
     "output_type": "execute_result"
    },
    {
     "data": {
      "text/plain": [
       "<folium.features.CircleMarker at 0x1a263186d0>"
      ]
     },
     "execution_count": 13,
     "metadata": {},
     "output_type": "execute_result"
    },
    {
     "data": {
      "text/plain": [
       "<folium.features.CircleMarker at 0x1a2628ff10>"
      ]
     },
     "execution_count": 13,
     "metadata": {},
     "output_type": "execute_result"
    },
    {
     "data": {
      "text/plain": [
       "<folium.features.CircleMarker at 0x1a261f1750>"
      ]
     },
     "execution_count": 13,
     "metadata": {},
     "output_type": "execute_result"
    },
    {
     "data": {
      "text/plain": [
       "<folium.features.CircleMarker at 0x1a2627ec10>"
      ]
     },
     "execution_count": 13,
     "metadata": {},
     "output_type": "execute_result"
    },
    {
     "data": {
      "text/plain": [
       "<folium.features.CircleMarker at 0x1a262b27d0>"
      ]
     },
     "execution_count": 13,
     "metadata": {},
     "output_type": "execute_result"
    },
    {
     "data": {
      "text/plain": [
       "<folium.features.CircleMarker at 0x1a262e0dd0>"
      ]
     },
     "execution_count": 13,
     "metadata": {},
     "output_type": "execute_result"
    },
    {
     "data": {
      "text/plain": [
       "<folium.features.CircleMarker at 0x1a262d2210>"
      ]
     },
     "execution_count": 13,
     "metadata": {},
     "output_type": "execute_result"
    },
    {
     "data": {
      "text/plain": [
       "<folium.features.CircleMarker at 0x1a26320590>"
      ]
     },
     "execution_count": 13,
     "metadata": {},
     "output_type": "execute_result"
    },
    {
     "data": {
      "text/plain": [
       "<folium.features.CircleMarker at 0x1a262d2f90>"
      ]
     },
     "execution_count": 13,
     "metadata": {},
     "output_type": "execute_result"
    },
    {
     "data": {
      "text/plain": [
       "<folium.features.CircleMarker at 0x1a2628f550>"
      ]
     },
     "execution_count": 13,
     "metadata": {},
     "output_type": "execute_result"
    },
    {
     "data": {
      "text/plain": [
       "<folium.features.CircleMarker at 0x1a261f1f50>"
      ]
     },
     "execution_count": 13,
     "metadata": {},
     "output_type": "execute_result"
    },
    {
     "data": {
      "text/plain": [
       "<folium.features.CircleMarker at 0x1a26280490>"
      ]
     },
     "execution_count": 13,
     "metadata": {},
     "output_type": "execute_result"
    },
    {
     "data": {
      "text/plain": [
       "<folium.features.CircleMarker at 0x1a262f30d0>"
      ]
     },
     "execution_count": 13,
     "metadata": {},
     "output_type": "execute_result"
    },
    {
     "data": {
      "text/plain": [
       "<folium.features.CircleMarker at 0x1a262dce10>"
      ]
     },
     "execution_count": 13,
     "metadata": {},
     "output_type": "execute_result"
    },
    {
     "data": {
      "text/plain": [
       "<folium.features.CircleMarker at 0x1a262ebc10>"
      ]
     },
     "execution_count": 13,
     "metadata": {},
     "output_type": "execute_result"
    },
    {
     "data": {
      "text/plain": [
       "<folium.features.CircleMarker at 0x1a262d3bd0>"
      ]
     },
     "execution_count": 13,
     "metadata": {},
     "output_type": "execute_result"
    },
    {
     "data": {
      "text/plain": [
       "<folium.features.CircleMarker at 0x1a262f3550>"
      ]
     },
     "execution_count": 13,
     "metadata": {},
     "output_type": "execute_result"
    },
    {
     "data": {
      "text/plain": [
       "<folium.features.CircleMarker at 0x1a262dc190>"
      ]
     },
     "execution_count": 13,
     "metadata": {},
     "output_type": "execute_result"
    },
    {
     "data": {
      "text/plain": [
       "<folium.features.CircleMarker at 0x1a262f35d0>"
      ]
     },
     "execution_count": 13,
     "metadata": {},
     "output_type": "execute_result"
    },
    {
     "data": {
      "text/plain": [
       "<folium.features.CircleMarker at 0x1a26320e90>"
      ]
     },
     "execution_count": 13,
     "metadata": {},
     "output_type": "execute_result"
    },
    {
     "data": {
      "text/plain": [
       "<folium.features.CircleMarker at 0x1a263149d0>"
      ]
     },
     "execution_count": 13,
     "metadata": {},
     "output_type": "execute_result"
    },
    {
     "data": {
      "text/plain": [
       "<folium.features.CircleMarker at 0x1a26316d50>"
      ]
     },
     "execution_count": 13,
     "metadata": {},
     "output_type": "execute_result"
    },
    {
     "data": {
      "text/plain": [
       "<folium.features.CircleMarker at 0x1a2630ee50>"
      ]
     },
     "execution_count": 13,
     "metadata": {},
     "output_type": "execute_result"
    },
    {
     "data": {
      "text/plain": [
       "<folium.features.CircleMarker at 0x1a26314150>"
      ]
     },
     "execution_count": 13,
     "metadata": {},
     "output_type": "execute_result"
    },
    {
     "data": {
      "text/plain": [
       "<folium.features.CircleMarker at 0x1a26316bd0>"
      ]
     },
     "execution_count": 13,
     "metadata": {},
     "output_type": "execute_result"
    },
    {
     "data": {
      "text/plain": [
       "<folium.features.CircleMarker at 0x1a26320950>"
      ]
     },
     "execution_count": 13,
     "metadata": {},
     "output_type": "execute_result"
    },
    {
     "data": {
      "text/plain": [
       "<folium.features.CircleMarker at 0x1a262ebb50>"
      ]
     },
     "execution_count": 13,
     "metadata": {},
     "output_type": "execute_result"
    },
    {
     "data": {
      "text/plain": [
       "<folium.features.CircleMarker at 0x1a262dc290>"
      ]
     },
     "execution_count": 13,
     "metadata": {},
     "output_type": "execute_result"
    },
    {
     "data": {
      "text/plain": [
       "<folium.features.CircleMarker at 0x1a26320890>"
      ]
     },
     "execution_count": 13,
     "metadata": {},
     "output_type": "execute_result"
    },
    {
     "data": {
      "text/plain": [
       "<folium.features.CircleMarker at 0x1a26318190>"
      ]
     },
     "execution_count": 13,
     "metadata": {},
     "output_type": "execute_result"
    },
    {
     "data": {
      "text/plain": [
       "<folium.features.CircleMarker at 0x1a26318110>"
      ]
     },
     "execution_count": 13,
     "metadata": {},
     "output_type": "execute_result"
    },
    {
     "data": {
      "text/plain": [
       "<folium.features.CircleMarker at 0x1a262dc790>"
      ]
     },
     "execution_count": 13,
     "metadata": {},
     "output_type": "execute_result"
    },
    {
     "data": {
      "text/plain": [
       "<folium.features.CircleMarker at 0x1a262dc910>"
      ]
     },
     "execution_count": 13,
     "metadata": {},
     "output_type": "execute_result"
    },
    {
     "data": {
      "text/plain": [
       "<folium.features.CircleMarker at 0x1a26314790>"
      ]
     },
     "execution_count": 13,
     "metadata": {},
     "output_type": "execute_result"
    },
    {
     "data": {
      "text/plain": [
       "<folium.features.CircleMarker at 0x1a26316790>"
      ]
     },
     "execution_count": 13,
     "metadata": {},
     "output_type": "execute_result"
    },
    {
     "data": {
      "text/plain": [
       "<folium.features.CircleMarker at 0x1a26333d10>"
      ]
     },
     "execution_count": 13,
     "metadata": {},
     "output_type": "execute_result"
    },
    {
     "data": {
      "text/plain": [
       "<folium.features.CircleMarker at 0x1a2630e1d0>"
      ]
     },
     "execution_count": 13,
     "metadata": {},
     "output_type": "execute_result"
    },
    {
     "data": {
      "text/plain": [
       "<folium.features.CircleMarker at 0x1a2635ef10>"
      ]
     },
     "execution_count": 13,
     "metadata": {},
     "output_type": "execute_result"
    },
    {
     "data": {
      "text/plain": [
       "<folium.features.CircleMarker at 0x1a26331f50>"
      ]
     },
     "execution_count": 13,
     "metadata": {},
     "output_type": "execute_result"
    },
    {
     "data": {
      "text/plain": [
       "<folium.features.CircleMarker at 0x1a262d2ad0>"
      ]
     },
     "execution_count": 13,
     "metadata": {},
     "output_type": "execute_result"
    },
    {
     "data": {
      "text/plain": [
       "<folium.features.CircleMarker at 0x1a2635ead0>"
      ]
     },
     "execution_count": 13,
     "metadata": {},
     "output_type": "execute_result"
    },
    {
     "data": {
      "text/plain": [
       "<folium.features.CircleMarker at 0x1a2635e9d0>"
      ]
     },
     "execution_count": 13,
     "metadata": {},
     "output_type": "execute_result"
    },
    {
     "data": {
      "text/plain": [
       "<folium.features.CircleMarker at 0x1a26314610>"
      ]
     },
     "execution_count": 13,
     "metadata": {},
     "output_type": "execute_result"
    },
    {
     "data": {
      "text/plain": [
       "<folium.features.CircleMarker at 0x1a2632f310>"
      ]
     },
     "execution_count": 13,
     "metadata": {},
     "output_type": "execute_result"
    },
    {
     "data": {
      "text/plain": [
       "<folium.features.CircleMarker at 0x1a26343650>"
      ]
     },
     "execution_count": 13,
     "metadata": {},
     "output_type": "execute_result"
    },
    {
     "data": {
      "text/plain": [
       "<folium.features.CircleMarker at 0x1a2632ffd0>"
      ]
     },
     "execution_count": 13,
     "metadata": {},
     "output_type": "execute_result"
    },
    {
     "data": {
      "text/plain": [
       "<folium.features.CircleMarker at 0x1a262eb890>"
      ]
     },
     "execution_count": 13,
     "metadata": {},
     "output_type": "execute_result"
    },
    {
     "data": {
      "text/plain": [
       "<folium.features.CircleMarker at 0x1a2635e610>"
      ]
     },
     "execution_count": 13,
     "metadata": {},
     "output_type": "execute_result"
    },
    {
     "data": {
      "text/plain": [
       "<folium.features.CircleMarker at 0x1a26318d50>"
      ]
     },
     "execution_count": 13,
     "metadata": {},
     "output_type": "execute_result"
    },
    {
     "data": {
      "text/plain": [
       "<folium.features.CircleMarker at 0x1a26333350>"
      ]
     },
     "execution_count": 13,
     "metadata": {},
     "output_type": "execute_result"
    },
    {
     "data": {
      "text/plain": [
       "<folium.features.CircleMarker at 0x1a262dcd50>"
      ]
     },
     "execution_count": 13,
     "metadata": {},
     "output_type": "execute_result"
    },
    {
     "data": {
      "text/plain": [
       "<folium.features.CircleMarker at 0x1a26333790>"
      ]
     },
     "execution_count": 13,
     "metadata": {},
     "output_type": "execute_result"
    },
    {
     "data": {
      "text/plain": [
       "<folium.features.CircleMarker at 0x1a2635e150>"
      ]
     },
     "execution_count": 13,
     "metadata": {},
     "output_type": "execute_result"
    },
    {
     "data": {
      "text/plain": [
       "<folium.features.CircleMarker at 0x1a26395ed0>"
      ]
     },
     "execution_count": 13,
     "metadata": {},
     "output_type": "execute_result"
    },
    {
     "data": {
      "text/plain": [
       "<folium.features.CircleMarker at 0x1a26318710>"
      ]
     },
     "execution_count": 13,
     "metadata": {},
     "output_type": "execute_result"
    },
    {
     "data": {
      "text/plain": [
       "<folium.features.CircleMarker at 0x1a26395690>"
      ]
     },
     "execution_count": 13,
     "metadata": {},
     "output_type": "execute_result"
    },
    {
     "data": {
      "text/plain": [
       "<folium.features.CircleMarker at 0x1a26343e90>"
      ]
     },
     "execution_count": 13,
     "metadata": {},
     "output_type": "execute_result"
    },
    {
     "data": {
      "text/plain": [
       "<folium.features.CircleMarker at 0x1a2632f390>"
      ]
     },
     "execution_count": 13,
     "metadata": {},
     "output_type": "execute_result"
    },
    {
     "data": {
      "text/plain": [
       "<folium.features.CircleMarker at 0x1a26314fd0>"
      ]
     },
     "execution_count": 13,
     "metadata": {},
     "output_type": "execute_result"
    },
    {
     "data": {
      "text/plain": [
       "<folium.features.CircleMarker at 0x1a26385190>"
      ]
     },
     "execution_count": 13,
     "metadata": {},
     "output_type": "execute_result"
    },
    {
     "data": {
      "text/plain": [
       "<folium.features.CircleMarker at 0x1a26343110>"
      ]
     },
     "execution_count": 13,
     "metadata": {},
     "output_type": "execute_result"
    },
    {
     "data": {
      "text/plain": [
       "<folium.features.CircleMarker at 0x1a2632ff90>"
      ]
     },
     "execution_count": 13,
     "metadata": {},
     "output_type": "execute_result"
    },
    {
     "data": {
      "text/plain": [
       "<folium.features.CircleMarker at 0x1a2630ed50>"
      ]
     },
     "execution_count": 13,
     "metadata": {},
     "output_type": "execute_result"
    },
    {
     "data": {
      "text/plain": [
       "<folium.features.CircleMarker at 0x1a2639dc90>"
      ]
     },
     "execution_count": 13,
     "metadata": {},
     "output_type": "execute_result"
    },
    {
     "data": {
      "text/plain": [
       "<folium.features.CircleMarker at 0x1a262d2990>"
      ]
     },
     "execution_count": 13,
     "metadata": {},
     "output_type": "execute_result"
    },
    {
     "data": {
      "text/plain": [
       "<folium.features.CircleMarker at 0x1a263336d0>"
      ]
     },
     "execution_count": 13,
     "metadata": {},
     "output_type": "execute_result"
    },
    {
     "data": {
      "text/plain": [
       "<folium.features.CircleMarker at 0x1a263b1850>"
      ]
     },
     "execution_count": 13,
     "metadata": {},
     "output_type": "execute_result"
    },
    {
     "data": {
      "text/plain": [
       "<folium.features.CircleMarker at 0x1a263b1810>"
      ]
     },
     "execution_count": 13,
     "metadata": {},
     "output_type": "execute_result"
    },
    {
     "data": {
      "text/plain": [
       "<folium.features.CircleMarker at 0x1a263b1b10>"
      ]
     },
     "execution_count": 13,
     "metadata": {},
     "output_type": "execute_result"
    },
    {
     "data": {
      "text/plain": [
       "<folium.features.CircleMarker at 0x1a262dc890>"
      ]
     },
     "execution_count": 13,
     "metadata": {},
     "output_type": "execute_result"
    },
    {
     "data": {
      "text/plain": [
       "<folium.features.CircleMarker at 0x1a26371910>"
      ]
     },
     "execution_count": 13,
     "metadata": {},
     "output_type": "execute_result"
    },
    {
     "data": {
      "text/plain": [
       "<folium.features.CircleMarker at 0x1a2635e850>"
      ]
     },
     "execution_count": 13,
     "metadata": {},
     "output_type": "execute_result"
    },
    {
     "data": {
      "text/plain": [
       "<folium.features.CircleMarker at 0x1a2630e250>"
      ]
     },
     "execution_count": 13,
     "metadata": {},
     "output_type": "execute_result"
    },
    {
     "data": {
      "text/plain": [
       "<folium.features.CircleMarker at 0x1a263b37d0>"
      ]
     },
     "execution_count": 13,
     "metadata": {},
     "output_type": "execute_result"
    },
    {
     "data": {
      "text/plain": [
       "<folium.features.CircleMarker at 0x1a263d7f10>"
      ]
     },
     "execution_count": 13,
     "metadata": {},
     "output_type": "execute_result"
    },
    {
     "data": {
      "text/plain": [
       "<folium.features.CircleMarker at 0x1a2639d690>"
      ]
     },
     "execution_count": 13,
     "metadata": {},
     "output_type": "execute_result"
    },
    {
     "data": {
      "text/plain": [
       "<folium.features.CircleMarker at 0x1a2639d890>"
      ]
     },
     "execution_count": 13,
     "metadata": {},
     "output_type": "execute_result"
    },
    {
     "data": {
      "text/plain": [
       "<folium.features.CircleMarker at 0x1a26385d10>"
      ]
     },
     "execution_count": 13,
     "metadata": {},
     "output_type": "execute_result"
    },
    {
     "data": {
      "text/plain": [
       "<folium.features.CircleMarker at 0x1a263cbb10>"
      ]
     },
     "execution_count": 13,
     "metadata": {},
     "output_type": "execute_result"
    },
    {
     "data": {
      "text/plain": [
       "<folium.features.CircleMarker at 0x1a263b3ad0>"
      ]
     },
     "execution_count": 13,
     "metadata": {},
     "output_type": "execute_result"
    },
    {
     "data": {
      "text/plain": [
       "<folium.features.CircleMarker at 0x1a26333710>"
      ]
     },
     "execution_count": 13,
     "metadata": {},
     "output_type": "execute_result"
    },
    {
     "data": {
      "text/plain": [
       "<folium.features.CircleMarker at 0x1a263b1f90>"
      ]
     },
     "execution_count": 13,
     "metadata": {},
     "output_type": "execute_result"
    },
    {
     "data": {
      "text/plain": [
       "<folium.features.CircleMarker at 0x1a263b13d0>"
      ]
     },
     "execution_count": 13,
     "metadata": {},
     "output_type": "execute_result"
    },
    {
     "data": {
      "text/plain": [
       "<folium.features.CircleMarker at 0x1a263b1fd0>"
      ]
     },
     "execution_count": 13,
     "metadata": {},
     "output_type": "execute_result"
    },
    {
     "data": {
      "text/plain": [
       "<folium.features.CircleMarker at 0x1a26371850>"
      ]
     },
     "execution_count": 13,
     "metadata": {},
     "output_type": "execute_result"
    },
    {
     "data": {
      "text/plain": [
       "<folium.features.CircleMarker at 0x1a26395550>"
      ]
     },
     "execution_count": 13,
     "metadata": {},
     "output_type": "execute_result"
    },
    {
     "data": {
      "text/plain": [
       "<folium.features.CircleMarker at 0x1a263cb550>"
      ]
     },
     "execution_count": 13,
     "metadata": {},
     "output_type": "execute_result"
    },
    {
     "data": {
      "text/plain": [
       "<folium.features.CircleMarker at 0x1a263853d0>"
      ]
     },
     "execution_count": 13,
     "metadata": {},
     "output_type": "execute_result"
    },
    {
     "data": {
      "text/plain": [
       "<folium.features.CircleMarker at 0x1a263b85d0>"
      ]
     },
     "execution_count": 13,
     "metadata": {},
     "output_type": "execute_result"
    },
    {
     "data": {
      "text/plain": [
       "<folium.features.CircleMarker at 0x1a263eff90>"
      ]
     },
     "execution_count": 13,
     "metadata": {},
     "output_type": "execute_result"
    },
    {
     "data": {
      "text/plain": [
       "<folium.features.CircleMarker at 0x1a26395810>"
      ]
     },
     "execution_count": 13,
     "metadata": {},
     "output_type": "execute_result"
    },
    {
     "data": {
      "text/plain": [
       "<folium.features.CircleMarker at 0x1a263b3410>"
      ]
     },
     "execution_count": 13,
     "metadata": {},
     "output_type": "execute_result"
    },
    {
     "data": {
      "text/plain": [
       "<folium.features.CircleMarker at 0x1a263d7a50>"
      ]
     },
     "execution_count": 13,
     "metadata": {},
     "output_type": "execute_result"
    },
    {
     "data": {
      "text/plain": [
       "<folium.features.CircleMarker at 0x1a263ef610>"
      ]
     },
     "execution_count": 13,
     "metadata": {},
     "output_type": "execute_result"
    },
    {
     "data": {
      "text/plain": [
       "<folium.features.CircleMarker at 0x1a2638c450>"
      ]
     },
     "execution_count": 13,
     "metadata": {},
     "output_type": "execute_result"
    },
    {
     "data": {
      "text/plain": [
       "<folium.features.CircleMarker at 0x1a263ed950>"
      ]
     },
     "execution_count": 13,
     "metadata": {},
     "output_type": "execute_result"
    },
    {
     "data": {
      "text/plain": [
       "<folium.features.CircleMarker at 0x1a263b8750>"
      ]
     },
     "execution_count": 13,
     "metadata": {},
     "output_type": "execute_result"
    },
    {
     "data": {
      "text/plain": [
       "<folium.features.CircleMarker at 0x1a263cb350>"
      ]
     },
     "execution_count": 13,
     "metadata": {},
     "output_type": "execute_result"
    },
    {
     "data": {
      "text/plain": [
       "<folium.features.CircleMarker at 0x1a26333e90>"
      ]
     },
     "execution_count": 13,
     "metadata": {},
     "output_type": "execute_result"
    },
    {
     "data": {
      "text/plain": [
       "<folium.features.CircleMarker at 0x1a263b3d50>"
      ]
     },
     "execution_count": 13,
     "metadata": {},
     "output_type": "execute_result"
    },
    {
     "data": {
      "text/plain": [
       "<folium.features.CircleMarker at 0x1a263ef390>"
      ]
     },
     "execution_count": 13,
     "metadata": {},
     "output_type": "execute_result"
    },
    {
     "data": {
      "text/plain": [
       "<folium.features.CircleMarker at 0x1a26421690>"
      ]
     },
     "execution_count": 13,
     "metadata": {},
     "output_type": "execute_result"
    },
    {
     "data": {
      "text/plain": [
       "<folium.features.CircleMarker at 0x1a26421310>"
      ]
     },
     "execution_count": 13,
     "metadata": {},
     "output_type": "execute_result"
    },
    {
     "data": {
      "text/plain": [
       "<folium.features.CircleMarker at 0x1a263ef190>"
      ]
     },
     "execution_count": 13,
     "metadata": {},
     "output_type": "execute_result"
    },
    {
     "data": {
      "text/plain": [
       "<folium.features.CircleMarker at 0x1a263edc50>"
      ]
     },
     "execution_count": 13,
     "metadata": {},
     "output_type": "execute_result"
    },
    {
     "data": {
      "text/plain": [
       "<folium.features.CircleMarker at 0x1a263cb890>"
      ]
     },
     "execution_count": 13,
     "metadata": {},
     "output_type": "execute_result"
    },
    {
     "data": {
      "text/plain": [
       "<folium.features.CircleMarker at 0x1a26421f50>"
      ]
     },
     "execution_count": 13,
     "metadata": {},
     "output_type": "execute_result"
    },
    {
     "data": {
      "text/plain": [
       "<folium.features.CircleMarker at 0x1a263efe90>"
      ]
     },
     "execution_count": 13,
     "metadata": {},
     "output_type": "execute_result"
    },
    {
     "data": {
      "text/plain": [
       "<folium.features.CircleMarker at 0x1a263d7f90>"
      ]
     },
     "execution_count": 13,
     "metadata": {},
     "output_type": "execute_result"
    },
    {
     "data": {
      "text/plain": [
       "<folium.features.CircleMarker at 0x1a263b3710>"
      ]
     },
     "execution_count": 13,
     "metadata": {},
     "output_type": "execute_result"
    },
    {
     "data": {
      "text/plain": [
       "<folium.features.CircleMarker at 0x1a263b1c10>"
      ]
     },
     "execution_count": 13,
     "metadata": {},
     "output_type": "execute_result"
    },
    {
     "data": {
      "text/plain": [
       "<folium.features.CircleMarker at 0x1a264291d0>"
      ]
     },
     "execution_count": 13,
     "metadata": {},
     "output_type": "execute_result"
    },
    {
     "data": {
      "text/plain": [
       "<folium.features.CircleMarker at 0x1a264299d0>"
      ]
     },
     "execution_count": 13,
     "metadata": {},
     "output_type": "execute_result"
    },
    {
     "data": {
      "text/plain": [
       "<folium.features.CircleMarker at 0x1a263efe10>"
      ]
     },
     "execution_count": 13,
     "metadata": {},
     "output_type": "execute_result"
    },
    {
     "data": {
      "text/plain": [
       "<folium.features.CircleMarker at 0x1a264297d0>"
      ]
     },
     "execution_count": 13,
     "metadata": {},
     "output_type": "execute_result"
    },
    {
     "data": {
      "text/plain": [
       "<folium.features.CircleMarker at 0x1a26405690>"
      ]
     },
     "execution_count": 13,
     "metadata": {},
     "output_type": "execute_result"
    },
    {
     "data": {
      "text/plain": [
       "<folium.features.CircleMarker at 0x1a26429fd0>"
      ]
     },
     "execution_count": 13,
     "metadata": {},
     "output_type": "execute_result"
    },
    {
     "data": {
      "text/plain": [
       "<folium.features.CircleMarker at 0x1a264218d0>"
      ]
     },
     "execution_count": 13,
     "metadata": {},
     "output_type": "execute_result"
    },
    {
     "data": {
      "text/plain": [
       "<folium.features.CircleMarker at 0x1a26417310>"
      ]
     },
     "execution_count": 13,
     "metadata": {},
     "output_type": "execute_result"
    },
    {
     "data": {
      "text/plain": [
       "<folium.features.CircleMarker at 0x1a2642a110>"
      ]
     },
     "execution_count": 13,
     "metadata": {},
     "output_type": "execute_result"
    },
    {
     "data": {
      "text/plain": [
       "<folium.features.CircleMarker at 0x1a26433210>"
      ]
     },
     "execution_count": 13,
     "metadata": {},
     "output_type": "execute_result"
    },
    {
     "data": {
      "text/plain": [
       "<folium.features.CircleMarker at 0x1a2642a190>"
      ]
     },
     "execution_count": 13,
     "metadata": {},
     "output_type": "execute_result"
    },
    {
     "data": {
      "text/plain": [
       "<folium.features.CircleMarker at 0x1a263efb50>"
      ]
     },
     "execution_count": 13,
     "metadata": {},
     "output_type": "execute_result"
    },
    {
     "data": {
      "text/plain": [
       "<folium.features.CircleMarker at 0x1a263b8dd0>"
      ]
     },
     "execution_count": 13,
     "metadata": {},
     "output_type": "execute_result"
    },
    {
     "data": {
      "text/plain": [
       "<folium.features.CircleMarker at 0x1a26405890>"
      ]
     },
     "execution_count": 13,
     "metadata": {},
     "output_type": "execute_result"
    },
    {
     "data": {
      "text/plain": [
       "<folium.features.CircleMarker at 0x1a26433e50>"
      ]
     },
     "execution_count": 13,
     "metadata": {},
     "output_type": "execute_result"
    },
    {
     "data": {
      "text/plain": [
       "<folium.features.CircleMarker at 0x1a26409c10>"
      ]
     },
     "execution_count": 13,
     "metadata": {},
     "output_type": "execute_result"
    },
    {
     "data": {
      "text/plain": [
       "<folium.features.CircleMarker at 0x1a263b3790>"
      ]
     },
     "execution_count": 13,
     "metadata": {},
     "output_type": "execute_result"
    },
    {
     "data": {
      "text/plain": [
       "<folium.features.CircleMarker at 0x1a26417950>"
      ]
     },
     "execution_count": 13,
     "metadata": {},
     "output_type": "execute_result"
    },
    {
     "data": {
      "text/plain": [
       "<folium.features.CircleMarker at 0x1a26405b90>"
      ]
     },
     "execution_count": 13,
     "metadata": {},
     "output_type": "execute_result"
    },
    {
     "data": {
      "text/plain": [
       "<folium.features.CircleMarker at 0x1a263cb150>"
      ]
     },
     "execution_count": 13,
     "metadata": {},
     "output_type": "execute_result"
    },
    {
     "data": {
      "text/plain": [
       "<folium.features.CircleMarker at 0x1a26433750>"
      ]
     },
     "execution_count": 13,
     "metadata": {},
     "output_type": "execute_result"
    },
    {
     "data": {
      "text/plain": [
       "<folium.features.CircleMarker at 0x1a26459250>"
      ]
     },
     "execution_count": 13,
     "metadata": {},
     "output_type": "execute_result"
    },
    {
     "data": {
      "text/plain": [
       "<folium.features.CircleMarker at 0x1a26433910>"
      ]
     },
     "execution_count": 13,
     "metadata": {},
     "output_type": "execute_result"
    },
    {
     "data": {
      "text/plain": [
       "<folium.features.CircleMarker at 0x1a26459d10>"
      ]
     },
     "execution_count": 13,
     "metadata": {},
     "output_type": "execute_result"
    },
    {
     "data": {
      "text/plain": [
       "<folium.features.CircleMarker at 0x1a26435690>"
      ]
     },
     "execution_count": 13,
     "metadata": {},
     "output_type": "execute_result"
    },
    {
     "data": {
      "text/plain": [
       "<folium.features.CircleMarker at 0x1a26421a90>"
      ]
     },
     "execution_count": 13,
     "metadata": {},
     "output_type": "execute_result"
    },
    {
     "data": {
      "text/plain": [
       "<folium.features.CircleMarker at 0x1a26429550>"
      ]
     },
     "execution_count": 13,
     "metadata": {},
     "output_type": "execute_result"
    },
    {
     "data": {
      "text/plain": [
       "<folium.features.CircleMarker at 0x1a2642af90>"
      ]
     },
     "execution_count": 13,
     "metadata": {},
     "output_type": "execute_result"
    },
    {
     "data": {
      "text/plain": [
       "<folium.features.CircleMarker at 0x1a264354d0>"
      ]
     },
     "execution_count": 13,
     "metadata": {},
     "output_type": "execute_result"
    },
    {
     "data": {
      "text/plain": [
       "<folium.features.CircleMarker at 0x1a2646cfd0>"
      ]
     },
     "execution_count": 13,
     "metadata": {},
     "output_type": "execute_result"
    },
    {
     "data": {
      "text/plain": [
       "<folium.features.CircleMarker at 0x1a26447fd0>"
      ]
     },
     "execution_count": 13,
     "metadata": {},
     "output_type": "execute_result"
    },
    {
     "data": {
      "text/plain": [
       "<folium.features.CircleMarker at 0x1a26409850>"
      ]
     },
     "execution_count": 13,
     "metadata": {},
     "output_type": "execute_result"
    },
    {
     "data": {
      "text/plain": [
       "<folium.features.CircleMarker at 0x1a264055d0>"
      ]
     },
     "execution_count": 13,
     "metadata": {},
     "output_type": "execute_result"
    },
    {
     "data": {
      "text/plain": [
       "<folium.features.CircleMarker at 0x1a263b8c50>"
      ]
     },
     "execution_count": 13,
     "metadata": {},
     "output_type": "execute_result"
    },
    {
     "data": {
      "text/plain": [
       "<folium.features.CircleMarker at 0x1a264479d0>"
      ]
     },
     "execution_count": 13,
     "metadata": {},
     "output_type": "execute_result"
    },
    {
     "data": {
      "text/plain": [
       "<folium.features.CircleMarker at 0x1a26429110>"
      ]
     },
     "execution_count": 13,
     "metadata": {},
     "output_type": "execute_result"
    },
    {
     "data": {
      "text/plain": [
       "<folium.features.CircleMarker at 0x1a26429210>"
      ]
     },
     "execution_count": 13,
     "metadata": {},
     "output_type": "execute_result"
    },
    {
     "data": {
      "text/plain": [
       "<folium.features.CircleMarker at 0x1a26429690>"
      ]
     },
     "execution_count": 13,
     "metadata": {},
     "output_type": "execute_result"
    },
    {
     "data": {
      "text/plain": [
       "<folium.features.CircleMarker at 0x1a2649c0d0>"
      ]
     },
     "execution_count": 13,
     "metadata": {},
     "output_type": "execute_result"
    },
    {
     "data": {
      "text/plain": [
       "<folium.features.CircleMarker at 0x1a26429410>"
      ]
     },
     "execution_count": 13,
     "metadata": {},
     "output_type": "execute_result"
    },
    {
     "data": {
      "text/plain": [
       "<folium.features.CircleMarker at 0x1a26417e10>"
      ]
     },
     "execution_count": 13,
     "metadata": {},
     "output_type": "execute_result"
    },
    {
     "data": {
      "text/plain": [
       "<folium.features.CircleMarker at 0x1a2649cf50>"
      ]
     },
     "execution_count": 13,
     "metadata": {},
     "output_type": "execute_result"
    },
    {
     "data": {
      "text/plain": [
       "<folium.features.CircleMarker at 0x1a26409390>"
      ]
     },
     "execution_count": 13,
     "metadata": {},
     "output_type": "execute_result"
    },
    {
     "data": {
      "text/plain": [
       "<folium.features.CircleMarker at 0x1a263b87d0>"
      ]
     },
     "execution_count": 13,
     "metadata": {},
     "output_type": "execute_result"
    },
    {
     "data": {
      "text/plain": [
       "<folium.features.CircleMarker at 0x1a2642ab50>"
      ]
     },
     "execution_count": 13,
     "metadata": {},
     "output_type": "execute_result"
    },
    {
     "data": {
      "text/plain": [
       "<folium.features.CircleMarker at 0x1a2649ee10>"
      ]
     },
     "execution_count": 13,
     "metadata": {},
     "output_type": "execute_result"
    },
    {
     "data": {
      "text/plain": [
       "<folium.features.CircleMarker at 0x1a263b8850>"
      ]
     },
     "execution_count": 13,
     "metadata": {},
     "output_type": "execute_result"
    },
    {
     "data": {
      "text/plain": [
       "<folium.features.CircleMarker at 0x1a26459ed0>"
      ]
     },
     "execution_count": 13,
     "metadata": {},
     "output_type": "execute_result"
    },
    {
     "data": {
      "text/plain": [
       "<folium.features.CircleMarker at 0x1a26447dd0>"
      ]
     },
     "execution_count": 13,
     "metadata": {},
     "output_type": "execute_result"
    },
    {
     "data": {
      "text/plain": [
       "<folium.features.CircleMarker at 0x1a2649e110>"
      ]
     },
     "execution_count": 13,
     "metadata": {},
     "output_type": "execute_result"
    },
    {
     "data": {
      "text/plain": [
       "<folium.features.CircleMarker at 0x1a263b31d0>"
      ]
     },
     "execution_count": 13,
     "metadata": {},
     "output_type": "execute_result"
    },
    {
     "data": {
      "text/plain": [
       "<folium.features.CircleMarker at 0x1a26476f90>"
      ]
     },
     "execution_count": 13,
     "metadata": {},
     "output_type": "execute_result"
    },
    {
     "data": {
      "text/plain": [
       "<folium.features.CircleMarker at 0x1a264768d0>"
      ]
     },
     "execution_count": 13,
     "metadata": {},
     "output_type": "execute_result"
    },
    {
     "data": {
      "text/plain": [
       "<folium.features.CircleMarker at 0x1a264cf750>"
      ]
     },
     "execution_count": 13,
     "metadata": {},
     "output_type": "execute_result"
    },
    {
     "data": {
      "text/plain": [
       "<folium.features.CircleMarker at 0x1a2642ac50>"
      ]
     },
     "execution_count": 13,
     "metadata": {},
     "output_type": "execute_result"
    },
    {
     "data": {
      "text/plain": [
       "<folium.features.CircleMarker at 0x1a26447a90>"
      ]
     },
     "execution_count": 13,
     "metadata": {},
     "output_type": "execute_result"
    },
    {
     "data": {
      "text/plain": [
       "<folium.features.CircleMarker at 0x1a26464090>"
      ]
     },
     "execution_count": 13,
     "metadata": {},
     "output_type": "execute_result"
    },
    {
     "data": {
      "text/plain": [
       "<folium.features.CircleMarker at 0x1a264d5ed0>"
      ]
     },
     "execution_count": 13,
     "metadata": {},
     "output_type": "execute_result"
    },
    {
     "data": {
      "text/plain": [
       "<folium.features.CircleMarker at 0x1a2649e610>"
      ]
     },
     "execution_count": 13,
     "metadata": {},
     "output_type": "execute_result"
    },
    {
     "data": {
      "text/plain": [
       "<folium.features.CircleMarker at 0x1a26459790>"
      ]
     },
     "execution_count": 13,
     "metadata": {},
     "output_type": "execute_result"
    },
    {
     "data": {
      "text/plain": [
       "<folium.features.CircleMarker at 0x1a26417610>"
      ]
     },
     "execution_count": 13,
     "metadata": {},
     "output_type": "execute_result"
    },
    {
     "data": {
      "text/plain": [
       "<folium.features.CircleMarker at 0x1a26409e50>"
      ]
     },
     "execution_count": 13,
     "metadata": {},
     "output_type": "execute_result"
    },
    {
     "data": {
      "text/plain": [
       "<folium.features.CircleMarker at 0x1a26464610>"
      ]
     },
     "execution_count": 13,
     "metadata": {},
     "output_type": "execute_result"
    },
    {
     "data": {
      "text/plain": [
       "<folium.features.CircleMarker at 0x1a2649ed50>"
      ]
     },
     "execution_count": 13,
     "metadata": {},
     "output_type": "execute_result"
    },
    {
     "data": {
      "text/plain": [
       "<folium.features.CircleMarker at 0x1a26494c90>"
      ]
     },
     "execution_count": 13,
     "metadata": {},
     "output_type": "execute_result"
    },
    {
     "data": {
      "text/plain": [
       "<folium.features.CircleMarker at 0x1a2646cd10>"
      ]
     },
     "execution_count": 13,
     "metadata": {},
     "output_type": "execute_result"
    },
    {
     "data": {
      "text/plain": [
       "<folium.features.CircleMarker at 0x1a264d5650>"
      ]
     },
     "execution_count": 13,
     "metadata": {},
     "output_type": "execute_result"
    },
    {
     "data": {
      "text/plain": [
       "<folium.features.CircleMarker at 0x1a264943d0>"
      ]
     },
     "execution_count": 13,
     "metadata": {},
     "output_type": "execute_result"
    },
    {
     "data": {
      "text/plain": [
       "<folium.features.CircleMarker at 0x1a264cf490>"
      ]
     },
     "execution_count": 13,
     "metadata": {},
     "output_type": "execute_result"
    },
    {
     "data": {
      "text/plain": [
       "<folium.features.CircleMarker at 0x1a264cfa10>"
      ]
     },
     "execution_count": 13,
     "metadata": {},
     "output_type": "execute_result"
    },
    {
     "data": {
      "text/plain": [
       "<folium.features.CircleMarker at 0x1a26494690>"
      ]
     },
     "execution_count": 13,
     "metadata": {},
     "output_type": "execute_result"
    },
    {
     "data": {
      "text/plain": [
       "<folium.features.CircleMarker at 0x1a264d5850>"
      ]
     },
     "execution_count": 13,
     "metadata": {},
     "output_type": "execute_result"
    },
    {
     "data": {
      "text/plain": [
       "<folium.features.CircleMarker at 0x1a264d5550>"
      ]
     },
     "execution_count": 13,
     "metadata": {},
     "output_type": "execute_result"
    },
    {
     "data": {
      "text/plain": [
       "<folium.features.CircleMarker at 0x1a264b3710>"
      ]
     },
     "execution_count": 13,
     "metadata": {},
     "output_type": "execute_result"
    },
    {
     "data": {
      "text/plain": [
       "<folium.features.CircleMarker at 0x1a26435d90>"
      ]
     },
     "execution_count": 13,
     "metadata": {},
     "output_type": "execute_result"
    },
    {
     "data": {
      "text/plain": [
       "<folium.features.CircleMarker at 0x1a264e0250>"
      ]
     },
     "execution_count": 13,
     "metadata": {},
     "output_type": "execute_result"
    },
    {
     "data": {
      "text/plain": [
       "<folium.features.CircleMarker at 0x1a26409750>"
      ]
     },
     "execution_count": 13,
     "metadata": {},
     "output_type": "execute_result"
    },
    {
     "data": {
      "text/plain": [
       "<folium.features.CircleMarker at 0x1a264e02d0>"
      ]
     },
     "execution_count": 13,
     "metadata": {},
     "output_type": "execute_result"
    },
    {
     "data": {
      "text/plain": [
       "<folium.features.CircleMarker at 0x1a26464b90>"
      ]
     },
     "execution_count": 13,
     "metadata": {},
     "output_type": "execute_result"
    },
    {
     "data": {
      "text/plain": [
       "<folium.features.CircleMarker at 0x1a264cff10>"
      ]
     },
     "execution_count": 13,
     "metadata": {},
     "output_type": "execute_result"
    },
    {
     "data": {
      "text/plain": [
       "<folium.features.CircleMarker at 0x1a264df090>"
      ]
     },
     "execution_count": 13,
     "metadata": {},
     "output_type": "execute_result"
    },
    {
     "data": {
      "text/plain": [
       "<folium.features.CircleMarker at 0x1a264dfad0>"
      ]
     },
     "execution_count": 13,
     "metadata": {},
     "output_type": "execute_result"
    },
    {
     "data": {
      "text/plain": [
       "<folium.features.CircleMarker at 0x1a26523d50>"
      ]
     },
     "execution_count": 13,
     "metadata": {},
     "output_type": "execute_result"
    },
    {
     "data": {
      "text/plain": [
       "<folium.features.CircleMarker at 0x1a264cf210>"
      ]
     },
     "execution_count": 13,
     "metadata": {},
     "output_type": "execute_result"
    },
    {
     "data": {
      "text/plain": [
       "<folium.features.CircleMarker at 0x1a264d5e50>"
      ]
     },
     "execution_count": 13,
     "metadata": {},
     "output_type": "execute_result"
    },
    {
     "data": {
      "text/plain": [
       "<folium.features.CircleMarker at 0x1a26523950>"
      ]
     },
     "execution_count": 13,
     "metadata": {},
     "output_type": "execute_result"
    },
    {
     "data": {
      "text/plain": [
       "<folium.features.CircleMarker at 0x1a26511350>"
      ]
     },
     "execution_count": 13,
     "metadata": {},
     "output_type": "execute_result"
    },
    {
     "data": {
      "text/plain": [
       "<folium.features.CircleMarker at 0x1a264dfd50>"
      ]
     },
     "execution_count": 13,
     "metadata": {},
     "output_type": "execute_result"
    },
    {
     "data": {
      "text/plain": [
       "<folium.features.CircleMarker at 0x1a264df7d0>"
      ]
     },
     "execution_count": 13,
     "metadata": {},
     "output_type": "execute_result"
    },
    {
     "data": {
      "text/plain": [
       "<folium.features.CircleMarker at 0x1a26511f90>"
      ]
     },
     "execution_count": 13,
     "metadata": {},
     "output_type": "execute_result"
    },
    {
     "data": {
      "text/plain": [
       "<folium.features.CircleMarker at 0x1a26523710>"
      ]
     },
     "execution_count": 13,
     "metadata": {},
     "output_type": "execute_result"
    },
    {
     "data": {
      "text/plain": [
       "<folium.features.CircleMarker at 0x1a26464dd0>"
      ]
     },
     "execution_count": 13,
     "metadata": {},
     "output_type": "execute_result"
    },
    {
     "data": {
      "text/plain": [
       "<folium.features.CircleMarker at 0x1a26476890>"
      ]
     },
     "execution_count": 13,
     "metadata": {},
     "output_type": "execute_result"
    },
    {
     "data": {
      "text/plain": [
       "<folium.features.CircleMarker at 0x1a2651c690>"
      ]
     },
     "execution_count": 13,
     "metadata": {},
     "output_type": "execute_result"
    },
    {
     "data": {
      "text/plain": [
       "<folium.features.CircleMarker at 0x1a264e5450>"
      ]
     },
     "execution_count": 13,
     "metadata": {},
     "output_type": "execute_result"
    },
    {
     "data": {
      "text/plain": [
       "<folium.features.CircleMarker at 0x1a2651c290>"
      ]
     },
     "execution_count": 13,
     "metadata": {},
     "output_type": "execute_result"
    },
    {
     "data": {
      "text/plain": [
       "<folium.features.CircleMarker at 0x1a264b3510>"
      ]
     },
     "execution_count": 13,
     "metadata": {},
     "output_type": "execute_result"
    },
    {
     "data": {
      "text/plain": [
       "<folium.features.CircleMarker at 0x1a264b3050>"
      ]
     },
     "execution_count": 13,
     "metadata": {},
     "output_type": "execute_result"
    },
    {
     "data": {
      "text/plain": [
       "<folium.features.CircleMarker at 0x1a264d5f90>"
      ]
     },
     "execution_count": 13,
     "metadata": {},
     "output_type": "execute_result"
    },
    {
     "data": {
      "text/plain": [
       "<folium.features.CircleMarker at 0x1a264b3550>"
      ]
     },
     "execution_count": 13,
     "metadata": {},
     "output_type": "execute_result"
    },
    {
     "data": {
      "text/plain": [
       "<folium.features.CircleMarker at 0x1a26507a90>"
      ]
     },
     "execution_count": 13,
     "metadata": {},
     "output_type": "execute_result"
    },
    {
     "data": {
      "text/plain": [
       "<folium.features.CircleMarker at 0x1a26507e90>"
      ]
     },
     "execution_count": 13,
     "metadata": {},
     "output_type": "execute_result"
    },
    {
     "data": {
      "text/plain": [
       "<folium.features.CircleMarker at 0x1a26536610>"
      ]
     },
     "execution_count": 13,
     "metadata": {},
     "output_type": "execute_result"
    },
    {
     "data": {
      "text/plain": [
       "<folium.features.CircleMarker at 0x1a2651ca90>"
      ]
     },
     "execution_count": 13,
     "metadata": {},
     "output_type": "execute_result"
    },
    {
     "data": {
      "text/plain": [
       "<folium.features.CircleMarker at 0x1a26524890>"
      ]
     },
     "execution_count": 13,
     "metadata": {},
     "output_type": "execute_result"
    },
    {
     "data": {
      "text/plain": [
       "<folium.features.CircleMarker at 0x1a264f1390>"
      ]
     },
     "execution_count": 13,
     "metadata": {},
     "output_type": "execute_result"
    },
    {
     "data": {
      "text/plain": [
       "<folium.features.CircleMarker at 0x1a2651c8d0>"
      ]
     },
     "execution_count": 13,
     "metadata": {},
     "output_type": "execute_result"
    },
    {
     "data": {
      "text/html": [
       "<div style=\"width:100%;\"><div style=\"position:relative;width:100%;height:0;padding-bottom:60%;\"><iframe src=\"data:text/html;charset=utf-8;base64,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\" style=\"position:absolute;width:100%;height:100%;left:0;top:0;border:none !important;\" allowfullscreen webkitallowfullscreen mozallowfullscreen></iframe></div></div>"
      ],
      "text/plain": [
       "<folium.folium.Map at 0x1a2618ecd0>"
      ]
     },
     "execution_count": 13,
     "metadata": {},
     "output_type": "execute_result"
    }
   ],
   "source": [
    "# create map of New York using latitude and longitude values\n",
    "map_newyork = folium.Map(location=[latitude, longitude], zoom_start=10)\n",
    "\n",
    "# add markers to map\n",
    "for lat, lng, borough, neighborhood in zip(neighborhoods['Latitude'], neighborhoods['Longitude'], neighborhoods['Borough'], neighborhoods['Neighborhood']):\n",
    "    label = '{}, {}'.format(neighborhood, borough)\n",
    "    label = folium.Popup(label, parse_html=True)\n",
    "    folium.CircleMarker(\n",
    "        [lat, lng],\n",
    "        radius=5,\n",
    "        popup=label,\n",
    "        color='blue',\n",
    "        fill=True,\n",
    "        fill_color='#3186cc',\n",
    "        fill_opacity=0.7,\n",
    "        parse_html=False).add_to(map_newyork)  \n",
    "    \n",
    "map_newyork"
   ]
  },
  {
   "cell_type": "markdown",
   "metadata": {},
   "source": [
    "**Folium** is a great visualization library. Feel free to zoom into the above map, and click on each circle mark to reveal the name of the neighborhood and its respective borough."
   ]
  },
  {
   "cell_type": "markdown",
   "metadata": {},
   "source": [
    "However, for illustration purposes, let's simplify the above map and segment and cluster only the neighborhoods in Manhattan. So let's slice the original dataframe and create a new dataframe of the Manhattan data."
   ]
  },
  {
   "cell_type": "code",
   "execution_count": 14,
   "metadata": {},
   "outputs": [
    {
     "data": {
      "text/html": [
       "<div>\n",
       "<style scoped>\n",
       "    .dataframe tbody tr th:only-of-type {\n",
       "        vertical-align: middle;\n",
       "    }\n",
       "\n",
       "    .dataframe tbody tr th {\n",
       "        vertical-align: top;\n",
       "    }\n",
       "\n",
       "    .dataframe thead th {\n",
       "        text-align: right;\n",
       "    }\n",
       "</style>\n",
       "<table border=\"1\" class=\"dataframe\">\n",
       "  <thead>\n",
       "    <tr style=\"text-align: right;\">\n",
       "      <th></th>\n",
       "      <th>Borough</th>\n",
       "      <th>Neighborhood</th>\n",
       "      <th>Latitude</th>\n",
       "      <th>Longitude</th>\n",
       "    </tr>\n",
       "  </thead>\n",
       "  <tbody>\n",
       "    <tr>\n",
       "      <td>0</td>\n",
       "      <td>Manhattan</td>\n",
       "      <td>Marble Hill</td>\n",
       "      <td>40.876551</td>\n",
       "      <td>-73.910660</td>\n",
       "    </tr>\n",
       "    <tr>\n",
       "      <td>1</td>\n",
       "      <td>Manhattan</td>\n",
       "      <td>Chinatown</td>\n",
       "      <td>40.715618</td>\n",
       "      <td>-73.994279</td>\n",
       "    </tr>\n",
       "    <tr>\n",
       "      <td>2</td>\n",
       "      <td>Manhattan</td>\n",
       "      <td>Washington Heights</td>\n",
       "      <td>40.851903</td>\n",
       "      <td>-73.936900</td>\n",
       "    </tr>\n",
       "    <tr>\n",
       "      <td>3</td>\n",
       "      <td>Manhattan</td>\n",
       "      <td>Inwood</td>\n",
       "      <td>40.867684</td>\n",
       "      <td>-73.921210</td>\n",
       "    </tr>\n",
       "    <tr>\n",
       "      <td>4</td>\n",
       "      <td>Manhattan</td>\n",
       "      <td>Hamilton Heights</td>\n",
       "      <td>40.823604</td>\n",
       "      <td>-73.949688</td>\n",
       "    </tr>\n",
       "  </tbody>\n",
       "</table>\n",
       "</div>"
      ],
      "text/plain": [
       "     Borough        Neighborhood   Latitude  Longitude\n",
       "0  Manhattan         Marble Hill  40.876551 -73.910660\n",
       "1  Manhattan           Chinatown  40.715618 -73.994279\n",
       "2  Manhattan  Washington Heights  40.851903 -73.936900\n",
       "3  Manhattan              Inwood  40.867684 -73.921210\n",
       "4  Manhattan    Hamilton Heights  40.823604 -73.949688"
      ]
     },
     "execution_count": 14,
     "metadata": {},
     "output_type": "execute_result"
    }
   ],
   "source": [
    "manhattan_data = neighborhoods[neighborhoods['Borough'] == 'Manhattan'].reset_index(drop=True)\n",
    "manhattan_data.head()"
   ]
  },
  {
   "cell_type": "markdown",
   "metadata": {},
   "source": [
    "Let's get the geographical coordinates of Manhattan."
   ]
  },
  {
   "cell_type": "code",
   "execution_count": 16,
   "metadata": {},
   "outputs": [],
   "source": [
    "address = 'Manhattan, NY'\n",
    "\n",
    "# geolocator = Nominatim(user_agent=\"ny_explorer\")\n",
    "# location = geolocator.geocode(address)\n",
    "# latitude = location.latitude\n",
    "# longitude = location.longitude\n",
    "# print('The geograpical coordinate of Manhattan are {}, {}.'.format(latitude, longitude))\n",
    "\n",
    "latitude = 40.7831\n",
    "longitude = -73.9712"
   ]
  },
  {
   "cell_type": "markdown",
   "metadata": {},
   "source": [
    "As we did with all of New York City, let's visualizat Manhattan the neighborhoods in it."
   ]
  },
  {
   "cell_type": "code",
   "execution_count": 17,
   "metadata": {},
   "outputs": [
    {
     "data": {
      "text/plain": [
       "<folium.features.CircleMarker at 0x10c420a10>"
      ]
     },
     "execution_count": 17,
     "metadata": {},
     "output_type": "execute_result"
    },
    {
     "data": {
      "text/plain": [
       "<folium.features.CircleMarker at 0x1a26534b50>"
      ]
     },
     "execution_count": 17,
     "metadata": {},
     "output_type": "execute_result"
    },
    {
     "data": {
      "text/plain": [
       "<folium.features.CircleMarker at 0x10c420dd0>"
      ]
     },
     "execution_count": 17,
     "metadata": {},
     "output_type": "execute_result"
    },
    {
     "data": {
      "text/plain": [
       "<folium.features.CircleMarker at 0x1a25e99c50>"
      ]
     },
     "execution_count": 17,
     "metadata": {},
     "output_type": "execute_result"
    },
    {
     "data": {
      "text/plain": [
       "<folium.features.CircleMarker at 0x10c42ded0>"
      ]
     },
     "execution_count": 17,
     "metadata": {},
     "output_type": "execute_result"
    },
    {
     "data": {
      "text/plain": [
       "<folium.features.CircleMarker at 0x10c44b590>"
      ]
     },
     "execution_count": 17,
     "metadata": {},
     "output_type": "execute_result"
    },
    {
     "data": {
      "text/plain": [
       "<folium.features.CircleMarker at 0x10c4501d0>"
      ]
     },
     "execution_count": 17,
     "metadata": {},
     "output_type": "execute_result"
    },
    {
     "data": {
      "text/plain": [
       "<folium.features.CircleMarker at 0x1a265075d0>"
      ]
     },
     "execution_count": 17,
     "metadata": {},
     "output_type": "execute_result"
    },
    {
     "data": {
      "text/plain": [
       "<folium.features.CircleMarker at 0x10c450410>"
      ]
     },
     "execution_count": 17,
     "metadata": {},
     "output_type": "execute_result"
    },
    {
     "data": {
      "text/plain": [
       "<folium.features.CircleMarker at 0x10c42db90>"
      ]
     },
     "execution_count": 17,
     "metadata": {},
     "output_type": "execute_result"
    },
    {
     "data": {
      "text/plain": [
       "<folium.features.CircleMarker at 0x10c4abd10>"
      ]
     },
     "execution_count": 17,
     "metadata": {},
     "output_type": "execute_result"
    },
    {
     "data": {
      "text/plain": [
       "<folium.features.CircleMarker at 0x10c450250>"
      ]
     },
     "execution_count": 17,
     "metadata": {},
     "output_type": "execute_result"
    },
    {
     "data": {
      "text/plain": [
       "<folium.features.CircleMarker at 0x10c4ab590>"
      ]
     },
     "execution_count": 17,
     "metadata": {},
     "output_type": "execute_result"
    },
    {
     "data": {
      "text/plain": [
       "<folium.features.CircleMarker at 0x10c429610>"
      ]
     },
     "execution_count": 17,
     "metadata": {},
     "output_type": "execute_result"
    },
    {
     "data": {
      "text/plain": [
       "<folium.features.CircleMarker at 0x10c424590>"
      ]
     },
     "execution_count": 17,
     "metadata": {},
     "output_type": "execute_result"
    },
    {
     "data": {
      "text/plain": [
       "<folium.features.CircleMarker at 0x10c42d5d0>"
      ]
     },
     "execution_count": 17,
     "metadata": {},
     "output_type": "execute_result"
    },
    {
     "data": {
      "text/plain": [
       "<folium.features.CircleMarker at 0x1a261bed10>"
      ]
     },
     "execution_count": 17,
     "metadata": {},
     "output_type": "execute_result"
    },
    {
     "data": {
      "text/plain": [
       "<folium.features.CircleMarker at 0x10c429410>"
      ]
     },
     "execution_count": 17,
     "metadata": {},
     "output_type": "execute_result"
    },
    {
     "data": {
      "text/plain": [
       "<folium.features.CircleMarker at 0x10c4b4650>"
      ]
     },
     "execution_count": 17,
     "metadata": {},
     "output_type": "execute_result"
    },
    {
     "data": {
      "text/plain": [
       "<folium.features.CircleMarker at 0x10c42dbd0>"
      ]
     },
     "execution_count": 17,
     "metadata": {},
     "output_type": "execute_result"
    },
    {
     "data": {
      "text/plain": [
       "<folium.features.CircleMarker at 0x10c429550>"
      ]
     },
     "execution_count": 17,
     "metadata": {},
     "output_type": "execute_result"
    },
    {
     "data": {
      "text/plain": [
       "<folium.features.CircleMarker at 0x10c450850>"
      ]
     },
     "execution_count": 17,
     "metadata": {},
     "output_type": "execute_result"
    },
    {
     "data": {
      "text/plain": [
       "<folium.features.CircleMarker at 0x10c4b4e90>"
      ]
     },
     "execution_count": 17,
     "metadata": {},
     "output_type": "execute_result"
    },
    {
     "data": {
      "text/plain": [
       "<folium.features.CircleMarker at 0x10c49f8d0>"
      ]
     },
     "execution_count": 17,
     "metadata": {},
     "output_type": "execute_result"
    },
    {
     "data": {
      "text/plain": [
       "<folium.features.CircleMarker at 0x10c450810>"
      ]
     },
     "execution_count": 17,
     "metadata": {},
     "output_type": "execute_result"
    },
    {
     "data": {
      "text/plain": [
       "<folium.features.CircleMarker at 0x10c4aa290>"
      ]
     },
     "execution_count": 17,
     "metadata": {},
     "output_type": "execute_result"
    },
    {
     "data": {
      "text/plain": [
       "<folium.features.CircleMarker at 0x10c429750>"
      ]
     },
     "execution_count": 17,
     "metadata": {},
     "output_type": "execute_result"
    },
    {
     "data": {
      "text/plain": [
       "<folium.features.CircleMarker at 0x10c424250>"
      ]
     },
     "execution_count": 17,
     "metadata": {},
     "output_type": "execute_result"
    },
    {
     "data": {
      "text/plain": [
       "<folium.features.CircleMarker at 0x10c47df10>"
      ]
     },
     "execution_count": 17,
     "metadata": {},
     "output_type": "execute_result"
    },
    {
     "data": {
      "text/plain": [
       "<folium.features.CircleMarker at 0x10c4ab550>"
      ]
     },
     "execution_count": 17,
     "metadata": {},
     "output_type": "execute_result"
    },
    {
     "data": {
      "text/plain": [
       "<folium.features.CircleMarker at 0x10c49fa10>"
      ]
     },
     "execution_count": 17,
     "metadata": {},
     "output_type": "execute_result"
    },
    {
     "data": {
      "text/plain": [
       "<folium.features.CircleMarker at 0x10c4f5b50>"
      ]
     },
     "execution_count": 17,
     "metadata": {},
     "output_type": "execute_result"
    },
    {
     "data": {
      "text/plain": [
       "<folium.features.CircleMarker at 0x10c4ab850>"
      ]
     },
     "execution_count": 17,
     "metadata": {},
     "output_type": "execute_result"
    },
    {
     "data": {
      "text/plain": [
       "<folium.features.CircleMarker at 0x10c4b4490>"
      ]
     },
     "execution_count": 17,
     "metadata": {},
     "output_type": "execute_result"
    },
    {
     "data": {
      "text/plain": [
       "<folium.features.CircleMarker at 0x10c49fbd0>"
      ]
     },
     "execution_count": 17,
     "metadata": {},
     "output_type": "execute_result"
    },
    {
     "data": {
      "text/plain": [
       "<folium.features.CircleMarker at 0x10c47dd90>"
      ]
     },
     "execution_count": 17,
     "metadata": {},
     "output_type": "execute_result"
    },
    {
     "data": {
      "text/plain": [
       "<folium.features.CircleMarker at 0x10c47df50>"
      ]
     },
     "execution_count": 17,
     "metadata": {},
     "output_type": "execute_result"
    },
    {
     "data": {
      "text/plain": [
       "<folium.features.CircleMarker at 0x10c4f56d0>"
      ]
     },
     "execution_count": 17,
     "metadata": {},
     "output_type": "execute_result"
    },
    {
     "data": {
      "text/plain": [
       "<folium.features.CircleMarker at 0x10c4f5290>"
      ]
     },
     "execution_count": 17,
     "metadata": {},
     "output_type": "execute_result"
    },
    {
     "data": {
      "text/plain": [
       "<folium.features.CircleMarker at 0x10c4dce10>"
      ]
     },
     "execution_count": 17,
     "metadata": {},
     "output_type": "execute_result"
    },
    {
     "data": {
      "text/html": [
       "<div style=\"width:100%;\"><div style=\"position:relative;width:100%;height:0;padding-bottom:60%;\"><iframe src=\"data:text/html;charset=utf-8;base64,PCFET0NUWVBFIGh0bWw+CjxoZWFkPiAgICAKICAgIDxtZXRhIGh0dHAtZXF1aXY9ImNvbnRlbnQtdHlwZSIgY29udGVudD0idGV4dC9odG1sOyBjaGFyc2V0PVVURi04IiAvPgogICAgPHNjcmlwdD5MX1BSRUZFUl9DQU5WQVMgPSBmYWxzZTsgTF9OT19UT1VDSCA9IGZhbHNlOyBMX0RJU0FCTEVfM0QgPSBmYWxzZTs8L3NjcmlwdD4KICAgIDxzY3JpcHQgc3JjPSJodHRwczovL2Nkbi5qc2RlbGl2ci5uZXQvbnBtL2xlYWZsZXRAMS4yLjAvZGlzdC9sZWFmbGV0LmpzIj48L3NjcmlwdD4KICAgIDxzY3JpcHQgc3JjPSJodHRwczovL2FqYXguZ29vZ2xlYXBpcy5jb20vYWpheC9saWJzL2pxdWVyeS8xLjExLjEvanF1ZXJ5Lm1pbi5qcyI+PC9zY3JpcHQ+CiAgICA8c2NyaXB0IHNyYz0iaHR0cHM6Ly9tYXhjZG4uYm9vdHN0cmFwY2RuLmNvbS9ib290c3RyYXAvMy4yLjAvanMvYm9vdHN0cmFwLm1pbi5qcyI+PC9zY3JpcHQ+CiAgICA8c2NyaXB0IHNyYz0iaHR0cHM6Ly9jZG5qcy5jbG91ZGZsYXJlLmNvbS9hamF4L2xpYnMvTGVhZmxldC5hd2Vzb21lLW1hcmtlcnMvMi4wLjIvbGVhZmxldC5hd2Vzb21lLW1hcmtlcnMuanMiPjwvc2NyaXB0PgogICAgPGxpbmsgcmVsPSJzdHlsZXNoZWV0IiBocmVmPSJodHRwczovL2Nkbi5qc2RlbGl2ci5uZXQvbnBtL2xlYWZsZXRAMS4yLjAvZGlzdC9sZWFmbGV0LmNzcyIvPgogICAgPGxpbmsgcmVsPSJzdHlsZXNoZWV0IiBocmVmPSJodHRwczovL21heGNkbi5ib290c3RyYXBjZG4uY29tL2Jvb3RzdHJhcC8zLjIuMC9jc3MvYm9vdHN0cmFwLm1pbi5jc3MiLz4KICAgIDxsaW5rIHJlbD0ic3R5bGVzaGVldCIgaHJlZj0iaHR0cHM6Ly9tYXhjZG4uYm9vdHN0cmFwY2RuLmNvbS9ib290c3RyYXAvMy4yLjAvY3NzL2Jvb3RzdHJhcC10aGVtZS5taW4uY3NzIi8+CiAgICA8bGluayByZWw9InN0eWxlc2hlZXQiIGhyZWY9Imh0dHBzOi8vbWF4Y2RuLmJvb3RzdHJhcGNkbi5jb20vZm9udC1hd2Vzb21lLzQuNi4zL2Nzcy9mb250LWF3ZXNvbWUubWluLmNzcyIvPgogICAgPGxpbmsgcmVsPSJzdHlsZXNoZWV0IiBocmVmPSJodHRwczovL2NkbmpzLmNsb3VkZmxhcmUuY29tL2FqYXgvbGlicy9MZWFmbGV0LmF3ZXNvbWUtbWFya2Vycy8yLjAuMi9sZWFmbGV0LmF3ZXNvbWUtbWFya2Vycy5jc3MiLz4KICAgIDxsaW5rIHJlbD0ic3R5bGVzaGVldCIgaHJlZj0iaHR0cHM6Ly9yYXdnaXQuY29tL3B5dGhvbi12aXN1YWxpemF0aW9uL2ZvbGl1bS9tYXN0ZXIvZm9saXVtL3RlbXBsYXRlcy9sZWFmbGV0LmF3ZXNvbWUucm90YXRlLmNzcyIvPgogICAgPHN0eWxlPmh0bWwsIGJvZHkge3dpZHRoOiAxMDAlO2hlaWdodDogMTAwJTttYXJnaW46IDA7cGFkZGluZzogMDt9PC9zdHlsZT4KICAgIDxzdHlsZT4jbWFwIHtwb3NpdGlvbjphYnNvbHV0ZTt0b3A6MDtib3R0b206MDtyaWdodDowO2xlZnQ6MDt9PC9zdHlsZT4KICAgIAogICAgICAgICAgICA8c3R5bGU+ICNtYXBfZTNkNDUwMzlkZDc0NGQ5NTllNjUxZGM0YzFhNWI3NTMgewogICAgICAgICAgICAgICAgcG9zaXRpb24gOiByZWxhdGl2ZTsKICAgICAgICAgICAgICAgIHdpZHRoIDogMTAwLjAlOwogICAgICAgICAgICAgICAgaGVpZ2h0OiAxMDAuMCU7CiAgICAgICAgICAgICAgICBsZWZ0OiAwLjAlOwogICAgICAgICAgICAgICAgdG9wOiAwLjAlOwogICAgICAgICAgICAgICAgfQogICAgICAgICAgICA8L3N0eWxlPgogICAgICAgIAo8L2hlYWQ+Cjxib2R5PiAgICAKICAgIAogICAgICAgICAgICA8ZGl2IGNsYXNzPSJmb2xpdW0tbWFwIiBpZD0ibWFwX2UzZDQ1MDM5ZGQ3NDRkOTU5ZTY1MWRjNGMxYTViNzUzIiA+PC9kaXY+CiAgICAgICAgCjwvYm9keT4KPHNjcmlwdD4gICAgCiAgICAKCiAgICAgICAgICAgIAogICAgICAgICAgICAgICAgdmFyIGJvdW5kcyA9IG51bGw7CiAgICAgICAgICAgIAoKICAgICAgICAgICAgdmFyIG1hcF9lM2Q0NTAzOWRkNzQ0ZDk1OWU2NTFkYzRjMWE1Yjc1MyA9IEwubWFwKAogICAgICAgICAgICAgICAgICAgICAgICAgICAgICAgICAgJ21hcF9lM2Q0NTAzOWRkNzQ0ZDk1OWU2NTFkYzRjMWE1Yjc1MycsCiAgICAgICAgICAgICAgICAgICAgICAgICAgICAgICAgICB7Y2VudGVyOiBbNDAuNzgzMSwtNzMuOTcxMl0sCiAgICAgICAgICAgICAgICAgICAgICAgICAgICAgICAgICB6b29tOiAxMSwKICAgICAgICAgICAgICAgICAgICAgICAgICAgICAgICAgIG1heEJvdW5kczogYm91bmRzLAogICAgICAgICAgICAgICAgICAgICAgICAgICAgICAgICAgbGF5ZXJzOiBbXSwKICAgICAgICAgICAgICAgICAgICAgICAgICAgICAgICAgIHdvcmxkQ29weUp1bXA6IGZhbHNlLAogICAgICAgICAgICAgICAgICAgICAgICAgICAgICAgICAgY3JzOiBMLkNSUy5FUFNHMzg1NwogICAgICAgICAgICAgICAgICAgICAgICAgICAgICAgICB9KTsKICAgICAgICAgICAgCiAgICAgICAgCiAgICAKICAgICAgICAgICAgdmFyIHRpbGVfbGF5ZXJfYmIzOTBiNTRlMTA0NDgyODhmMDYxMzZhYjc3NmIyMTUgPSBMLnRpbGVMYXllcigKICAgICAgICAgICAgICAgICdodHRwczovL3tzfS50aWxlLm9wZW5zdHJlZXRtYXAub3JnL3t6fS97eH0ve3l9LnBuZycsCiAgICAgICAgICAgICAgICB7CiAgImF0dHJpYnV0aW9uIjogbnVsbCwKICAiZGV0ZWN0UmV0aW5hIjogZmFsc2UsCiAgIm1heFpvb20iOiAxOCwKICAibWluWm9vbSI6IDEsCiAgIm5vV3JhcCI6IGZhbHNlLAogICJzdWJkb21haW5zIjogImFiYyIKfQogICAgICAgICAgICAgICAgKS5hZGRUbyhtYXBfZTNkNDUwMzlkZDc0NGQ5NTllNjUxZGM0YzFhNWI3NTMpOwogICAgICAgIAogICAgCiAgICAgICAgICAgIHZhciBjaXJjbGVfbWFya2VyXzVhODczOTJmOGRlOTRjNTA5MzgyZTE5M2UzZGVkN2QwID0gTC5jaXJjbGVNYXJrZXIoCiAgICAgICAgICAgICAgICBbNDAuODc2NTUwNzc4Nzk5NjQsLTczLjkxMDY1OTY1ODYyOTgxXSwKICAgICAgICAgICAgICAgIHsKICAiYnViYmxpbmdNb3VzZUV2ZW50cyI6IHRydWUsCiAgImNvbG9yIjogImJsdWUiLAogICJkYXNoQXJyYXkiOiBudWxsLAogICJkYXNoT2Zmc2V0IjogbnVsbCwKICAiZmlsbCI6IHRydWUsCiAgImZpbGxDb2xvciI6ICIjMzE4NmNjIiwKICAiZmlsbE9wYWNpdHkiOiAwLjcsCiAgImZpbGxSdWxlIjogImV2ZW5vZGQiLAogICJsaW5lQ2FwIjogInJvdW5kIiwKICAibGluZUpvaW4iOiAicm91bmQiLAogICJvcGFjaXR5IjogMS4wLAogICJyYWRpdXMiOiA1LAogICJzdHJva2UiOiB0cnVlLAogICJ3ZWlnaHQiOiAzCn0KICAgICAgICAgICAgICAgICkuYWRkVG8obWFwX2UzZDQ1MDM5ZGQ3NDRkOTU5ZTY1MWRjNGMxYTViNzUzKTsKICAgICAgICAgICAgCiAgICAKICAgICAgICAgICAgdmFyIHBvcHVwX2E3OGZlOTQwMDNkZDQ2NWU4MGQyMDNmMzYwZmJkOTFjID0gTC5wb3B1cCh7bWF4V2lkdGg6ICczMDAnfSk7CgogICAgICAgICAgICAKICAgICAgICAgICAgICAgIHZhciBodG1sX2Q0YTBmNDViYjUxYTRkY2FiMzVmNTkxNTdjYjBmMDI2ID0gJCgnPGRpdiBpZD0iaHRtbF9kNGEwZjQ1YmI1MWE0ZGNhYjM1ZjU5MTU3Y2IwZjAyNiIgc3R5bGU9IndpZHRoOiAxMDAuMCU7IGhlaWdodDogMTAwLjAlOyI+TWFyYmxlIEhpbGw8L2Rpdj4nKVswXTsKICAgICAgICAgICAgICAgIHBvcHVwX2E3OGZlOTQwMDNkZDQ2NWU4MGQyMDNmMzYwZmJkOTFjLnNldENvbnRlbnQoaHRtbF9kNGEwZjQ1YmI1MWE0ZGNhYjM1ZjU5MTU3Y2IwZjAyNik7CiAgICAgICAgICAgIAoKICAgICAgICAgICAgY2lyY2xlX21hcmtlcl81YTg3MzkyZjhkZTk0YzUwOTM4MmUxOTNlM2RlZDdkMC5iaW5kUG9wdXAocG9wdXBfYTc4ZmU5NDAwM2RkNDY1ZTgwZDIwM2YzNjBmYmQ5MWMpOwoKICAgICAgICAgICAgCiAgICAgICAgCiAgICAKICAgICAgICAgICAgdmFyIGNpcmNsZV9tYXJrZXJfZTRiMGNlMTE0MTYyNDE5OTliOWRkMTFmZjIwMTQ5YzIgPSBMLmNpcmNsZU1hcmtlcigKICAgICAgICAgICAgICAgIFs0MC43MTU2MTg0MjIzMTQzMiwtNzMuOTk0Mjc5MzYyNTU5NzhdLAogICAgICAgICAgICAgICAgewogICJidWJibGluZ01vdXNlRXZlbnRzIjogdHJ1ZSwKICAiY29sb3IiOiAiYmx1ZSIsCiAgImRhc2hBcnJheSI6IG51bGwsCiAgImRhc2hPZmZzZXQiOiBudWxsLAogICJmaWxsIjogdHJ1ZSwKICAiZmlsbENvbG9yIjogIiMzMTg2Y2MiLAogICJmaWxsT3BhY2l0eSI6IDAuNywKICAiZmlsbFJ1bGUiOiAiZXZlbm9kZCIsCiAgImxpbmVDYXAiOiAicm91bmQiLAogICJsaW5lSm9pbiI6ICJyb3VuZCIsCiAgIm9wYWNpdHkiOiAxLjAsCiAgInJhZGl1cyI6IDUsCiAgInN0cm9rZSI6IHRydWUsCiAgIndlaWdodCI6IDMKfQogICAgICAgICAgICAgICAgKS5hZGRUbyhtYXBfZTNkNDUwMzlkZDc0NGQ5NTllNjUxZGM0YzFhNWI3NTMpOwogICAgICAgICAgICAKICAgIAogICAgICAgICAgICB2YXIgcG9wdXBfZGQyMmJhNmUzOTlmNGUzOTljODA0MzE2ODMwMmQyNzQgPSBMLnBvcHVwKHttYXhXaWR0aDogJzMwMCd9KTsKCiAgICAgICAgICAgIAogICAgICAgICAgICAgICAgdmFyIGh0bWxfMDFiZWFhNzAxNTY5NGUxNGIxYzIxODFhNjc3MDc4NzMgPSAkKCc8ZGl2IGlkPSJodG1sXzAxYmVhYTcwMTU2OTRlMTRiMWMyMTgxYTY3NzA3ODczIiBzdHlsZT0id2lkdGg6IDEwMC4wJTsgaGVpZ2h0OiAxMDAuMCU7Ij5DaGluYXRvd248L2Rpdj4nKVswXTsKICAgICAgICAgICAgICAgIHBvcHVwX2RkMjJiYTZlMzk5ZjRlMzk5YzgwNDMxNjgzMDJkMjc0LnNldENvbnRlbnQoaHRtbF8wMWJlYWE3MDE1Njk0ZTE0YjFjMjE4MWE2NzcwNzg3Myk7CiAgICAgICAgICAgIAoKICAgICAgICAgICAgY2lyY2xlX21hcmtlcl9lNGIwY2UxMTQxNjI0MTk5OWI5ZGQxMWZmMjAxNDljMi5iaW5kUG9wdXAocG9wdXBfZGQyMmJhNmUzOTlmNGUzOTljODA0MzE2ODMwMmQyNzQpOwoKICAgICAgICAgICAgCiAgICAgICAgCiAgICAKICAgICAgICAgICAgdmFyIGNpcmNsZV9tYXJrZXJfZTFmYmZiMTI2MjhmNGE3NTliZjZiODMxMzExNGMxY2YgPSBMLmNpcmNsZU1hcmtlcigKICAgICAgICAgICAgICAgIFs0MC44NTE5MDI1MjU1NTMwNSwtNzMuOTM2OTAwMjc5ODUyMzRdLAogICAgICAgICAgICAgICAgewogICJidWJibGluZ01vdXNlRXZlbnRzIjogdHJ1ZSwKICAiY29sb3IiOiAiYmx1ZSIsCiAgImRhc2hBcnJheSI6IG51bGwsCiAgImRhc2hPZmZzZXQiOiBudWxsLAogICJmaWxsIjogdHJ1ZSwKICAiZmlsbENvbG9yIjogIiMzMTg2Y2MiLAogICJmaWxsT3BhY2l0eSI6IDAuNywKICAiZmlsbFJ1bGUiOiAiZXZlbm9kZCIsCiAgImxpbmVDYXAiOiAicm91bmQiLAogICJsaW5lSm9pbiI6ICJyb3VuZCIsCiAgIm9wYWNpdHkiOiAxLjAsCiAgInJhZGl1cyI6IDUsCiAgInN0cm9rZSI6IHRydWUsCiAgIndlaWdodCI6IDMKfQogICAgICAgICAgICAgICAgKS5hZGRUbyhtYXBfZTNkNDUwMzlkZDc0NGQ5NTllNjUxZGM0YzFhNWI3NTMpOwogICAgICAgICAgICAKICAgIAogICAgICAgICAgICB2YXIgcG9wdXBfMTI3YjE2ZWMwNjdkNDM2ZTkyYTFjNGYwNmQzNDZkNzggPSBMLnBvcHVwKHttYXhXaWR0aDogJzMwMCd9KTsKCiAgICAgICAgICAgIAogICAgICAgICAgICAgICAgdmFyIGh0bWxfM2QxYTE4ZWZhODI5NGIwMzlhMmI4YzQ1ZDBjMjk5NzcgPSAkKCc8ZGl2IGlkPSJodG1sXzNkMWExOGVmYTgyOTRiMDM5YTJiOGM0NWQwYzI5OTc3IiBzdHlsZT0id2lkdGg6IDEwMC4wJTsgaGVpZ2h0OiAxMDAuMCU7Ij5XYXNoaW5ndG9uIEhlaWdodHM8L2Rpdj4nKVswXTsKICAgICAgICAgICAgICAgIHBvcHVwXzEyN2IxNmVjMDY3ZDQzNmU5MmExYzRmMDZkMzQ2ZDc4LnNldENvbnRlbnQoaHRtbF8zZDFhMThlZmE4Mjk0YjAzOWEyYjhjNDVkMGMyOTk3Nyk7CiAgICAgICAgICAgIAoKICAgICAgICAgICAgY2lyY2xlX21hcmtlcl9lMWZiZmIxMjYyOGY0YTc1OWJmNmI4MzEzMTE0YzFjZi5iaW5kUG9wdXAocG9wdXBfMTI3YjE2ZWMwNjdkNDM2ZTkyYTFjNGYwNmQzNDZkNzgpOwoKICAgICAgICAgICAgCiAgICAgICAgCiAgICAKICAgICAgICAgICAgdmFyIGNpcmNsZV9tYXJrZXJfNzVkMjNiMjg5YWEyNGJlYmE1NjFhZGRmMTY3ZWY4YmYgPSBMLmNpcmNsZU1hcmtlcigKICAgICAgICAgICAgICAgIFs0MC44Njc2ODM5NjQ0OTkxNSwtNzMuOTIxMjEwNDIyMDM4OTddLAogICAgICAgICAgICAgICAgewogICJidWJibGluZ01vdXNlRXZlbnRzIjogdHJ1ZSwKICAiY29sb3IiOiAiYmx1ZSIsCiAgImRhc2hBcnJheSI6IG51bGwsCiAgImRhc2hPZmZzZXQiOiBudWxsLAogICJmaWxsIjogdHJ1ZSwKICAiZmlsbENvbG9yIjogIiMzMTg2Y2MiLAogICJmaWxsT3BhY2l0eSI6IDAuNywKICAiZmlsbFJ1bGUiOiAiZXZlbm9kZCIsCiAgImxpbmVDYXAiOiAicm91bmQiLAogICJsaW5lSm9pbiI6ICJyb3VuZCIsCiAgIm9wYWNpdHkiOiAxLjAsCiAgInJhZGl1cyI6IDUsCiAgInN0cm9rZSI6IHRydWUsCiAgIndlaWdodCI6IDMKfQogICAgICAgICAgICAgICAgKS5hZGRUbyhtYXBfZTNkNDUwMzlkZDc0NGQ5NTllNjUxZGM0YzFhNWI3NTMpOwogICAgICAgICAgICAKICAgIAogICAgICAgICAgICB2YXIgcG9wdXBfOGNmNmE4NTJiODVkNDI4ZGIzMTNlZGJlZWQzODU2MDggPSBMLnBvcHVwKHttYXhXaWR0aDogJzMwMCd9KTsKCiAgICAgICAgICAgIAogICAgICAgICAgICAgICAgdmFyIGh0bWxfNTIzZjRmN2QzMmQxNGU4OThiOGJiNDc4MDUyYTM2NDUgPSAkKCc8ZGl2IGlkPSJodG1sXzUyM2Y0ZjdkMzJkMTRlODk4YjhiYjQ3ODA1MmEzNjQ1IiBzdHlsZT0id2lkdGg6IDEwMC4wJTsgaGVpZ2h0OiAxMDAuMCU7Ij5Jbndvb2Q8L2Rpdj4nKVswXTsKICAgICAgICAgICAgICAgIHBvcHVwXzhjZjZhODUyYjg1ZDQyOGRiMzEzZWRiZWVkMzg1NjA4LnNldENvbnRlbnQoaHRtbF81MjNmNGY3ZDMyZDE0ZTg5OGI4YmI0NzgwNTJhMzY0NSk7CiAgICAgICAgICAgIAoKICAgICAgICAgICAgY2lyY2xlX21hcmtlcl83NWQyM2IyODlhYTI0YmViYTU2MWFkZGYxNjdlZjhiZi5iaW5kUG9wdXAocG9wdXBfOGNmNmE4NTJiODVkNDI4ZGIzMTNlZGJlZWQzODU2MDgpOwoKICAgICAgICAgICAgCiAgICAgICAgCiAgICAKICAgICAgICAgICAgdmFyIGNpcmNsZV9tYXJrZXJfMWRmNzgxZTY1YjIyNDgyZWJkY2EwMWFjYzkzY2Q4MjUgPSBMLmNpcmNsZU1hcmtlcigKICAgICAgICAgICAgICAgIFs0MC44MjM2MDQyODQ4MTE5MzUsLTczLjk0OTY4NzkxODgzMzY2XSwKICAgICAgICAgICAgICAgIHsKICAiYnViYmxpbmdNb3VzZUV2ZW50cyI6IHRydWUsCiAgImNvbG9yIjogImJsdWUiLAogICJkYXNoQXJyYXkiOiBudWxsLAogICJkYXNoT2Zmc2V0IjogbnVsbCwKICAiZmlsbCI6IHRydWUsCiAgImZpbGxDb2xvciI6ICIjMzE4NmNjIiwKICAiZmlsbE9wYWNpdHkiOiAwLjcsCiAgImZpbGxSdWxlIjogImV2ZW5vZGQiLAogICJsaW5lQ2FwIjogInJvdW5kIiwKICAibGluZUpvaW4iOiAicm91bmQiLAogICJvcGFjaXR5IjogMS4wLAogICJyYWRpdXMiOiA1LAogICJzdHJva2UiOiB0cnVlLAogICJ3ZWlnaHQiOiAzCn0KICAgICAgICAgICAgICAgICkuYWRkVG8obWFwX2UzZDQ1MDM5ZGQ3NDRkOTU5ZTY1MWRjNGMxYTViNzUzKTsKICAgICAgICAgICAgCiAgICAKICAgICAgICAgICAgdmFyIHBvcHVwX2JlMGRhYmRhYjA1MDQ0ZWJhZjQ2MGZmZjA0MTY2YzJjID0gTC5wb3B1cCh7bWF4V2lkdGg6ICczMDAnfSk7CgogICAgICAgICAgICAKICAgICAgICAgICAgICAgIHZhciBodG1sXzdmOWU3ODZhN2Y2YzRjMjQ4YTRlYmU4MzVkMWE4OTQwID0gJCgnPGRpdiBpZD0iaHRtbF83ZjllNzg2YTdmNmM0YzI0OGE0ZWJlODM1ZDFhODk0MCIgc3R5bGU9IndpZHRoOiAxMDAuMCU7IGhlaWdodDogMTAwLjAlOyI+SGFtaWx0b24gSGVpZ2h0czwvZGl2PicpWzBdOwogICAgICAgICAgICAgICAgcG9wdXBfYmUwZGFiZGFiMDUwNDRlYmFmNDYwZmZmMDQxNjZjMmMuc2V0Q29udGVudChodG1sXzdmOWU3ODZhN2Y2YzRjMjQ4YTRlYmU4MzVkMWE4OTQwKTsKICAgICAgICAgICAgCgogICAgICAgICAgICBjaXJjbGVfbWFya2VyXzFkZjc4MWU2NWIyMjQ4MmViZGNhMDFhY2M5M2NkODI1LmJpbmRQb3B1cChwb3B1cF9iZTBkYWJkYWIwNTA0NGViYWY0NjBmZmYwNDE2NmMyYyk7CgogICAgICAgICAgICAKICAgICAgICAKICAgIAogICAgICAgICAgICB2YXIgY2lyY2xlX21hcmtlcl81NTBlMjFjZTRlMDk0OWJiYTY4NjgxMWUxMDYzMDhiNiA9IEwuY2lyY2xlTWFya2VyKAogICAgICAgICAgICAgICAgWzQwLjgxNjkzNDQyOTQ5NzgsLTczLjk1NzM4NTM5MzUxODhdLAogICAgICAgICAgICAgICAgewogICJidWJibGluZ01vdXNlRXZlbnRzIjogdHJ1ZSwKICAiY29sb3IiOiAiYmx1ZSIsCiAgImRhc2hBcnJheSI6IG51bGwsCiAgImRhc2hPZmZzZXQiOiBudWxsLAogICJmaWxsIjogdHJ1ZSwKICAiZmlsbENvbG9yIjogIiMzMTg2Y2MiLAogICJmaWxsT3BhY2l0eSI6IDAuNywKICAiZmlsbFJ1bGUiOiAiZXZlbm9kZCIsCiAgImxpbmVDYXAiOiAicm91bmQiLAogICJsaW5lSm9pbiI6ICJyb3VuZCIsCiAgIm9wYWNpdHkiOiAxLjAsCiAgInJhZGl1cyI6IDUsCiAgInN0cm9rZSI6IHRydWUsCiAgIndlaWdodCI6IDMKfQogICAgICAgICAgICAgICAgKS5hZGRUbyhtYXBfZTNkNDUwMzlkZDc0NGQ5NTllNjUxZGM0YzFhNWI3NTMpOwogICAgICAgICAgICAKICAgIAogICAgICAgICAgICB2YXIgcG9wdXBfMTA1OTRlZjU1M2QwNDliZGIyMGYxNDRjOTFmMTQ3NTkgPSBMLnBvcHVwKHttYXhXaWR0aDogJzMwMCd9KTsKCiAgICAgICAgICAgIAogICAgICAgICAgICAgICAgdmFyIGh0bWxfMWU2YzdjYWZiZTI3NDdiOWExZTEzZjFiODNlYTM3MGUgPSAkKCc8ZGl2IGlkPSJodG1sXzFlNmM3Y2FmYmUyNzQ3YjlhMWUxM2YxYjgzZWEzNzBlIiBzdHlsZT0id2lkdGg6IDEwMC4wJTsgaGVpZ2h0OiAxMDAuMCU7Ij5NYW5oYXR0YW52aWxsZTwvZGl2PicpWzBdOwogICAgICAgICAgICAgICAgcG9wdXBfMTA1OTRlZjU1M2QwNDliZGIyMGYxNDRjOTFmMTQ3NTkuc2V0Q29udGVudChodG1sXzFlNmM3Y2FmYmUyNzQ3YjlhMWUxM2YxYjgzZWEzNzBlKTsKICAgICAgICAgICAgCgogICAgICAgICAgICBjaXJjbGVfbWFya2VyXzU1MGUyMWNlNGUwOTQ5YmJhNjg2ODExZTEwNjMwOGI2LmJpbmRQb3B1cChwb3B1cF8xMDU5NGVmNTUzZDA0OWJkYjIwZjE0NGM5MWYxNDc1OSk7CgogICAgICAgICAgICAKICAgICAgICAKICAgIAogICAgICAgICAgICB2YXIgY2lyY2xlX21hcmtlcl82YWFiMWY2ZTczZTE0MzYwOWZlNDFiNGZjMTM2ODVjYiA9IEwuY2lyY2xlTWFya2VyKAogICAgICAgICAgICAgICAgWzQwLjgxNTk3NjA2NzQyNDE0LC03My45NDMyMTExMjYwMzkwNV0sCiAgICAgICAgICAgICAgICB7CiAgImJ1YmJsaW5nTW91c2VFdmVudHMiOiB0cnVlLAogICJjb2xvciI6ICJibHVlIiwKICAiZGFzaEFycmF5IjogbnVsbCwKICAiZGFzaE9mZnNldCI6IG51bGwsCiAgImZpbGwiOiB0cnVlLAogICJmaWxsQ29sb3IiOiAiIzMxODZjYyIsCiAgImZpbGxPcGFjaXR5IjogMC43LAogICJmaWxsUnVsZSI6ICJldmVub2RkIiwKICAibGluZUNhcCI6ICJyb3VuZCIsCiAgImxpbmVKb2luIjogInJvdW5kIiwKICAib3BhY2l0eSI6IDEuMCwKICAicmFkaXVzIjogNSwKICAic3Ryb2tlIjogdHJ1ZSwKICAid2VpZ2h0IjogMwp9CiAgICAgICAgICAgICAgICApLmFkZFRvKG1hcF9lM2Q0NTAzOWRkNzQ0ZDk1OWU2NTFkYzRjMWE1Yjc1Myk7CiAgICAgICAgICAgIAogICAgCiAgICAgICAgICAgIHZhciBwb3B1cF9mNTc5ODQ3ZTFjYWY0YjYzYWI0ODM4NGQ4MGE1MzMwZCA9IEwucG9wdXAoe21heFdpZHRoOiAnMzAwJ30pOwoKICAgICAgICAgICAgCiAgICAgICAgICAgICAgICB2YXIgaHRtbF83MmM3YTRkMWNiYzQ0NTZhYmEzOWY3MGQ5Njk2ZjQyMCA9ICQoJzxkaXYgaWQ9Imh0bWxfNzJjN2E0ZDFjYmM0NDU2YWJhMzlmNzBkOTY5NmY0MjAiIHN0eWxlPSJ3aWR0aDogMTAwLjAlOyBoZWlnaHQ6IDEwMC4wJTsiPkNlbnRyYWwgSGFybGVtPC9kaXY+JylbMF07CiAgICAgICAgICAgICAgICBwb3B1cF9mNTc5ODQ3ZTFjYWY0YjYzYWI0ODM4NGQ4MGE1MzMwZC5zZXRDb250ZW50KGh0bWxfNzJjN2E0ZDFjYmM0NDU2YWJhMzlmNzBkOTY5NmY0MjApOwogICAgICAgICAgICAKCiAgICAgICAgICAgIGNpcmNsZV9tYXJrZXJfNmFhYjFmNmU3M2UxNDM2MDlmZTQxYjRmYzEzNjg1Y2IuYmluZFBvcHVwKHBvcHVwX2Y1Nzk4NDdlMWNhZjRiNjNhYjQ4Mzg0ZDgwYTUzMzBkKTsKCiAgICAgICAgICAgIAogICAgICAgIAogICAgCiAgICAgICAgICAgIHZhciBjaXJjbGVfbWFya2VyX2NmNWI3N2RmNWU2MTRhNDk4MzJkZmUwOTE0ZDYxYWQ5ID0gTC5jaXJjbGVNYXJrZXIoCiAgICAgICAgICAgICAgICBbNDAuNzkyMjQ5NDY2NjMwMzMsLTczLjk0NDE4MjIzMTQ4NTI0XSwKICAgICAgICAgICAgICAgIHsKICAiYnViYmxpbmdNb3VzZUV2ZW50cyI6IHRydWUsCiAgImNvbG9yIjogImJsdWUiLAogICJkYXNoQXJyYXkiOiBudWxsLAogICJkYXNoT2Zmc2V0IjogbnVsbCwKICAiZmlsbCI6IHRydWUsCiAgImZpbGxDb2xvciI6ICIjMzE4NmNjIiwKICAiZmlsbE9wYWNpdHkiOiAwLjcsCiAgImZpbGxSdWxlIjogImV2ZW5vZGQiLAogICJsaW5lQ2FwIjogInJvdW5kIiwKICAibGluZUpvaW4iOiAicm91bmQiLAogICJvcGFjaXR5IjogMS4wLAogICJyYWRpdXMiOiA1LAogICJzdHJva2UiOiB0cnVlLAogICJ3ZWlnaHQiOiAzCn0KICAgICAgICAgICAgICAgICkuYWRkVG8obWFwX2UzZDQ1MDM5ZGQ3NDRkOTU5ZTY1MWRjNGMxYTViNzUzKTsKICAgICAgICAgICAgCiAgICAKICAgICAgICAgICAgdmFyIHBvcHVwXzdhN2FiMTcwNWExMzRiMDM4MGMwNjg0MDdjY2U3M2JmID0gTC5wb3B1cCh7bWF4V2lkdGg6ICczMDAnfSk7CgogICAgICAgICAgICAKICAgICAgICAgICAgICAgIHZhciBodG1sX2I5ODgyNDI1YTY3NTQyNDhiOWUxOWNiNDQ2NTk5M2FkID0gJCgnPGRpdiBpZD0iaHRtbF9iOTg4MjQyNWE2NzU0MjQ4YjllMTljYjQ0NjU5OTNhZCIgc3R5bGU9IndpZHRoOiAxMDAuMCU7IGhlaWdodDogMTAwLjAlOyI+RWFzdCBIYXJsZW08L2Rpdj4nKVswXTsKICAgICAgICAgICAgICAgIHBvcHVwXzdhN2FiMTcwNWExMzRiMDM4MGMwNjg0MDdjY2U3M2JmLnNldENvbnRlbnQoaHRtbF9iOTg4MjQyNWE2NzU0MjQ4YjllMTljYjQ0NjU5OTNhZCk7CiAgICAgICAgICAgIAoKICAgICAgICAgICAgY2lyY2xlX21hcmtlcl9jZjViNzdkZjVlNjE0YTQ5ODMyZGZlMDkxNGQ2MWFkOS5iaW5kUG9wdXAocG9wdXBfN2E3YWIxNzA1YTEzNGIwMzgwYzA2ODQwN2NjZTczYmYpOwoKICAgICAgICAgICAgCiAgICAgICAgCiAgICAKICAgICAgICAgICAgdmFyIGNpcmNsZV9tYXJrZXJfN2EzOGY2YjBjMjgyNGVjMGIzNzJhOTQwZGY3NTk3ZGIgPSBMLmNpcmNsZU1hcmtlcigKICAgICAgICAgICAgICAgIFs0MC43NzU2Mzg1NzMzMDE4MDUsLTczLjk2MDUwNzYzMTM1XSwKICAgICAgICAgICAgICAgIHsKICAiYnViYmxpbmdNb3VzZUV2ZW50cyI6IHRydWUsCiAgImNvbG9yIjogImJsdWUiLAogICJkYXNoQXJyYXkiOiBudWxsLAogICJkYXNoT2Zmc2V0IjogbnVsbCwKICAiZmlsbCI6IHRydWUsCiAgImZpbGxDb2xvciI6ICIjMzE4NmNjIiwKICAiZmlsbE9wYWNpdHkiOiAwLjcsCiAgImZpbGxSdWxlIjogImV2ZW5vZGQiLAogICJsaW5lQ2FwIjogInJvdW5kIiwKICAibGluZUpvaW4iOiAicm91bmQiLAogICJvcGFjaXR5IjogMS4wLAogICJyYWRpdXMiOiA1LAogICJzdHJva2UiOiB0cnVlLAogICJ3ZWlnaHQiOiAzCn0KICAgICAgICAgICAgICAgICkuYWRkVG8obWFwX2UzZDQ1MDM5ZGQ3NDRkOTU5ZTY1MWRjNGMxYTViNzUzKTsKICAgICAgICAgICAgCiAgICAKICAgICAgICAgICAgdmFyIHBvcHVwX2M3Y2FiNGE5YWY5NTRhOTNiMzQ1OGI5NmRiOTgyNjNmID0gTC5wb3B1cCh7bWF4V2lkdGg6ICczMDAnfSk7CgogICAgICAgICAgICAKICAgICAgICAgICAgICAgIHZhciBodG1sX2I1OTYwODQ3MTFjOTQ4MTg5Mjg0OTY1OTc5YmE3ZjA3ID0gJCgnPGRpdiBpZD0iaHRtbF9iNTk2MDg0NzExYzk0ODE4OTI4NDk2NTk3OWJhN2YwNyIgc3R5bGU9IndpZHRoOiAxMDAuMCU7IGhlaWdodDogMTAwLjAlOyI+VXBwZXIgRWFzdCBTaWRlPC9kaXY+JylbMF07CiAgICAgICAgICAgICAgICBwb3B1cF9jN2NhYjRhOWFmOTU0YTkzYjM0NThiOTZkYjk4MjYzZi5zZXRDb250ZW50KGh0bWxfYjU5NjA4NDcxMWM5NDgxODkyODQ5NjU5NzliYTdmMDcpOwogICAgICAgICAgICAKCiAgICAgICAgICAgIGNpcmNsZV9tYXJrZXJfN2EzOGY2YjBjMjgyNGVjMGIzNzJhOTQwZGY3NTk3ZGIuYmluZFBvcHVwKHBvcHVwX2M3Y2FiNGE5YWY5NTRhOTNiMzQ1OGI5NmRiOTgyNjNmKTsKCiAgICAgICAgICAgIAogICAgICAgIAogICAgCiAgICAgICAgICAgIHZhciBjaXJjbGVfbWFya2VyXzU4NDg0YTdjM2YzNzRmMDA4ZDcyNzJiZmM4NGJmOTNlID0gTC5jaXJjbGVNYXJrZXIoCiAgICAgICAgICAgICAgICBbNDAuNzc1OTI5ODQ5ODg0ODc1LC03My45NDcxMTc4NDQ3MTgyNl0sCiAgICAgICAgICAgICAgICB7CiAgImJ1YmJsaW5nTW91c2VFdmVudHMiOiB0cnVlLAogICJjb2xvciI6ICJibHVlIiwKICAiZGFzaEFycmF5IjogbnVsbCwKICAiZGFzaE9mZnNldCI6IG51bGwsCiAgImZpbGwiOiB0cnVlLAogICJmaWxsQ29sb3IiOiAiIzMxODZjYyIsCiAgImZpbGxPcGFjaXR5IjogMC43LAogICJmaWxsUnVsZSI6ICJldmVub2RkIiwKICAibGluZUNhcCI6ICJyb3VuZCIsCiAgImxpbmVKb2luIjogInJvdW5kIiwKICAib3BhY2l0eSI6IDEuMCwKICAicmFkaXVzIjogNSwKICAic3Ryb2tlIjogdHJ1ZSwKICAid2VpZ2h0IjogMwp9CiAgICAgICAgICAgICAgICApLmFkZFRvKG1hcF9lM2Q0NTAzOWRkNzQ0ZDk1OWU2NTFkYzRjMWE1Yjc1Myk7CiAgICAgICAgICAgIAogICAgCiAgICAgICAgICAgIHZhciBwb3B1cF80OTcyYWY3MzUzYWM0ZTkxYmMzMGM5MjJlMmQxYTljNiA9IEwucG9wdXAoe21heFdpZHRoOiAnMzAwJ30pOwoKICAgICAgICAgICAgCiAgICAgICAgICAgICAgICB2YXIgaHRtbF82NDNiZjIyNjYxZjg0NTc4YTNlNjQ5OGYxOTdjMWQ5NyA9ICQoJzxkaXYgaWQ9Imh0bWxfNjQzYmYyMjY2MWY4NDU3OGEzZTY0OThmMTk3YzFkOTciIHN0eWxlPSJ3aWR0aDogMTAwLjAlOyBoZWlnaHQ6IDEwMC4wJTsiPllvcmt2aWxsZTwvZGl2PicpWzBdOwogICAgICAgICAgICAgICAgcG9wdXBfNDk3MmFmNzM1M2FjNGU5MWJjMzBjOTIyZTJkMWE5YzYuc2V0Q29udGVudChodG1sXzY0M2JmMjI2NjFmODQ1NzhhM2U2NDk4ZjE5N2MxZDk3KTsKICAgICAgICAgICAgCgogICAgICAgICAgICBjaXJjbGVfbWFya2VyXzU4NDg0YTdjM2YzNzRmMDA4ZDcyNzJiZmM4NGJmOTNlLmJpbmRQb3B1cChwb3B1cF80OTcyYWY3MzUzYWM0ZTkxYmMzMGM5MjJlMmQxYTljNik7CgogICAgICAgICAgICAKICAgICAgICAKICAgIAogICAgICAgICAgICB2YXIgY2lyY2xlX21hcmtlcl8zZTQyMmJkZmY4ZjQ0ZjMwYWQ4MjQ1NzcyYjc1MmZmZiA9IEwuY2lyY2xlTWFya2VyKAogICAgICAgICAgICAgICAgWzQwLjc2ODExMjY1ODI4NzMzLC03My45NTg4NTk2ODgxMzc2XSwKICAgICAgICAgICAgICAgIHsKICAiYnViYmxpbmdNb3VzZUV2ZW50cyI6IHRydWUsCiAgImNvbG9yIjogImJsdWUiLAogICJkYXNoQXJyYXkiOiBudWxsLAogICJkYXNoT2Zmc2V0IjogbnVsbCwKICAiZmlsbCI6IHRydWUsCiAgImZpbGxDb2xvciI6ICIjMzE4NmNjIiwKICAiZmlsbE9wYWNpdHkiOiAwLjcsCiAgImZpbGxSdWxlIjogImV2ZW5vZGQiLAogICJsaW5lQ2FwIjogInJvdW5kIiwKICAibGluZUpvaW4iOiAicm91bmQiLAogICJvcGFjaXR5IjogMS4wLAogICJyYWRpdXMiOiA1LAogICJzdHJva2UiOiB0cnVlLAogICJ3ZWlnaHQiOiAzCn0KICAgICAgICAgICAgICAgICkuYWRkVG8obWFwX2UzZDQ1MDM5ZGQ3NDRkOTU5ZTY1MWRjNGMxYTViNzUzKTsKICAgICAgICAgICAgCiAgICAKICAgICAgICAgICAgdmFyIHBvcHVwXzZlNDA5MzJmZWEwZDQ0MTA5ZDM2MWExOTc3ZTgxMjc1ID0gTC5wb3B1cCh7bWF4V2lkdGg6ICczMDAnfSk7CgogICAgICAgICAgICAKICAgICAgICAgICAgICAgIHZhciBodG1sXzQ2NmY0ZWVmYzhiNDQ3YTVhMGFlMDU0ZTIzMzQ5OTYyID0gJCgnPGRpdiBpZD0iaHRtbF80NjZmNGVlZmM4YjQ0N2E1YTBhZTA1NGUyMzM0OTk2MiIgc3R5bGU9IndpZHRoOiAxMDAuMCU7IGhlaWdodDogMTAwLjAlOyI+TGVub3ggSGlsbDwvZGl2PicpWzBdOwogICAgICAgICAgICAgICAgcG9wdXBfNmU0MDkzMmZlYTBkNDQxMDlkMzYxYTE5NzdlODEyNzUuc2V0Q29udGVudChodG1sXzQ2NmY0ZWVmYzhiNDQ3YTVhMGFlMDU0ZTIzMzQ5OTYyKTsKICAgICAgICAgICAgCgogICAgICAgICAgICBjaXJjbGVfbWFya2VyXzNlNDIyYmRmZjhmNDRmMzBhZDgyNDU3NzJiNzUyZmZmLmJpbmRQb3B1cChwb3B1cF82ZTQwOTMyZmVhMGQ0NDEwOWQzNjFhMTk3N2U4MTI3NSk7CgogICAgICAgICAgICAKICAgICAgICAKICAgIAogICAgICAgICAgICB2YXIgY2lyY2xlX21hcmtlcl8zYThkN2U4ZTA0ZGU0YmU4OGIwMDI3NmNjZjU1MjRlNiA9IEwuY2lyY2xlTWFya2VyKAogICAgICAgICAgICAgICAgWzQwLjc2MjE1OTYwNTc2MjgzLC03My45NDkxNjc2OTIyNzk1M10sCiAgICAgICAgICAgICAgICB7CiAgImJ1YmJsaW5nTW91c2VFdmVudHMiOiB0cnVlLAogICJjb2xvciI6ICJibHVlIiwKICAiZGFzaEFycmF5IjogbnVsbCwKICAiZGFzaE9mZnNldCI6IG51bGwsCiAgImZpbGwiOiB0cnVlLAogICJmaWxsQ29sb3IiOiAiIzMxODZjYyIsCiAgImZpbGxPcGFjaXR5IjogMC43LAogICJmaWxsUnVsZSI6ICJldmVub2RkIiwKICAibGluZUNhcCI6ICJyb3VuZCIsCiAgImxpbmVKb2luIjogInJvdW5kIiwKICAib3BhY2l0eSI6IDEuMCwKICAicmFkaXVzIjogNSwKICAic3Ryb2tlIjogdHJ1ZSwKICAid2VpZ2h0IjogMwp9CiAgICAgICAgICAgICAgICApLmFkZFRvKG1hcF9lM2Q0NTAzOWRkNzQ0ZDk1OWU2NTFkYzRjMWE1Yjc1Myk7CiAgICAgICAgICAgIAogICAgCiAgICAgICAgICAgIHZhciBwb3B1cF84MTcyZTQ2OTUzYTc0M2NmOGRkZTk4MGQ5MTk2YjRmOSA9IEwucG9wdXAoe21heFdpZHRoOiAnMzAwJ30pOwoKICAgICAgICAgICAgCiAgICAgICAgICAgICAgICB2YXIgaHRtbF83YWRiNzJkMGRjMzg0OGI3YmVkMmViNWFkYWNhOGUyOCA9ICQoJzxkaXYgaWQ9Imh0bWxfN2FkYjcyZDBkYzM4NDhiN2JlZDJlYjVhZGFjYThlMjgiIHN0eWxlPSJ3aWR0aDogMTAwLjAlOyBoZWlnaHQ6IDEwMC4wJTsiPlJvb3NldmVsdCBJc2xhbmQ8L2Rpdj4nKVswXTsKICAgICAgICAgICAgICAgIHBvcHVwXzgxNzJlNDY5NTNhNzQzY2Y4ZGRlOTgwZDkxOTZiNGY5LnNldENvbnRlbnQoaHRtbF83YWRiNzJkMGRjMzg0OGI3YmVkMmViNWFkYWNhOGUyOCk7CiAgICAgICAgICAgIAoKICAgICAgICAgICAgY2lyY2xlX21hcmtlcl8zYThkN2U4ZTA0ZGU0YmU4OGIwMDI3NmNjZjU1MjRlNi5iaW5kUG9wdXAocG9wdXBfODE3MmU0Njk1M2E3NDNjZjhkZGU5ODBkOTE5NmI0ZjkpOwoKICAgICAgICAgICAgCiAgICAgICAgCiAgICAKICAgICAgICAgICAgdmFyIGNpcmNsZV9tYXJrZXJfZTNhYzk0OTIzMmE1NDJhOWIyNmRhOWQ4YzgzMmY1YWYgPSBMLmNpcmNsZU1hcmtlcigKICAgICAgICAgICAgICAgIFs0MC43ODc2NTc5OTg1MzQ4NTQsLTczLjk3NzA1OTIzNjMwNjAzXSwKICAgICAgICAgICAgICAgIHsKICAiYnViYmxpbmdNb3VzZUV2ZW50cyI6IHRydWUsCiAgImNvbG9yIjogImJsdWUiLAogICJkYXNoQXJyYXkiOiBudWxsLAogICJkYXNoT2Zmc2V0IjogbnVsbCwKICAiZmlsbCI6IHRydWUsCiAgImZpbGxDb2xvciI6ICIjMzE4NmNjIiwKICAiZmlsbE9wYWNpdHkiOiAwLjcsCiAgImZpbGxSdWxlIjogImV2ZW5vZGQiLAogICJsaW5lQ2FwIjogInJvdW5kIiwKICAibGluZUpvaW4iOiAicm91bmQiLAogICJvcGFjaXR5IjogMS4wLAogICJyYWRpdXMiOiA1LAogICJzdHJva2UiOiB0cnVlLAogICJ3ZWlnaHQiOiAzCn0KICAgICAgICAgICAgICAgICkuYWRkVG8obWFwX2UzZDQ1MDM5ZGQ3NDRkOTU5ZTY1MWRjNGMxYTViNzUzKTsKICAgICAgICAgICAgCiAgICAKICAgICAgICAgICAgdmFyIHBvcHVwXzk1NzI0YjkzZTkxNjQ3ZWE5Yjc5M2QyNmM2NGIxZjE3ID0gTC5wb3B1cCh7bWF4V2lkdGg6ICczMDAnfSk7CgogICAgICAgICAgICAKICAgICAgICAgICAgICAgIHZhciBodG1sXzAzYjdkNTQxOGRmZTQxNjFhYTgyMDRjNWFhNDMzYTBhID0gJCgnPGRpdiBpZD0iaHRtbF8wM2I3ZDU0MThkZmU0MTYxYWE4MjA0YzVhYTQzM2EwYSIgc3R5bGU9IndpZHRoOiAxMDAuMCU7IGhlaWdodDogMTAwLjAlOyI+VXBwZXIgV2VzdCBTaWRlPC9kaXY+JylbMF07CiAgICAgICAgICAgICAgICBwb3B1cF85NTcyNGI5M2U5MTY0N2VhOWI3OTNkMjZjNjRiMWYxNy5zZXRDb250ZW50KGh0bWxfMDNiN2Q1NDE4ZGZlNDE2MWFhODIwNGM1YWE0MzNhMGEpOwogICAgICAgICAgICAKCiAgICAgICAgICAgIGNpcmNsZV9tYXJrZXJfZTNhYzk0OTIzMmE1NDJhOWIyNmRhOWQ4YzgzMmY1YWYuYmluZFBvcHVwKHBvcHVwXzk1NzI0YjkzZTkxNjQ3ZWE5Yjc5M2QyNmM2NGIxZjE3KTsKCiAgICAgICAgICAgIAogICAgICAgIAogICAgCiAgICAgICAgICAgIHZhciBjaXJjbGVfbWFya2VyXzQ2YjAxMWFhMWU3MzQzNTg4YmFjODQ1NzYxNDdlZTQzID0gTC5jaXJjbGVNYXJrZXIoCiAgICAgICAgICAgICAgICBbNDAuNzczNTI4ODg5NDIxNjYsLTczLjk4NTMzNzc3MDAxMjYyXSwKICAgICAgICAgICAgICAgIHsKICAiYnViYmxpbmdNb3VzZUV2ZW50cyI6IHRydWUsCiAgImNvbG9yIjogImJsdWUiLAogICJkYXNoQXJyYXkiOiBudWxsLAogICJkYXNoT2Zmc2V0IjogbnVsbCwKICAiZmlsbCI6IHRydWUsCiAgImZpbGxDb2xvciI6ICIjMzE4NmNjIiwKICAiZmlsbE9wYWNpdHkiOiAwLjcsCiAgImZpbGxSdWxlIjogImV2ZW5vZGQiLAogICJsaW5lQ2FwIjogInJvdW5kIiwKICAibGluZUpvaW4iOiAicm91bmQiLAogICJvcGFjaXR5IjogMS4wLAogICJyYWRpdXMiOiA1LAogICJzdHJva2UiOiB0cnVlLAogICJ3ZWlnaHQiOiAzCn0KICAgICAgICAgICAgICAgICkuYWRkVG8obWFwX2UzZDQ1MDM5ZGQ3NDRkOTU5ZTY1MWRjNGMxYTViNzUzKTsKICAgICAgICAgICAgCiAgICAKICAgICAgICAgICAgdmFyIHBvcHVwXzBjNzQ0NWMxOGViZTQ4YzFhZWEzNmQ5MWQzYjBmNDU5ID0gTC5wb3B1cCh7bWF4V2lkdGg6ICczMDAnfSk7CgogICAgICAgICAgICAKICAgICAgICAgICAgICAgIHZhciBodG1sXzAzMGQ0NWU3ZTcxNTQxN2Q4MGI4MmY0NDBmOWY2NjA3ID0gJCgnPGRpdiBpZD0iaHRtbF8wMzBkNDVlN2U3MTU0MTdkODBiODJmNDQwZjlmNjYwNyIgc3R5bGU9IndpZHRoOiAxMDAuMCU7IGhlaWdodDogMTAwLjAlOyI+TGluY29sbiBTcXVhcmU8L2Rpdj4nKVswXTsKICAgICAgICAgICAgICAgIHBvcHVwXzBjNzQ0NWMxOGViZTQ4YzFhZWEzNmQ5MWQzYjBmNDU5LnNldENvbnRlbnQoaHRtbF8wMzBkNDVlN2U3MTU0MTdkODBiODJmNDQwZjlmNjYwNyk7CiAgICAgICAgICAgIAoKICAgICAgICAgICAgY2lyY2xlX21hcmtlcl80NmIwMTFhYTFlNzM0MzU4OGJhYzg0NTc2MTQ3ZWU0My5iaW5kUG9wdXAocG9wdXBfMGM3NDQ1YzE4ZWJlNDhjMWFlYTM2ZDkxZDNiMGY0NTkpOwoKICAgICAgICAgICAgCiAgICAgICAgCiAgICAKICAgICAgICAgICAgdmFyIGNpcmNsZV9tYXJrZXJfZWQwZTM1ZDYwMWZkNDhhNjkyNDkzM2I0YjI3YzcyNmEgPSBMLmNpcmNsZU1hcmtlcigKICAgICAgICAgICAgICAgIFs0MC43NTkxMDA4OTE0NjIxMiwtNzMuOTk2MTE5MzYzMDk0NzldLAogICAgICAgICAgICAgICAgewogICJidWJibGluZ01vdXNlRXZlbnRzIjogdHJ1ZSwKICAiY29sb3IiOiAiYmx1ZSIsCiAgImRhc2hBcnJheSI6IG51bGwsCiAgImRhc2hPZmZzZXQiOiBudWxsLAogICJmaWxsIjogdHJ1ZSwKICAiZmlsbENvbG9yIjogIiMzMTg2Y2MiLAogICJmaWxsT3BhY2l0eSI6IDAuNywKICAiZmlsbFJ1bGUiOiAiZXZlbm9kZCIsCiAgImxpbmVDYXAiOiAicm91bmQiLAogICJsaW5lSm9pbiI6ICJyb3VuZCIsCiAgIm9wYWNpdHkiOiAxLjAsCiAgInJhZGl1cyI6IDUsCiAgInN0cm9rZSI6IHRydWUsCiAgIndlaWdodCI6IDMKfQogICAgICAgICAgICAgICAgKS5hZGRUbyhtYXBfZTNkNDUwMzlkZDc0NGQ5NTllNjUxZGM0YzFhNWI3NTMpOwogICAgICAgICAgICAKICAgIAogICAgICAgICAgICB2YXIgcG9wdXBfYWQ5YTMyZDI3ZmJmNGQxZjlmNTU5MzJlYjJiYTYwYjMgPSBMLnBvcHVwKHttYXhXaWR0aDogJzMwMCd9KTsKCiAgICAgICAgICAgIAogICAgICAgICAgICAgICAgdmFyIGh0bWxfZTJjYjgxOGRkOGUyNGQ2YTkyYWQwMWJlMjllM2YyOGYgPSAkKCc8ZGl2IGlkPSJodG1sX2UyY2I4MThkZDhlMjRkNmE5MmFkMDFiZTI5ZTNmMjhmIiBzdHlsZT0id2lkdGg6IDEwMC4wJTsgaGVpZ2h0OiAxMDAuMCU7Ij5DbGludG9uPC9kaXY+JylbMF07CiAgICAgICAgICAgICAgICBwb3B1cF9hZDlhMzJkMjdmYmY0ZDFmOWY1NTkzMmViMmJhNjBiMy5zZXRDb250ZW50KGh0bWxfZTJjYjgxOGRkOGUyNGQ2YTkyYWQwMWJlMjllM2YyOGYpOwogICAgICAgICAgICAKCiAgICAgICAgICAgIGNpcmNsZV9tYXJrZXJfZWQwZTM1ZDYwMWZkNDhhNjkyNDkzM2I0YjI3YzcyNmEuYmluZFBvcHVwKHBvcHVwX2FkOWEzMmQyN2ZiZjRkMWY5ZjU1OTMyZWIyYmE2MGIzKTsKCiAgICAgICAgICAgIAogICAgICAgIAogICAgCiAgICAgICAgICAgIHZhciBjaXJjbGVfbWFya2VyX2QzYzM3YTFiNGEzNTRmYWM5MDRkZDFkMDhkZTU3M2VkID0gTC5jaXJjbGVNYXJrZXIoCiAgICAgICAgICAgICAgICBbNDAuNzU0NjkxMTAyNzA2MjMsLTczLjk4MTY2ODgyNzMwMzA0XSwKICAgICAgICAgICAgICAgIHsKICAiYnViYmxpbmdNb3VzZUV2ZW50cyI6IHRydWUsCiAgImNvbG9yIjogImJsdWUiLAogICJkYXNoQXJyYXkiOiBudWxsLAogICJkYXNoT2Zmc2V0IjogbnVsbCwKICAiZmlsbCI6IHRydWUsCiAgImZpbGxDb2xvciI6ICIjMzE4NmNjIiwKICAiZmlsbE9wYWNpdHkiOiAwLjcsCiAgImZpbGxSdWxlIjogImV2ZW5vZGQiLAogICJsaW5lQ2FwIjogInJvdW5kIiwKICAibGluZUpvaW4iOiAicm91bmQiLAogICJvcGFjaXR5IjogMS4wLAogICJyYWRpdXMiOiA1LAogICJzdHJva2UiOiB0cnVlLAogICJ3ZWlnaHQiOiAzCn0KICAgICAgICAgICAgICAgICkuYWRkVG8obWFwX2UzZDQ1MDM5ZGQ3NDRkOTU5ZTY1MWRjNGMxYTViNzUzKTsKICAgICAgICAgICAgCiAgICAKICAgICAgICAgICAgdmFyIHBvcHVwX2U3ZTdiNDYzYzQ3MTRhYzNhOTA5ZGIyNWI0YTUwOTkyID0gTC5wb3B1cCh7bWF4V2lkdGg6ICczMDAnfSk7CgogICAgICAgICAgICAKICAgICAgICAgICAgICAgIHZhciBodG1sXzU4NzI1ZjRkMzRiYTRiNjM5NGQ5ODBkYjRkN2I0NjQ0ID0gJCgnPGRpdiBpZD0iaHRtbF81ODcyNWY0ZDM0YmE0YjYzOTRkOTgwZGI0ZDdiNDY0NCIgc3R5bGU9IndpZHRoOiAxMDAuMCU7IGhlaWdodDogMTAwLjAlOyI+TWlkdG93bjwvZGl2PicpWzBdOwogICAgICAgICAgICAgICAgcG9wdXBfZTdlN2I0NjNjNDcxNGFjM2E5MDlkYjI1YjRhNTA5OTIuc2V0Q29udGVudChodG1sXzU4NzI1ZjRkMzRiYTRiNjM5NGQ5ODBkYjRkN2I0NjQ0KTsKICAgICAgICAgICAgCgogICAgICAgICAgICBjaXJjbGVfbWFya2VyX2QzYzM3YTFiNGEzNTRmYWM5MDRkZDFkMDhkZTU3M2VkLmJpbmRQb3B1cChwb3B1cF9lN2U3YjQ2M2M0NzE0YWMzYTkwOWRiMjViNGE1MDk5Mik7CgogICAgICAgICAgICAKICAgICAgICAKICAgIAogICAgICAgICAgICB2YXIgY2lyY2xlX21hcmtlcl8yM2YxZjkxZmU4OWM0MjZlYmJkN2NmMjdlZGZmYjYxMyA9IEwuY2lyY2xlTWFya2VyKAogICAgICAgICAgICAgICAgWzQwLjc0ODMwMzA3NzI1MjE3NCwtNzMuOTc4MzMyMDc5MjQxMjddLAogICAgICAgICAgICAgICAgewogICJidWJibGluZ01vdXNlRXZlbnRzIjogdHJ1ZSwKICAiY29sb3IiOiAiYmx1ZSIsCiAgImRhc2hBcnJheSI6IG51bGwsCiAgImRhc2hPZmZzZXQiOiBudWxsLAogICJmaWxsIjogdHJ1ZSwKICAiZmlsbENvbG9yIjogIiMzMTg2Y2MiLAogICJmaWxsT3BhY2l0eSI6IDAuNywKICAiZmlsbFJ1bGUiOiAiZXZlbm9kZCIsCiAgImxpbmVDYXAiOiAicm91bmQiLAogICJsaW5lSm9pbiI6ICJyb3VuZCIsCiAgIm9wYWNpdHkiOiAxLjAsCiAgInJhZGl1cyI6IDUsCiAgInN0cm9rZSI6IHRydWUsCiAgIndlaWdodCI6IDMKfQogICAgICAgICAgICAgICAgKS5hZGRUbyhtYXBfZTNkNDUwMzlkZDc0NGQ5NTllNjUxZGM0YzFhNWI3NTMpOwogICAgICAgICAgICAKICAgIAogICAgICAgICAgICB2YXIgcG9wdXBfMDYwOWYxMzY2NzA5NDYyY2JkZjRjM2EzNGJkZTZhNGUgPSBMLnBvcHVwKHttYXhXaWR0aDogJzMwMCd9KTsKCiAgICAgICAgICAgIAogICAgICAgICAgICAgICAgdmFyIGh0bWxfYWU3OTBiOTlhMDAzNDkwZmJlYmQ2MWJkMWJhMjQxNDIgPSAkKCc8ZGl2IGlkPSJodG1sX2FlNzkwYjk5YTAwMzQ5MGZiZWJkNjFiZDFiYTI0MTQyIiBzdHlsZT0id2lkdGg6IDEwMC4wJTsgaGVpZ2h0OiAxMDAuMCU7Ij5NdXJyYXkgSGlsbDwvZGl2PicpWzBdOwogICAgICAgICAgICAgICAgcG9wdXBfMDYwOWYxMzY2NzA5NDYyY2JkZjRjM2EzNGJkZTZhNGUuc2V0Q29udGVudChodG1sX2FlNzkwYjk5YTAwMzQ5MGZiZWJkNjFiZDFiYTI0MTQyKTsKICAgICAgICAgICAgCgogICAgICAgICAgICBjaXJjbGVfbWFya2VyXzIzZjFmOTFmZTg5YzQyNmViYmQ3Y2YyN2VkZmZiNjEzLmJpbmRQb3B1cChwb3B1cF8wNjA5ZjEzNjY3MDk0NjJjYmRmNGMzYTM0YmRlNmE0ZSk7CgogICAgICAgICAgICAKICAgICAgICAKICAgIAogICAgICAgICAgICB2YXIgY2lyY2xlX21hcmtlcl83NTc2MzZlOTIxZGQ0MjkxYjI1NTc5YzBjMjI2YmM3ZSA9IEwuY2lyY2xlTWFya2VyKAogICAgICAgICAgICAgICAgWzQwLjc0NDAzNDcwNjc0Nzk3NSwtNzQuMDAzMTE2MzM0NzI4MTNdLAogICAgICAgICAgICAgICAgewogICJidWJibGluZ01vdXNlRXZlbnRzIjogdHJ1ZSwKICAiY29sb3IiOiAiYmx1ZSIsCiAgImRhc2hBcnJheSI6IG51bGwsCiAgImRhc2hPZmZzZXQiOiBudWxsLAogICJmaWxsIjogdHJ1ZSwKICAiZmlsbENvbG9yIjogIiMzMTg2Y2MiLAogICJmaWxsT3BhY2l0eSI6IDAuNywKICAiZmlsbFJ1bGUiOiAiZXZlbm9kZCIsCiAgImxpbmVDYXAiOiAicm91bmQiLAogICJsaW5lSm9pbiI6ICJyb3VuZCIsCiAgIm9wYWNpdHkiOiAxLjAsCiAgInJhZGl1cyI6IDUsCiAgInN0cm9rZSI6IHRydWUsCiAgIndlaWdodCI6IDMKfQogICAgICAgICAgICAgICAgKS5hZGRUbyhtYXBfZTNkNDUwMzlkZDc0NGQ5NTllNjUxZGM0YzFhNWI3NTMpOwogICAgICAgICAgICAKICAgIAogICAgICAgICAgICB2YXIgcG9wdXBfNTZiNjM2OGYyZDg1NDBjMTllMjNlNzczNzYwNjYzNjUgPSBMLnBvcHVwKHttYXhXaWR0aDogJzMwMCd9KTsKCiAgICAgICAgICAgIAogICAgICAgICAgICAgICAgdmFyIGh0bWxfZGQyMTgyMjllYjQ0NDcwZWI1YzI4ZGEzNjJhNTQ5Y2QgPSAkKCc8ZGl2IGlkPSJodG1sX2RkMjE4MjI5ZWI0NDQ3MGViNWMyOGRhMzYyYTU0OWNkIiBzdHlsZT0id2lkdGg6IDEwMC4wJTsgaGVpZ2h0OiAxMDAuMCU7Ij5DaGVsc2VhPC9kaXY+JylbMF07CiAgICAgICAgICAgICAgICBwb3B1cF81NmI2MzY4ZjJkODU0MGMxOWUyM2U3NzM3NjA2NjM2NS5zZXRDb250ZW50KGh0bWxfZGQyMTgyMjllYjQ0NDcwZWI1YzI4ZGEzNjJhNTQ5Y2QpOwogICAgICAgICAgICAKCiAgICAgICAgICAgIGNpcmNsZV9tYXJrZXJfNzU3NjM2ZTkyMWRkNDI5MWIyNTU3OWMwYzIyNmJjN2UuYmluZFBvcHVwKHBvcHVwXzU2YjYzNjhmMmQ4NTQwYzE5ZTIzZTc3Mzc2MDY2MzY1KTsKCiAgICAgICAgICAgIAogICAgICAgIAogICAgCiAgICAgICAgICAgIHZhciBjaXJjbGVfbWFya2VyXzkxYzM4ODU4NmRiYTQzYjdhYjU5YTdlNzc4MjcwZjEzID0gTC5jaXJjbGVNYXJrZXIoCiAgICAgICAgICAgICAgICBbNDAuNzI2OTMyODg1MzYxMjgsLTczLjk5OTkxNDAyOTQ1OTAyXSwKICAgICAgICAgICAgICAgIHsKICAiYnViYmxpbmdNb3VzZUV2ZW50cyI6IHRydWUsCiAgImNvbG9yIjogImJsdWUiLAogICJkYXNoQXJyYXkiOiBudWxsLAogICJkYXNoT2Zmc2V0IjogbnVsbCwKICAiZmlsbCI6IHRydWUsCiAgImZpbGxDb2xvciI6ICIjMzE4NmNjIiwKICAiZmlsbE9wYWNpdHkiOiAwLjcsCiAgImZpbGxSdWxlIjogImV2ZW5vZGQiLAogICJsaW5lQ2FwIjogInJvdW5kIiwKICAibGluZUpvaW4iOiAicm91bmQiLAogICJvcGFjaXR5IjogMS4wLAogICJyYWRpdXMiOiA1LAogICJzdHJva2UiOiB0cnVlLAogICJ3ZWlnaHQiOiAzCn0KICAgICAgICAgICAgICAgICkuYWRkVG8obWFwX2UzZDQ1MDM5ZGQ3NDRkOTU5ZTY1MWRjNGMxYTViNzUzKTsKICAgICAgICAgICAgCiAgICAKICAgICAgICAgICAgdmFyIHBvcHVwX2IxYmM0MTk3ZTEzYTRiZjE4OWFkNGFmZTgwYTI1NDc5ID0gTC5wb3B1cCh7bWF4V2lkdGg6ICczMDAnfSk7CgogICAgICAgICAgICAKICAgICAgICAgICAgICAgIHZhciBodG1sX2M4ODg2MThkYmY5NzQ4N2M5NGY5YWE4NDYyNTc1ODIzID0gJCgnPGRpdiBpZD0iaHRtbF9jODg4NjE4ZGJmOTc0ODdjOTRmOWFhODQ2MjU3NTgyMyIgc3R5bGU9IndpZHRoOiAxMDAuMCU7IGhlaWdodDogMTAwLjAlOyI+R3JlZW53aWNoIFZpbGxhZ2U8L2Rpdj4nKVswXTsKICAgICAgICAgICAgICAgIHBvcHVwX2IxYmM0MTk3ZTEzYTRiZjE4OWFkNGFmZTgwYTI1NDc5LnNldENvbnRlbnQoaHRtbF9jODg4NjE4ZGJmOTc0ODdjOTRmOWFhODQ2MjU3NTgyMyk7CiAgICAgICAgICAgIAoKICAgICAgICAgICAgY2lyY2xlX21hcmtlcl85MWMzODg1ODZkYmE0M2I3YWI1OWE3ZTc3ODI3MGYxMy5iaW5kUG9wdXAocG9wdXBfYjFiYzQxOTdlMTNhNGJmMTg5YWQ0YWZlODBhMjU0NzkpOwoKICAgICAgICAgICAgCiAgICAgICAgCiAgICAKICAgICAgICAgICAgdmFyIGNpcmNsZV9tYXJrZXJfZTgzYzE1YTg3OWI4NDY1Zjg0ODNmNGVkODAxNWFiNDEgPSBMLmNpcmNsZU1hcmtlcigKICAgICAgICAgICAgICAgIFs0MC43Mjc4NDY3NzcyNzAyNDQsLTczLjk4MjIyNjE2NTA2NDE2XSwKICAgICAgICAgICAgICAgIHsKICAiYnViYmxpbmdNb3VzZUV2ZW50cyI6IHRydWUsCiAgImNvbG9yIjogImJsdWUiLAogICJkYXNoQXJyYXkiOiBudWxsLAogICJkYXNoT2Zmc2V0IjogbnVsbCwKICAiZmlsbCI6IHRydWUsCiAgImZpbGxDb2xvciI6ICIjMzE4NmNjIiwKICAiZmlsbE9wYWNpdHkiOiAwLjcsCiAgImZpbGxSdWxlIjogImV2ZW5vZGQiLAogICJsaW5lQ2FwIjogInJvdW5kIiwKICAibGluZUpvaW4iOiAicm91bmQiLAogICJvcGFjaXR5IjogMS4wLAogICJyYWRpdXMiOiA1LAogICJzdHJva2UiOiB0cnVlLAogICJ3ZWlnaHQiOiAzCn0KICAgICAgICAgICAgICAgICkuYWRkVG8obWFwX2UzZDQ1MDM5ZGQ3NDRkOTU5ZTY1MWRjNGMxYTViNzUzKTsKICAgICAgICAgICAgCiAgICAKICAgICAgICAgICAgdmFyIHBvcHVwXzMxZTEwNzM0ZWUxNzQ0ZmFiZWNlZTI5NWQ5NGNmNWI5ID0gTC5wb3B1cCh7bWF4V2lkdGg6ICczMDAnfSk7CgogICAgICAgICAgICAKICAgICAgICAgICAgICAgIHZhciBodG1sXzdhNWI4NzZlMWZlMTQzMWM5YWIyNzlhYzg5NGYwMmUwID0gJCgnPGRpdiBpZD0iaHRtbF83YTViODc2ZTFmZTE0MzFjOWFiMjc5YWM4OTRmMDJlMCIgc3R5bGU9IndpZHRoOiAxMDAuMCU7IGhlaWdodDogMTAwLjAlOyI+RWFzdCBWaWxsYWdlPC9kaXY+JylbMF07CiAgICAgICAgICAgICAgICBwb3B1cF8zMWUxMDczNGVlMTc0NGZhYmVjZWUyOTVkOTRjZjViOS5zZXRDb250ZW50KGh0bWxfN2E1Yjg3NmUxZmUxNDMxYzlhYjI3OWFjODk0ZjAyZTApOwogICAgICAgICAgICAKCiAgICAgICAgICAgIGNpcmNsZV9tYXJrZXJfZTgzYzE1YTg3OWI4NDY1Zjg0ODNmNGVkODAxNWFiNDEuYmluZFBvcHVwKHBvcHVwXzMxZTEwNzM0ZWUxNzQ0ZmFiZWNlZTI5NWQ5NGNmNWI5KTsKCiAgICAgICAgICAgIAogICAgICAgIAogICAgCiAgICAgICAgICAgIHZhciBjaXJjbGVfbWFya2VyXzQxYzEyMTExY2QyMzRmOGM5YTU0ZWYwODRlODBmOTFmID0gTC5jaXJjbGVNYXJrZXIoCiAgICAgICAgICAgICAgICBbNDAuNzE3ODA2NzQ4OTI3NjUsLTczLjk4MDg5MDMxOTk5MjkxXSwKICAgICAgICAgICAgICAgIHsKICAiYnViYmxpbmdNb3VzZUV2ZW50cyI6IHRydWUsCiAgImNvbG9yIjogImJsdWUiLAogICJkYXNoQXJyYXkiOiBudWxsLAogICJkYXNoT2Zmc2V0IjogbnVsbCwKICAiZmlsbCI6IHRydWUsCiAgImZpbGxDb2xvciI6ICIjMzE4NmNjIiwKICAiZmlsbE9wYWNpdHkiOiAwLjcsCiAgImZpbGxSdWxlIjogImV2ZW5vZGQiLAogICJsaW5lQ2FwIjogInJvdW5kIiwKICAibGluZUpvaW4iOiAicm91bmQiLAogICJvcGFjaXR5IjogMS4wLAogICJyYWRpdXMiOiA1LAogICJzdHJva2UiOiB0cnVlLAogICJ3ZWlnaHQiOiAzCn0KICAgICAgICAgICAgICAgICkuYWRkVG8obWFwX2UzZDQ1MDM5ZGQ3NDRkOTU5ZTY1MWRjNGMxYTViNzUzKTsKICAgICAgICAgICAgCiAgICAKICAgICAgICAgICAgdmFyIHBvcHVwXzRhMzdlN2IxNjRlNTQxZjM5Y2Q2ZDVlNThkMGZiNjJkID0gTC5wb3B1cCh7bWF4V2lkdGg6ICczMDAnfSk7CgogICAgICAgICAgICAKICAgICAgICAgICAgICAgIHZhciBodG1sXzg5ZmIyOGU5NDI1NjQ1Mjg4YzhhMjIxZWY3YmJlYzJjID0gJCgnPGRpdiBpZD0iaHRtbF84OWZiMjhlOTQyNTY0NTI4OGM4YTIyMWVmN2JiZWMyYyIgc3R5bGU9IndpZHRoOiAxMDAuMCU7IGhlaWdodDogMTAwLjAlOyI+TG93ZXIgRWFzdCBTaWRlPC9kaXY+JylbMF07CiAgICAgICAgICAgICAgICBwb3B1cF80YTM3ZTdiMTY0ZTU0MWYzOWNkNmQ1ZTU4ZDBmYjYyZC5zZXRDb250ZW50KGh0bWxfODlmYjI4ZTk0MjU2NDUyODhjOGEyMjFlZjdiYmVjMmMpOwogICAgICAgICAgICAKCiAgICAgICAgICAgIGNpcmNsZV9tYXJrZXJfNDFjMTIxMTFjZDIzNGY4YzlhNTRlZjA4NGU4MGY5MWYuYmluZFBvcHVwKHBvcHVwXzRhMzdlN2IxNjRlNTQxZjM5Y2Q2ZDVlNThkMGZiNjJkKTsKCiAgICAgICAgICAgIAogICAgICAgIAogICAgCiAgICAgICAgICAgIHZhciBjaXJjbGVfbWFya2VyXzEzNzkxN2ViYzJiMTRjMGFhNzZhYWZjYzA4MWIwNDVhID0gTC5jaXJjbGVNYXJrZXIoCiAgICAgICAgICAgICAgICBbNDAuNzIxNTIxOTY3NDQzMjE2LC03NC4wMTA2ODMyODU1OTA4N10sCiAgICAgICAgICAgICAgICB7CiAgImJ1YmJsaW5nTW91c2VFdmVudHMiOiB0cnVlLAogICJjb2xvciI6ICJibHVlIiwKICAiZGFzaEFycmF5IjogbnVsbCwKICAiZGFzaE9mZnNldCI6IG51bGwsCiAgImZpbGwiOiB0cnVlLAogICJmaWxsQ29sb3IiOiAiIzMxODZjYyIsCiAgImZpbGxPcGFjaXR5IjogMC43LAogICJmaWxsUnVsZSI6ICJldmVub2RkIiwKICAibGluZUNhcCI6ICJyb3VuZCIsCiAgImxpbmVKb2luIjogInJvdW5kIiwKICAib3BhY2l0eSI6IDEuMCwKICAicmFkaXVzIjogNSwKICAic3Ryb2tlIjogdHJ1ZSwKICAid2VpZ2h0IjogMwp9CiAgICAgICAgICAgICAgICApLmFkZFRvKG1hcF9lM2Q0NTAzOWRkNzQ0ZDk1OWU2NTFkYzRjMWE1Yjc1Myk7CiAgICAgICAgICAgIAogICAgCiAgICAgICAgICAgIHZhciBwb3B1cF81OWJkZTBkYmNmODU0Mzk2YTcwZGM3OWU5ZjYzYzgxZSA9IEwucG9wdXAoe21heFdpZHRoOiAnMzAwJ30pOwoKICAgICAgICAgICAgCiAgICAgICAgICAgICAgICB2YXIgaHRtbF9mZWM0Zjg5NDU2ZTI0MGJhOWIyYzY3ZWEwMTNiZDY1NSA9ICQoJzxkaXYgaWQ9Imh0bWxfZmVjNGY4OTQ1NmUyNDBiYTliMmM2N2VhMDEzYmQ2NTUiIHN0eWxlPSJ3aWR0aDogMTAwLjAlOyBoZWlnaHQ6IDEwMC4wJTsiPlRyaWJlY2E8L2Rpdj4nKVswXTsKICAgICAgICAgICAgICAgIHBvcHVwXzU5YmRlMGRiY2Y4NTQzOTZhNzBkYzc5ZTlmNjNjODFlLnNldENvbnRlbnQoaHRtbF9mZWM0Zjg5NDU2ZTI0MGJhOWIyYzY3ZWEwMTNiZDY1NSk7CiAgICAgICAgICAgIAoKICAgICAgICAgICAgY2lyY2xlX21hcmtlcl8xMzc5MTdlYmMyYjE0YzBhYTc2YWFmY2MwODFiMDQ1YS5iaW5kUG9wdXAocG9wdXBfNTliZGUwZGJjZjg1NDM5NmE3MGRjNzllOWY2M2M4MWUpOwoKICAgICAgICAgICAgCiAgICAgICAgCiAgICAKICAgICAgICAgICAgdmFyIGNpcmNsZV9tYXJrZXJfMjVkY2JiOGNjMTIxNDFmNGEzYTc4YWE2NGM2ZjBlMTkgPSBMLmNpcmNsZU1hcmtlcigKICAgICAgICAgICAgICAgIFs0MC43MTkzMjM3OTM5NTkwNywtNzMuOTk3MzA0NjcyMDgwNzNdLAogICAgICAgICAgICAgICAgewogICJidWJibGluZ01vdXNlRXZlbnRzIjogdHJ1ZSwKICAiY29sb3IiOiAiYmx1ZSIsCiAgImRhc2hBcnJheSI6IG51bGwsCiAgImRhc2hPZmZzZXQiOiBudWxsLAogICJmaWxsIjogdHJ1ZSwKICAiZmlsbENvbG9yIjogIiMzMTg2Y2MiLAogICJmaWxsT3BhY2l0eSI6IDAuNywKICAiZmlsbFJ1bGUiOiAiZXZlbm9kZCIsCiAgImxpbmVDYXAiOiAicm91bmQiLAogICJsaW5lSm9pbiI6ICJyb3VuZCIsCiAgIm9wYWNpdHkiOiAxLjAsCiAgInJhZGl1cyI6IDUsCiAgInN0cm9rZSI6IHRydWUsCiAgIndlaWdodCI6IDMKfQogICAgICAgICAgICAgICAgKS5hZGRUbyhtYXBfZTNkNDUwMzlkZDc0NGQ5NTllNjUxZGM0YzFhNWI3NTMpOwogICAgICAgICAgICAKICAgIAogICAgICAgICAgICB2YXIgcG9wdXBfMmFhMjc0ZWY1Nzg2NGIzMGE4YjI5NGYwN2MzYWU4MDggPSBMLnBvcHVwKHttYXhXaWR0aDogJzMwMCd9KTsKCiAgICAgICAgICAgIAogICAgICAgICAgICAgICAgdmFyIGh0bWxfOTVkOGU1YWIyNzdlNDcwYjk4N2NlYzY1ZWI4YWFmOTYgPSAkKCc8ZGl2IGlkPSJodG1sXzk1ZDhlNWFiMjc3ZTQ3MGI5ODdjZWM2NWViOGFhZjk2IiBzdHlsZT0id2lkdGg6IDEwMC4wJTsgaGVpZ2h0OiAxMDAuMCU7Ij5MaXR0bGUgSXRhbHk8L2Rpdj4nKVswXTsKICAgICAgICAgICAgICAgIHBvcHVwXzJhYTI3NGVmNTc4NjRiMzBhOGIyOTRmMDdjM2FlODA4LnNldENvbnRlbnQoaHRtbF85NWQ4ZTVhYjI3N2U0NzBiOTg3Y2VjNjVlYjhhYWY5Nik7CiAgICAgICAgICAgIAoKICAgICAgICAgICAgY2lyY2xlX21hcmtlcl8yNWRjYmI4Y2MxMjE0MWY0YTNhNzhhYTY0YzZmMGUxOS5iaW5kUG9wdXAocG9wdXBfMmFhMjc0ZWY1Nzg2NGIzMGE4YjI5NGYwN2MzYWU4MDgpOwoKICAgICAgICAgICAgCiAgICAgICAgCiAgICAKICAgICAgICAgICAgdmFyIGNpcmNsZV9tYXJrZXJfNjc4ZDVkZmY1NWRmNDBkZWFhOGM4MzJmMmMyMzMzN2YgPSBMLmNpcmNsZU1hcmtlcigKICAgICAgICAgICAgICAgIFs0MC43MjIxODM4NDEzMTc5NCwtNzQuMDAwNjU2NjY5NTk3NTldLAogICAgICAgICAgICAgICAgewogICJidWJibGluZ01vdXNlRXZlbnRzIjogdHJ1ZSwKICAiY29sb3IiOiAiYmx1ZSIsCiAgImRhc2hBcnJheSI6IG51bGwsCiAgImRhc2hPZmZzZXQiOiBudWxsLAogICJmaWxsIjogdHJ1ZSwKICAiZmlsbENvbG9yIjogIiMzMTg2Y2MiLAogICJmaWxsT3BhY2l0eSI6IDAuNywKICAiZmlsbFJ1bGUiOiAiZXZlbm9kZCIsCiAgImxpbmVDYXAiOiAicm91bmQiLAogICJsaW5lSm9pbiI6ICJyb3VuZCIsCiAgIm9wYWNpdHkiOiAxLjAsCiAgInJhZGl1cyI6IDUsCiAgInN0cm9rZSI6IHRydWUsCiAgIndlaWdodCI6IDMKfQogICAgICAgICAgICAgICAgKS5hZGRUbyhtYXBfZTNkNDUwMzlkZDc0NGQ5NTllNjUxZGM0YzFhNWI3NTMpOwogICAgICAgICAgICAKICAgIAogICAgICAgICAgICB2YXIgcG9wdXBfNTk4Mzk2YTQzMzE1NDI1MGFhNDFkNmUyYmNhOTQzZTYgPSBMLnBvcHVwKHttYXhXaWR0aDogJzMwMCd9KTsKCiAgICAgICAgICAgIAogICAgICAgICAgICAgICAgdmFyIGh0bWxfYzQ5YTU1NWVmMmRkNDBlMGJlMGVlNTA5NTkzZTVjMGYgPSAkKCc8ZGl2IGlkPSJodG1sX2M0OWE1NTVlZjJkZDQwZTBiZTBlZTUwOTU5M2U1YzBmIiBzdHlsZT0id2lkdGg6IDEwMC4wJTsgaGVpZ2h0OiAxMDAuMCU7Ij5Tb2hvPC9kaXY+JylbMF07CiAgICAgICAgICAgICAgICBwb3B1cF81OTgzOTZhNDMzMTU0MjUwYWE0MWQ2ZTJiY2E5NDNlNi5zZXRDb250ZW50KGh0bWxfYzQ5YTU1NWVmMmRkNDBlMGJlMGVlNTA5NTkzZTVjMGYpOwogICAgICAgICAgICAKCiAgICAgICAgICAgIGNpcmNsZV9tYXJrZXJfNjc4ZDVkZmY1NWRmNDBkZWFhOGM4MzJmMmMyMzMzN2YuYmluZFBvcHVwKHBvcHVwXzU5ODM5NmE0MzMxNTQyNTBhYTQxZDZlMmJjYTk0M2U2KTsKCiAgICAgICAgICAgIAogICAgICAgIAogICAgCiAgICAgICAgICAgIHZhciBjaXJjbGVfbWFya2VyXzJjNjEzODdmMzc0NzQxOTI4ODkxOTdjZDkzNWNkNzAwID0gTC5jaXJjbGVNYXJrZXIoCiAgICAgICAgICAgICAgICBbNDAuNzM0NDMzOTM1NzI0MzQsLTc0LjAwNjE3OTk4MTI2ODEyXSwKICAgICAgICAgICAgICAgIHsKICAiYnViYmxpbmdNb3VzZUV2ZW50cyI6IHRydWUsCiAgImNvbG9yIjogImJsdWUiLAogICJkYXNoQXJyYXkiOiBudWxsLAogICJkYXNoT2Zmc2V0IjogbnVsbCwKICAiZmlsbCI6IHRydWUsCiAgImZpbGxDb2xvciI6ICIjMzE4NmNjIiwKICAiZmlsbE9wYWNpdHkiOiAwLjcsCiAgImZpbGxSdWxlIjogImV2ZW5vZGQiLAogICJsaW5lQ2FwIjogInJvdW5kIiwKICAibGluZUpvaW4iOiAicm91bmQiLAogICJvcGFjaXR5IjogMS4wLAogICJyYWRpdXMiOiA1LAogICJzdHJva2UiOiB0cnVlLAogICJ3ZWlnaHQiOiAzCn0KICAgICAgICAgICAgICAgICkuYWRkVG8obWFwX2UzZDQ1MDM5ZGQ3NDRkOTU5ZTY1MWRjNGMxYTViNzUzKTsKICAgICAgICAgICAgCiAgICAKICAgICAgICAgICAgdmFyIHBvcHVwXzFkNzRmOGEyYjdmMjRiNzU4MmMyZWM4MzQ4MTFlMDE4ID0gTC5wb3B1cCh7bWF4V2lkdGg6ICczMDAnfSk7CgogICAgICAgICAgICAKICAgICAgICAgICAgICAgIHZhciBodG1sXzBkMDNmZDIyMDM5MTQ2ZDk4ZDAzZThkOWQyY2NkYmQyID0gJCgnPGRpdiBpZD0iaHRtbF8wZDAzZmQyMjAzOTE0NmQ5OGQwM2U4ZDlkMmNjZGJkMiIgc3R5bGU9IndpZHRoOiAxMDAuMCU7IGhlaWdodDogMTAwLjAlOyI+V2VzdCBWaWxsYWdlPC9kaXY+JylbMF07CiAgICAgICAgICAgICAgICBwb3B1cF8xZDc0ZjhhMmI3ZjI0Yjc1ODJjMmVjODM0ODExZTAxOC5zZXRDb250ZW50KGh0bWxfMGQwM2ZkMjIwMzkxNDZkOThkMDNlOGQ5ZDJjY2RiZDIpOwogICAgICAgICAgICAKCiAgICAgICAgICAgIGNpcmNsZV9tYXJrZXJfMmM2MTM4N2YzNzQ3NDE5Mjg4OTE5N2NkOTM1Y2Q3MDAuYmluZFBvcHVwKHBvcHVwXzFkNzRmOGEyYjdmMjRiNzU4MmMyZWM4MzQ4MTFlMDE4KTsKCiAgICAgICAgICAgIAogICAgICAgIAogICAgCiAgICAgICAgICAgIHZhciBjaXJjbGVfbWFya2VyX2E0MWYyN2Y2NGVjNTRlZGM4YzEyNGZjZTdhOTk0NTczID0gTC5jaXJjbGVNYXJrZXIoCiAgICAgICAgICAgICAgICBbNDAuNzk3MzA3MDQxNzAyODY1LC03My45NjQyODYxNzc0MDY1NV0sCiAgICAgICAgICAgICAgICB7CiAgImJ1YmJsaW5nTW91c2VFdmVudHMiOiB0cnVlLAogICJjb2xvciI6ICJibHVlIiwKICAiZGFzaEFycmF5IjogbnVsbCwKICAiZGFzaE9mZnNldCI6IG51bGwsCiAgImZpbGwiOiB0cnVlLAogICJmaWxsQ29sb3IiOiAiIzMxODZjYyIsCiAgImZpbGxPcGFjaXR5IjogMC43LAogICJmaWxsUnVsZSI6ICJldmVub2RkIiwKICAibGluZUNhcCI6ICJyb3VuZCIsCiAgImxpbmVKb2luIjogInJvdW5kIiwKICAib3BhY2l0eSI6IDEuMCwKICAicmFkaXVzIjogNSwKICAic3Ryb2tlIjogdHJ1ZSwKICAid2VpZ2h0IjogMwp9CiAgICAgICAgICAgICAgICApLmFkZFRvKG1hcF9lM2Q0NTAzOWRkNzQ0ZDk1OWU2NTFkYzRjMWE1Yjc1Myk7CiAgICAgICAgICAgIAogICAgCiAgICAgICAgICAgIHZhciBwb3B1cF9hMWY0OGU5MmE1YmY0MWVhOTEwYWU4N2U2ZTkzZGMzOSA9IEwucG9wdXAoe21heFdpZHRoOiAnMzAwJ30pOwoKICAgICAgICAgICAgCiAgICAgICAgICAgICAgICB2YXIgaHRtbF9hNTQ3ZWNmZWRiZWI0ODY1OWI1YmExNmVhZGVmMWZmZSA9ICQoJzxkaXYgaWQ9Imh0bWxfYTU0N2VjZmVkYmViNDg2NTliNWJhMTZlYWRlZjFmZmUiIHN0eWxlPSJ3aWR0aDogMTAwLjAlOyBoZWlnaHQ6IDEwMC4wJTsiPk1hbmhhdHRhbiBWYWxsZXk8L2Rpdj4nKVswXTsKICAgICAgICAgICAgICAgIHBvcHVwX2ExZjQ4ZTkyYTViZjQxZWE5MTBhZTg3ZTZlOTNkYzM5LnNldENvbnRlbnQoaHRtbF9hNTQ3ZWNmZWRiZWI0ODY1OWI1YmExNmVhZGVmMWZmZSk7CiAgICAgICAgICAgIAoKICAgICAgICAgICAgY2lyY2xlX21hcmtlcl9hNDFmMjdmNjRlYzU0ZWRjOGMxMjRmY2U3YTk5NDU3My5iaW5kUG9wdXAocG9wdXBfYTFmNDhlOTJhNWJmNDFlYTkxMGFlODdlNmU5M2RjMzkpOwoKICAgICAgICAgICAgCiAgICAgICAgCiAgICAKICAgICAgICAgICAgdmFyIGNpcmNsZV9tYXJrZXJfOGQyYzdlZWFkMGJhNDBiMzllMWM3NTg4OGNiYmUwY2QgPSBMLmNpcmNsZU1hcmtlcigKICAgICAgICAgICAgICAgIFs0MC44MDc5OTk3MzgxNjU4MjYsLTczLjk2Mzg5NjI3OTA1MzMyXSwKICAgICAgICAgICAgICAgIHsKICAiYnViYmxpbmdNb3VzZUV2ZW50cyI6IHRydWUsCiAgImNvbG9yIjogImJsdWUiLAogICJkYXNoQXJyYXkiOiBudWxsLAogICJkYXNoT2Zmc2V0IjogbnVsbCwKICAiZmlsbCI6IHRydWUsCiAgImZpbGxDb2xvciI6ICIjMzE4NmNjIiwKICAiZmlsbE9wYWNpdHkiOiAwLjcsCiAgImZpbGxSdWxlIjogImV2ZW5vZGQiLAogICJsaW5lQ2FwIjogInJvdW5kIiwKICAibGluZUpvaW4iOiAicm91bmQiLAogICJvcGFjaXR5IjogMS4wLAogICJyYWRpdXMiOiA1LAogICJzdHJva2UiOiB0cnVlLAogICJ3ZWlnaHQiOiAzCn0KICAgICAgICAgICAgICAgICkuYWRkVG8obWFwX2UzZDQ1MDM5ZGQ3NDRkOTU5ZTY1MWRjNGMxYTViNzUzKTsKICAgICAgICAgICAgCiAgICAKICAgICAgICAgICAgdmFyIHBvcHVwX2U1MzYyNjUxYTM5YzQyYmRhZGJjYzQzYzQ0MjUzN2U3ID0gTC5wb3B1cCh7bWF4V2lkdGg6ICczMDAnfSk7CgogICAgICAgICAgICAKICAgICAgICAgICAgICAgIHZhciBodG1sX2VjY2JlNzMwZjlkZjQ0NDFiZDg3MGMyYWQwMzk2M2JhID0gJCgnPGRpdiBpZD0iaHRtbF9lY2NiZTczMGY5ZGY0NDQxYmQ4NzBjMmFkMDM5NjNiYSIgc3R5bGU9IndpZHRoOiAxMDAuMCU7IGhlaWdodDogMTAwLjAlOyI+TW9ybmluZ3NpZGUgSGVpZ2h0czwvZGl2PicpWzBdOwogICAgICAgICAgICAgICAgcG9wdXBfZTUzNjI2NTFhMzljNDJiZGFkYmNjNDNjNDQyNTM3ZTcuc2V0Q29udGVudChodG1sX2VjY2JlNzMwZjlkZjQ0NDFiZDg3MGMyYWQwMzk2M2JhKTsKICAgICAgICAgICAgCgogICAgICAgICAgICBjaXJjbGVfbWFya2VyXzhkMmM3ZWVhZDBiYTQwYjM5ZTFjNzU4ODhjYmJlMGNkLmJpbmRQb3B1cChwb3B1cF9lNTM2MjY1MWEzOWM0MmJkYWRiY2M0M2M0NDI1MzdlNyk7CgogICAgICAgICAgICAKICAgICAgICAKICAgIAogICAgICAgICAgICB2YXIgY2lyY2xlX21hcmtlcl9hNzQ3NWYxNGJjNzk0ZGZmOTBkYzUyOWM0NDc5NmI0NSA9IEwuY2lyY2xlTWFya2VyKAogICAgICAgICAgICAgICAgWzQwLjczNzIwOTgzMjcxNSwtNzMuOTgxMzc1OTQ4MzM1NDFdLAogICAgICAgICAgICAgICAgewogICJidWJibGluZ01vdXNlRXZlbnRzIjogdHJ1ZSwKICAiY29sb3IiOiAiYmx1ZSIsCiAgImRhc2hBcnJheSI6IG51bGwsCiAgImRhc2hPZmZzZXQiOiBudWxsLAogICJmaWxsIjogdHJ1ZSwKICAiZmlsbENvbG9yIjogIiMzMTg2Y2MiLAogICJmaWxsT3BhY2l0eSI6IDAuNywKICAiZmlsbFJ1bGUiOiAiZXZlbm9kZCIsCiAgImxpbmVDYXAiOiAicm91bmQiLAogICJsaW5lSm9pbiI6ICJyb3VuZCIsCiAgIm9wYWNpdHkiOiAxLjAsCiAgInJhZGl1cyI6IDUsCiAgInN0cm9rZSI6IHRydWUsCiAgIndlaWdodCI6IDMKfQogICAgICAgICAgICAgICAgKS5hZGRUbyhtYXBfZTNkNDUwMzlkZDc0NGQ5NTllNjUxZGM0YzFhNWI3NTMpOwogICAgICAgICAgICAKICAgIAogICAgICAgICAgICB2YXIgcG9wdXBfZjQ2YWQ4ZTVjNzQzNGZkYjg2MTAxOGY0NmM2ZDUwOTEgPSBMLnBvcHVwKHttYXhXaWR0aDogJzMwMCd9KTsKCiAgICAgICAgICAgIAogICAgICAgICAgICAgICAgdmFyIGh0bWxfYzA4ZmM5NmQzYjUyNGQzNWI2NjE5NjU5NDM5Y2E1MjQgPSAkKCc8ZGl2IGlkPSJodG1sX2MwOGZjOTZkM2I1MjRkMzViNjYxOTY1OTQzOWNhNTI0IiBzdHlsZT0id2lkdGg6IDEwMC4wJTsgaGVpZ2h0OiAxMDAuMCU7Ij5HcmFtZXJjeTwvZGl2PicpWzBdOwogICAgICAgICAgICAgICAgcG9wdXBfZjQ2YWQ4ZTVjNzQzNGZkYjg2MTAxOGY0NmM2ZDUwOTEuc2V0Q29udGVudChodG1sX2MwOGZjOTZkM2I1MjRkMzViNjYxOTY1OTQzOWNhNTI0KTsKICAgICAgICAgICAgCgogICAgICAgICAgICBjaXJjbGVfbWFya2VyX2E3NDc1ZjE0YmM3OTRkZmY5MGRjNTI5YzQ0Nzk2YjQ1LmJpbmRQb3B1cChwb3B1cF9mNDZhZDhlNWM3NDM0ZmRiODYxMDE4ZjQ2YzZkNTA5MSk7CgogICAgICAgICAgICAKICAgICAgICAKICAgIAogICAgICAgICAgICB2YXIgY2lyY2xlX21hcmtlcl81NzBhMDFlZGNmYTE0NTMzOTVkMWU4MTkyM2RjMzdmYyA9IEwuY2lyY2xlTWFya2VyKAogICAgICAgICAgICAgICAgWzQwLjcxMTkzMTk4Mzk0NTY1LC03NC4wMTY4NjkzMDUwODYxN10sCiAgICAgICAgICAgICAgICB7CiAgImJ1YmJsaW5nTW91c2VFdmVudHMiOiB0cnVlLAogICJjb2xvciI6ICJibHVlIiwKICAiZGFzaEFycmF5IjogbnVsbCwKICAiZGFzaE9mZnNldCI6IG51bGwsCiAgImZpbGwiOiB0cnVlLAogICJmaWxsQ29sb3IiOiAiIzMxODZjYyIsCiAgImZpbGxPcGFjaXR5IjogMC43LAogICJmaWxsUnVsZSI6ICJldmVub2RkIiwKICAibGluZUNhcCI6ICJyb3VuZCIsCiAgImxpbmVKb2luIjogInJvdW5kIiwKICAib3BhY2l0eSI6IDEuMCwKICAicmFkaXVzIjogNSwKICAic3Ryb2tlIjogdHJ1ZSwKICAid2VpZ2h0IjogMwp9CiAgICAgICAgICAgICAgICApLmFkZFRvKG1hcF9lM2Q0NTAzOWRkNzQ0ZDk1OWU2NTFkYzRjMWE1Yjc1Myk7CiAgICAgICAgICAgIAogICAgCiAgICAgICAgICAgIHZhciBwb3B1cF8yODA1YjZjZjY4YTc0NWU1YjFhMTM1YTU3Y2NiMGNjMSA9IEwucG9wdXAoe21heFdpZHRoOiAnMzAwJ30pOwoKICAgICAgICAgICAgCiAgICAgICAgICAgICAgICB2YXIgaHRtbF84YzI3YmU1YjY3MTk0OGE3YTUwMWQxMGFjMjY1ZDFkMCA9ICQoJzxkaXYgaWQ9Imh0bWxfOGMyN2JlNWI2NzE5NDhhN2E1MDFkMTBhYzI2NWQxZDAiIHN0eWxlPSJ3aWR0aDogMTAwLjAlOyBoZWlnaHQ6IDEwMC4wJTsiPkJhdHRlcnkgUGFyayBDaXR5PC9kaXY+JylbMF07CiAgICAgICAgICAgICAgICBwb3B1cF8yODA1YjZjZjY4YTc0NWU1YjFhMTM1YTU3Y2NiMGNjMS5zZXRDb250ZW50KGh0bWxfOGMyN2JlNWI2NzE5NDhhN2E1MDFkMTBhYzI2NWQxZDApOwogICAgICAgICAgICAKCiAgICAgICAgICAgIGNpcmNsZV9tYXJrZXJfNTcwYTAxZWRjZmExNDUzMzk1ZDFlODE5MjNkYzM3ZmMuYmluZFBvcHVwKHBvcHVwXzI4MDViNmNmNjhhNzQ1ZTViMWExMzVhNTdjY2IwY2MxKTsKCiAgICAgICAgICAgIAogICAgICAgIAogICAgCiAgICAgICAgICAgIHZhciBjaXJjbGVfbWFya2VyXzRlNmExNjA0NGE3NjRiMWI4MGVmNThjNzQxNmFhMTU2ID0gTC5jaXJjbGVNYXJrZXIoCiAgICAgICAgICAgICAgICBbNDAuNzA3MTA3MTA3MjcwNDgsLTc0LjAxMDY2NTQ0NTIxMjddLAogICAgICAgICAgICAgICAgewogICJidWJibGluZ01vdXNlRXZlbnRzIjogdHJ1ZSwKICAiY29sb3IiOiAiYmx1ZSIsCiAgImRhc2hBcnJheSI6IG51bGwsCiAgImRhc2hPZmZzZXQiOiBudWxsLAogICJmaWxsIjogdHJ1ZSwKICAiZmlsbENvbG9yIjogIiMzMTg2Y2MiLAogICJmaWxsT3BhY2l0eSI6IDAuNywKICAiZmlsbFJ1bGUiOiAiZXZlbm9kZCIsCiAgImxpbmVDYXAiOiAicm91bmQiLAogICJsaW5lSm9pbiI6ICJyb3VuZCIsCiAgIm9wYWNpdHkiOiAxLjAsCiAgInJhZGl1cyI6IDUsCiAgInN0cm9rZSI6IHRydWUsCiAgIndlaWdodCI6IDMKfQogICAgICAgICAgICAgICAgKS5hZGRUbyhtYXBfZTNkNDUwMzlkZDc0NGQ5NTllNjUxZGM0YzFhNWI3NTMpOwogICAgICAgICAgICAKICAgIAogICAgICAgICAgICB2YXIgcG9wdXBfZDA3NjBjNzJkOTU5NDc4Yjg4MTI3YTFjYjI4NjI3ZjEgPSBMLnBvcHVwKHttYXhXaWR0aDogJzMwMCd9KTsKCiAgICAgICAgICAgIAogICAgICAgICAgICAgICAgdmFyIGh0bWxfMjVkZmI4ZTU1ZTgwNDY3ZGE4YTgzMzlmOTk4YTNmYjMgPSAkKCc8ZGl2IGlkPSJodG1sXzI1ZGZiOGU1NWU4MDQ2N2RhOGE4MzM5Zjk5OGEzZmIzIiBzdHlsZT0id2lkdGg6IDEwMC4wJTsgaGVpZ2h0OiAxMDAuMCU7Ij5GaW5hbmNpYWwgRGlzdHJpY3Q8L2Rpdj4nKVswXTsKICAgICAgICAgICAgICAgIHBvcHVwX2QwNzYwYzcyZDk1OTQ3OGI4ODEyN2ExY2IyODYyN2YxLnNldENvbnRlbnQoaHRtbF8yNWRmYjhlNTVlODA0NjdkYThhODMzOWY5OThhM2ZiMyk7CiAgICAgICAgICAgIAoKICAgICAgICAgICAgY2lyY2xlX21hcmtlcl80ZTZhMTYwNDRhNzY0YjFiODBlZjU4Yzc0MTZhYTE1Ni5iaW5kUG9wdXAocG9wdXBfZDA3NjBjNzJkOTU5NDc4Yjg4MTI3YTFjYjI4NjI3ZjEpOwoKICAgICAgICAgICAgCiAgICAgICAgCiAgICAKICAgICAgICAgICAgdmFyIGNpcmNsZV9tYXJrZXJfMDNlYTUwNmEyNDBkNDY4Yzk1MjBjMTQ3Y2QyNTVmMDEgPSBMLmNpcmNsZU1hcmtlcigKICAgICAgICAgICAgICAgIFs0MC43ODI2ODI1NjcxMjU3LC03My45NTMyNTY0NjgzNzExMl0sCiAgICAgICAgICAgICAgICB7CiAgImJ1YmJsaW5nTW91c2VFdmVudHMiOiB0cnVlLAogICJjb2xvciI6ICJibHVlIiwKICAiZGFzaEFycmF5IjogbnVsbCwKICAiZGFzaE9mZnNldCI6IG51bGwsCiAgImZpbGwiOiB0cnVlLAogICJmaWxsQ29sb3IiOiAiIzMxODZjYyIsCiAgImZpbGxPcGFjaXR5IjogMC43LAogICJmaWxsUnVsZSI6ICJldmVub2RkIiwKICAibGluZUNhcCI6ICJyb3VuZCIsCiAgImxpbmVKb2luIjogInJvdW5kIiwKICAib3BhY2l0eSI6IDEuMCwKICAicmFkaXVzIjogNSwKICAic3Ryb2tlIjogdHJ1ZSwKICAid2VpZ2h0IjogMwp9CiAgICAgICAgICAgICAgICApLmFkZFRvKG1hcF9lM2Q0NTAzOWRkNzQ0ZDk1OWU2NTFkYzRjMWE1Yjc1Myk7CiAgICAgICAgICAgIAogICAgCiAgICAgICAgICAgIHZhciBwb3B1cF82MmM1MGJhZDhiOTk0ZGFlOTY0M2ZlMWExNjYzY2Q0ZCA9IEwucG9wdXAoe21heFdpZHRoOiAnMzAwJ30pOwoKICAgICAgICAgICAgCiAgICAgICAgICAgICAgICB2YXIgaHRtbF9jZjI2YmVmMjY0MTg0NTY5ODFiNDlhNGRiNTcwNzM5YiA9ICQoJzxkaXYgaWQ9Imh0bWxfY2YyNmJlZjI2NDE4NDU2OTgxYjQ5YTRkYjU3MDczOWIiIHN0eWxlPSJ3aWR0aDogMTAwLjAlOyBoZWlnaHQ6IDEwMC4wJTsiPkNhcm5lZ2llIEhpbGw8L2Rpdj4nKVswXTsKICAgICAgICAgICAgICAgIHBvcHVwXzYyYzUwYmFkOGI5OTRkYWU5NjQzZmUxYTE2NjNjZDRkLnNldENvbnRlbnQoaHRtbF9jZjI2YmVmMjY0MTg0NTY5ODFiNDlhNGRiNTcwNzM5Yik7CiAgICAgICAgICAgIAoKICAgICAgICAgICAgY2lyY2xlX21hcmtlcl8wM2VhNTA2YTI0MGQ0NjhjOTUyMGMxNDdjZDI1NWYwMS5iaW5kUG9wdXAocG9wdXBfNjJjNTBiYWQ4Yjk5NGRhZTk2NDNmZTFhMTY2M2NkNGQpOwoKICAgICAgICAgICAgCiAgICAgICAgCiAgICAKICAgICAgICAgICAgdmFyIGNpcmNsZV9tYXJrZXJfNDk3YTBlMmQyNDAzNDY2Yzk3OTg0NzMwMjYyNzBkYmUgPSBMLmNpcmNsZU1hcmtlcigKICAgICAgICAgICAgICAgIFs0MC43MjMyNTkwMTg4NTc2OCwtNzMuOTg4NDMzNjgwMjM1OTddLAogICAgICAgICAgICAgICAgewogICJidWJibGluZ01vdXNlRXZlbnRzIjogdHJ1ZSwKICAiY29sb3IiOiAiYmx1ZSIsCiAgImRhc2hBcnJheSI6IG51bGwsCiAgImRhc2hPZmZzZXQiOiBudWxsLAogICJmaWxsIjogdHJ1ZSwKICAiZmlsbENvbG9yIjogIiMzMTg2Y2MiLAogICJmaWxsT3BhY2l0eSI6IDAuNywKICAiZmlsbFJ1bGUiOiAiZXZlbm9kZCIsCiAgImxpbmVDYXAiOiAicm91bmQiLAogICJsaW5lSm9pbiI6ICJyb3VuZCIsCiAgIm9wYWNpdHkiOiAxLjAsCiAgInJhZGl1cyI6IDUsCiAgInN0cm9rZSI6IHRydWUsCiAgIndlaWdodCI6IDMKfQogICAgICAgICAgICAgICAgKS5hZGRUbyhtYXBfZTNkNDUwMzlkZDc0NGQ5NTllNjUxZGM0YzFhNWI3NTMpOwogICAgICAgICAgICAKICAgIAogICAgICAgICAgICB2YXIgcG9wdXBfNDA4MTc2MWFlYzM3NDU4NWIzZWJlZDUwOTAxNDkyOGUgPSBMLnBvcHVwKHttYXhXaWR0aDogJzMwMCd9KTsKCiAgICAgICAgICAgIAogICAgICAgICAgICAgICAgdmFyIGh0bWxfODViZjU1ZmU5NjU3NGEzZTk2ZjU3ODE5M2YyNjA3NWEgPSAkKCc8ZGl2IGlkPSJodG1sXzg1YmY1NWZlOTY1NzRhM2U5NmY1NzgxOTNmMjYwNzVhIiBzdHlsZT0id2lkdGg6IDEwMC4wJTsgaGVpZ2h0OiAxMDAuMCU7Ij5Ob2hvPC9kaXY+JylbMF07CiAgICAgICAgICAgICAgICBwb3B1cF80MDgxNzYxYWVjMzc0NTg1YjNlYmVkNTA5MDE0OTI4ZS5zZXRDb250ZW50KGh0bWxfODViZjU1ZmU5NjU3NGEzZTk2ZjU3ODE5M2YyNjA3NWEpOwogICAgICAgICAgICAKCiAgICAgICAgICAgIGNpcmNsZV9tYXJrZXJfNDk3YTBlMmQyNDAzNDY2Yzk3OTg0NzMwMjYyNzBkYmUuYmluZFBvcHVwKHBvcHVwXzQwODE3NjFhZWMzNzQ1ODViM2ViZWQ1MDkwMTQ5MjhlKTsKCiAgICAgICAgICAgIAogICAgICAgIAogICAgCiAgICAgICAgICAgIHZhciBjaXJjbGVfbWFya2VyXzA2ODMxYWI2YzUxYzRlOWM5MTNiZTUwMWVlNWRiNjZjID0gTC5jaXJjbGVNYXJrZXIoCiAgICAgICAgICAgICAgICBbNDAuNzE1MjI4OTIwNDYyODIsLTc0LjAwNTQxNTI5ODczMzU1XSwKICAgICAgICAgICAgICAgIHsKICAiYnViYmxpbmdNb3VzZUV2ZW50cyI6IHRydWUsCiAgImNvbG9yIjogImJsdWUiLAogICJkYXNoQXJyYXkiOiBudWxsLAogICJkYXNoT2Zmc2V0IjogbnVsbCwKICAiZmlsbCI6IHRydWUsCiAgImZpbGxDb2xvciI6ICIjMzE4NmNjIiwKICAiZmlsbE9wYWNpdHkiOiAwLjcsCiAgImZpbGxSdWxlIjogImV2ZW5vZGQiLAogICJsaW5lQ2FwIjogInJvdW5kIiwKICAibGluZUpvaW4iOiAicm91bmQiLAogICJvcGFjaXR5IjogMS4wLAogICJyYWRpdXMiOiA1LAogICJzdHJva2UiOiB0cnVlLAogICJ3ZWlnaHQiOiAzCn0KICAgICAgICAgICAgICAgICkuYWRkVG8obWFwX2UzZDQ1MDM5ZGQ3NDRkOTU5ZTY1MWRjNGMxYTViNzUzKTsKICAgICAgICAgICAgCiAgICAKICAgICAgICAgICAgdmFyIHBvcHVwXzk2NWVkNzAzMWRiMzQxMjlhYmQzN2NlYTBlM2I2ZGM0ID0gTC5wb3B1cCh7bWF4V2lkdGg6ICczMDAnfSk7CgogICAgICAgICAgICAKICAgICAgICAgICAgICAgIHZhciBodG1sXzk5NzY3NDhlNTBkODRmYWViODhlN2I5NTM1NWEzZmZiID0gJCgnPGRpdiBpZD0iaHRtbF85OTc2NzQ4ZTUwZDg0ZmFlYjg4ZTdiOTUzNTVhM2ZmYiIgc3R5bGU9IndpZHRoOiAxMDAuMCU7IGhlaWdodDogMTAwLjAlOyI+Q2l2aWMgQ2VudGVyPC9kaXY+JylbMF07CiAgICAgICAgICAgICAgICBwb3B1cF85NjVlZDcwMzFkYjM0MTI5YWJkMzdjZWEwZTNiNmRjNC5zZXRDb250ZW50KGh0bWxfOTk3Njc0OGU1MGQ4NGZhZWI4OGU3Yjk1MzU1YTNmZmIpOwogICAgICAgICAgICAKCiAgICAgICAgICAgIGNpcmNsZV9tYXJrZXJfMDY4MzFhYjZjNTFjNGU5YzkxM2JlNTAxZWU1ZGI2NmMuYmluZFBvcHVwKHBvcHVwXzk2NWVkNzAzMWRiMzQxMjlhYmQzN2NlYTBlM2I2ZGM0KTsKCiAgICAgICAgICAgIAogICAgICAgIAogICAgCiAgICAgICAgICAgIHZhciBjaXJjbGVfbWFya2VyX2EyMTg0YTQxYjQ0ZjRjNWQ5ODY2MWYxYmU3YTRjMWUwID0gTC5jaXJjbGVNYXJrZXIoCiAgICAgICAgICAgICAgICBbNDAuNzQ4NTA5NjY0MzEyMiwtNzMuOTg4NzEzMTMyODUyNDddLAogICAgICAgICAgICAgICAgewogICJidWJibGluZ01vdXNlRXZlbnRzIjogdHJ1ZSwKICAiY29sb3IiOiAiYmx1ZSIsCiAgImRhc2hBcnJheSI6IG51bGwsCiAgImRhc2hPZmZzZXQiOiBudWxsLAogICJmaWxsIjogdHJ1ZSwKICAiZmlsbENvbG9yIjogIiMzMTg2Y2MiLAogICJmaWxsT3BhY2l0eSI6IDAuNywKICAiZmlsbFJ1bGUiOiAiZXZlbm9kZCIsCiAgImxpbmVDYXAiOiAicm91bmQiLAogICJsaW5lSm9pbiI6ICJyb3VuZCIsCiAgIm9wYWNpdHkiOiAxLjAsCiAgInJhZGl1cyI6IDUsCiAgInN0cm9rZSI6IHRydWUsCiAgIndlaWdodCI6IDMKfQogICAgICAgICAgICAgICAgKS5hZGRUbyhtYXBfZTNkNDUwMzlkZDc0NGQ5NTllNjUxZGM0YzFhNWI3NTMpOwogICAgICAgICAgICAKICAgIAogICAgICAgICAgICB2YXIgcG9wdXBfMWE2NTdmMDBhYjIwNGFmMmFlN2M3ODRmZGIzNzY5Y2MgPSBMLnBvcHVwKHttYXhXaWR0aDogJzMwMCd9KTsKCiAgICAgICAgICAgIAogICAgICAgICAgICAgICAgdmFyIGh0bWxfMmUxODI4YjVkNzlmNGEzYzgwZGI0ZGVkN2M0ZTAxZmUgPSAkKCc8ZGl2IGlkPSJodG1sXzJlMTgyOGI1ZDc5ZjRhM2M4MGRiNGRlZDdjNGUwMWZlIiBzdHlsZT0id2lkdGg6IDEwMC4wJTsgaGVpZ2h0OiAxMDAuMCU7Ij5NaWR0b3duIFNvdXRoPC9kaXY+JylbMF07CiAgICAgICAgICAgICAgICBwb3B1cF8xYTY1N2YwMGFiMjA0YWYyYWU3Yzc4NGZkYjM3NjljYy5zZXRDb250ZW50KGh0bWxfMmUxODI4YjVkNzlmNGEzYzgwZGI0ZGVkN2M0ZTAxZmUpOwogICAgICAgICAgICAKCiAgICAgICAgICAgIGNpcmNsZV9tYXJrZXJfYTIxODRhNDFiNDRmNGM1ZDk4NjYxZjFiZTdhNGMxZTAuYmluZFBvcHVwKHBvcHVwXzFhNjU3ZjAwYWIyMDRhZjJhZTdjNzg0ZmRiMzc2OWNjKTsKCiAgICAgICAgICAgIAogICAgICAgIAogICAgCiAgICAgICAgICAgIHZhciBjaXJjbGVfbWFya2VyXzYwYmIxOTY3NjZjZjQ0OTQ4ZTMzMDAwYjFlMWYxYzhiID0gTC5jaXJjbGVNYXJrZXIoCiAgICAgICAgICAgICAgICBbNDAuNzYwMjgwMzMxMzEzNzQsLTczLjk2MzU1NjE0MDk0MzAzXSwKICAgICAgICAgICAgICAgIHsKICAiYnViYmxpbmdNb3VzZUV2ZW50cyI6IHRydWUsCiAgImNvbG9yIjogImJsdWUiLAogICJkYXNoQXJyYXkiOiBudWxsLAogICJkYXNoT2Zmc2V0IjogbnVsbCwKICAiZmlsbCI6IHRydWUsCiAgImZpbGxDb2xvciI6ICIjMzE4NmNjIiwKICAiZmlsbE9wYWNpdHkiOiAwLjcsCiAgImZpbGxSdWxlIjogImV2ZW5vZGQiLAogICJsaW5lQ2FwIjogInJvdW5kIiwKICAibGluZUpvaW4iOiAicm91bmQiLAogICJvcGFjaXR5IjogMS4wLAogICJyYWRpdXMiOiA1LAogICJzdHJva2UiOiB0cnVlLAogICJ3ZWlnaHQiOiAzCn0KICAgICAgICAgICAgICAgICkuYWRkVG8obWFwX2UzZDQ1MDM5ZGQ3NDRkOTU5ZTY1MWRjNGMxYTViNzUzKTsKICAgICAgICAgICAgCiAgICAKICAgICAgICAgICAgdmFyIHBvcHVwXzU3YjBmMGQyZjdmMzQ5MTk4MjEzNGI1MDYyNmUyN2IwID0gTC5wb3B1cCh7bWF4V2lkdGg6ICczMDAnfSk7CgogICAgICAgICAgICAKICAgICAgICAgICAgICAgIHZhciBodG1sXzFkMzYxOGE3Y2Q4MjQxNDRiZGJlMmJkYzJjNWQ5MzM5ID0gJCgnPGRpdiBpZD0iaHRtbF8xZDM2MThhN2NkODI0MTQ0YmRiZTJiZGMyYzVkOTMzOSIgc3R5bGU9IndpZHRoOiAxMDAuMCU7IGhlaWdodDogMTAwLjAlOyI+U3V0dG9uIFBsYWNlPC9kaXY+JylbMF07CiAgICAgICAgICAgICAgICBwb3B1cF81N2IwZjBkMmY3ZjM0OTE5ODIxMzRiNTA2MjZlMjdiMC5zZXRDb250ZW50KGh0bWxfMWQzNjE4YTdjZDgyNDE0NGJkYmUyYmRjMmM1ZDkzMzkpOwogICAgICAgICAgICAKCiAgICAgICAgICAgIGNpcmNsZV9tYXJrZXJfNjBiYjE5Njc2NmNmNDQ5NDhlMzMwMDBiMWUxZjFjOGIuYmluZFBvcHVwKHBvcHVwXzU3YjBmMGQyZjdmMzQ5MTk4MjEzNGI1MDYyNmUyN2IwKTsKCiAgICAgICAgICAgIAogICAgICAgIAogICAgCiAgICAgICAgICAgIHZhciBjaXJjbGVfbWFya2VyXzY5ZjM5ZDY5MzdiMjRkNGE5YmM5NGJlNzI4OTNmYjM5ID0gTC5jaXJjbGVNYXJrZXIoCiAgICAgICAgICAgICAgICBbNDAuNzUyMDQyMzY5NTA3MjIsLTczLjk2NzcwODI0NTgxODM0XSwKICAgICAgICAgICAgICAgIHsKICAiYnViYmxpbmdNb3VzZUV2ZW50cyI6IHRydWUsCiAgImNvbG9yIjogImJsdWUiLAogICJkYXNoQXJyYXkiOiBudWxsLAogICJkYXNoT2Zmc2V0IjogbnVsbCwKICAiZmlsbCI6IHRydWUsCiAgImZpbGxDb2xvciI6ICIjMzE4NmNjIiwKICAiZmlsbE9wYWNpdHkiOiAwLjcsCiAgImZpbGxSdWxlIjogImV2ZW5vZGQiLAogICJsaW5lQ2FwIjogInJvdW5kIiwKICAibGluZUpvaW4iOiAicm91bmQiLAogICJvcGFjaXR5IjogMS4wLAogICJyYWRpdXMiOiA1LAogICJzdHJva2UiOiB0cnVlLAogICJ3ZWlnaHQiOiAzCn0KICAgICAgICAgICAgICAgICkuYWRkVG8obWFwX2UzZDQ1MDM5ZGQ3NDRkOTU5ZTY1MWRjNGMxYTViNzUzKTsKICAgICAgICAgICAgCiAgICAKICAgICAgICAgICAgdmFyIHBvcHVwXzQ0OTM0NWZiNjE3MjQxZTBhOWRjYjQ1M2Q3YjFhNTE5ID0gTC5wb3B1cCh7bWF4V2lkdGg6ICczMDAnfSk7CgogICAgICAgICAgICAKICAgICAgICAgICAgICAgIHZhciBodG1sXzFiN2UxM2QzZGRiNjQ0Nzc5NjBhNzkzZjQ3MWVlMjQ3ID0gJCgnPGRpdiBpZD0iaHRtbF8xYjdlMTNkM2RkYjY0NDc3OTYwYTc5M2Y0NzFlZTI0NyIgc3R5bGU9IndpZHRoOiAxMDAuMCU7IGhlaWdodDogMTAwLjAlOyI+VHVydGxlIEJheTwvZGl2PicpWzBdOwogICAgICAgICAgICAgICAgcG9wdXBfNDQ5MzQ1ZmI2MTcyNDFlMGE5ZGNiNDUzZDdiMWE1MTkuc2V0Q29udGVudChodG1sXzFiN2UxM2QzZGRiNjQ0Nzc5NjBhNzkzZjQ3MWVlMjQ3KTsKICAgICAgICAgICAgCgogICAgICAgICAgICBjaXJjbGVfbWFya2VyXzY5ZjM5ZDY5MzdiMjRkNGE5YmM5NGJlNzI4OTNmYjM5LmJpbmRQb3B1cChwb3B1cF80NDkzNDVmYjYxNzI0MWUwYTlkY2I0NTNkN2IxYTUxOSk7CgogICAgICAgICAgICAKICAgICAgICAKICAgIAogICAgICAgICAgICB2YXIgY2lyY2xlX21hcmtlcl9iNGYyYjlkYTlmZTQ0N2IyOTBlNjg5ZmY3NjhjMzRhNSA9IEwuY2lyY2xlTWFya2VyKAogICAgICAgICAgICAgICAgWzQwLjc0NjkxNzQxMDc0MDE5NSwtNzMuOTcxMjE5Mjg3MjIyNjVdLAogICAgICAgICAgICAgICAgewogICJidWJibGluZ01vdXNlRXZlbnRzIjogdHJ1ZSwKICAiY29sb3IiOiAiYmx1ZSIsCiAgImRhc2hBcnJheSI6IG51bGwsCiAgImRhc2hPZmZzZXQiOiBudWxsLAogICJmaWxsIjogdHJ1ZSwKICAiZmlsbENvbG9yIjogIiMzMTg2Y2MiLAogICJmaWxsT3BhY2l0eSI6IDAuNywKICAiZmlsbFJ1bGUiOiAiZXZlbm9kZCIsCiAgImxpbmVDYXAiOiAicm91bmQiLAogICJsaW5lSm9pbiI6ICJyb3VuZCIsCiAgIm9wYWNpdHkiOiAxLjAsCiAgInJhZGl1cyI6IDUsCiAgInN0cm9rZSI6IHRydWUsCiAgIndlaWdodCI6IDMKfQogICAgICAgICAgICAgICAgKS5hZGRUbyhtYXBfZTNkNDUwMzlkZDc0NGQ5NTllNjUxZGM0YzFhNWI3NTMpOwogICAgICAgICAgICAKICAgIAogICAgICAgICAgICB2YXIgcG9wdXBfOWY2ODhkMWE2NmM0NDA0YWEwMjYxZmViNGRlNjE2YjMgPSBMLnBvcHVwKHttYXhXaWR0aDogJzMwMCd9KTsKCiAgICAgICAgICAgIAogICAgICAgICAgICAgICAgdmFyIGh0bWxfYTRkN2EyYmIwODM1NDljZjk5MDlkZTc4ZDljYmIyMDMgPSAkKCc8ZGl2IGlkPSJodG1sX2E0ZDdhMmJiMDgzNTQ5Y2Y5OTA5ZGU3OGQ5Y2JiMjAzIiBzdHlsZT0id2lkdGg6IDEwMC4wJTsgaGVpZ2h0OiAxMDAuMCU7Ij5UdWRvciBDaXR5PC9kaXY+JylbMF07CiAgICAgICAgICAgICAgICBwb3B1cF85ZjY4OGQxYTY2YzQ0MDRhYTAyNjFmZWI0ZGU2MTZiMy5zZXRDb250ZW50KGh0bWxfYTRkN2EyYmIwODM1NDljZjk5MDlkZTc4ZDljYmIyMDMpOwogICAgICAgICAgICAKCiAgICAgICAgICAgIGNpcmNsZV9tYXJrZXJfYjRmMmI5ZGE5ZmU0NDdiMjkwZTY4OWZmNzY4YzM0YTUuYmluZFBvcHVwKHBvcHVwXzlmNjg4ZDFhNjZjNDQwNGFhMDI2MWZlYjRkZTYxNmIzKTsKCiAgICAgICAgICAgIAogICAgICAgIAogICAgCiAgICAgICAgICAgIHZhciBjaXJjbGVfbWFya2VyXzg5MDg4M2NlNmI2ZTQzMjBhNjg1YjRiNTYwMTA0YmY2ID0gTC5jaXJjbGVNYXJrZXIoCiAgICAgICAgICAgICAgICBbNDAuNzMwOTk5NTU0NzcwNjEsLTczLjk3NDA1MTcwNDY5MjAzXSwKICAgICAgICAgICAgICAgIHsKICAiYnViYmxpbmdNb3VzZUV2ZW50cyI6IHRydWUsCiAgImNvbG9yIjogImJsdWUiLAogICJkYXNoQXJyYXkiOiBudWxsLAogICJkYXNoT2Zmc2V0IjogbnVsbCwKICAiZmlsbCI6IHRydWUsCiAgImZpbGxDb2xvciI6ICIjMzE4NmNjIiwKICAiZmlsbE9wYWNpdHkiOiAwLjcsCiAgImZpbGxSdWxlIjogImV2ZW5vZGQiLAogICJsaW5lQ2FwIjogInJvdW5kIiwKICAibGluZUpvaW4iOiAicm91bmQiLAogICJvcGFjaXR5IjogMS4wLAogICJyYWRpdXMiOiA1LAogICJzdHJva2UiOiB0cnVlLAogICJ3ZWlnaHQiOiAzCn0KICAgICAgICAgICAgICAgICkuYWRkVG8obWFwX2UzZDQ1MDM5ZGQ3NDRkOTU5ZTY1MWRjNGMxYTViNzUzKTsKICAgICAgICAgICAgCiAgICAKICAgICAgICAgICAgdmFyIHBvcHVwXzUyNjcxNDI0YWRiYjQyOGQ4NjdlYjU3MjhjZWFhNzlkID0gTC5wb3B1cCh7bWF4V2lkdGg6ICczMDAnfSk7CgogICAgICAgICAgICAKICAgICAgICAgICAgICAgIHZhciBodG1sXzEzZDVhZDIyMzcxODQ5NzZhMDM1Njg4ZGYwZjdlZTk0ID0gJCgnPGRpdiBpZD0iaHRtbF8xM2Q1YWQyMjM3MTg0OTc2YTAzNTY4OGRmMGY3ZWU5NCIgc3R5bGU9IndpZHRoOiAxMDAuMCU7IGhlaWdodDogMTAwLjAlOyI+U3R1eXZlc2FudCBUb3duPC9kaXY+JylbMF07CiAgICAgICAgICAgICAgICBwb3B1cF81MjY3MTQyNGFkYmI0MjhkODY3ZWI1NzI4Y2VhYTc5ZC5zZXRDb250ZW50KGh0bWxfMTNkNWFkMjIzNzE4NDk3NmEwMzU2ODhkZjBmN2VlOTQpOwogICAgICAgICAgICAKCiAgICAgICAgICAgIGNpcmNsZV9tYXJrZXJfODkwODgzY2U2YjZlNDMyMGE2ODViNGI1NjAxMDRiZjYuYmluZFBvcHVwKHBvcHVwXzUyNjcxNDI0YWRiYjQyOGQ4NjdlYjU3MjhjZWFhNzlkKTsKCiAgICAgICAgICAgIAogICAgICAgIAogICAgCiAgICAgICAgICAgIHZhciBjaXJjbGVfbWFya2VyX2ZhYzI0MmU1NDA2MTQwY2U4YWUzNmQ0NTc2NDNiODA3ID0gTC5jaXJjbGVNYXJrZXIoCiAgICAgICAgICAgICAgICBbNDAuNzM5NjczMDQ3NjM4NDI2LC03My45OTA5NDcxMDUyODI2XSwKICAgICAgICAgICAgICAgIHsKICAiYnViYmxpbmdNb3VzZUV2ZW50cyI6IHRydWUsCiAgImNvbG9yIjogImJsdWUiLAogICJkYXNoQXJyYXkiOiBudWxsLAogICJkYXNoT2Zmc2V0IjogbnVsbCwKICAiZmlsbCI6IHRydWUsCiAgImZpbGxDb2xvciI6ICIjMzE4NmNjIiwKICAiZmlsbE9wYWNpdHkiOiAwLjcsCiAgImZpbGxSdWxlIjogImV2ZW5vZGQiLAogICJsaW5lQ2FwIjogInJvdW5kIiwKICAibGluZUpvaW4iOiAicm91bmQiLAogICJvcGFjaXR5IjogMS4wLAogICJyYWRpdXMiOiA1LAogICJzdHJva2UiOiB0cnVlLAogICJ3ZWlnaHQiOiAzCn0KICAgICAgICAgICAgICAgICkuYWRkVG8obWFwX2UzZDQ1MDM5ZGQ3NDRkOTU5ZTY1MWRjNGMxYTViNzUzKTsKICAgICAgICAgICAgCiAgICAKICAgICAgICAgICAgdmFyIHBvcHVwXzFmYTViZDk5N2UyNjQ3YTg5NTY0OGM3NDM5OTA5NmRmID0gTC5wb3B1cCh7bWF4V2lkdGg6ICczMDAnfSk7CgogICAgICAgICAgICAKICAgICAgICAgICAgICAgIHZhciBodG1sX2YxNzRiYTY4N2U5NTQ3ZDViMjY1MjNlZGYwM2IzZDU5ID0gJCgnPGRpdiBpZD0iaHRtbF9mMTc0YmE2ODdlOTU0N2Q1YjI2NTIzZWRmMDNiM2Q1OSIgc3R5bGU9IndpZHRoOiAxMDAuMCU7IGhlaWdodDogMTAwLjAlOyI+RmxhdGlyb248L2Rpdj4nKVswXTsKICAgICAgICAgICAgICAgIHBvcHVwXzFmYTViZDk5N2UyNjQ3YTg5NTY0OGM3NDM5OTA5NmRmLnNldENvbnRlbnQoaHRtbF9mMTc0YmE2ODdlOTU0N2Q1YjI2NTIzZWRmMDNiM2Q1OSk7CiAgICAgICAgICAgIAoKICAgICAgICAgICAgY2lyY2xlX21hcmtlcl9mYWMyNDJlNTQwNjE0MGNlOGFlMzZkNDU3NjQzYjgwNy5iaW5kUG9wdXAocG9wdXBfMWZhNWJkOTk3ZTI2NDdhODk1NjQ4Yzc0Mzk5MDk2ZGYpOwoKICAgICAgICAgICAgCiAgICAgICAgCiAgICAKICAgICAgICAgICAgdmFyIGNpcmNsZV9tYXJrZXJfYzBkMzExZTk4ZDY1NGNiOWE2M2E4NTQ0ZGZlYWRiY2IgPSBMLmNpcmNsZU1hcmtlcigKICAgICAgICAgICAgICAgIFs0MC43NTY2NTgwODIyNzUxOSwtNzQuMDAwMTExMzYyMDI2MzddLAogICAgICAgICAgICAgICAgewogICJidWJibGluZ01vdXNlRXZlbnRzIjogdHJ1ZSwKICAiY29sb3IiOiAiYmx1ZSIsCiAgImRhc2hBcnJheSI6IG51bGwsCiAgImRhc2hPZmZzZXQiOiBudWxsLAogICJmaWxsIjogdHJ1ZSwKICAiZmlsbENvbG9yIjogIiMzMTg2Y2MiLAogICJmaWxsT3BhY2l0eSI6IDAuNywKICAiZmlsbFJ1bGUiOiAiZXZlbm9kZCIsCiAgImxpbmVDYXAiOiAicm91bmQiLAogICJsaW5lSm9pbiI6ICJyb3VuZCIsCiAgIm9wYWNpdHkiOiAxLjAsCiAgInJhZGl1cyI6IDUsCiAgInN0cm9rZSI6IHRydWUsCiAgIndlaWdodCI6IDMKfQogICAgICAgICAgICAgICAgKS5hZGRUbyhtYXBfZTNkNDUwMzlkZDc0NGQ5NTllNjUxZGM0YzFhNWI3NTMpOwogICAgICAgICAgICAKICAgIAogICAgICAgICAgICB2YXIgcG9wdXBfMDQ1ZTVhMzRjYTZiNDg0YzlhZjZkMmUzMmQ2OGVmZTUgPSBMLnBvcHVwKHttYXhXaWR0aDogJzMwMCd9KTsKCiAgICAgICAgICAgIAogICAgICAgICAgICAgICAgdmFyIGh0bWxfMWQ0OWE3ZDZkODhmNDc3MGI4YjVmNDcwN2ZkNTU5NjQgPSAkKCc8ZGl2IGlkPSJodG1sXzFkNDlhN2Q2ZDg4ZjQ3NzBiOGI1ZjQ3MDdmZDU1OTY0IiBzdHlsZT0id2lkdGg6IDEwMC4wJTsgaGVpZ2h0OiAxMDAuMCU7Ij5IdWRzb24gWWFyZHM8L2Rpdj4nKVswXTsKICAgICAgICAgICAgICAgIHBvcHVwXzA0NWU1YTM0Y2E2YjQ4NGM5YWY2ZDJlMzJkNjhlZmU1LnNldENvbnRlbnQoaHRtbF8xZDQ5YTdkNmQ4OGY0NzcwYjhiNWY0NzA3ZmQ1NTk2NCk7CiAgICAgICAgICAgIAoKICAgICAgICAgICAgY2lyY2xlX21hcmtlcl9jMGQzMTFlOThkNjU0Y2I5YTYzYTg1NDRkZmVhZGJjYi5iaW5kUG9wdXAocG9wdXBfMDQ1ZTVhMzRjYTZiNDg0YzlhZjZkMmUzMmQ2OGVmZTUpOwoKICAgICAgICAgICAgCiAgICAgICAgCjwvc2NyaXB0Pg==\" style=\"position:absolute;width:100%;height:100%;left:0;top:0;border:none !important;\" allowfullscreen webkitallowfullscreen mozallowfullscreen></iframe></div></div>"
      ],
      "text/plain": [
       "<folium.folium.Map at 0x10c420a50>"
      ]
     },
     "execution_count": 17,
     "metadata": {},
     "output_type": "execute_result"
    }
   ],
   "source": [
    "# create map of Manhattan using latitude and longitude values\n",
    "map_manhattan = folium.Map(location=[latitude, longitude], zoom_start=11)\n",
    "\n",
    "# add markers to map\n",
    "for lat, lng, label in zip(manhattan_data['Latitude'], manhattan_data['Longitude'], manhattan_data['Neighborhood']):\n",
    "    label = folium.Popup(label, parse_html=True)\n",
    "    folium.CircleMarker(\n",
    "        [lat, lng],\n",
    "        radius=5,\n",
    "        popup=label,\n",
    "        color='blue',\n",
    "        fill=True,\n",
    "        fill_color='#3186cc',\n",
    "        fill_opacity=0.7,\n",
    "        parse_html=False).add_to(map_manhattan)  \n",
    "    \n",
    "map_manhattan"
   ]
  },
  {
   "cell_type": "markdown",
   "metadata": {},
   "source": [
    "Next, we are going to start utilizing the Foursquare API to explore the neighborhoods and segment them."
   ]
  },
  {
   "cell_type": "markdown",
   "metadata": {},
   "source": [
    "#### Define Foursquare Credentials and Version"
   ]
  },
  {
   "cell_type": "code",
   "execution_count": 20,
   "metadata": {},
   "outputs": [
    {
     "name": "stdout",
     "output_type": "stream",
     "text": [
      "Your credentails:\n",
      "CLIENT_ID: AKXLWVJFKDK154405OFVIYAA21SO5KOEFJIC32VU2HAMENFC\n",
      "CLIENT_SECRET:WZ0L4UZS1DSZLOBX0500RRN2KYELHFB4TEVX1LUX4M3PSMBX\n"
     ]
    }
   ],
   "source": [
    "CLIENT_ID = 'AKXLWVJFKDK154405OFVIYAA21SO5KOEFJIC32VU2HAMENFC' # your Foursquare ID\n",
    "CLIENT_SECRET = 'WZ0L4UZS1DSZLOBX0500RRN2KYELHFB4TEVX1LUX4M3PSMBX' # your Foursquare Secret\n",
    "VERSION = '20200109' # Foursquare API version\n",
    "\n",
    "print('Your credentails:')\n",
    "print('CLIENT_ID: ' + CLIENT_ID)\n",
    "print('CLIENT_SECRET:' + CLIENT_SECRET)"
   ]
  },
  {
   "cell_type": "markdown",
   "metadata": {},
   "source": [
    "#### Let's explore the first neighborhood in our dataframe."
   ]
  },
  {
   "cell_type": "markdown",
   "metadata": {},
   "source": [
    "Get the neighborhood's name."
   ]
  },
  {
   "cell_type": "code",
   "execution_count": 21,
   "metadata": {},
   "outputs": [
    {
     "data": {
      "text/plain": [
       "'Marble Hill'"
      ]
     },
     "execution_count": 21,
     "metadata": {},
     "output_type": "execute_result"
    }
   ],
   "source": [
    "manhattan_data.loc[0, 'Neighborhood']"
   ]
  },
  {
   "cell_type": "markdown",
   "metadata": {},
   "source": [
    "Get the neighborhood's latitude and longitude values."
   ]
  },
  {
   "cell_type": "code",
   "execution_count": 22,
   "metadata": {},
   "outputs": [
    {
     "name": "stdout",
     "output_type": "stream",
     "text": [
      "Latitude and longitude values of Marble Hill are 40.87655077879964, -73.91065965862981.\n"
     ]
    }
   ],
   "source": [
    "neighborhood_latitude = manhattan_data.loc[0, 'Latitude'] # neighborhood latitude value\n",
    "neighborhood_longitude = manhattan_data.loc[0, 'Longitude'] # neighborhood longitude value\n",
    "\n",
    "neighborhood_name = manhattan_data.loc[0, 'Neighborhood'] # neighborhood name\n",
    "\n",
    "print('Latitude and longitude values of {} are {}, {}.'.format(neighborhood_name, \n",
    "                                                               neighborhood_latitude, \n",
    "                                                               neighborhood_longitude))"
   ]
  },
  {
   "cell_type": "markdown",
   "metadata": {},
   "source": [
    "#### Now, let's get the top 100 venues that are in Marble Hill within a radius of 500 meters."
   ]
  },
  {
   "cell_type": "markdown",
   "metadata": {},
   "source": [
    "First, let's create the GET request URL. Name your URL **url**."
   ]
  },
  {
   "cell_type": "code",
   "execution_count": null,
   "metadata": {},
   "outputs": [],
   "source": [
    "CLIENT_ID = 'AKXLWVJFKDK154405OFVIYAA21SO5KOEFJIC32VU2HAMENFC' # your Foursquare ID\n",
    "CLIENT_SECRET = 'WZ0L4UZS1DSZLOBX0500RRN2KYELHFB4TEVX1LUX4M3PSMBX' # your Foursquare Secret\n",
    "VERSION = '20200109'\n",
    "LIMIT = 100\n",
    "print('Your credentails:')\n",
    "print('CLIENT_ID: ' + CLIENT_ID)\n",
    "print('CLIENT_SECRET:' + CLIENT_SECRET)\n",
    "latitude = neighborhood_latitude\n",
    "longitude = neighborhood_longitude"
   ]
  },
  {
   "cell_type": "code",
   "execution_count": null,
   "metadata": {
    "scrolled": true
   },
   "outputs": [],
   "source": [
    "# type your answer here\n",
    "\n",
    "url = 'https://api.foursquare.com/v2/venues/search?client_id={}&client_secret={}&ll={},{}&v={}&query={}&radius={}&limit={}'.format(CLIENT_ID, CLIENT_SECRET, latitude, longitude, VERSION, search_query, radius, LIMIT)\n",
    "url\n",
    "\n"
   ]
  },
  {
   "cell_type": "markdown",
   "metadata": {},
   "source": [
    "Double-click __here__ for the solution.\n",
    "<!-- The correct answer is:\n",
    "LIMIT = 100 # limit of number of venues returned by Foursquare API\n",
    "-->\n",
    "\n",
    "<!--\n",
    "radius = 500 # define radius\n",
    "-->\n",
    "\n",
    "<!--\n",
    "\\\\ # create URL\n",
    "url = 'https://api.foursquare.com/v2/venues/explore?&client_id={}&client_secret={}&v={}&ll={},{}&radius={}&limit={}'.format(\n",
    "    CLIENT_ID, \n",
    "    CLIENT_SECRET, \n",
    "    VERSION, \n",
    "    neighborhood_latitude, \n",
    "    neighborhood_longitude, \n",
    "    radius, \n",
    "    LIMIT)\n",
    "url # display URL\n",
    "--> "
   ]
  },
  {
   "cell_type": "markdown",
   "metadata": {},
   "source": [
    "Send the GET request and examine the resutls"
   ]
  },
  {
   "cell_type": "code",
   "execution_count": null,
   "metadata": {},
   "outputs": [],
   "source": [
    "results = requests.get(url).json()\n",
    "results"
   ]
  },
  {
   "cell_type": "markdown",
   "metadata": {},
   "source": [
    "From the Foursquare lab in the previous module, we know that all the information is in the *items* key. Before we proceed, let's borrow the **get_category_type** function from the Foursquare lab."
   ]
  },
  {
   "cell_type": "code",
   "execution_count": null,
   "metadata": {
    "collapsed": true
   },
   "outputs": [],
   "source": [
    "# function that extracts the category of the venue\n",
    "def get_category_type(row):\n",
    "    try:\n",
    "        categories_list = row['categories']\n",
    "    except:\n",
    "        categories_list = row['venue.categories']\n",
    "        \n",
    "    if len(categories_list) == 0:\n",
    "        return None\n",
    "    else:\n",
    "        return categories_list[0]['name']"
   ]
  },
  {
   "cell_type": "markdown",
   "metadata": {},
   "source": [
    "Now we are ready to clean the json and structure it into a *pandas* dataframe."
   ]
  },
  {
   "cell_type": "code",
   "execution_count": null,
   "metadata": {},
   "outputs": [],
   "source": [
    "venues = results['response']['groups'][0]['items']\n",
    "    \n",
    "nearby_venues = json_normalize(venues) # flatten JSON\n",
    "\n",
    "# filter columns\n",
    "filtered_columns = ['venue.name', 'venue.categories', 'venue.location.lat', 'venue.location.lng']\n",
    "nearby_venues =nearby_venues.loc[:, filtered_columns]\n",
    "\n",
    "# filter the category for each row\n",
    "nearby_venues['venue.categories'] = nearby_venues.apply(get_category_type, axis=1)\n",
    "\n",
    "# clean columns\n",
    "nearby_venues.columns = [col.split(\".\")[-1] for col in nearby_venues.columns]\n",
    "\n",
    "nearby_venues.head()"
   ]
  },
  {
   "cell_type": "markdown",
   "metadata": {},
   "source": [
    "And how many venues were returned by Foursquare?"
   ]
  },
  {
   "cell_type": "code",
   "execution_count": null,
   "metadata": {},
   "outputs": [],
   "source": [
    "print('{} venues were returned by Foursquare.'.format(nearby_venues.shape[0]))"
   ]
  },
  {
   "cell_type": "markdown",
   "metadata": {},
   "source": [
    "<a id='item2'></a>"
   ]
  },
  {
   "cell_type": "markdown",
   "metadata": {},
   "source": [
    "## 2. Explore Neighborhoods in Manhattan"
   ]
  },
  {
   "cell_type": "markdown",
   "metadata": {},
   "source": [
    "#### Let's create a function to repeat the same process to all the neighborhoods in Manhattan"
   ]
  },
  {
   "cell_type": "code",
   "execution_count": null,
   "metadata": {
    "collapsed": true
   },
   "outputs": [],
   "source": [
    "def getNearbyVenues(names, latitudes, longitudes, radius=500):\n",
    "    \n",
    "    venues_list=[]\n",
    "    for name, lat, lng in zip(names, latitudes, longitudes):\n",
    "        print(name)\n",
    "            \n",
    "        # create the API request URL\n",
    "        url = 'https://api.foursquare.com/v2/venues/explore?&client_id={}&client_secret={}&v={}&ll={},{}&radius={}&limit={}'.format(\n",
    "            CLIENT_ID, \n",
    "            CLIENT_SECRET, \n",
    "            VERSION, \n",
    "            lat, \n",
    "            lng, \n",
    "            radius, \n",
    "            LIMIT)\n",
    "            \n",
    "        # make the GET request\n",
    "        results = requests.get(url).json()[\"response\"]['groups'][0]['items']\n",
    "        \n",
    "        # return only relevant information for each nearby venue\n",
    "        venues_list.append([(\n",
    "            name, \n",
    "            lat, \n",
    "            lng, \n",
    "            v['venue']['name'], \n",
    "            v['venue']['location']['lat'], \n",
    "            v['venue']['location']['lng'],  \n",
    "            v['venue']['categories'][0]['name']) for v in results])\n",
    "\n",
    "    nearby_venues = pd.DataFrame([item for venue_list in venues_list for item in venue_list])\n",
    "    nearby_venues.columns = ['Neighborhood', \n",
    "                  'Neighborhood Latitude', \n",
    "                  'Neighborhood Longitude', \n",
    "                  'Venue', \n",
    "                  'Venue Latitude', \n",
    "                  'Venue Longitude', \n",
    "                  'Venue Category']\n",
    "    \n",
    "    return(nearby_venues)"
   ]
  },
  {
   "cell_type": "markdown",
   "metadata": {},
   "source": [
    "#### Now write the code to run the above function on each neighborhood and create a new dataframe called *manhattan_venues*."
   ]
  },
  {
   "cell_type": "code",
   "execution_count": null,
   "metadata": {
    "scrolled": true
   },
   "outputs": [],
   "source": [
    "# type your answer here\n",
    "\n",
    "manhattan_venues = getNearbyVenues(names=manhattan_data['Neighborhood'],\n",
    "                                   latitudes=manhattan_data['Latitude'],\n",
    "                                   longitudes=manhattan_data['Longitude']\n",
    "                                  )\n",
    "\n"
   ]
  },
  {
   "cell_type": "markdown",
   "metadata": {},
   "source": [
    "Double-click __here__ for the solution.\n",
    "<!-- The correct answer is:\n",
    "manhattan_venues = getNearbyVenues(names=manhattan_data['Neighborhood'],\n",
    "                                   latitudes=manhattan_data['Latitude'],\n",
    "                                   longitudes=manhattan_data['Longitude']\n",
    "                                  )\n",
    "--> "
   ]
  },
  {
   "cell_type": "markdown",
   "metadata": {},
   "source": [
    "#### Let's check the size of the resulting dataframe"
   ]
  },
  {
   "cell_type": "code",
   "execution_count": null,
   "metadata": {},
   "outputs": [],
   "source": [
    "print(manhattan_venues.shape)\n",
    "manhattan_venues.head()"
   ]
  },
  {
   "cell_type": "markdown",
   "metadata": {},
   "source": [
    "Let's check how many venues were returned for each neighborhood"
   ]
  },
  {
   "cell_type": "code",
   "execution_count": null,
   "metadata": {},
   "outputs": [],
   "source": [
    "manhattan_venues.groupby('Neighborhood').count()"
   ]
  },
  {
   "cell_type": "markdown",
   "metadata": {},
   "source": [
    "#### Let's find out how many unique categories can be curated from all the returned venues"
   ]
  },
  {
   "cell_type": "code",
   "execution_count": null,
   "metadata": {},
   "outputs": [],
   "source": [
    "print('There are {} uniques categories.'.format(len(manhattan_venues['Venue Category'].unique())))"
   ]
  },
  {
   "cell_type": "markdown",
   "metadata": {},
   "source": [
    "<a id='item3'></a>"
   ]
  },
  {
   "cell_type": "markdown",
   "metadata": {},
   "source": [
    "## 3. Analyze Each Neighborhood"
   ]
  },
  {
   "cell_type": "code",
   "execution_count": null,
   "metadata": {},
   "outputs": [],
   "source": [
    "# one hot encoding\n",
    "manhattan_onehot = pd.get_dummies(manhattan_venues[['Venue Category']], prefix=\"\", prefix_sep=\"\")\n",
    "\n",
    "# add neighborhood column back to dataframe\n",
    "manhattan_onehot['Neighborhood'] = manhattan_venues['Neighborhood'] \n",
    "\n",
    "# move neighborhood column to the first column\n",
    "fixed_columns = [manhattan_onehot.columns[-1]] + list(manhattan_onehot.columns[:-1])\n",
    "manhattan_onehot = manhattan_onehot[fixed_columns]\n",
    "\n",
    "manhattan_onehot.head()"
   ]
  },
  {
   "cell_type": "markdown",
   "metadata": {},
   "source": [
    "And let's examine the new dataframe size."
   ]
  },
  {
   "cell_type": "code",
   "execution_count": null,
   "metadata": {},
   "outputs": [],
   "source": [
    "manhattan_onehot.shape"
   ]
  },
  {
   "cell_type": "markdown",
   "metadata": {},
   "source": [
    "#### Next, let's group rows by neighborhood and by taking the mean of the frequency of occurrence of each category"
   ]
  },
  {
   "cell_type": "code",
   "execution_count": null,
   "metadata": {},
   "outputs": [],
   "source": [
    "manhattan_grouped = manhattan_onehot.groupby('Neighborhood').mean().reset_index()\n",
    "manhattan_grouped"
   ]
  },
  {
   "cell_type": "markdown",
   "metadata": {},
   "source": [
    "#### Let's confirm the new size"
   ]
  },
  {
   "cell_type": "code",
   "execution_count": null,
   "metadata": {},
   "outputs": [],
   "source": [
    "manhattan_grouped.shape"
   ]
  },
  {
   "cell_type": "markdown",
   "metadata": {},
   "source": [
    "#### Let's print each neighborhood along with the top 5 most common venues"
   ]
  },
  {
   "cell_type": "code",
   "execution_count": null,
   "metadata": {},
   "outputs": [],
   "source": [
    "num_top_venues = 5\n",
    "\n",
    "for hood in manhattan_grouped['Neighborhood']:\n",
    "    print(\"----\"+hood+\"----\")\n",
    "    temp = manhattan_grouped[manhattan_grouped['Neighborhood'] == hood].T.reset_index()\n",
    "    temp.columns = ['venue','freq']\n",
    "    temp = temp.iloc[1:]\n",
    "    temp['freq'] = temp['freq'].astype(float)\n",
    "    temp = temp.round({'freq': 2})\n",
    "    print(temp.sort_values('freq', ascending=False).reset_index(drop=True).head(num_top_venues))\n",
    "    print('\\n')"
   ]
  },
  {
   "cell_type": "markdown",
   "metadata": {},
   "source": [
    "#### Let's put that into a *pandas* dataframe"
   ]
  },
  {
   "cell_type": "markdown",
   "metadata": {},
   "source": [
    "First, let's write a function to sort the venues in descending order."
   ]
  },
  {
   "cell_type": "code",
   "execution_count": null,
   "metadata": {
    "collapsed": true
   },
   "outputs": [],
   "source": [
    "def return_most_common_venues(row, num_top_venues):\n",
    "    row_categories = row.iloc[1:]\n",
    "    row_categories_sorted = row_categories.sort_values(ascending=False)\n",
    "    \n",
    "    return row_categories_sorted.index.values[0:num_top_venues]"
   ]
  },
  {
   "cell_type": "markdown",
   "metadata": {},
   "source": [
    "Now let's create the new dataframe and display the top 10 venues for each neighborhood."
   ]
  },
  {
   "cell_type": "code",
   "execution_count": null,
   "metadata": {},
   "outputs": [],
   "source": [
    "num_top_venues = 10\n",
    "\n",
    "indicators = ['st', 'nd', 'rd']\n",
    "\n",
    "# create columns according to number of top venues\n",
    "columns = ['Neighborhood']\n",
    "for ind in np.arange(num_top_venues):\n",
    "    try:\n",
    "        columns.append('{}{} Most Common Venue'.format(ind+1, indicators[ind]))\n",
    "    except:\n",
    "        columns.append('{}th Most Common Venue'.format(ind+1))\n",
    "\n",
    "# create a new dataframe\n",
    "neighborhoods_venues_sorted = pd.DataFrame(columns=columns)\n",
    "neighborhoods_venues_sorted['Neighborhood'] = manhattan_grouped['Neighborhood']\n",
    "\n",
    "for ind in np.arange(manhattan_grouped.shape[0]):\n",
    "    neighborhoods_venues_sorted.iloc[ind, 1:] = return_most_common_venues(manhattan_grouped.iloc[ind, :], num_top_venues)\n",
    "\n",
    "neighborhoods_venues_sorted.head()"
   ]
  },
  {
   "cell_type": "markdown",
   "metadata": {},
   "source": [
    "<a id='item4'></a>"
   ]
  },
  {
   "cell_type": "markdown",
   "metadata": {},
   "source": [
    "## 4. Cluster Neighborhoods"
   ]
  },
  {
   "cell_type": "markdown",
   "metadata": {},
   "source": [
    "Run *k*-means to cluster the neighborhood into 5 clusters."
   ]
  },
  {
   "cell_type": "code",
   "execution_count": null,
   "metadata": {},
   "outputs": [],
   "source": [
    "# set number of clusters\n",
    "kclusters = 5\n",
    "\n",
    "manhattan_grouped_clustering = manhattan_grouped.drop('Neighborhood', 1)\n",
    "\n",
    "# run k-means clustering\n",
    "kmeans = KMeans(n_clusters=kclusters, random_state=0).fit(manhattan_grouped_clustering)\n",
    "\n",
    "# check cluster labels generated for each row in the dataframe\n",
    "kmeans.labels_[0:10] "
   ]
  },
  {
   "cell_type": "markdown",
   "metadata": {},
   "source": [
    "Let's create a new dataframe that includes the cluster as well as the top 10 venues for each neighborhood."
   ]
  },
  {
   "cell_type": "code",
   "execution_count": null,
   "metadata": {},
   "outputs": [],
   "source": [
    "# add clustering labels\n",
    "neighborhoods_venues_sorted.insert(0, 'Cluster Labels', kmeans.labels_)\n",
    "\n",
    "manhattan_merged = manhattan_data\n",
    "\n",
    "# merge toronto_grouped with toronto_data to add latitude/longitude for each neighborhood\n",
    "manhattan_merged = manhattan_merged.join(neighborhoods_venues_sorted.set_index('Neighborhood'), on='Neighborhood')\n",
    "\n",
    "manhattan_merged.head() # check the last columns!"
   ]
  },
  {
   "cell_type": "markdown",
   "metadata": {},
   "source": [
    "Finally, let's visualize the resulting clusters"
   ]
  },
  {
   "cell_type": "code",
   "execution_count": null,
   "metadata": {},
   "outputs": [],
   "source": [
    "# create map\n",
    "map_clusters = folium.Map(location=[latitude, longitude], zoom_start=11)\n",
    "\n",
    "# set color scheme for the clusters\n",
    "x = np.arange(kclusters)\n",
    "ys = [i + x + (i*x)**2 for i in range(kclusters)]\n",
    "colors_array = cm.rainbow(np.linspace(0, 1, len(ys)))\n",
    "rainbow = [colors.rgb2hex(i) for i in colors_array]\n",
    "\n",
    "# add markers to the map\n",
    "markers_colors = []\n",
    "for lat, lon, poi, cluster in zip(manhattan_merged['Latitude'], manhattan_merged['Longitude'], manhattan_merged['Neighborhood'], manhattan_merged['Cluster Labels']):\n",
    "    label = folium.Popup(str(poi) + ' Cluster ' + str(cluster), parse_html=True)\n",
    "    folium.CircleMarker(\n",
    "        [lat, lon],\n",
    "        radius=5,\n",
    "        popup=label,\n",
    "        color=rainbow[cluster-1],\n",
    "        fill=True,\n",
    "        fill_color=rainbow[cluster-1],\n",
    "        fill_opacity=0.7).add_to(map_clusters)\n",
    "       \n",
    "map_clusters"
   ]
  },
  {
   "cell_type": "markdown",
   "metadata": {},
   "source": [
    "<a id='item5'></a>"
   ]
  },
  {
   "cell_type": "markdown",
   "metadata": {},
   "source": [
    "## 5. Examine Clusters"
   ]
  },
  {
   "cell_type": "markdown",
   "metadata": {},
   "source": [
    "Now, you can examine each cluster and determine the discriminating venue categories that distinguish each cluster. Based on the defining categories, you can then assign a name to each cluster. I will leave this exercise to you."
   ]
  },
  {
   "cell_type": "markdown",
   "metadata": {},
   "source": [
    "#### Cluster 1"
   ]
  },
  {
   "cell_type": "code",
   "execution_count": null,
   "metadata": {},
   "outputs": [],
   "source": [
    "manhattan_merged.loc[manhattan_merged['Cluster Labels'] == 0, manhattan_merged.columns[[1] + list(range(5, manhattan_merged.shape[1]))]]"
   ]
  },
  {
   "cell_type": "markdown",
   "metadata": {},
   "source": [
    "#### Cluster 2"
   ]
  },
  {
   "cell_type": "code",
   "execution_count": null,
   "metadata": {},
   "outputs": [],
   "source": [
    "manhattan_merged.loc[manhattan_merged['Cluster Labels'] == 1, manhattan_merged.columns[[1] + list(range(5, manhattan_merged.shape[1]))]]"
   ]
  },
  {
   "cell_type": "markdown",
   "metadata": {},
   "source": [
    "#### Cluster 3"
   ]
  },
  {
   "cell_type": "code",
   "execution_count": null,
   "metadata": {},
   "outputs": [],
   "source": [
    "manhattan_merged.loc[manhattan_merged['Cluster Labels'] == 2, manhattan_merged.columns[[1] + list(range(5, manhattan_merged.shape[1]))]]"
   ]
  },
  {
   "cell_type": "markdown",
   "metadata": {},
   "source": [
    "#### Cluster 4"
   ]
  },
  {
   "cell_type": "code",
   "execution_count": null,
   "metadata": {},
   "outputs": [],
   "source": [
    "manhattan_merged.loc[manhattan_merged['Cluster Labels'] == 3, manhattan_merged.columns[[1] + list(range(5, manhattan_merged.shape[1]))]]"
   ]
  },
  {
   "cell_type": "markdown",
   "metadata": {},
   "source": [
    "#### Cluster 5"
   ]
  },
  {
   "cell_type": "code",
   "execution_count": null,
   "metadata": {},
   "outputs": [],
   "source": [
    "manhattan_merged.loc[manhattan_merged['Cluster Labels'] == 4, manhattan_merged.columns[[1] + list(range(5, manhattan_merged.shape[1]))]]"
   ]
  },
  {
   "cell_type": "markdown",
   "metadata": {},
   "source": [
    "### Thank you for completing this lab!\n",
    "\n",
    "This notebook was created by [Alex Aklson](https://www.linkedin.com/in/aklson/) and [Polong Lin](https://www.linkedin.com/in/polonglin/). I hope you found this lab interesting and educational. Feel free to contact us if you have any questions!"
   ]
  },
  {
   "cell_type": "markdown",
   "metadata": {},
   "source": [
    "This notebook is part of a course on **Coursera** called *Applied Data Science Capstone*. If you accessed this notebook outside the course, you can take this course online by clicking [here](http://cocl.us/DP0701EN_Coursera_Week3_LAB2)."
   ]
  },
  {
   "cell_type": "markdown",
   "metadata": {},
   "source": [
    "<hr>\n",
    "\n",
    "Copyright &copy; 2018 [Cognitive Class](https://cognitiveclass.ai/?utm_source=bducopyrightlink&utm_medium=dswb&utm_campaign=bdu). This notebook and its source code are released under the terms of the [MIT License](https://bigdatauniversity.com/mit-license/)."
   ]
  }
 ],
 "metadata": {
  "kernelspec": {
   "display_name": "Python 3",
   "language": "python",
   "name": "python3"
  },
  "language_info": {
   "codemirror_mode": {
    "name": "ipython",
    "version": 3
   },
   "file_extension": ".py",
   "mimetype": "text/x-python",
   "name": "python",
   "nbconvert_exporter": "python",
   "pygments_lexer": "ipython3",
   "version": "3.7.4"
  },
  "widgets": {
   "state": {},
   "version": "1.1.2"
  }
 },
 "nbformat": 4,
 "nbformat_minor": 2
}
